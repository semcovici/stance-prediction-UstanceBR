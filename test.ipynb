{
 "cells": [
  {
   "cell_type": "code",
   "execution_count": 1,
   "metadata": {},
   "outputs": [],
   "source": [
    "import pandas as pd\n",
    "import numpy as np\n",
    "from sklearn.model_selection import train_test_split\n",
    "import torch\n",
    "from torch.nn.functional import softmax\n",
    "from ast import literal_eval\n",
    "from tqdm import tqdm\n",
    "from sklearn.metrics import classification_report\n",
    "tqdm.pandas()\n",
    "from transformers import AutoTokenizer, AutoModel\n",
    "import random\n",
    "from transformers import AutoModelForSequenceClassification, TrainingArguments, Trainer\n",
    "random.seed(0)\n",
    "from belt_nlp.bert_with_pooling import BertClassifierWithPooling\n",
    "from torch.nn.functional import softmax\n",
    "from transformers import BertTokenizer, BertForSequenceClassification, Trainer, TrainingArguments\n",
    "from datasets import Dataset, DatasetDict\n",
    "import sys\n",
    "import os\n",
    "sys.path.append(\"src/\")\n",
    "from models.classification_methods import create_test_results_df\n",
    "from data.lambdas import int_to_label, label_to_int\n",
    "\n",
    "\n",
    "# Define paths\n",
    "raw_data_path = 'data/raw/'\n",
    "processed_data_path = 'data/processed/'\n",
    "reports_path = 'reports/'\n",
    "file_format_tmt = processed_data_path + \"{split}_r3_{target}_top_mentioned_timelines_processed.csv\"\n",
    "file_format_users = processed_data_path + 'r3_{target}_{split}_users_processed.csv' "
   ]
  },
  {
   "cell_type": "code",
   "execution_count": 2,
   "metadata": {},
   "outputs": [],
   "source": [
    "# read data\n",
    "data = pd.read_csv(\n",
    "    processed_data_path + 'r3_ig_test_users_scored_Timeline.csv',\n",
    "    sep = ';', \n",
    "    encoding='utf-8-sig'\n",
    ")"
   ]
  },
  {
   "cell_type": "code",
   "execution_count": 9,
   "metadata": {},
   "outputs": [
    {
     "data": {
      "text/plain": [
       "(17,\n",
       " 'Olha aí @ Segundo pastor evangélico, Pokémon influencia os adolescentes a serem gays — …')"
      ]
     },
     "execution_count": 9,
     "metadata": {},
     "output_type": "execute_result"
    }
   ],
   "source": [
    "eval(data.comments_and_scores_Timeline[1])[-1]"
   ]
  }
 ],
 "metadata": {
  "kernelspec": {
   "display_name": "env-stance-pred",
   "language": "python",
   "name": "python3"
  },
  "language_info": {
   "codemirror_mode": {
    "name": "ipython",
    "version": 3
   },
   "file_extension": ".py",
   "mimetype": "text/x-python",
   "name": "python",
   "nbconvert_exporter": "python",
   "pygments_lexer": "ipython3",
   "version": "3.12.2"
  }
 },
 "nbformat": 4,
 "nbformat_minor": 2
}
