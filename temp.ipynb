{
 "cells": [
  {
   "cell_type": "code",
   "execution_count": 3,
   "metadata": {},
   "outputs": [
    {
     "ename": "SyntaxError",
     "evalue": "unmatched ']' (3853148892.py, line 58)",
     "output_type": "error",
     "traceback": [
      "\u001b[0;36m  Cell \u001b[0;32mIn[3], line 58\u001b[0;36m\u001b[0m\n\u001b[0;31m    ]            data_filtered.to_csv(\u001b[0m\n\u001b[0m    ^\u001b[0m\n\u001b[0;31mSyntaxError\u001b[0m\u001b[0;31m:\u001b[0m unmatched ']'\n"
     ]
    }
   ],
   "source": [
    "import pandas as pd\n",
    "from tqdm import tqdm\n",
    "tqdm.pandas()\n",
    "\n",
    "import re\n",
    "\n",
    "def omit_usernames(tweet):\n",
    "    # Use regex to find all occurrences of @ followed by non-whitespace characters\n",
    "    result = re.sub(r'@\\w+', '@', tweet)\n",
    "    return result\n",
    "\n",
    "\n",
    "path_raw_data = 'data/raw/'\n",
    "path_processed_data = 'data/processed/'\n",
    "\n",
    "\n",
    "for split in ['train', 'test']:\n",
    "    \n",
    "    \n",
    "\n",
    "    for target in tqdm([\n",
    "        'bo',\n",
    "        'cl',\n",
    "        'co',\n",
    "        'gl',\n",
    "        'ig',\n",
    "        'lu'\n",
    "    ]):\n",
    "        \n",
    "        for dataset, text_col in [\n",
    "            ('{split}_r3_{target}_top_mentioned_timelines', 'Texts'),\n",
    "            ('r3_{target}_{split}_users', 'Timeline')\n",
    "        ]:\n",
    "            \n",
    "\n",
    "            data = pd.read_csv(\n",
    "                path_raw_data + dataset.format(split = split, target = target) + \".csv\", \n",
    "                sep = ';', \n",
    "                encoding='utf-8-sig'\n",
    "                )            \n",
    "            data_filtered = data.copy()\n",
    "            \n",
    "            ####################\n",
    "            # train and test process\n",
    "            ####################\n",
    "            \n",
    "            # ommit @ of users\n",
    "            data_filtered[text_col] = data_filtered[text_col].apply(omit_usernames)\n",
    "            \n",
    "            ####################\n",
    "            # only train process\n",
    "            ####################\n",
    "            if split == 'train':\n",
    "\n",
    "                # remove na comments from train\n",
    "                data_filtered = data_filtered[~(data_filtered[text_col] == 'na')]\n",
    "                \n",
    "            data_filtered.to_csv(\n",
    "                path_processed_data + dataset.format(split = split, target = target) + \"_processed.csv\",\n",
    "                sep = ';', encoding='utf-8-sig')"
   ]
  },
  {
   "cell_type": "code",
   "execution_count": null,
   "metadata": {},
   "outputs": [],
   "source": [
    "data_filtered"
   ]
  }
 ],
 "metadata": {
  "kernelspec": {
   "display_name": "env-stance-pred",
   "language": "python",
   "name": "python3"
  },
  "language_info": {
   "codemirror_mode": {
    "name": "ipython",
    "version": 3
   },
   "file_extension": ".py",
   "mimetype": "text/x-python",
   "name": "python",
   "nbconvert_exporter": "python",
   "pygments_lexer": "ipython3",
   "version": "3.12.2"
  }
 },
 "nbformat": 4,
 "nbformat_minor": 2
}
