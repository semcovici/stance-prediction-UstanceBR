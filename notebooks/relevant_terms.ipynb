{
 "cells": [
  {
   "cell_type": "code",
   "execution_count": 6,
   "metadata": {},
   "outputs": [
    {
     "name": "stderr",
     "output_type": "stream",
     "text": [
      "[nltk_data] Downloading package stopwords to\n",
      "[nltk_data]     /home/semcovici/nltk_data...\n",
      "[nltk_data]   Package stopwords is already up-to-date!\n"
     ]
    }
   ],
   "source": [
    "import pandas as pd\n",
    "from sklearn.feature_extraction.text import TfidfTransformer\n",
    "import nltk\n",
    "nltk.download('stopwords')\n",
    "from nltk.corpus import stopwords\n",
    "\n",
    "from sklearn.feature_selection import SelectKBest, chi2\n",
    "from sklearn.feature_extraction.text import TfidfVectorizer"
   ]
  },
  {
   "cell_type": "code",
   "execution_count": 7,
   "metadata": {},
   "outputs": [],
   "source": [
    "processed_data_path = '../data/processed/'\n",
    "file_format_tmt = processed_data_path + \"{split}_r3_{target}_top_mentioned_timelines_processed.csv\"\n",
    "file_format_users = processed_data_path + 'r3_{target}_{split}_users_processed.csv' "
   ]
  },
  {
   "cell_type": "code",
   "execution_count": 8,
   "metadata": {},
   "outputs": [],
   "source": [
    "# ---------------------------------------------------\n",
    "# 1. Define or load your Brazilian Portuguese stopwords\n",
    "# ---------------------------------------------------\n",
    "# Option A: Use nltk's 'portuguese' stopwords (they are not perfect for Brazilian Portuguese,\n",
    "#           but it's a common starting point). You could also create your own custom list.\n",
    "\n",
    "# Downloaded 'portuguese' stopwords\n",
    "portuguese_stopwords = stopwords.words('portuguese')\n",
    "\n",
    "# ---------------------------------------------------\n",
    "# 2. Vectorize using TF-IDF\n",
    "# ---------------------------------------------------\n",
    "\n",
    "tfidf = TfidfVectorizer(\n",
    "    stop_words=portuguese_stopwords,  # remove Brazilian Portuguese stopwords\n",
    "    lowercase=True\n",
    ")"
   ]
  },
  {
   "cell_type": "code",
   "execution_count": 9,
   "metadata": {},
   "outputs": [
    {
     "data": {
      "text/html": [
       "<div>\n",
       "<style scoped>\n",
       "    .dataframe tbody tr th:only-of-type {\n",
       "        vertical-align: middle;\n",
       "    }\n",
       "\n",
       "    .dataframe tbody tr th {\n",
       "        vertical-align: top;\n",
       "    }\n",
       "\n",
       "    .dataframe thead th {\n",
       "        text-align: right;\n",
       "    }\n",
       "</style>\n",
       "<table border=\"1\" class=\"dataframe\">\n",
       "  <thead>\n",
       "    <tr style=\"text-align: right;\">\n",
       "      <th></th>\n",
       "      <th>Polarity</th>\n",
       "      <th>Texts</th>\n",
       "    </tr>\n",
       "    <tr>\n",
       "      <th>User_ID</th>\n",
       "      <th></th>\n",
       "      <th></th>\n",
       "    </tr>\n",
       "  </thead>\n",
       "  <tbody>\n",
       "    <tr>\n",
       "      <th>r2_ig_1</th>\n",
       "      <td>against</td>\n",
       "      <td>PQP ESSE DORAMA É MUITO FOADA(Sassy GoGo(Cheer...</td>\n",
       "    </tr>\n",
       "    <tr>\n",
       "      <th>r2_ig_4</th>\n",
       "      <td>for</td>\n",
       "      <td>Golaço!!!!!!!!! # Manda geral do time principa...</td>\n",
       "    </tr>\n",
       "    <tr>\n",
       "      <th>r2_ig_7</th>\n",
       "      <td>against</td>\n",
       "      <td>@ Amanhã vou aí, deixa pra terça # @ Bom dia b...</td>\n",
       "    </tr>\n",
       "    <tr>\n",
       "      <th>r2_ig_8</th>\n",
       "      <td>for</td>\n",
       "      <td>3.4- O Centro de Coordenação da Operação está ...</td>\n",
       "    </tr>\n",
       "    <tr>\n",
       "      <th>r2_ig_10</th>\n",
       "      <td>for</td>\n",
       "      <td>Me arrependi de excluir meu outro tt, agora ti...</td>\n",
       "    </tr>\n",
       "  </tbody>\n",
       "</table>\n",
       "</div>"
      ],
      "text/plain": [
       "         Polarity                                              Texts\n",
       "User_ID                                                             \n",
       "r2_ig_1   against  PQP ESSE DORAMA É MUITO FOADA(Sassy GoGo(Cheer...\n",
       "r2_ig_4       for  Golaço!!!!!!!!! # Manda geral do time principa...\n",
       "r2_ig_7   against  @ Amanhã vou aí, deixa pra terça # @ Bom dia b...\n",
       "r2_ig_8       for  3.4- O Centro de Coordenação da Operação está ...\n",
       "r2_ig_10      for  Me arrependi de excluir meu outro tt, agora ti..."
      ]
     },
     "execution_count": 9,
     "metadata": {},
     "output_type": "execute_result"
    }
   ],
   "source": [
    "target = 'ig'\n",
    "\n",
    "df_tmt = pd.read_csv(\n",
    "    file_format_tmt.format(target=target, split=\"train\"), \n",
    "    sep=';', \n",
    "    encoding='utf-8-sig',\n",
    "    index_col='User_ID'\n",
    ").drop('Unnamed: 0',axis = 1)\n",
    "\n",
    "df_tmt.head()"
   ]
  },
  {
   "cell_type": "code",
   "execution_count": 10,
   "metadata": {},
   "outputs": [
    {
     "name": "stdout",
     "output_type": "stream",
     "text": [
      "Top 5 selected features:\n",
      "bolsonaro\n",
      "covid\n",
      "cpi\n",
      "governo\n",
      "kkk\n"
     ]
    }
   ],
   "source": [
    "text_col = 'Texts'\n",
    "label_col = 'Polarity'\n",
    "\n",
    "X = tfidf.fit_transform(df_tmt[text_col])\n",
    "y = df_tmt[label_col]  # Our target labels\n",
    "\n",
    "# ---------------------------------------------------\n",
    "# 3. Select top K best features using SelectKBest\n",
    "# ---------------------------------------------------\n",
    "\n",
    "# Choose how many features you want to keep, e.g., top 5\n",
    "k = 50\n",
    "\n",
    "selector = SelectKBest(chi2, k=k)\n",
    "X_kbest = selector.fit_transform(X, y)\n",
    "\n",
    "# ---------------------------------------------------\n",
    "# 4. Examine the top features\n",
    "# ---------------------------------------------------\n",
    "feature_names = tfidf.get_feature_names_out()\n",
    "selected_mask = selector.get_support()  # boolean mask of selected features\n",
    "selected_features = [feature for feature, mask in zip(feature_names, selected_mask) if mask]\n",
    "\n",
    "# Print out the most relevant features\n",
    "print(\"Top {} selected features:\".format(k))\n",
    "for feat in selected_features:\n",
    "    print(feat)\n"
   ]
  },
  {
   "cell_type": "code",
   "execution_count": null,
   "metadata": {},
   "outputs": [],
   "source": []
  },
  {
   "cell_type": "code",
   "execution_count": null,
   "metadata": {},
   "outputs": [],
   "source": []
  },
  {
   "cell_type": "code",
   "execution_count": null,
   "metadata": {},
   "outputs": [],
   "source": []
  },
  {
   "cell_type": "code",
   "execution_count": null,
   "metadata": {},
   "outputs": [],
   "source": []
  },
  {
   "cell_type": "code",
   "execution_count": 11,
   "metadata": {},
   "outputs": [],
   "source": [
    "df_users = pd.read_csv(\n",
    "    file_format_users.format(target=target, split=\"train\"), \n",
    "    sep=';', \n",
    "    encoding='utf-8-sig',\n",
    "    index_col='User_ID'\n",
    ").drop('Unnamed: 0',axis = 1)"
   ]
  }
 ],
 "metadata": {
  "kernelspec": {
   "display_name": "env-stance-pred",
   "language": "python",
   "name": "python3"
  },
  "language_info": {
   "codemirror_mode": {
    "name": "ipython",
    "version": 3
   },
   "file_extension": ".py",
   "mimetype": "text/x-python",
   "name": "python",
   "nbconvert_exporter": "python",
   "pygments_lexer": "ipython3",
   "version": "3.12.2"
  }
 },
 "nbformat": 4,
 "nbformat_minor": 2
}
