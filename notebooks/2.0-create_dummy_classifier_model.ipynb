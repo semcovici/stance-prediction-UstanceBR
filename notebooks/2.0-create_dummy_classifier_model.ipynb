{
 "cells": [
  {
   "cell_type": "markdown",
   "metadata": {},
   "source": [
    "## Setup"
   ]
  },
  {
   "cell_type": "markdown",
   "metadata": {},
   "source": [
    "### Imports"
   ]
  },
  {
   "cell_type": "code",
   "execution_count": null,
   "metadata": {},
   "outputs": [],
   "source": [
    "import pandas as pd\n",
    "from tqdm import tqdm\n",
    "from sklearn.dummy import DummyClassifier\n",
    "\n",
    "tqdm.pandas()\n",
    "\n",
    "import sys\n",
    "sys.path.append('../src/')\n",
    "from models.classification_methods import process_classification "
   ]
  },
  {
   "cell_type": "markdown",
   "metadata": {},
   "source": [
    "### definitions"
   ]
  },
  {
   "cell_type": "code",
   "execution_count": null,
   "metadata": {},
   "outputs": [],
   "source": [
    "model_name = 'neuralmind/bert-base-portuguese-cased'"
   ]
  },
  {
   "cell_type": "code",
   "execution_count": null,
   "metadata": {},
   "outputs": [],
   "source": [
    "random_seed = 42"
   ]
  },
  {
   "cell_type": "code",
   "execution_count": null,
   "metadata": {},
   "outputs": [],
   "source": [
    "path_raw_data = '../data/raw/'\n",
    "path_processed_data = '../data/processed/'\n",
    "path_results_cr = '../reports/classification_reports/'\n",
    "path_test_results = '../reports/test_results/'"
   ]
  },
  {
   "cell_type": "code",
   "execution_count": null,
   "metadata": {},
   "outputs": [],
   "source": [
    "list_target = ['ig','bo', 'cl', 'co', 'gl', 'lu']"
   ]
  },
  {
   "cell_type": "markdown",
   "metadata": {},
   "source": [
    "## Classification"
   ]
  },
  {
   "cell_type": "code",
   "execution_count": null,
   "metadata": {},
   "outputs": [],
   "source": [
    "classifier_name = 'dummy'"
   ]
  },
  {
   "cell_type": "markdown",
   "metadata": {},
   "source": [
    "### Top mentioned timelines"
   ]
  },
  {
   "cell_type": "code",
   "execution_count": null,
   "metadata": {},
   "outputs": [],
   "source": [
    "corpus_name = 'top_mentioned_timelines'"
   ]
  },
  {
   "cell_type": "code",
   "execution_count": null,
   "metadata": {},
   "outputs": [],
   "source": [
    "# create a list of tuples with (data_train, data_test, target)\n",
    "\n",
    "list_tuples_top_ment = []\n",
    "\n",
    "for target in tqdm(list_target):\n",
    "    \n",
    "    path_data_train = path_raw_data + f'train_r3_{target}_top_mentioned_timelines.csv'\n",
    "    path_data_test = path_raw_data + f'test_r3_{target}_top_mentioned_timelines.csv'\n",
    "\n",
    "    data_train = pd.read_csv(\n",
    "        path_data_train, \n",
    "        sep = ';', \n",
    "        encoding='utf-8-sig'\n",
    "        )\n",
    "    data_test = pd.read_csv(\n",
    "        path_data_test, \n",
    "        sep = ';', \n",
    "        encoding='utf-8-sig'\n",
    "        )\n",
    "    \n",
    "    list_tuples_top_ment.append((data_train, data_test, target))"
   ]
  },
  {
   "cell_type": "code",
   "execution_count": null,
   "metadata": {},
   "outputs": [],
   "source": [
    "# get results\n",
    "\n",
    "classifier = DummyClassifier()\n",
    "\n",
    "df_cr, df_test_results = process_classification(\n",
    "        estimator = classifier,\n",
    "        data_tuples = list_tuples_top_ment\n",
    ")\n",
    "\n",
    "df_cr.to_csv(path_results_cr + f'{classifier_name}_classifier_{corpus_name}_classification_report.csv')\n",
    "df_test_results.to_csv(path_test_results + f'{classifier_name}_classifier_{corpus_name}_test_results.csv')\n",
    "\n",
    "df_cr[df_cr['class'] == 'macro avg'].sort_values('f1-score')"
   ]
  },
  {
   "cell_type": "markdown",
   "metadata": {},
   "source": [
    "### Users"
   ]
  },
  {
   "cell_type": "code",
   "execution_count": null,
   "metadata": {},
   "outputs": [],
   "source": [
    "# create a list of tuples with (data_train, data_test, target)\n",
    "\n",
    "list_tuples_users = []\n",
    "\n",
    "for target in tqdm(list_target):\n",
    "    \n",
    "    path_data_train = path_raw_data + f'r3_{target}_train_users.csv'\n",
    "    path_data_test = path_raw_data + f'r3_{target}_train_users.csv'\n",
    "\n",
    "    data_train = pd.read_csv(\n",
    "        path_data_train, \n",
    "        sep = ';', \n",
    "        encoding='utf-8-sig'\n",
    "        )\n",
    "    data_test = pd.read_csv(\n",
    "        path_data_test, \n",
    "        sep = ';', \n",
    "        encoding='utf-8-sig'\n",
    "        )\n",
    "    \n",
    "    list_tuples_users.append((data_train, data_test, target))"
   ]
  },
  {
   "cell_type": "markdown",
   "metadata": {},
   "source": [
    "#### Timelines"
   ]
  },
  {
   "cell_type": "code",
   "execution_count": null,
   "metadata": {},
   "outputs": [],
   "source": [
    "corpus_name = 'users_timeline'"
   ]
  },
  {
   "cell_type": "code",
   "execution_count": null,
   "metadata": {},
   "outputs": [],
   "source": [
    "# get results\n",
    "\n",
    "classifier = DummyClassifier()\n",
    "\n",
    "df_cr, df_test_results = process_classification(\n",
    "        estimator = classifier,\n",
    "        data_tuples = list_tuples_users,\n",
    "        X_cols=['Timeline']\n",
    ")\n",
    "\n",
    "df_cr.to_csv(path_results_cr + f'{classifier_name}_classifier_{corpus_name}_classification_report.csv')\n",
    "df_test_results.to_csv(path_test_results + f'{classifier_name}_classifier_{corpus_name}_test_results.csv')\n",
    "\n",
    "df_cr[df_cr['class'] == 'macro avg'].sort_values('f1-score')"
   ]
  },
  {
   "cell_type": "markdown",
   "metadata": {},
   "source": [
    "#### Stance"
   ]
  },
  {
   "cell_type": "code",
   "execution_count": null,
   "metadata": {},
   "outputs": [],
   "source": [
    "corpus_name = 'users_stance'"
   ]
  },
  {
   "cell_type": "code",
   "execution_count": null,
   "metadata": {},
   "outputs": [],
   "source": [
    "# get results\n",
    "\n",
    "classifier = DummyClassifier()\n",
    "\n",
    "df_cr, df_test_results = process_classification(\n",
    "        estimator = classifier,\n",
    "        data_tuples = list_tuples_users,\n",
    "        X_cols=['Stance']\n",
    ")\n",
    "\n",
    "df_cr.to_csv(path_results_cr + f'dummy_classifier_{corpus_name}_classification_report.csv')\n",
    "df_test_results.to_csv(path_test_results + f'dummy_classifier_{corpus_name}_test_results.csv')\n",
    "\n",
    "df_cr[df_cr['class'] == 'macro avg'].sort_values('f1-score')"
   ]
  }
 ],
 "metadata": {
  "kernelspec": {
   "display_name": "env-stance-pred",
   "language": "python",
   "name": "python3"
  },
  "language_info": {
   "codemirror_mode": {
    "name": "ipython",
    "version": 3
   },
   "file_extension": ".py",
   "mimetype": "text/x-python",
   "name": "python",
   "nbconvert_exporter": "python",
   "pygments_lexer": "ipython3",
   "version": "3.12.2"
  }
 },
 "nbformat": 4,
 "nbformat_minor": 2
}
