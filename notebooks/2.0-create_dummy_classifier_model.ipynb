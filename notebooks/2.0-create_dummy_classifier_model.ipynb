{
 "cells": [
  {
   "cell_type": "markdown",
   "metadata": {},
   "source": [
    "## Imports"
   ]
  },
  {
   "cell_type": "code",
   "execution_count": 1,
   "metadata": {},
   "outputs": [],
   "source": [
    "import pandas as pd\n",
    "from sklearn.metrics import classification_report\n",
    "from sklearn.model_selection import train_test_split\n",
    "from xgboost import XGBClassifier\n",
    "from sklearn.preprocessing import MaxAbsScaler\n",
    "from imblearn.over_sampling import RandomOverSampler\n",
    "from sklearn.feature_extraction.text import TfidfVectorizer\n",
    "from nltk.corpus import stopwords\n",
    "from tqdm import tqdm\n",
    "import nltk\n",
    "from sklearn.compose import ColumnTransformer\n",
    "from datetime import datetime\n",
    "from sklearn.dummy import DummyClassifier\n",
    "from sklearn.feature_selection import SelectPercentile"
   ]
  },
  {
   "cell_type": "code",
   "execution_count": 2,
   "metadata": {},
   "outputs": [],
   "source": [
    "tqdm.pandas()"
   ]
  },
  {
   "cell_type": "code",
   "execution_count": 3,
   "metadata": {},
   "outputs": [],
   "source": [
    "import sys\n",
    "sys.path.append('../src/')\n",
    "from models.ClassificationPipeline import ClassificationPipeline "
   ]
  },
  {
   "cell_type": "code",
   "execution_count": 4,
   "metadata": {},
   "outputs": [
    {
     "name": "stderr",
     "output_type": "stream",
     "text": [
      "[nltk_data] Downloading package stopwords to\n",
      "[nltk_data]     /home/semcovici/nltk_data...\n",
      "[nltk_data]   Package stopwords is already up-to-date!\n"
     ]
    },
    {
     "data": {
      "text/plain": [
       "True"
      ]
     },
     "execution_count": 4,
     "metadata": {},
     "output_type": "execute_result"
    }
   ],
   "source": [
    "nltk.download('stopwords')"
   ]
  },
  {
   "cell_type": "code",
   "execution_count": 5,
   "metadata": {},
   "outputs": [],
   "source": [
    "def get_classification_report(y_test, y_pred):\n",
    "    '''Source: https://stackoverflow.com/questions/39662398/scikit-learn-output-metrics-classification-report-into-csv-tab-delimited-format'''\n",
    "    report = classification_report(y_test, y_pred, output_dict=True)\n",
    "    df_classification_report = pd.DataFrame(report).transpose()\n",
    "    df_classification_report = df_classification_report.sort_values(by=['f1-score'], ascending=False)\n",
    "    return df_classification_report"
   ]
  },
  {
   "cell_type": "markdown",
   "metadata": {},
   "source": [
    "## definitions"
   ]
  },
  {
   "cell_type": "code",
   "execution_count": 6,
   "metadata": {},
   "outputs": [],
   "source": [
    "random_seed = 42"
   ]
  },
  {
   "cell_type": "code",
   "execution_count": 7,
   "metadata": {},
   "outputs": [],
   "source": [
    "path_raw_data = '../data/raw/'\n",
    "path_processed_data = '../data/processed/'\n",
    "path_results_cr = '../reports/classification_report'"
   ]
  },
  {
   "cell_type": "code",
   "execution_count": 8,
   "metadata": {},
   "outputs": [],
   "source": [
    "list_corpus = ['ig','bo', 'cl', 'co', 'gl', 'lu']"
   ]
  },
  {
   "cell_type": "markdown",
   "metadata": {},
   "source": [
    "## data "
   ]
  },
  {
   "cell_type": "markdown",
   "metadata": {},
   "source": [
    "### Classification by corpus"
   ]
  },
  {
   "cell_type": "code",
   "execution_count": 9,
   "metadata": {},
   "outputs": [],
   "source": [
    "def process_classification_by_corpus(\n",
    "    text_vect,\n",
    "    sampling,\n",
    "    scaling,\n",
    "    classifier,\n",
    "    list_corpus,\n",
    "    selection = None\n",
    "    \n",
    "):\n",
    "    \n",
    "\n",
    "    df_results = pd.DataFrame({})\n",
    "    for corpus in list_corpus:\n",
    "        \n",
    "        print(f'##### START of {corpus} - {datetime.now()} #####')\n",
    "\n",
    "        ### read data\n",
    "        print('Reading data')\n",
    "        #data = pd.read_csv(path_processed_data + f'train_r3_{corpus}_filtered.csv', index_col = 0)\n",
    "        \n",
    "        data = pd.read_csv(\n",
    "            path_raw_data + f'train_r3_{corpus}_top_mentioned_timelines.csv', \n",
    "            sep = ';', \n",
    "            encoding='utf-8-sig'\n",
    "            )\n",
    "        \n",
    "        print('Formating data')\n",
    "        X = data['Texts']\n",
    "        y = data.Polarity\n",
    "        # encode label\n",
    "        y_encoded = y.map({'against': 0, 'for': 1})\n",
    "        X_train, X_test, y_train, y_test = train_test_split(\n",
    "            X, \n",
    "            y_encoded, \n",
    "            test_size=0.2, \n",
    "            random_state=random_seed, \n",
    "            stratify=y_encoded\n",
    "            )\n",
    "\n",
    "        # defining model\n",
    "        clf_pipe = ClassificationPipeline(\n",
    "            vectorizer=text_vect,\n",
    "            sampling = sampling,\n",
    "            scaling =scaling, \n",
    "            selection = selection,\n",
    "            estimator= classifier\n",
    "        )\n",
    "\n",
    "        print('Training model')\n",
    "        clf_pipe.train(X_train, y_train)\n",
    "\n",
    "        print('Predict test')\n",
    "        y_pred, y_pred_proba = clf_pipe.predict(X_test)\n",
    "\n",
    "        df_classification_report = get_classification_report(y_test, y_pred)\n",
    "\n",
    "        df_classification_report = df_classification_report.reset_index().rename(columns = {\"index\": \"class\"})\n",
    "        \n",
    "        df_classification_report['corpus'] = corpus\n",
    "\n",
    "        df_results = pd.concat([df_results, df_classification_report])\n",
    "        \n",
    "        print(f'##### END of {corpus} - {datetime.now()} #####\\n\\n\\n\\n\\n')\n",
    "        \n",
    "        \n",
    "    return df_results"
   ]
  },
  {
   "cell_type": "markdown",
   "metadata": {},
   "source": [
    "#### without selection"
   ]
  },
  {
   "cell_type": "code",
   "execution_count": 12,
   "metadata": {},
   "outputs": [
    {
     "name": "stdout",
     "output_type": "stream",
     "text": [
      "##### START of ig - 2024-04-08 23:22:18.246503 #####\n",
      "Reading data\n",
      "Formating data\n",
      "Training model\n",
      "[Pipeline] ........ (step 1 of 5) Processing vectorizer, total=  29.7s\n",
      "[Pipeline] .......... (step 2 of 5) Processing sampling, total=   0.0s\n",
      "[Pipeline] ........... (step 3 of 5) Processing scaling, total=   0.0s\n",
      "[Pipeline] ......... (step 4 of 5) Processing selection, total=   0.0s\n",
      "[Pipeline] ......... (step 5 of 5) Processing estimator, total=   0.0s\n",
      "Predict test\n"
     ]
    },
    {
     "name": "stderr",
     "output_type": "stream",
     "text": [
      "/home/semcovici/anaconda3/envs/env-stance-pred/lib/python3.12/site-packages/sklearn/metrics/_classification.py:1509: UndefinedMetricWarning: Precision is ill-defined and being set to 0.0 in labels with no predicted samples. Use `zero_division` parameter to control this behavior.\n",
      "  _warn_prf(average, modifier, f\"{metric.capitalize()} is\", len(result))\n",
      "/home/semcovici/anaconda3/envs/env-stance-pred/lib/python3.12/site-packages/sklearn/metrics/_classification.py:1509: UndefinedMetricWarning: Precision is ill-defined and being set to 0.0 in labels with no predicted samples. Use `zero_division` parameter to control this behavior.\n",
      "  _warn_prf(average, modifier, f\"{metric.capitalize()} is\", len(result))\n",
      "/home/semcovici/anaconda3/envs/env-stance-pred/lib/python3.12/site-packages/sklearn/metrics/_classification.py:1509: UndefinedMetricWarning: Precision is ill-defined and being set to 0.0 in labels with no predicted samples. Use `zero_division` parameter to control this behavior.\n",
      "  _warn_prf(average, modifier, f\"{metric.capitalize()} is\", len(result))\n"
     ]
    },
    {
     "name": "stdout",
     "output_type": "stream",
     "text": [
      "##### END of ig - 2024-04-08 23:23:04.126244 #####\n",
      "\n",
      "\n",
      "\n",
      "\n",
      "\n",
      "##### START of bo - 2024-04-08 23:23:04.126307 #####\n",
      "Reading data\n",
      "Formating data\n",
      "Training model\n",
      "[Pipeline] ........ (step 1 of 5) Processing vectorizer, total=   9.5s\n",
      "[Pipeline] .......... (step 2 of 5) Processing sampling, total=   0.0s\n",
      "[Pipeline] ........... (step 3 of 5) Processing scaling, total=   0.0s\n",
      "[Pipeline] ......... (step 4 of 5) Processing selection, total=   0.0s\n",
      "[Pipeline] ......... (step 5 of 5) Processing estimator, total=   0.0s\n",
      "Predict test\n"
     ]
    },
    {
     "name": "stderr",
     "output_type": "stream",
     "text": [
      "/home/semcovici/anaconda3/envs/env-stance-pred/lib/python3.12/site-packages/sklearn/metrics/_classification.py:1509: UndefinedMetricWarning: Precision is ill-defined and being set to 0.0 in labels with no predicted samples. Use `zero_division` parameter to control this behavior.\n",
      "  _warn_prf(average, modifier, f\"{metric.capitalize()} is\", len(result))\n",
      "/home/semcovici/anaconda3/envs/env-stance-pred/lib/python3.12/site-packages/sklearn/metrics/_classification.py:1509: UndefinedMetricWarning: Precision is ill-defined and being set to 0.0 in labels with no predicted samples. Use `zero_division` parameter to control this behavior.\n",
      "  _warn_prf(average, modifier, f\"{metric.capitalize()} is\", len(result))\n",
      "/home/semcovici/anaconda3/envs/env-stance-pred/lib/python3.12/site-packages/sklearn/metrics/_classification.py:1509: UndefinedMetricWarning: Precision is ill-defined and being set to 0.0 in labels with no predicted samples. Use `zero_division` parameter to control this behavior.\n",
      "  _warn_prf(average, modifier, f\"{metric.capitalize()} is\", len(result))\n"
     ]
    },
    {
     "name": "stdout",
     "output_type": "stream",
     "text": [
      "##### END of bo - 2024-04-08 23:23:18.796619 #####\n",
      "\n",
      "\n",
      "\n",
      "\n",
      "\n",
      "##### START of cl - 2024-04-08 23:23:18.796670 #####\n",
      "Reading data\n",
      "Formating data\n",
      "Training model\n",
      "[Pipeline] ........ (step 1 of 5) Processing vectorizer, total=  47.4s\n",
      "[Pipeline] .......... (step 2 of 5) Processing sampling, total=   0.0s\n",
      "[Pipeline] ........... (step 3 of 5) Processing scaling, total=   0.0s\n",
      "[Pipeline] ......... (step 4 of 5) Processing selection, total=   0.0s\n",
      "[Pipeline] ......... (step 5 of 5) Processing estimator, total=   0.0s\n",
      "Predict test\n"
     ]
    },
    {
     "name": "stderr",
     "output_type": "stream",
     "text": [
      "/home/semcovici/anaconda3/envs/env-stance-pred/lib/python3.12/site-packages/sklearn/metrics/_classification.py:1509: UndefinedMetricWarning: Precision is ill-defined and being set to 0.0 in labels with no predicted samples. Use `zero_division` parameter to control this behavior.\n",
      "  _warn_prf(average, modifier, f\"{metric.capitalize()} is\", len(result))\n",
      "/home/semcovici/anaconda3/envs/env-stance-pred/lib/python3.12/site-packages/sklearn/metrics/_classification.py:1509: UndefinedMetricWarning: Precision is ill-defined and being set to 0.0 in labels with no predicted samples. Use `zero_division` parameter to control this behavior.\n",
      "  _warn_prf(average, modifier, f\"{metric.capitalize()} is\", len(result))\n",
      "/home/semcovici/anaconda3/envs/env-stance-pred/lib/python3.12/site-packages/sklearn/metrics/_classification.py:1509: UndefinedMetricWarning: Precision is ill-defined and being set to 0.0 in labels with no predicted samples. Use `zero_division` parameter to control this behavior.\n",
      "  _warn_prf(average, modifier, f\"{metric.capitalize()} is\", len(result))\n"
     ]
    },
    {
     "name": "stdout",
     "output_type": "stream",
     "text": [
      "##### END of cl - 2024-04-08 23:24:31.984457 #####\n",
      "\n",
      "\n",
      "\n",
      "\n",
      "\n",
      "##### START of co - 2024-04-08 23:24:31.984529 #####\n",
      "Reading data\n",
      "Formating data\n",
      "Training model\n",
      "[Pipeline] ........ (step 1 of 5) Processing vectorizer, total=  55.4s\n",
      "[Pipeline] .......... (step 2 of 5) Processing sampling, total=   0.0s\n",
      "[Pipeline] ........... (step 3 of 5) Processing scaling, total=   0.0s\n",
      "[Pipeline] ......... (step 4 of 5) Processing selection, total=   0.0s\n",
      "[Pipeline] ......... (step 5 of 5) Processing estimator, total=   0.0s\n",
      "Predict test\n"
     ]
    },
    {
     "name": "stderr",
     "output_type": "stream",
     "text": [
      "/home/semcovici/anaconda3/envs/env-stance-pred/lib/python3.12/site-packages/sklearn/metrics/_classification.py:1509: UndefinedMetricWarning: Precision is ill-defined and being set to 0.0 in labels with no predicted samples. Use `zero_division` parameter to control this behavior.\n",
      "  _warn_prf(average, modifier, f\"{metric.capitalize()} is\", len(result))\n",
      "/home/semcovici/anaconda3/envs/env-stance-pred/lib/python3.12/site-packages/sklearn/metrics/_classification.py:1509: UndefinedMetricWarning: Precision is ill-defined and being set to 0.0 in labels with no predicted samples. Use `zero_division` parameter to control this behavior.\n",
      "  _warn_prf(average, modifier, f\"{metric.capitalize()} is\", len(result))\n",
      "/home/semcovici/anaconda3/envs/env-stance-pred/lib/python3.12/site-packages/sklearn/metrics/_classification.py:1509: UndefinedMetricWarning: Precision is ill-defined and being set to 0.0 in labels with no predicted samples. Use `zero_division` parameter to control this behavior.\n",
      "  _warn_prf(average, modifier, f\"{metric.capitalize()} is\", len(result))\n"
     ]
    },
    {
     "name": "stdout",
     "output_type": "stream",
     "text": [
      "##### END of co - 2024-04-08 23:26:00.742554 #####\n",
      "\n",
      "\n",
      "\n",
      "\n",
      "\n",
      "##### START of gl - 2024-04-08 23:26:00.742609 #####\n",
      "Reading data\n",
      "Formating data\n",
      "Training model\n",
      "[Pipeline] ........ (step 1 of 5) Processing vectorizer, total=  22.6s\n",
      "[Pipeline] .......... (step 2 of 5) Processing sampling, total=   0.0s\n",
      "[Pipeline] ........... (step 3 of 5) Processing scaling, total=   0.0s\n",
      "[Pipeline] ......... (step 4 of 5) Processing selection, total=   0.0s\n",
      "[Pipeline] ......... (step 5 of 5) Processing estimator, total=   0.0s\n",
      "Predict test\n"
     ]
    },
    {
     "name": "stderr",
     "output_type": "stream",
     "text": [
      "/home/semcovici/anaconda3/envs/env-stance-pred/lib/python3.12/site-packages/sklearn/metrics/_classification.py:1509: UndefinedMetricWarning: Precision is ill-defined and being set to 0.0 in labels with no predicted samples. Use `zero_division` parameter to control this behavior.\n",
      "  _warn_prf(average, modifier, f\"{metric.capitalize()} is\", len(result))\n",
      "/home/semcovici/anaconda3/envs/env-stance-pred/lib/python3.12/site-packages/sklearn/metrics/_classification.py:1509: UndefinedMetricWarning: Precision is ill-defined and being set to 0.0 in labels with no predicted samples. Use `zero_division` parameter to control this behavior.\n",
      "  _warn_prf(average, modifier, f\"{metric.capitalize()} is\", len(result))\n",
      "/home/semcovici/anaconda3/envs/env-stance-pred/lib/python3.12/site-packages/sklearn/metrics/_classification.py:1509: UndefinedMetricWarning: Precision is ill-defined and being set to 0.0 in labels with no predicted samples. Use `zero_division` parameter to control this behavior.\n",
      "  _warn_prf(average, modifier, f\"{metric.capitalize()} is\", len(result))\n"
     ]
    },
    {
     "name": "stdout",
     "output_type": "stream",
     "text": [
      "##### END of gl - 2024-04-08 23:26:35.547197 #####\n",
      "\n",
      "\n",
      "\n",
      "\n",
      "\n",
      "##### START of lu - 2024-04-08 23:26:35.547277 #####\n",
      "Reading data\n",
      "Formating data\n",
      "Training model\n",
      "[Pipeline] ........ (step 1 of 5) Processing vectorizer, total=  16.5s\n",
      "[Pipeline] .......... (step 2 of 5) Processing sampling, total=   0.0s\n",
      "[Pipeline] ........... (step 3 of 5) Processing scaling, total=   0.0s\n",
      "[Pipeline] ......... (step 4 of 5) Processing selection, total=   0.0s\n",
      "[Pipeline] ......... (step 5 of 5) Processing estimator, total=   0.0s\n",
      "Predict test\n",
      "##### END of lu - 2024-04-08 23:27:00.359828 #####\n",
      "\n",
      "\n",
      "\n",
      "\n",
      "\n"
     ]
    },
    {
     "name": "stderr",
     "output_type": "stream",
     "text": [
      "/home/semcovici/anaconda3/envs/env-stance-pred/lib/python3.12/site-packages/sklearn/metrics/_classification.py:1509: UndefinedMetricWarning: Precision is ill-defined and being set to 0.0 in labels with no predicted samples. Use `zero_division` parameter to control this behavior.\n",
      "  _warn_prf(average, modifier, f\"{metric.capitalize()} is\", len(result))\n",
      "/home/semcovici/anaconda3/envs/env-stance-pred/lib/python3.12/site-packages/sklearn/metrics/_classification.py:1509: UndefinedMetricWarning: Precision is ill-defined and being set to 0.0 in labels with no predicted samples. Use `zero_division` parameter to control this behavior.\n",
      "  _warn_prf(average, modifier, f\"{metric.capitalize()} is\", len(result))\n",
      "/home/semcovici/anaconda3/envs/env-stance-pred/lib/python3.12/site-packages/sklearn/metrics/_classification.py:1509: UndefinedMetricWarning: Precision is ill-defined and being set to 0.0 in labels with no predicted samples. Use `zero_division` parameter to control this behavior.\n",
      "  _warn_prf(average, modifier, f\"{metric.capitalize()} is\", len(result))\n"
     ]
    },
    {
     "data": {
      "text/html": [
       "<div>\n",
       "<style scoped>\n",
       "    .dataframe tbody tr th:only-of-type {\n",
       "        vertical-align: middle;\n",
       "    }\n",
       "\n",
       "    .dataframe tbody tr th {\n",
       "        vertical-align: top;\n",
       "    }\n",
       "\n",
       "    .dataframe thead th {\n",
       "        text-align: right;\n",
       "    }\n",
       "</style>\n",
       "<table border=\"1\" class=\"dataframe\">\n",
       "  <thead>\n",
       "    <tr style=\"text-align: right;\">\n",
       "      <th></th>\n",
       "      <th>class</th>\n",
       "      <th>precision</th>\n",
       "      <th>recall</th>\n",
       "      <th>f1-score</th>\n",
       "      <th>support</th>\n",
       "      <th>corpus</th>\n",
       "    </tr>\n",
       "  </thead>\n",
       "  <tbody>\n",
       "    <tr>\n",
       "      <th>3</th>\n",
       "      <td>macro avg</td>\n",
       "      <td>0.250725</td>\n",
       "      <td>0.5</td>\n",
       "      <td>0.333977</td>\n",
       "      <td>345.0</td>\n",
       "      <td>cl</td>\n",
       "    </tr>\n",
       "    <tr>\n",
       "      <th>3</th>\n",
       "      <td>macro avg</td>\n",
       "      <td>0.262195</td>\n",
       "      <td>0.5</td>\n",
       "      <td>0.344000</td>\n",
       "      <td>164.0</td>\n",
       "      <td>lu</td>\n",
       "    </tr>\n",
       "    <tr>\n",
       "      <th>3</th>\n",
       "      <td>macro avg</td>\n",
       "      <td>0.271552</td>\n",
       "      <td>0.5</td>\n",
       "      <td>0.351955</td>\n",
       "      <td>464.0</td>\n",
       "      <td>co</td>\n",
       "    </tr>\n",
       "    <tr>\n",
       "      <th>3</th>\n",
       "      <td>macro avg</td>\n",
       "      <td>0.281944</td>\n",
       "      <td>0.5</td>\n",
       "      <td>0.360568</td>\n",
       "      <td>360.0</td>\n",
       "      <td>ig</td>\n",
       "    </tr>\n",
       "    <tr>\n",
       "      <th>3</th>\n",
       "      <td>macro avg</td>\n",
       "      <td>0.295547</td>\n",
       "      <td>0.5</td>\n",
       "      <td>0.371501</td>\n",
       "      <td>247.0</td>\n",
       "      <td>gl</td>\n",
       "    </tr>\n",
       "    <tr>\n",
       "      <th>3</th>\n",
       "      <td>macro avg</td>\n",
       "      <td>0.433628</td>\n",
       "      <td>0.5</td>\n",
       "      <td>0.464455</td>\n",
       "      <td>113.0</td>\n",
       "      <td>bo</td>\n",
       "    </tr>\n",
       "  </tbody>\n",
       "</table>\n",
       "</div>"
      ],
      "text/plain": [
       "       class  precision  recall  f1-score  support corpus\n",
       "3  macro avg   0.250725     0.5  0.333977    345.0     cl\n",
       "3  macro avg   0.262195     0.5  0.344000    164.0     lu\n",
       "3  macro avg   0.271552     0.5  0.351955    464.0     co\n",
       "3  macro avg   0.281944     0.5  0.360568    360.0     ig\n",
       "3  macro avg   0.295547     0.5  0.371501    247.0     gl\n",
       "3  macro avg   0.433628     0.5  0.464455    113.0     bo"
      ]
     },
     "metadata": {},
     "output_type": "display_data"
    },
    {
     "name": "stdout",
     "output_type": "stream",
     "text": [
      "None\n"
     ]
    }
   ],
   "source": [
    "##########################\n",
    "# Definitions \n",
    "##########################\n",
    "\n",
    "text_vect = TfidfVectorizer()\n",
    "sampling = None\n",
    "scaling = None\n",
    "\n",
    "classifier = DummyClassifier()\n",
    "\n",
    "##########################\n",
    "# Process \n",
    "##########################\n",
    "\n",
    "df_results = process_classification_by_corpus(\n",
    "    text_vect,\n",
    "    sampling,\n",
    "    scaling,\n",
    "    classifier,\n",
    "    list_corpus\n",
    "    \n",
    ")\n",
    "\n",
    "print(display(df_results[df_results['class'] == 'macro avg'].sort_values('f1-score')))\n",
    "\n",
    "df_results.to_excel(path_results_cr + 'classification_report_dummy_clf.xlsx', index = False)"
   ]
  },
  {
   "cell_type": "markdown",
   "metadata": {},
   "source": [
    "#### with selection"
   ]
  },
  {
   "cell_type": "code",
   "execution_count": 11,
   "metadata": {},
   "outputs": [
    {
     "name": "stdout",
     "output_type": "stream",
     "text": [
      "##### START of ig - 2024-04-08 19:27:03.033742 #####\n",
      "Reading data\n",
      "Formating data\n",
      "Training model\n"
     ]
    }
   ],
   "source": [
    "##########################\n",
    "# Definitions \n",
    "##########################\n",
    "\n",
    "text_vect = TfidfVectorizer(\n",
    "            stop_words = stopwords.words('portuguese'),\n",
    "            lowercase = True,\n",
    "            ngram_range = (1,3)\n",
    "            \n",
    "            )\n",
    "sampling = None\n",
    "\n",
    "percentile = .3\n",
    "selection = SelectPercentile(percentile=percentile)\n",
    "scaling = MaxAbsScaler()\n",
    "\n",
    "classifier = XGBClassifier(\n",
    "            random_state = random_seed,\n",
    "            verbosity = 0,\n",
    "            device = 'cuda',\n",
    "            tree_method = 'hist'\n",
    "            )\n",
    "\n",
    "##########################\n",
    "# Process \n",
    "##########################\n",
    "\n",
    "df_results = process_classification_by_corpus(\n",
    "    text_vect = text_vect,\n",
    "    sampling = sampling,\n",
    "    scaling = scaling,\n",
    "    classifier = classifier,\n",
    "    list_corpus = list_corpus\n",
    "    \n",
    ")\n",
    "\n",
    "display(df_results[df_results['class'] == 'macro avg'].sort_values('f1-score'))\n",
    "\n",
    "df_results.to_excel(path_results_cr + f'classification_report_tfidf_SelectPercentile_{str(percentile).replace('.',',')}.xlsx', index = False)"
   ]
  },
  {
   "cell_type": "markdown",
   "metadata": {},
   "source": [
    "### classification with all corpora "
   ]
  },
  {
   "cell_type": "code",
   "execution_count": null,
   "metadata": {},
   "outputs": [],
   "source": [
    "# join all corpus \n",
    "\n",
    "df_all = pd.DataFrame({}) \n",
    "\n",
    "for corpus in tqdm(list_corpus):\n",
    "    \n",
    "    data = pd.read_csv(\n",
    "        path_raw_data + f'train_r3_{corpus}_top_mentioned_timelines.csv', \n",
    "        sep = ';', \n",
    "        encoding='utf-8-sig'\n",
    "        )\n",
    "    \n",
    "    data['corpus'] = corpus\n",
    "    \n",
    "    df_all = pd.concat([df_all, data])"
   ]
  },
  {
   "cell_type": "code",
   "execution_count": null,
   "metadata": {},
   "outputs": [],
   "source": [
    "df_all"
   ]
  },
  {
   "cell_type": "markdown",
   "metadata": {},
   "source": [
    "#### (without indication of corpus)"
   ]
  },
  {
   "cell_type": "code",
   "execution_count": null,
   "metadata": {},
   "outputs": [],
   "source": [
    "print('Formating data')\n",
    "X = df_all['Texts']\n",
    "y = df_all.Polarity\n",
    "# encode label\n",
    "y_encoded = y.map({'against': 0, 'for': 1})\n",
    "X_train, X_test, y_train, y_test = train_test_split(\n",
    "    X, \n",
    "    y_encoded, \n",
    "    test_size=0.2, \n",
    "    random_state=random_seed, \n",
    "    stratify=y_encoded\n",
    "    )\n",
    "\n",
    "# defining model\n",
    "clf_pipe = ClassificationPipeline(\n",
    "    vectorizer=text_vect,\n",
    "    sampling = sampling,\n",
    "    scaling =scaling, \n",
    "    estimator= classifier\n",
    ")\n",
    "\n",
    "print('Training model')\n",
    "clf_pipe.train(X_train, y_train)\n",
    "\n",
    "print('Predict test')\n",
    "y_pred, y_pred_proba = clf_pipe.predict(X_test)\n",
    "\n",
    "df_classification_report = get_classification_report(y_test, y_pred)\n",
    "\n",
    "df_classification_report = df_classification_report.reset_index().rename(columns = {\"index\": \"class\"})"
   ]
  },
  {
   "cell_type": "code",
   "execution_count": null,
   "metadata": {},
   "outputs": [],
   "source": [
    "df_classification_report"
   ]
  },
  {
   "cell_type": "code",
   "execution_count": null,
   "metadata": {},
   "outputs": [],
   "source": [
    "df_classification_report.to_excel(path_results_cr + 'classification_report_tfidf_all_corpora_without_corpus_tag.xlsx', index = False)"
   ]
  },
  {
   "cell_type": "markdown",
   "metadata": {},
   "source": [
    "#### (with indication of corpus)"
   ]
  },
  {
   "cell_type": "code",
   "execution_count": null,
   "metadata": {},
   "outputs": [],
   "source": [
    "print('Formating data')\n",
    "X = df_all[['Texts', 'corpus']]\n",
    "y = df_all.Polarity\n",
    "# encode label\n",
    "y_encoded = y.map({'against': 0, 'for': 1})\n",
    "X_train, X_test, y_train, y_test = train_test_split(\n",
    "    X, \n",
    "    y_encoded, \n",
    "    test_size=0.2, \n",
    "    random_state=random_seed, \n",
    "    stratify=y_encoded\n",
    "    )\n",
    "\n",
    "preprocessor = ColumnTransformer(\n",
    "    transformers=[\n",
    "        ('Texts', text_vect , 'Texts'),\n",
    "        ('corpus', 'passthrough',['corpus'])\n",
    "    ]\n",
    ")\n",
    "\n",
    "# defining model\n",
    "clf_pipe = ClassificationPipeline(\n",
    "    vectorizer=preprocessor,\n",
    "    sampling = sampling,\n",
    "    scaling =scaling, \n",
    "    estimator= classifier\n",
    ")\n",
    "\n",
    "print('Training model')\n",
    "clf_pipe.train(X_train, y_train)\n",
    "\n",
    "print('Predict test')\n",
    "y_pred, y_pred_proba = clf_pipe.predict(X_test)\n",
    "\n",
    "df_classification_report = get_classification_report(y_test, y_pred)\n",
    "\n",
    "df_classification_report = df_classification_report.reset_index().rename(columns = {\"index\": \"class\"})"
   ]
  },
  {
   "cell_type": "code",
   "execution_count": null,
   "metadata": {},
   "outputs": [],
   "source": [
    "df_classification_report.to_excel(path_results_cr + 'classification_report_tfidf_all_corpora_with_corpus_tag.xlsx', index = False)"
   ]
  },
  {
   "cell_type": "markdown",
   "metadata": {},
   "source": [
    "### Com feature indicando a quantidade de textos"
   ]
  },
  {
   "cell_type": "code",
   "execution_count": null,
   "metadata": {},
   "outputs": [],
   "source": [
    "# data['n_comments'] = data.Texts.apply(lambda x: len(x.split(' # ')))\n",
    "# data\n",
    "\n",
    "# X = data[['Texts','n_comments']]\n",
    "# y = data.Polarity\n",
    "# y_encoded = y.map({'against': 0, 'for': 1})\n",
    "# X_train, X_test, y_train, y_test = train_test_split(X, y_encoded, test_size=0.2, random_state=42, stratify=y_encoded)\n",
    "\n",
    "\n",
    "# text_vect = TfidfVectorizer(\n",
    "#             stop_words = stopwords.words('portuguese'),\n",
    "#             lowercase = True,\n",
    "#             ngram_range = (1,3),\n",
    "#             max_features=30000\n",
    "            \n",
    "#             )\n",
    "# sampling = RandomOverSampler(random_state=random_seed)\n",
    "# scaling = MaxAbsScaler()\n",
    "\n",
    "# classifier = XGBClassifier(\n",
    "#             random_state = 42,\n",
    "#             verbosity = 3,\n",
    "#             # device = 'cuda',\n",
    "#             # tree_method = 'hist'\n",
    "#             )\n",
    "\n",
    "\n",
    "# preprocessor = ColumnTransformer(\n",
    "#     transformers=[\n",
    "#         ('Texts', text_vect , 'Texts'),\n",
    "#         ('n_comments', 'passthrough',['n_comments'])\n",
    "#     ]\n",
    "# )\n",
    "\n",
    "# clf_pipe = ClassificationPipeline(\n",
    "#     vectorizer=preprocessor,\n",
    "#     sampling = sampling,\n",
    "#     scaling =scaling, \n",
    "#     estimator= classifier\n",
    "# )\n",
    "\n",
    "# clf_pipe.train(X_train, y_train)\n",
    "\n",
    "# y_pred, y_pred_proba = clf_pipe.predict(X_test)\n",
    "\n",
    "# df_classification_report = get_classification_report(y_test, y_pred)\n",
    "\n",
    "# df_classification_report"
   ]
  }
 ],
 "metadata": {
  "kernelspec": {
   "display_name": "env-stance-pred",
   "language": "python",
   "name": "python3"
  },
  "language_info": {
   "codemirror_mode": {
    "name": "ipython",
    "version": 3
   },
   "file_extension": ".py",
   "mimetype": "text/x-python",
   "name": "python",
   "nbconvert_exporter": "python",
   "pygments_lexer": "ipython3",
   "version": "3.12.2"
  }
 },
 "nbformat": 4,
 "nbformat_minor": 2
}
