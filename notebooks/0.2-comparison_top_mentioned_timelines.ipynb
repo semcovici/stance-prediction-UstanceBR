{
 "cells": [
  {
   "cell_type": "markdown",
   "metadata": {},
   "source": [
    "## Imports"
   ]
  },
  {
   "cell_type": "code",
   "execution_count": 1,
   "metadata": {},
   "outputs": [],
   "source": [
    "import pandas as pd\n",
    "from tqdm import tqdm\n",
    "import seaborn as sns\n",
    "from nltk.tokenize import word_tokenize\n",
    "import nltk"
   ]
  },
  {
   "cell_type": "code",
   "execution_count": 2,
   "metadata": {},
   "outputs": [],
   "source": [
    "tqdm.pandas()"
   ]
  },
  {
   "cell_type": "code",
   "execution_count": 3,
   "metadata": {},
   "outputs": [
    {
     "name": "stderr",
     "output_type": "stream",
     "text": [
      "[nltk_data] Downloading package punkt to /home/semcovici/nltk_data...\n",
      "[nltk_data]   Package punkt is already up-to-date!\n"
     ]
    },
    {
     "data": {
      "text/plain": [
       "True"
      ]
     },
     "execution_count": 3,
     "metadata": {},
     "output_type": "execute_result"
    }
   ],
   "source": [
    "nltk.download('punkt')"
   ]
  },
  {
   "cell_type": "markdown",
   "metadata": {},
   "source": [
    "## Definitions"
   ]
  },
  {
   "cell_type": "code",
   "execution_count": 4,
   "metadata": {},
   "outputs": [],
   "source": [
    "model_name = 'neuralmind/bert-base-portuguese-cased'\n",
    "\n",
    "random_seed = 42\n",
    "\n",
    "raw_data_path = '../data/raw/'\n",
    "processed_data_path = '../data/processed/'\n",
    "results_cr_path = '../reports/classification_reports/'\n",
    "test_results_path = '../reports/test_results/'\n",
    "reports_path = '../reports/'\n",
    "\n",
    "target_list = ['ig','bo', 'cl', 'co', 'gl', 'lu']"
   ]
  },
  {
   "cell_type": "markdown",
   "metadata": {},
   "source": [
    "## Read Data"
   ]
  },
  {
   "cell_type": "code",
   "execution_count": 5,
   "metadata": {},
   "outputs": [],
   "source": [
    "data_list = []\n",
    "\n",
    "for target in target_list:\n",
    "    \n",
    "    # read data\n",
    "    data_temp = pd.read_csv(\n",
    "        raw_data_path + f'train_r3_{target}_top_mentioned_timelines.csv', \n",
    "        sep = ';', \n",
    "        encoding='utf-8-sig'\n",
    "        )\n",
    "    \n",
    "    data_temp['target'] = target\n",
    "    \n",
    "    data_list.append(data_temp)\n",
    "    \n",
    "data_tmt = pd.concat(data_list)"
   ]
  },
  {
   "cell_type": "code",
   "execution_count": 6,
   "metadata": {},
   "outputs": [],
   "source": [
    "data_list = []\n",
    "\n",
    "for target in target_list:\n",
    "    \n",
    "    # read data\n",
    "    data_temp = pd.read_csv(\n",
    "        raw_data_path + f'r3_{target}_test_users.csv', \n",
    "        sep = ';', \n",
    "        encoding='utf-8-sig'\n",
    "        )\n",
    "    \n",
    "    data_temp['target'] = target\n",
    "    \n",
    "    data_list.append(data_temp)\n",
    "    \n",
    "data_users = pd.concat(data_list)"
   ]
  },
  {
   "cell_type": "code",
   "execution_count": 7,
   "metadata": {},
   "outputs": [],
   "source": [
    "def separate_comments(\n",
    "    data,\n",
    "    Texts_col = 'Texts',\n",
    "    sep = ' # '\n",
    "):\n",
    "    \n",
    "    # Separates texts into individual lines\n",
    "    df_sep_comments = data.assign(Texts=data[Texts_col].str.split(sep)).explode(Texts_col)\n",
    "    \n",
    "    df_sep_comments.rename({\"Texts\":Texts_col},axis = 1)\n",
    "\n",
    "    # Reindex the resulting DataFrame\n",
    "    df_sep_comments.reset_index(drop=True, inplace = True)\n",
    "\n",
    "    df_sep_comments.ffill(inplace = True)\n",
    "    \n",
    "    return df_sep_comments"
   ]
  },
  {
   "cell_type": "code",
   "execution_count": 8,
   "metadata": {},
   "outputs": [],
   "source": [
    "dict_cp = {\n",
    "    'cl':'Hydrox.',\n",
    "    'lu':'Lula',\n",
    "    'co':'Sinovac',\n",
    "    'ig':'Church',\n",
    "    'gl':'Globo TV',\n",
    "    'bo':'Bolsonaro',\n",
    "}"
   ]
  },
  {
   "cell_type": "code",
   "execution_count": 9,
   "metadata": {},
   "outputs": [
    {
     "data": {
      "text/html": [
       "<div>\n",
       "<style scoped>\n",
       "    .dataframe tbody tr th:only-of-type {\n",
       "        vertical-align: middle;\n",
       "    }\n",
       "\n",
       "    .dataframe tbody tr th {\n",
       "        vertical-align: top;\n",
       "    }\n",
       "\n",
       "    .dataframe thead th {\n",
       "        text-align: right;\n",
       "    }\n",
       "</style>\n",
       "<table border=\"1\" class=\"dataframe\">\n",
       "  <thead>\n",
       "    <tr style=\"text-align: right;\">\n",
       "      <th></th>\n",
       "      <th>User_ID</th>\n",
       "      <th>Timeline</th>\n",
       "      <th>Stance</th>\n",
       "      <th>Polarity</th>\n",
       "      <th>Tweet_Seq</th>\n",
       "      <th>target</th>\n",
       "    </tr>\n",
       "  </thead>\n",
       "  <tbody>\n",
       "    <tr>\n",
       "      <th>0</th>\n",
       "      <td>r2_ig_2</td>\n",
       "      <td>@ ta fzd oq # uma amiga minha tava na rua quan...</td>\n",
       "      <td>nao me diz que isso é de igreja católica pf</td>\n",
       "      <td>against</td>\n",
       "      <td>1874</td>\n",
       "      <td>ig</td>\n",
       "    </tr>\n",
       "    <tr>\n",
       "      <th>1</th>\n",
       "      <td>r2_ig_3</td>\n",
       "      <td>@ Ola Como ta # Vamo Seguir @ estamos querendo...</td>\n",
       "      <td>Se a igreja faz isso ela devia ser isenta mesm...</td>\n",
       "      <td>against</td>\n",
       "      <td>3988</td>\n",
       "      <td>ig</td>\n",
       "    </tr>\n",
       "    <tr>\n",
       "      <th>2</th>\n",
       "      <td>r2_ig_5</td>\n",
       "      <td>papai me deu um irmão lindo desse # cansada de...</td>\n",
       "      <td>que pena então, por que se cada espírita for r...</td>\n",
       "      <td>against</td>\n",
       "      <td>4532</td>\n",
       "      <td>ig</td>\n",
       "    </tr>\n",
       "    <tr>\n",
       "      <th>3</th>\n",
       "      <td>r2_ig_6</td>\n",
       "      <td>Né primeiro de abril não ta # Pena que um pais...</td>\n",
       "      <td>bglh é entrar p igreja</td>\n",
       "      <td>for</td>\n",
       "      <td>2661</td>\n",
       "      <td>ig</td>\n",
       "    </tr>\n",
       "    <tr>\n",
       "      <th>4</th>\n",
       "      <td>r2_ig_9</td>\n",
       "      <td>já acordei nun desânimo que pqp # vontade de n...</td>\n",
       "      <td>já vou levar pra igreja pra Deus benzer pq o q...</td>\n",
       "      <td>for</td>\n",
       "      <td>1441</td>\n",
       "      <td>ig</td>\n",
       "    </tr>\n",
       "    <tr>\n",
       "      <th>...</th>\n",
       "      <td>...</td>\n",
       "      <td>...</td>\n",
       "      <td>...</td>\n",
       "      <td>...</td>\n",
       "      <td>...</td>\n",
       "      <td>...</td>\n",
       "    </tr>\n",
       "    <tr>\n",
       "      <th>267</th>\n",
       "      <td>r2_lu_1086</td>\n",
       "      <td>Gostei de um vídeo @ … com Sweet Carol | The N...</td>\n",
       "      <td>Eu deveria me espelhar no Lula e ler 55 página...</td>\n",
       "      <td>for</td>\n",
       "      <td>381</td>\n",
       "      <td>lu</td>\n",
       "    </tr>\n",
       "    <tr>\n",
       "      <th>268</th>\n",
       "      <td>r2_lu_1090</td>\n",
       "      <td>Show de bola! Que venham outros … # Essa renda...</td>\n",
       "      <td>Pqp quanta merda em um Tweet só! Pare de mistu...</td>\n",
       "      <td>against</td>\n",
       "      <td>899</td>\n",
       "      <td>lu</td>\n",
       "    </tr>\n",
       "    <tr>\n",
       "      <th>269</th>\n",
       "      <td>r2_lu_1091</td>\n",
       "      <td>FOOOOOOOOOOOOOOGOOOOOOOOOOOOOOO!!!!!!! # \"200 ...</td>\n",
       "      <td>nem a Venezuela respeita mais o Brasil sem o L...</td>\n",
       "      <td>for</td>\n",
       "      <td>294</td>\n",
       "      <td>lu</td>\n",
       "    </tr>\n",
       "    <tr>\n",
       "      <th>270</th>\n",
       "      <td>r2_lu_1093</td>\n",
       "      <td>@ quem prejudica a imagem do Brasil não é o po...</td>\n",
       "      <td>Lula tem uma visão de mundo muito diversa de F...</td>\n",
       "      <td>for</td>\n",
       "      <td>2021</td>\n",
       "      <td>lu</td>\n",
       "    </tr>\n",
       "    <tr>\n",
       "      <th>271</th>\n",
       "      <td>r2_lu_1094</td>\n",
       "      <td>O Globo: Osama bin Ladem está morto, diz CNN #...</td>\n",
       "      <td>gente, o Lula não pode ir de avião não, olha o...</td>\n",
       "      <td>for</td>\n",
       "      <td>2551</td>\n",
       "      <td>lu</td>\n",
       "    </tr>\n",
       "  </tbody>\n",
       "</table>\n",
       "<p>2818 rows × 6 columns</p>\n",
       "</div>"
      ],
      "text/plain": [
       "        User_ID                                           Timeline  \\\n",
       "0       r2_ig_2  @ ta fzd oq # uma amiga minha tava na rua quan...   \n",
       "1       r2_ig_3  @ Ola Como ta # Vamo Seguir @ estamos querendo...   \n",
       "2       r2_ig_5  papai me deu um irmão lindo desse # cansada de...   \n",
       "3       r2_ig_6  Né primeiro de abril não ta # Pena que um pais...   \n",
       "4       r2_ig_9  já acordei nun desânimo que pqp # vontade de n...   \n",
       "..          ...                                                ...   \n",
       "267  r2_lu_1086  Gostei de um vídeo @ … com Sweet Carol | The N...   \n",
       "268  r2_lu_1090  Show de bola! Que venham outros … # Essa renda...   \n",
       "269  r2_lu_1091  FOOOOOOOOOOOOOOGOOOOOOOOOOOOOOO!!!!!!! # \"200 ...   \n",
       "270  r2_lu_1093  @ quem prejudica a imagem do Brasil não é o po...   \n",
       "271  r2_lu_1094  O Globo: Osama bin Ladem está morto, diz CNN #...   \n",
       "\n",
       "                                                Stance Polarity  Tweet_Seq  \\\n",
       "0          nao me diz que isso é de igreja católica pf  against       1874   \n",
       "1    Se a igreja faz isso ela devia ser isenta mesm...  against       3988   \n",
       "2    que pena então, por que se cada espírita for r...  against       4532   \n",
       "3                               bglh é entrar p igreja      for       2661   \n",
       "4    já vou levar pra igreja pra Deus benzer pq o q...      for       1441   \n",
       "..                                                 ...      ...        ...   \n",
       "267  Eu deveria me espelhar no Lula e ler 55 página...      for        381   \n",
       "268  Pqp quanta merda em um Tweet só! Pare de mistu...  against        899   \n",
       "269  nem a Venezuela respeita mais o Brasil sem o L...      for        294   \n",
       "270  Lula tem uma visão de mundo muito diversa de F...      for       2021   \n",
       "271  gente, o Lula não pode ir de avião não, olha o...      for       2551   \n",
       "\n",
       "    target  \n",
       "0       ig  \n",
       "1       ig  \n",
       "2       ig  \n",
       "3       ig  \n",
       "4       ig  \n",
       "..     ...  \n",
       "267     lu  \n",
       "268     lu  \n",
       "269     lu  \n",
       "270     lu  \n",
       "271     lu  \n",
       "\n",
       "[2818 rows x 6 columns]"
      ]
     },
     "execution_count": 9,
     "metadata": {},
     "output_type": "execute_result"
    }
   ],
   "source": [
    "data_users"
   ]
  },
  {
   "cell_type": "code",
   "execution_count": 20,
   "metadata": {},
   "outputs": [
    {
     "name": "stdout",
     "output_type": "stream",
     "text": [
      "##### Start Running ig (1 of 6) #####\n"
     ]
    },
    {
     "name": "stderr",
     "output_type": "stream",
     "text": [
      "100%|██████████| 2868127/2868127 [02:57<00:00, 16131.97it/s]\n",
      "100%|██████████| 2868127/2868127 [00:01<00:00, 1683840.57it/s]\n"
     ]
    },
    {
     "name": "stdout",
     "output_type": "stream",
     "text": [
      "##### End Running ig (1 of 6) #####\n",
      "##### Start Running bo (2 of 6) #####\n"
     ]
    },
    {
     "name": "stderr",
     "output_type": "stream",
     "text": [
      "100%|██████████| 791136/791136 [00:47<00:00, 16575.07it/s]\n",
      "100%|██████████| 791136/791136 [00:00<00:00, 1733808.44it/s]\n"
     ]
    },
    {
     "name": "stdout",
     "output_type": "stream",
     "text": [
      "##### End Running bo (2 of 6) #####\n",
      "##### Start Running cl (3 of 6) #####\n"
     ]
    },
    {
     "name": "stderr",
     "output_type": "stream",
     "text": [
      "100%|██████████| 1815389/1815389 [02:43<00:00, 11124.59it/s]\n",
      "100%|██████████| 1815389/1815389 [00:01<00:00, 1630304.89it/s]\n"
     ]
    },
    {
     "name": "stdout",
     "output_type": "stream",
     "text": [
      "##### End Running cl (3 of 6) #####\n",
      "##### Start Running co (4 of 6) #####\n"
     ]
    },
    {
     "name": "stderr",
     "output_type": "stream",
     "text": [
      "100%|██████████| 2612606/2612606 [03:42<00:00, 11741.40it/s]\n",
      "100%|██████████| 2612606/2612606 [00:01<00:00, 1747036.38it/s]\n"
     ]
    },
    {
     "name": "stdout",
     "output_type": "stream",
     "text": [
      "##### End Running co (4 of 6) #####\n",
      "##### Start Running gl (5 of 6) #####\n"
     ]
    },
    {
     "name": "stderr",
     "output_type": "stream",
     "text": [
      "100%|██████████| 1779778/1779778 [01:55<00:00, 15419.14it/s]\n",
      "100%|██████████| 1779778/1779778 [00:00<00:00, 1781323.06it/s]\n"
     ]
    },
    {
     "name": "stdout",
     "output_type": "stream",
     "text": [
      "##### End Running gl (5 of 6) #####\n",
      "##### Start Running lu (6 of 6) #####\n"
     ]
    },
    {
     "name": "stderr",
     "output_type": "stream",
     "text": [
      "100%|██████████| 1101941/1101941 [01:25<00:00, 12857.10it/s]\n",
      "100%|██████████| 1101941/1101941 [00:00<00:00, 1703596.32it/s]\n"
     ]
    },
    {
     "name": "stdout",
     "output_type": "stream",
     "text": [
      "##### End Running lu (6 of 6) #####\n",
      "##### Start Running ig (1 of 6) #####\n"
     ]
    },
    {
     "name": "stderr",
     "output_type": "stream",
     "text": [
      "100%|██████████| 599/599 [01:20<00:00,  7.45it/s]\n",
      "100%|██████████| 599/599 [00:00<00:00, 2298.78it/s]\n"
     ]
    },
    {
     "name": "stdout",
     "output_type": "stream",
     "text": [
      "##### End Running ig (1 of 6) #####\n",
      "##### Start Running bo (2 of 6) #####\n"
     ]
    },
    {
     "name": "stderr",
     "output_type": "stream",
     "text": [
      "100%|██████████| 188/188 [00:23<00:00,  8.04it/s]\n",
      "100%|██████████| 188/188 [00:00<00:00, 716193.60it/s]\n"
     ]
    },
    {
     "name": "stdout",
     "output_type": "stream",
     "text": [
      "##### End Running bo (2 of 6) #####\n",
      "##### Start Running cl (3 of 6) #####\n"
     ]
    },
    {
     "name": "stderr",
     "output_type": "stream",
     "text": [
      "100%|██████████| 574/574 [01:20<00:00,  7.09it/s]\n",
      "100%|██████████| 574/574 [00:00<00:00, 1201362.52it/s]\n"
     ]
    },
    {
     "name": "stdout",
     "output_type": "stream",
     "text": [
      "##### End Running cl (3 of 6) #####\n",
      "##### Start Running co (4 of 6) #####\n"
     ]
    },
    {
     "name": "stderr",
     "output_type": "stream",
     "text": [
      "100%|██████████| 774/774 [01:40<00:00,  7.70it/s]\n",
      "100%|██████████| 774/774 [00:00<00:00, 1168607.38it/s]\n"
     ]
    },
    {
     "name": "stdout",
     "output_type": "stream",
     "text": [
      "##### End Running co (4 of 6) #####\n",
      "##### Start Running gl (5 of 6) #####\n"
     ]
    },
    {
     "name": "stderr",
     "output_type": "stream",
     "text": [
      "100%|██████████| 411/411 [00:53<00:00,  7.75it/s]\n",
      "100%|██████████| 411/411 [00:00<00:00, 795504.82it/s]\n"
     ]
    },
    {
     "name": "stdout",
     "output_type": "stream",
     "text": [
      "##### End Running gl (5 of 6) #####\n",
      "##### Start Running lu (6 of 6) #####\n"
     ]
    },
    {
     "name": "stderr",
     "output_type": "stream",
     "text": [
      "100%|██████████| 272/272 [00:43<00:00,  6.26it/s]\n",
      "100%|██████████| 272/272 [00:00<00:00, 911950.99it/s]\n"
     ]
    },
    {
     "name": "stdout",
     "output_type": "stream",
     "text": [
      "##### End Running lu (6 of 6) #####\n",
      "##### Start Running ig (1 of 6) #####\n"
     ]
    },
    {
     "name": "stderr",
     "output_type": "stream",
     "text": [
      "100%|██████████| 272/272 [00:00<00:00, 1584.59it/s]\n",
      "100%|██████████| 272/272 [00:00<00:00, 728978.08it/s]\n"
     ]
    },
    {
     "name": "stdout",
     "output_type": "stream",
     "text": [
      "##### End Running ig (1 of 6) #####\n",
      "##### Start Running bo (2 of 6) #####\n"
     ]
    },
    {
     "name": "stderr",
     "output_type": "stream",
     "text": [
      "100%|██████████| 272/272 [00:00<00:00, 11482.92it/s]\n",
      "100%|██████████| 272/272 [00:00<00:00, 437778.47it/s]\n"
     ]
    },
    {
     "name": "stdout",
     "output_type": "stream",
     "text": [
      "##### End Running bo (2 of 6) #####\n",
      "##### Start Running cl (3 of 6) #####\n"
     ]
    },
    {
     "name": "stderr",
     "output_type": "stream",
     "text": [
      "100%|██████████| 272/272 [00:00<00:00, 10766.91it/s]\n",
      "100%|██████████| 272/272 [00:00<00:00, 786251.34it/s]\n"
     ]
    },
    {
     "name": "stdout",
     "output_type": "stream",
     "text": [
      "##### End Running cl (3 of 6) #####\n",
      "##### Start Running co (4 of 6) #####\n"
     ]
    },
    {
     "name": "stderr",
     "output_type": "stream",
     "text": [
      "100%|██████████| 272/272 [00:00<00:00, 11677.32it/s]\n",
      "100%|██████████| 272/272 [00:00<00:00, 1081375.06it/s]\n"
     ]
    },
    {
     "name": "stdout",
     "output_type": "stream",
     "text": [
      "##### End Running co (4 of 6) #####\n",
      "##### Start Running gl (5 of 6) #####\n"
     ]
    },
    {
     "name": "stderr",
     "output_type": "stream",
     "text": [
      "100%|██████████| 272/272 [00:00<00:00, 7827.34it/s]\n",
      "100%|██████████| 272/272 [00:00<00:00, 768249.62it/s]\n"
     ]
    },
    {
     "name": "stdout",
     "output_type": "stream",
     "text": [
      "##### End Running gl (5 of 6) #####\n",
      "##### Start Running lu (6 of 6) #####\n"
     ]
    },
    {
     "name": "stderr",
     "output_type": "stream",
     "text": [
      "100%|██████████| 272/272 [00:00<00:00, 9881.86it/s]\n",
      "100%|██████████| 272/272 [00:00<00:00, 581177.12it/s]"
     ]
    },
    {
     "name": "stdout",
     "output_type": "stream",
     "text": [
      "##### End Running lu (6 of 6) #####\n"
     ]
    },
    {
     "name": "stderr",
     "output_type": "stream",
     "text": [
      "\n"
     ]
    }
   ],
   "source": [
    "\n",
    "\n",
    "\n",
    "dict_config = {\n",
    "    'top_mentioned_timelines':{\n",
    "        'data': data_tmt,\n",
    "        'columns': {\n",
    "            'Texts': 1\n",
    "        }\n",
    "    },\n",
    "    'users':{\n",
    "        'data': data_users,\n",
    "        'columns':{\n",
    "            'Timeline': 1,\n",
    "            'Stance': 0\n",
    "        }\n",
    "    }\n",
    "    \n",
    "}\n",
    "\n",
    "\n",
    "dict_results = {}\n",
    "\n",
    "for name, config in dict_config.items():\n",
    "    \n",
    "    \n",
    "    data = config[\"data\"]\n",
    "    \n",
    "    for column, multiple_comments in config[\"columns\"].items():\n",
    "        \n",
    "        \n",
    "        df_anl = pd.DataFrame({\n",
    "            \"Target\": [],\n",
    "            \"Against\": [],\n",
    "            \"For\": [],\n",
    "            \"All\": [],\n",
    "            \"Words\": [],\n",
    "            \"W/Tweet\": []\n",
    "        })\n",
    "        \n",
    "        for i, target in enumerate(target_list):\n",
    "            \n",
    "            print(f'##### Start Running {target} ({i+1} of {len(target_list)}) #####')\n",
    "            \n",
    "            df_target = data[data.target == target]\n",
    "            \n",
    "            counts_target = df_target.Polarity.value_counts()\n",
    "            \n",
    "            n_against = counts_target['against']\n",
    "            n_for = counts_target['for']\n",
    "            \n",
    "            if multiple_comments:\n",
    "                # separate comments and drop the duplicates (the comments that appears in more the one user)\n",
    "                df_sep_comments = separate_comments(df_target, Texts_col = column).drop_duplicates(subset=[column])\n",
    "            \n",
    "            # create column with tokens\n",
    "            df_sep_comments['tokens'] = df_sep_comments[column].progress_apply(lambda x: word_tokenize(x, language='portuguese'))\n",
    "            # create column with count of tokens\n",
    "            df_sep_comments['tokens_count'] = df_sep_comments.tokens.progress_apply(len)\n",
    "            \n",
    "            new_row = {\n",
    "                \"Target\": target,\n",
    "                \"Against\": n_against,\n",
    "                \"For\": n_for,\n",
    "                \"All\": n_against + n_for,\n",
    "                \"Words\": df_sep_comments.tokens_count.sum(),\n",
    "                \"W/Tweet\": df_sep_comments.tokens_count.sum()/len(df_sep_comments)\n",
    "            }\n",
    "            \n",
    "            df_anl.loc[len(df_anl)] = new_row\n",
    "            \n",
    "            print(f'##### End Running {target} ({i+1} of {len(target_list)}) #####')\n",
    "            \n",
    "        df_anl.Target = df_anl.Target.map(dict_cp)\n",
    "\n",
    "        \n",
    "        counts_target = data.Polarity.value_counts()\n",
    "\n",
    "        n_against = counts_target['against']\n",
    "        n_for = counts_target['for']\n",
    "\n",
    "\n",
    "        new_row = {\n",
    "            \"Target\": \"Overall\",\n",
    "            \"Against\": n_against,\n",
    "            \"For\": n_for,\n",
    "            \"All\": n_against + n_for,\n",
    "            \"Words\": df_anl.Words.sum(),\n",
    "            \"W/Tweet\": df_anl[\"W/Tweet\"].sum()/len(df_anl)\n",
    "        }\n",
    "\n",
    "        df_anl.loc[len(df_anl)] = new_row\n",
    "        df_anl = df_anl.round(2)\n",
    "        \n",
    "        \n",
    "        dict_results.update({f\"{name}_{column}\":df_anl})"
   ]
  },
  {
   "cell_type": "code",
   "execution_count": 21,
   "metadata": {},
   "outputs": [
    {
     "data": {
      "text/plain": [
       "{'top_mentioned_timelines_Texts':       Target  Against   For   All      Words  W/Tweet\n",
       " 0     Church     1015   781  1796   43266172    15.09\n",
       " 1  Bolsonaro      487    76   563   11567146    14.62\n",
       " 2    Hydrox.      865   856  1721   40312597    22.21\n",
       " 3    Sinovac     1062  1257  2319   54340534    20.80\n",
       " 4   Globo TV      501   730  1231   27103849    15.23\n",
       " 5       Lula      427   389   816   20478148    18.58\n",
       " 6    Overall     4357  4089  8446  197068446    17.75,\n",
       " 'users_Timeline':       Target  Against   For   All      Words   W/Tweet\n",
       " 0     Church      339   260   599   34255228  57187.36\n",
       " 1  Bolsonaro      162    26   188   10552186  56128.65\n",
       " 2    Hydrox.      289   285   574   27393289  47723.50\n",
       " 3    Sinovac      354   420   774   35320226  45633.37\n",
       " 4   Globo TV      167   244   411   23026488  56025.52\n",
       " 5       Lula      143   129   272   16608766  61061.64\n",
       " 6    Overall     1454  1364  2818  147156183  53960.01,\n",
       " 'users_Stance':       Target  Against   For   All  Words  W/Tweet\n",
       " 0     Church      339   260   599   6395    23.51\n",
       " 1  Bolsonaro      162    26   188   6395    23.51\n",
       " 2    Hydrox.      289   285   574   6395    23.51\n",
       " 3    Sinovac      354   420   774   6395    23.51\n",
       " 4   Globo TV      167   244   411   6395    23.51\n",
       " 5       Lula      143   129   272   6395    23.51\n",
       " 6    Overall     1454  1364  2818  38370    23.51}"
      ]
     },
     "execution_count": 21,
     "metadata": {},
     "output_type": "execute_result"
    }
   ],
   "source": [
    "dict_results"
   ]
  },
  {
   "cell_type": "code",
   "execution_count": 23,
   "metadata": {},
   "outputs": [
    {
     "name": "stdout",
     "output_type": "stream",
     "text": [
      "top_mentioned_timelines_Texts\n"
     ]
    },
    {
     "data": {
      "text/html": [
       "<div>\n",
       "<style scoped>\n",
       "    .dataframe tbody tr th:only-of-type {\n",
       "        vertical-align: middle;\n",
       "    }\n",
       "\n",
       "    .dataframe tbody tr th {\n",
       "        vertical-align: top;\n",
       "    }\n",
       "\n",
       "    .dataframe thead th {\n",
       "        text-align: right;\n",
       "    }\n",
       "</style>\n",
       "<table border=\"1\" class=\"dataframe\">\n",
       "  <thead>\n",
       "    <tr style=\"text-align: right;\">\n",
       "      <th></th>\n",
       "      <th>Target</th>\n",
       "      <th>Against</th>\n",
       "      <th>For</th>\n",
       "      <th>All</th>\n",
       "      <th>Words</th>\n",
       "      <th>W/Tweet</th>\n",
       "    </tr>\n",
       "  </thead>\n",
       "  <tbody>\n",
       "    <tr>\n",
       "      <th>0</th>\n",
       "      <td>Church</td>\n",
       "      <td>1015</td>\n",
       "      <td>781</td>\n",
       "      <td>1796</td>\n",
       "      <td>43266172</td>\n",
       "      <td>15.09</td>\n",
       "    </tr>\n",
       "    <tr>\n",
       "      <th>1</th>\n",
       "      <td>Bolsonaro</td>\n",
       "      <td>487</td>\n",
       "      <td>76</td>\n",
       "      <td>563</td>\n",
       "      <td>11567146</td>\n",
       "      <td>14.62</td>\n",
       "    </tr>\n",
       "    <tr>\n",
       "      <th>2</th>\n",
       "      <td>Hydrox.</td>\n",
       "      <td>865</td>\n",
       "      <td>856</td>\n",
       "      <td>1721</td>\n",
       "      <td>40312597</td>\n",
       "      <td>22.21</td>\n",
       "    </tr>\n",
       "    <tr>\n",
       "      <th>3</th>\n",
       "      <td>Sinovac</td>\n",
       "      <td>1062</td>\n",
       "      <td>1257</td>\n",
       "      <td>2319</td>\n",
       "      <td>54340534</td>\n",
       "      <td>20.80</td>\n",
       "    </tr>\n",
       "    <tr>\n",
       "      <th>4</th>\n",
       "      <td>Globo TV</td>\n",
       "      <td>501</td>\n",
       "      <td>730</td>\n",
       "      <td>1231</td>\n",
       "      <td>27103849</td>\n",
       "      <td>15.23</td>\n",
       "    </tr>\n",
       "    <tr>\n",
       "      <th>5</th>\n",
       "      <td>Lula</td>\n",
       "      <td>427</td>\n",
       "      <td>389</td>\n",
       "      <td>816</td>\n",
       "      <td>20478148</td>\n",
       "      <td>18.58</td>\n",
       "    </tr>\n",
       "    <tr>\n",
       "      <th>6</th>\n",
       "      <td>Overall</td>\n",
       "      <td>4357</td>\n",
       "      <td>4089</td>\n",
       "      <td>8446</td>\n",
       "      <td>197068446</td>\n",
       "      <td>17.75</td>\n",
       "    </tr>\n",
       "  </tbody>\n",
       "</table>\n",
       "</div>"
      ],
      "text/plain": [
       "      Target  Against   For   All      Words  W/Tweet\n",
       "0     Church     1015   781  1796   43266172    15.09\n",
       "1  Bolsonaro      487    76   563   11567146    14.62\n",
       "2    Hydrox.      865   856  1721   40312597    22.21\n",
       "3    Sinovac     1062  1257  2319   54340534    20.80\n",
       "4   Globo TV      501   730  1231   27103849    15.23\n",
       "5       Lula      427   389   816   20478148    18.58\n",
       "6    Overall     4357  4089  8446  197068446    17.75"
      ]
     },
     "metadata": {},
     "output_type": "display_data"
    },
    {
     "name": "stdout",
     "output_type": "stream",
     "text": [
      "users_Timeline\n"
     ]
    },
    {
     "data": {
      "text/html": [
       "<div>\n",
       "<style scoped>\n",
       "    .dataframe tbody tr th:only-of-type {\n",
       "        vertical-align: middle;\n",
       "    }\n",
       "\n",
       "    .dataframe tbody tr th {\n",
       "        vertical-align: top;\n",
       "    }\n",
       "\n",
       "    .dataframe thead th {\n",
       "        text-align: right;\n",
       "    }\n",
       "</style>\n",
       "<table border=\"1\" class=\"dataframe\">\n",
       "  <thead>\n",
       "    <tr style=\"text-align: right;\">\n",
       "      <th></th>\n",
       "      <th>Target</th>\n",
       "      <th>Against</th>\n",
       "      <th>For</th>\n",
       "      <th>All</th>\n",
       "      <th>Words</th>\n",
       "      <th>W/Tweet</th>\n",
       "    </tr>\n",
       "  </thead>\n",
       "  <tbody>\n",
       "    <tr>\n",
       "      <th>0</th>\n",
       "      <td>Church</td>\n",
       "      <td>339</td>\n",
       "      <td>260</td>\n",
       "      <td>599</td>\n",
       "      <td>34255228</td>\n",
       "      <td>57187.36</td>\n",
       "    </tr>\n",
       "    <tr>\n",
       "      <th>1</th>\n",
       "      <td>Bolsonaro</td>\n",
       "      <td>162</td>\n",
       "      <td>26</td>\n",
       "      <td>188</td>\n",
       "      <td>10552186</td>\n",
       "      <td>56128.65</td>\n",
       "    </tr>\n",
       "    <tr>\n",
       "      <th>2</th>\n",
       "      <td>Hydrox.</td>\n",
       "      <td>289</td>\n",
       "      <td>285</td>\n",
       "      <td>574</td>\n",
       "      <td>27393289</td>\n",
       "      <td>47723.50</td>\n",
       "    </tr>\n",
       "    <tr>\n",
       "      <th>3</th>\n",
       "      <td>Sinovac</td>\n",
       "      <td>354</td>\n",
       "      <td>420</td>\n",
       "      <td>774</td>\n",
       "      <td>35320226</td>\n",
       "      <td>45633.37</td>\n",
       "    </tr>\n",
       "    <tr>\n",
       "      <th>4</th>\n",
       "      <td>Globo TV</td>\n",
       "      <td>167</td>\n",
       "      <td>244</td>\n",
       "      <td>411</td>\n",
       "      <td>23026488</td>\n",
       "      <td>56025.52</td>\n",
       "    </tr>\n",
       "    <tr>\n",
       "      <th>5</th>\n",
       "      <td>Lula</td>\n",
       "      <td>143</td>\n",
       "      <td>129</td>\n",
       "      <td>272</td>\n",
       "      <td>16608766</td>\n",
       "      <td>61061.64</td>\n",
       "    </tr>\n",
       "    <tr>\n",
       "      <th>6</th>\n",
       "      <td>Overall</td>\n",
       "      <td>1454</td>\n",
       "      <td>1364</td>\n",
       "      <td>2818</td>\n",
       "      <td>147156183</td>\n",
       "      <td>53960.01</td>\n",
       "    </tr>\n",
       "  </tbody>\n",
       "</table>\n",
       "</div>"
      ],
      "text/plain": [
       "      Target  Against   For   All      Words   W/Tweet\n",
       "0     Church      339   260   599   34255228  57187.36\n",
       "1  Bolsonaro      162    26   188   10552186  56128.65\n",
       "2    Hydrox.      289   285   574   27393289  47723.50\n",
       "3    Sinovac      354   420   774   35320226  45633.37\n",
       "4   Globo TV      167   244   411   23026488  56025.52\n",
       "5       Lula      143   129   272   16608766  61061.64\n",
       "6    Overall     1454  1364  2818  147156183  53960.01"
      ]
     },
     "metadata": {},
     "output_type": "display_data"
    },
    {
     "name": "stdout",
     "output_type": "stream",
     "text": [
      "users_Stance\n"
     ]
    },
    {
     "data": {
      "text/html": [
       "<div>\n",
       "<style scoped>\n",
       "    .dataframe tbody tr th:only-of-type {\n",
       "        vertical-align: middle;\n",
       "    }\n",
       "\n",
       "    .dataframe tbody tr th {\n",
       "        vertical-align: top;\n",
       "    }\n",
       "\n",
       "    .dataframe thead th {\n",
       "        text-align: right;\n",
       "    }\n",
       "</style>\n",
       "<table border=\"1\" class=\"dataframe\">\n",
       "  <thead>\n",
       "    <tr style=\"text-align: right;\">\n",
       "      <th></th>\n",
       "      <th>Target</th>\n",
       "      <th>Against</th>\n",
       "      <th>For</th>\n",
       "      <th>All</th>\n",
       "      <th>Words</th>\n",
       "      <th>W/Tweet</th>\n",
       "    </tr>\n",
       "  </thead>\n",
       "  <tbody>\n",
       "    <tr>\n",
       "      <th>0</th>\n",
       "      <td>Church</td>\n",
       "      <td>339</td>\n",
       "      <td>260</td>\n",
       "      <td>599</td>\n",
       "      <td>6395</td>\n",
       "      <td>23.51</td>\n",
       "    </tr>\n",
       "    <tr>\n",
       "      <th>1</th>\n",
       "      <td>Bolsonaro</td>\n",
       "      <td>162</td>\n",
       "      <td>26</td>\n",
       "      <td>188</td>\n",
       "      <td>6395</td>\n",
       "      <td>23.51</td>\n",
       "    </tr>\n",
       "    <tr>\n",
       "      <th>2</th>\n",
       "      <td>Hydrox.</td>\n",
       "      <td>289</td>\n",
       "      <td>285</td>\n",
       "      <td>574</td>\n",
       "      <td>6395</td>\n",
       "      <td>23.51</td>\n",
       "    </tr>\n",
       "    <tr>\n",
       "      <th>3</th>\n",
       "      <td>Sinovac</td>\n",
       "      <td>354</td>\n",
       "      <td>420</td>\n",
       "      <td>774</td>\n",
       "      <td>6395</td>\n",
       "      <td>23.51</td>\n",
       "    </tr>\n",
       "    <tr>\n",
       "      <th>4</th>\n",
       "      <td>Globo TV</td>\n",
       "      <td>167</td>\n",
       "      <td>244</td>\n",
       "      <td>411</td>\n",
       "      <td>6395</td>\n",
       "      <td>23.51</td>\n",
       "    </tr>\n",
       "    <tr>\n",
       "      <th>5</th>\n",
       "      <td>Lula</td>\n",
       "      <td>143</td>\n",
       "      <td>129</td>\n",
       "      <td>272</td>\n",
       "      <td>6395</td>\n",
       "      <td>23.51</td>\n",
       "    </tr>\n",
       "    <tr>\n",
       "      <th>6</th>\n",
       "      <td>Overall</td>\n",
       "      <td>1454</td>\n",
       "      <td>1364</td>\n",
       "      <td>2818</td>\n",
       "      <td>38370</td>\n",
       "      <td>23.51</td>\n",
       "    </tr>\n",
       "  </tbody>\n",
       "</table>\n",
       "</div>"
      ],
      "text/plain": [
       "      Target  Against   For   All  Words  W/Tweet\n",
       "0     Church      339   260   599   6395    23.51\n",
       "1  Bolsonaro      162    26   188   6395    23.51\n",
       "2    Hydrox.      289   285   574   6395    23.51\n",
       "3    Sinovac      354   420   774   6395    23.51\n",
       "4   Globo TV      167   244   411   6395    23.51\n",
       "5       Lula      143   129   272   6395    23.51\n",
       "6    Overall     1454  1364  2818  38370    23.51"
      ]
     },
     "metadata": {},
     "output_type": "display_data"
    }
   ],
   "source": [
    "for key, value in dict_results.items():\n",
    "    \n",
    "    print(key)\n",
    "    \n",
    "    display(value)"
   ]
  }
 ],
 "metadata": {
  "kernelspec": {
   "display_name": "env-stance-pred",
   "language": "python",
   "name": "python3"
  },
  "language_info": {
   "codemirror_mode": {
    "name": "ipython",
    "version": 3
   },
   "file_extension": ".py",
   "mimetype": "text/x-python",
   "name": "python",
   "nbconvert_exporter": "python",
   "pygments_lexer": "ipython3",
   "version": "3.12.2"
  }
 },
 "nbformat": 4,
 "nbformat_minor": 2
}
