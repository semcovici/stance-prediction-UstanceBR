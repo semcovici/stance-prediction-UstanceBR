{
 "cells": [
  {
   "cell_type": "code",
   "execution_count": 1,
   "metadata": {},
   "outputs": [],
   "source": [
    "import pandas as pd\n",
    "from sklearn.metrics import classification_report\n",
    "from sklearn.model_selection import train_test_split\n",
    "import xgboost as xgb\n",
    "from xgboost import XGBClassifier\n",
    "from sklearn.pipeline import Pipeline\n",
    "from sklearn.preprocessing import LabelEncoder, MaxAbsScaler\n",
    "import numpy as np\n",
    "from imblearn.over_sampling import RandomOverSampler, SMOTE\n",
    "from imblearn.pipeline import Pipeline as IMBPipeline\n",
    "from sklearn.feature_selection import RFE\n",
    "from sklearn.feature_extraction.text import TfidfVectorizer\n",
    "from sklearn.ensemble import RandomForestClassifier\n",
    "from nltk.corpus import stopwords\n",
    "from tqdm import tqdm\n",
    "tqdm.pandas()\n",
    "from sklearn.compose import ColumnTransformer"
   ]
  },
  {
   "cell_type": "code",
   "execution_count": 2,
   "metadata": {},
   "outputs": [],
   "source": [
    "path_raw_data = '../data/raw/'\n",
    "path_processed_data = '../data/processed/'"
   ]
  },
  {
   "cell_type": "code",
   "execution_count": 4,
   "metadata": {},
   "outputs": [
    {
     "data": {
      "text/html": [
       "<div>\n",
       "<style scoped>\n",
       "    .dataframe tbody tr th:only-of-type {\n",
       "        vertical-align: middle;\n",
       "    }\n",
       "\n",
       "    .dataframe tbody tr th {\n",
       "        vertical-align: top;\n",
       "    }\n",
       "\n",
       "    .dataframe thead th {\n",
       "        text-align: right;\n",
       "    }\n",
       "</style>\n",
       "<table border=\"1\" class=\"dataframe\">\n",
       "  <thead>\n",
       "    <tr style=\"text-align: right;\">\n",
       "      <th></th>\n",
       "      <th>User_ID</th>\n",
       "      <th>Polarity</th>\n",
       "      <th>Texts</th>\n",
       "    </tr>\n",
       "  </thead>\n",
       "  <tbody>\n",
       "    <tr>\n",
       "      <th>0</th>\n",
       "      <td>r2_bo_1</td>\n",
       "      <td>for</td>\n",
       "      <td>Saudadinhaa dl :/ # Gente que beija com mordid...</td>\n",
       "    </tr>\n",
       "    <tr>\n",
       "      <th>3</th>\n",
       "      <td>r2_bo_3</td>\n",
       "      <td>for</td>\n",
       "      <td>@Gremio E que domínio, hein campeão? # @Analis...</td>\n",
       "    </tr>\n",
       "    <tr>\n",
       "      <th>24</th>\n",
       "      <td>r2_bo_5</td>\n",
       "      <td>for</td>\n",
       "      <td>@This_IsK Hahahaha olha, salada caesar é fácil...</td>\n",
       "    </tr>\n",
       "    <tr>\n",
       "      <th>30</th>\n",
       "      <td>r2_bo_7</td>\n",
       "      <td>against</td>\n",
       "      <td>@Chiico_Sant vai passar aqui ou quer que eu vá...</td>\n",
       "    </tr>\n",
       "    <tr>\n",
       "      <th>32</th>\n",
       "      <td>r2_bo_8</td>\n",
       "      <td>against</td>\n",
       "      <td>@gabycunha86 Amanhã vou aí, deixa pra terça # ...</td>\n",
       "    </tr>\n",
       "  </tbody>\n",
       "</table>\n",
       "</div>"
      ],
      "text/plain": [
       "    User_ID Polarity                                              Texts\n",
       "0   r2_bo_1      for  Saudadinhaa dl :/ # Gente que beija com mordid...\n",
       "3   r2_bo_3      for  @Gremio E que domínio, hein campeão? # @Analis...\n",
       "24  r2_bo_5      for  @This_IsK Hahahaha olha, salada caesar é fácil...\n",
       "30  r2_bo_7  against  @Chiico_Sant vai passar aqui ou quer que eu vá...\n",
       "32  r2_bo_8  against  @gabycunha86 Amanhã vou aí, deixa pra terça # ..."
      ]
     },
     "execution_count": 4,
     "metadata": {},
     "output_type": "execute_result"
    }
   ],
   "source": [
    "data = pd.read_csv(path_processed_data + 'data_filtered.csv', index_col = 0)\n",
    "data.head()"
   ]
  },
  {
   "cell_type": "code",
   "execution_count": null,
   "metadata": {},
   "outputs": [],
   "source": [
    "# # Separa os textos em linhas individuais\n",
    "# df_sep_comments = data.assign(Texts=data['Texts'].str.split(' # ')).explode('Texts')\n",
    "\n",
    "# # Reindexa o DataFrame resultante\n",
    "# df_sep_comments = df_sep_comments.reset_index(drop=True)\n",
    "\n",
    "# # Adiciona a coluna 'Polarity'\n",
    "# df_sep_comments['Polarity'] = data['Polarity']\n",
    "\n",
    "# print(df_sep_comments)\n"
   ]
  },
  {
   "cell_type": "code",
   "execution_count": 6,
   "metadata": {},
   "outputs": [
    {
     "name": "stderr",
     "output_type": "stream",
     "text": [
      "100%|██████████| 471/471 [5:47:41<00:00, 44.29s/it]   \n"
     ]
    }
   ],
   "source": [
    "df_sep_comments = pd.DataFrame({\n",
    "    'User_ID': [],\n",
    "    'comment_id': [],\n",
    "    'comment': [],\n",
    "    'Polarity': []\n",
    "})\n",
    "for idx, row in tqdm(data.iterrows(), total = len(data)):\n",
    "    \n",
    "    comments = row.Texts.split(' # ')\n",
    "    pol = row.Polarity\n",
    "    usr = row.User_ID\n",
    "    \n",
    "    \n",
    "    for i,comment in enumerate(comments):\n",
    "        \n",
    "        df_sep_comments.loc[len(df_sep_comments)] = {\n",
    "            'User_ID': usr,\n",
    "            'comment_id': i,\n",
    "            'comment': comment,\n",
    "            'Polarity': pol\n",
    "        } "
   ]
  },
  {
   "cell_type": "code",
   "execution_count": 9,
   "metadata": {},
   "outputs": [],
   "source": [
    "df_sep_comments.to_csv(path_processed_data +'data_filtered_separated.csv')"
   ]
  }
 ],
 "metadata": {
  "kernelspec": {
   "display_name": "env-stance-pred",
   "language": "python",
   "name": "python3"
  },
  "language_info": {
   "codemirror_mode": {
    "name": "ipython",
    "version": 3
   },
   "file_extension": ".py",
   "mimetype": "text/x-python",
   "name": "python",
   "nbconvert_exporter": "python",
   "pygments_lexer": "ipython3",
   "version": "3.12.2"
  }
 },
 "nbformat": 4,
 "nbformat_minor": 2
}
