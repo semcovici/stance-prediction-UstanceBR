{
 "cells": [
  {
   "cell_type": "code",
   "execution_count": 10,
   "metadata": {},
   "outputs": [],
   "source": [
    "import pandas as pd\n",
    "from tqdm import tqdm\n",
    "tqdm.pandas()\n",
    "from itertools import product\n",
    "\n",
    "path_raw_data = '../data/raw/'\n",
    "path_processed_data = '../data/processed/'"
   ]
  },
  {
   "cell_type": "code",
   "execution_count": 11,
   "metadata": {},
   "outputs": [],
   "source": [
    "list_target = [\n",
    "    'ig', \n",
    "    'bo', \n",
    "    'cl', \n",
    "    'co', \n",
    "    'gl', \n",
    "    'lu'\n",
    "    ]\n",
    "list_splits = [\n",
    "    'train', \n",
    "    'test'\n",
    "    ]\n",
    "list_datasets = [\n",
    "    'top_mentioned_timelines',\n",
    "    'users'\n",
    "]"
   ]
  },
  {
   "cell_type": "code",
   "execution_count": 19,
   "metadata": {},
   "outputs": [],
   "source": [
    "possible_comb = list(product(list_target, list_splits, list_datasets))"
   ]
  },
  {
   "cell_type": "code",
   "execution_count": 23,
   "metadata": {},
   "outputs": [
    {
     "name": "stderr",
     "output_type": "stream",
     "text": [
      "100%|██████████| 24/24 [07:21<00:00, 18.38s/it]\n"
     ]
    }
   ],
   "source": [
    "\n",
    "for target, split, dataset in tqdm(possible_comb, total = len(possible_comb)):\n",
    "    \n",
    "    \n",
    "    if dataset == 'top_mentioned_timelines':\n",
    "        path_data_input = path_raw_data + f'{split}_r3_{target}_top_mentioned_timelines.csv'\n",
    "        path_output_base = path_processed_data + f'{split}_r3_{target}_top_mentioned_timelines_separated_comments'\n",
    "        text_col = 'Texts'\n",
    "    if dataset == 'users':\n",
    "        path_data_input = path_raw_data + f'r3_{target}_{split}_users.csv'\n",
    "        path_output_base = path_processed_data + f'r3_{target}_{split}_users_separated_comments'\n",
    "        text_col = 'Timeline'\n",
    "\n",
    "    data = pd.read_csv(\n",
    "        path_data_input, \n",
    "        sep = ';', \n",
    "        encoding='utf-8-sig'\n",
    "        )\n",
    "    \n",
    "    # Separa os textos em linhas individuais\n",
    "    df_sep_comments = data.assign(Texts=data[text_col].str.split(' # ')).explode(text_col)\n",
    "\n",
    "    # Reindexa o DataFrame resultante\n",
    "    df_sep_comments.reset_index(drop=True, inplace = True)\n",
    "\n",
    "    df_sep_comments.ffill(inplace = True)\n",
    "    \n",
    "    df_sep_comments[text_col] = df_sep_comments[text_col].apply(str.lower)\n",
    "    \n",
    "    df_sep_comments['id_text'], unique = pd.factorize(df_sep_comments[text_col])\n",
    "    \n",
    "    df_sep_comments_unique = df_sep_comments.drop_duplicates('id_text')\n",
    "    \n",
    "    df_sep_comments.to_csv(path_output_base + '.csv', index = False)\n",
    "    df_sep_comments_unique.to_csv(path_output_base + '_unique.csv', index = False)\n"
   ]
  }
 ],
 "metadata": {
  "kernelspec": {
   "display_name": "env-stance-pred",
   "language": "python",
   "name": "python3"
  },
  "language_info": {
   "codemirror_mode": {
    "name": "ipython",
    "version": 3
   },
   "file_extension": ".py",
   "mimetype": "text/x-python",
   "name": "python",
   "nbconvert_exporter": "python",
   "pygments_lexer": "ipython3",
   "version": "3.12.2"
  }
 },
 "nbformat": 4,
 "nbformat_minor": 2
}
