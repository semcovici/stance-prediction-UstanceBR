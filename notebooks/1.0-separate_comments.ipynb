{
 "cells": [
  {
   "cell_type": "code",
   "execution_count": 9,
   "metadata": {},
   "outputs": [
    {
     "name": "stderr",
     "output_type": "stream",
     "text": [
      "100%|██████████| 1/1 [00:08<00:00,  8.23s/it]\n"
     ]
    }
   ],
   "source": [
    "import pandas as pd\n",
    "from tqdm import tqdm\n",
    "\n",
    "\n",
    "path_raw_data = '../data/raw/'\n",
    "path_processed_data = '../data/processed/'\n",
    "\n",
    "\n",
    "for corpus in tqdm([\n",
    "    #'bo',\n",
    "    # 'cl',\n",
    "    # 'co',\n",
    "    # 'gl',\n",
    "    'ig',\n",
    "    # 'lu'\n",
    "]):\n",
    "\n",
    "    data = pd.read_csv(\n",
    "        path_raw_data + f'train_r3_{corpus}_top_mentioned_timelines.csv', \n",
    "        sep = ';', \n",
    "        encoding='utf-8-sig'\n",
    "        )\n",
    "    \n",
    "    # Separa os textos em linhas individuais\n",
    "    df_sep_comments = data.assign(Texts=data['Texts'].str.split(' # ')).explode('Texts')\n",
    "\n",
    "    # Reindexa o DataFrame resultante\n",
    "    df_sep_comments.reset_index(drop=True, inplace = True)\n",
    "\n",
    "    df_sep_comments.ffill(inplace = True)\n",
    "    \n",
    "    df_sep_comments['id_text'], unique = pd.factorize(df_sep_comments['Texts'])\n",
    "    \n",
    "    #df_sep_comments.to_csv(path_processed_data + f'train_r3_{corpus}_separated_comments.csv', index = False)\n"
   ]
  },
  {
   "cell_type": "code",
   "execution_count": 10,
   "metadata": {},
   "outputs": [
    {
     "data": {
      "text/plain": [
       "2868127"
      ]
     },
     "execution_count": 10,
     "metadata": {},
     "output_type": "execute_result"
    }
   ],
   "source": [
    "len(unique)"
   ]
  },
  {
   "cell_type": "code",
   "execution_count": 11,
   "metadata": {},
   "outputs": [
    {
     "data": {
      "text/plain": [
       "3533921"
      ]
     },
     "execution_count": 11,
     "metadata": {},
     "output_type": "execute_result"
    }
   ],
   "source": [
    "len(df_sep_comments)"
   ]
  },
  {
   "cell_type": "code",
   "execution_count": 8,
   "metadata": {},
   "outputs": [
    {
     "data": {
      "text/html": [
       "<div>\n",
       "<style scoped>\n",
       "    .dataframe tbody tr th:only-of-type {\n",
       "        vertical-align: middle;\n",
       "    }\n",
       "\n",
       "    .dataframe tbody tr th {\n",
       "        vertical-align: top;\n",
       "    }\n",
       "\n",
       "    .dataframe thead th {\n",
       "        text-align: right;\n",
       "    }\n",
       "</style>\n",
       "<table border=\"1\" class=\"dataframe\">\n",
       "  <thead>\n",
       "    <tr style=\"text-align: right;\">\n",
       "      <th></th>\n",
       "      <th>User_ID</th>\n",
       "      <th>Polarity</th>\n",
       "      <th>Texts</th>\n",
       "      <th>id_text</th>\n",
       "    </tr>\n",
       "  </thead>\n",
       "  <tbody>\n",
       "    <tr>\n",
       "      <th>0</th>\n",
       "      <td>r2_ig_1</td>\n",
       "      <td>against</td>\n",
       "      <td>PQP ESSE DORAMA É MUITO FOADA(Sassy GoGo(Cheer...</td>\n",
       "      <td>0</td>\n",
       "    </tr>\n",
       "    <tr>\n",
       "      <th>1</th>\n",
       "      <td>r2_ig_1</td>\n",
       "      <td>against</td>\n",
       "      <td>Caraleo só falta dois eps pra acabar, alguém ...</td>\n",
       "      <td>1</td>\n",
       "    </tr>\n",
       "    <tr>\n",
       "      <th>2</th>\n",
       "      <td>r2_ig_1</td>\n",
       "      <td>against</td>\n",
       "      <td>@Rachingaio mt bom super recomendo a todos</td>\n",
       "      <td>2</td>\n",
       "    </tr>\n",
       "    <tr>\n",
       "      <th>3</th>\n",
       "      <td>r2_ig_1</td>\n",
       "      <td>against</td>\n",
       "      <td>@Rachingaio por mais doramas como esse, obg</td>\n",
       "      <td>3</td>\n",
       "    </tr>\n",
       "    <tr>\n",
       "      <th>4</th>\n",
       "      <td>r2_ig_1</td>\n",
       "      <td>against</td>\n",
       "      <td>@Rachingaio pra quem gosta de chorar super re...</td>\n",
       "      <td>4</td>\n",
       "    </tr>\n",
       "    <tr>\n",
       "      <th>...</th>\n",
       "      <td>...</td>\n",
       "      <td>...</td>\n",
       "      <td>...</td>\n",
       "      <td>...</td>\n",
       "    </tr>\n",
       "    <tr>\n",
       "      <th>3533918</th>\n",
       "      <td>r2_ig_2402</td>\n",
       "      <td>against</td>\n",
       "      <td>Eu apoio o abaixo assinado. Vascaínos, divulg...</td>\n",
       "      <td>2868236</td>\n",
       "    </tr>\n",
       "    <tr>\n",
       "      <th>3533919</th>\n",
       "      <td>r2_ig_2402</td>\n",
       "      <td>against</td>\n",
       "      <td>@Joaogabrielsil1 É uma petição pública para q...</td>\n",
       "      <td>2868237</td>\n",
       "    </tr>\n",
       "    <tr>\n",
       "      <th>3533920</th>\n",
       "      <td>r2_ig_2402</td>\n",
       "      <td>against</td>\n",
       "      <td>@LeoDias25_ Boa como sempre foi!</td>\n",
       "      <td>2868238</td>\n",
       "    </tr>\n",
       "    <tr>\n",
       "      <th>3533921</th>\n",
       "      <td>r2_ig_2402</td>\n",
       "      <td>against</td>\n",
       "      <td>@alexandremfj Tá bom! Mas vai lá e assina.</td>\n",
       "      <td>2868239</td>\n",
       "    </tr>\n",
       "    <tr>\n",
       "      <th>3533922</th>\n",
       "      <td>r2_ig_2402</td>\n",
       "      <td>against</td>\n",
       "      <td>@Vascaino_Depre Aceito se a luta for mental e...</td>\n",
       "      <td>2868240</td>\n",
       "    </tr>\n",
       "  </tbody>\n",
       "</table>\n",
       "<p>3533923 rows × 4 columns</p>\n",
       "</div>"
      ],
      "text/plain": [
       "            User_ID Polarity  \\\n",
       "0           r2_ig_1  against   \n",
       "1           r2_ig_1  against   \n",
       "2           r2_ig_1  against   \n",
       "3           r2_ig_1  against   \n",
       "4           r2_ig_1  against   \n",
       "...             ...      ...   \n",
       "3533918  r2_ig_2402  against   \n",
       "3533919  r2_ig_2402  against   \n",
       "3533920  r2_ig_2402  against   \n",
       "3533921  r2_ig_2402  against   \n",
       "3533922  r2_ig_2402  against   \n",
       "\n",
       "                                                     Texts  id_text  \n",
       "0        PQP ESSE DORAMA É MUITO FOADA(Sassy GoGo(Cheer...        0  \n",
       "1         Caraleo só falta dois eps pra acabar, alguém ...        1  \n",
       "2              @Rachingaio mt bom super recomendo a todos         2  \n",
       "3             @Rachingaio por mais doramas como esse, obg         3  \n",
       "4         @Rachingaio pra quem gosta de chorar super re...        4  \n",
       "...                                                    ...      ...  \n",
       "3533918   Eu apoio o abaixo assinado. Vascaínos, divulg...  2868236  \n",
       "3533919   @Joaogabrielsil1 É uma petição pública para q...  2868237  \n",
       "3533920                  @LeoDias25_ Boa como sempre foi!   2868238  \n",
       "3533921        @alexandremfj Tá bom! Mas vai lá e assina.   2868239  \n",
       "3533922   @Vascaino_Depre Aceito se a luta for mental e...  2868240  \n",
       "\n",
       "[3533923 rows x 4 columns]"
      ]
     },
     "execution_count": 8,
     "metadata": {},
     "output_type": "execute_result"
    }
   ],
   "source": [
    "df_sep_comments"
   ]
  },
  {
   "cell_type": "code",
   "execution_count": null,
   "metadata": {},
   "outputs": [],
   "source": []
  }
 ],
 "metadata": {
  "kernelspec": {
   "display_name": "env-stance-pred",
   "language": "python",
   "name": "python3"
  },
  "language_info": {
   "codemirror_mode": {
    "name": "ipython",
    "version": 3
   },
   "file_extension": ".py",
   "mimetype": "text/x-python",
   "name": "python",
   "nbconvert_exporter": "python",
   "pygments_lexer": "ipython3",
   "version": "3.12.2"
  }
 },
 "nbformat": 4,
 "nbformat_minor": 2
}
