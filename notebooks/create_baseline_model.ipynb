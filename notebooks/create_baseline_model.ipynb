{
 "cells": [
  {
   "cell_type": "code",
   "execution_count": 29,
   "metadata": {},
   "outputs": [],
   "source": [
    "import pandas as pd\n",
    "from sklearn.metrics import classification_report\n",
    "from sklearn.model_selection import train_test_split\n",
    "import xgboost as xgb\n",
    "from xgboost import XGBClassifier\n",
    "from sklearn.pipeline import Pipeline\n",
    "from sklearn.preprocessing import LabelEncoder, MaxAbsScaler\n",
    "import numpy as np\n",
    "from imblearn.over_sampling import RandomOverSampler, SMOTE\n",
    "from imblearn.pipeline import Pipeline as IMBPipeline\n",
    "from sklearn.feature_selection import RFE\n",
    "from sklearn.feature_extraction.text import TfidfVectorizer\n",
    "from sklearn.ensemble import RandomForestClassifier\n",
    "from nltk.corpus import stopwords\n",
    "from tqdm import tqdm\n",
    "tqdm.pandas()\n",
    "from sklearn.compose import ColumnTransformer"
   ]
  },
  {
   "cell_type": "code",
   "execution_count": 30,
   "metadata": {},
   "outputs": [],
   "source": [
    "def get_classification_report(y_test, y_pred):\n",
    "    '''Source: https://stackoverflow.com/questions/39662398/scikit-learn-output-metrics-classification-report-into-csv-tab-delimited-format'''\n",
    "    report = classification_report(y_test, y_pred, output_dict=True)\n",
    "    df_classification_report = pd.DataFrame(report).transpose()\n",
    "    df_classification_report = df_classification_report.sort_values(by=['f1-score'], ascending=False)\n",
    "    return df_classification_report"
   ]
  },
  {
   "cell_type": "code",
   "execution_count": 31,
   "metadata": {},
   "outputs": [
    {
     "name": "stderr",
     "output_type": "stream",
     "text": [
      "[nltk_data] Downloading package stopwords to\n",
      "[nltk_data]     /home/semcovici/nltk_data...\n",
      "[nltk_data]   Package stopwords is already up-to-date!\n"
     ]
    },
    {
     "data": {
      "text/plain": [
       "True"
      ]
     },
     "execution_count": 31,
     "metadata": {},
     "output_type": "execute_result"
    }
   ],
   "source": [
    "import nltk\n",
    "nltk.download('stopwords')"
   ]
  },
  {
   "cell_type": "code",
   "execution_count": 32,
   "metadata": {},
   "outputs": [],
   "source": [
    "path_raw_data = '../data/raw/'\n",
    "path_processed_data = '../data/processed/'"
   ]
  },
  {
   "cell_type": "code",
   "execution_count": 33,
   "metadata": {},
   "outputs": [],
   "source": [
    "data = pd.read_csv(path_processed_data + 'data_filtered.csv', index_col = 0)"
   ]
  },
  {
   "cell_type": "code",
   "execution_count": 34,
   "metadata": {},
   "outputs": [
    {
     "data": {
      "text/html": [
       "<div>\n",
       "<style scoped>\n",
       "    .dataframe tbody tr th:only-of-type {\n",
       "        vertical-align: middle;\n",
       "    }\n",
       "\n",
       "    .dataframe tbody tr th {\n",
       "        vertical-align: top;\n",
       "    }\n",
       "\n",
       "    .dataframe thead th {\n",
       "        text-align: right;\n",
       "    }\n",
       "</style>\n",
       "<table border=\"1\" class=\"dataframe\">\n",
       "  <thead>\n",
       "    <tr style=\"text-align: right;\">\n",
       "      <th></th>\n",
       "      <th>User_ID</th>\n",
       "      <th>Polarity</th>\n",
       "      <th>Texts</th>\n",
       "    </tr>\n",
       "  </thead>\n",
       "  <tbody>\n",
       "    <tr>\n",
       "      <th>0</th>\n",
       "      <td>r2_bo_1</td>\n",
       "      <td>for</td>\n",
       "      <td>Saudadinhaa dl :/ # Gente que beija com mordid...</td>\n",
       "    </tr>\n",
       "    <tr>\n",
       "      <th>3</th>\n",
       "      <td>r2_bo_3</td>\n",
       "      <td>for</td>\n",
       "      <td>@Gremio E que domínio, hein campeão? # @Analis...</td>\n",
       "    </tr>\n",
       "    <tr>\n",
       "      <th>24</th>\n",
       "      <td>r2_bo_5</td>\n",
       "      <td>for</td>\n",
       "      <td>@This_IsK Hahahaha olha, salada caesar é fácil...</td>\n",
       "    </tr>\n",
       "    <tr>\n",
       "      <th>30</th>\n",
       "      <td>r2_bo_7</td>\n",
       "      <td>against</td>\n",
       "      <td>@Chiico_Sant vai passar aqui ou quer que eu vá...</td>\n",
       "    </tr>\n",
       "    <tr>\n",
       "      <th>32</th>\n",
       "      <td>r2_bo_8</td>\n",
       "      <td>against</td>\n",
       "      <td>@gabycunha86 Amanhã vou aí, deixa pra terça # ...</td>\n",
       "    </tr>\n",
       "  </tbody>\n",
       "</table>\n",
       "</div>"
      ],
      "text/plain": [
       "    User_ID Polarity                                              Texts\n",
       "0   r2_bo_1      for  Saudadinhaa dl :/ # Gente que beija com mordid...\n",
       "3   r2_bo_3      for  @Gremio E que domínio, hein campeão? # @Analis...\n",
       "24  r2_bo_5      for  @This_IsK Hahahaha olha, salada caesar é fácil...\n",
       "30  r2_bo_7  against  @Chiico_Sant vai passar aqui ou quer que eu vá...\n",
       "32  r2_bo_8  against  @gabycunha86 Amanhã vou aí, deixa pra terça # ..."
      ]
     },
     "execution_count": 34,
     "metadata": {},
     "output_type": "execute_result"
    }
   ],
   "source": [
    "data.head()"
   ]
  },
  {
   "cell_type": "code",
   "execution_count": 35,
   "metadata": {},
   "outputs": [
    {
     "data": {
      "text/html": [
       "<div>\n",
       "<style scoped>\n",
       "    .dataframe tbody tr th:only-of-type {\n",
       "        vertical-align: middle;\n",
       "    }\n",
       "\n",
       "    .dataframe tbody tr th {\n",
       "        vertical-align: top;\n",
       "    }\n",
       "\n",
       "    .dataframe thead th {\n",
       "        text-align: right;\n",
       "    }\n",
       "</style>\n",
       "<table border=\"1\" class=\"dataframe\">\n",
       "  <thead>\n",
       "    <tr style=\"text-align: right;\">\n",
       "      <th></th>\n",
       "      <th>User_ID</th>\n",
       "      <th>Polarity</th>\n",
       "      <th>Texts</th>\n",
       "      <th>n_comments</th>\n",
       "    </tr>\n",
       "  </thead>\n",
       "  <tbody>\n",
       "    <tr>\n",
       "      <th>0</th>\n",
       "      <td>r2_bo_1</td>\n",
       "      <td>for</td>\n",
       "      <td>Saudadinhaa dl :/ # Gente que beija com mordid...</td>\n",
       "      <td>1370</td>\n",
       "    </tr>\n",
       "    <tr>\n",
       "      <th>3</th>\n",
       "      <td>r2_bo_3</td>\n",
       "      <td>for</td>\n",
       "      <td>@Gremio E que domínio, hein campeão? # @Analis...</td>\n",
       "      <td>2969</td>\n",
       "    </tr>\n",
       "    <tr>\n",
       "      <th>24</th>\n",
       "      <td>r2_bo_5</td>\n",
       "      <td>for</td>\n",
       "      <td>@This_IsK Hahahaha olha, salada caesar é fácil...</td>\n",
       "      <td>2250</td>\n",
       "    </tr>\n",
       "    <tr>\n",
       "      <th>30</th>\n",
       "      <td>r2_bo_7</td>\n",
       "      <td>against</td>\n",
       "      <td>@Chiico_Sant vai passar aqui ou quer que eu vá...</td>\n",
       "      <td>1574</td>\n",
       "    </tr>\n",
       "    <tr>\n",
       "      <th>32</th>\n",
       "      <td>r2_bo_8</td>\n",
       "      <td>against</td>\n",
       "      <td>@gabycunha86 Amanhã vou aí, deixa pra terça # ...</td>\n",
       "      <td>956</td>\n",
       "    </tr>\n",
       "    <tr>\n",
       "      <th>...</th>\n",
       "      <td>...</td>\n",
       "      <td>...</td>\n",
       "      <td>...</td>\n",
       "      <td>...</td>\n",
       "    </tr>\n",
       "    <tr>\n",
       "      <th>5984</th>\n",
       "      <td>r2_bo_720</td>\n",
       "      <td>against</td>\n",
       "      <td>Pesquisa mostra que, além do Brasil, apenas Rú...</td>\n",
       "      <td>3207</td>\n",
       "    </tr>\n",
       "    <tr>\n",
       "      <th>6820</th>\n",
       "      <td>r2_bo_740</td>\n",
       "      <td>for</td>\n",
       "      <td>eu odeio trânsito com todas minhas forças, vai...</td>\n",
       "      <td>1862</td>\n",
       "    </tr>\n",
       "    <tr>\n",
       "      <th>6825</th>\n",
       "      <td>r2_bo_743</td>\n",
       "      <td>against</td>\n",
       "      <td>A rainha do pop está de volta. Madonna lançou ...</td>\n",
       "      <td>2667</td>\n",
       "    </tr>\n",
       "    <tr>\n",
       "      <th>6983</th>\n",
       "      <td>r2_bo_751</td>\n",
       "      <td>for</td>\n",
       "      <td>@toko_tkd Indo # @toko_tkd Demorou pra respond...</td>\n",
       "      <td>2139</td>\n",
       "    </tr>\n",
       "    <tr>\n",
       "      <th>7039</th>\n",
       "      <td>r2_bo_756</td>\n",
       "      <td>against</td>\n",
       "      <td>Villas Boas manobra para não fazer de Mourão \"...</td>\n",
       "      <td>2907</td>\n",
       "    </tr>\n",
       "  </tbody>\n",
       "</table>\n",
       "<p>471 rows × 4 columns</p>\n",
       "</div>"
      ],
      "text/plain": [
       "        User_ID Polarity                                              Texts  \\\n",
       "0       r2_bo_1      for  Saudadinhaa dl :/ # Gente que beija com mordid...   \n",
       "3       r2_bo_3      for  @Gremio E que domínio, hein campeão? # @Analis...   \n",
       "24      r2_bo_5      for  @This_IsK Hahahaha olha, salada caesar é fácil...   \n",
       "30      r2_bo_7  against  @Chiico_Sant vai passar aqui ou quer que eu vá...   \n",
       "32      r2_bo_8  against  @gabycunha86 Amanhã vou aí, deixa pra terça # ...   \n",
       "...         ...      ...                                                ...   \n",
       "5984  r2_bo_720  against  Pesquisa mostra que, além do Brasil, apenas Rú...   \n",
       "6820  r2_bo_740      for  eu odeio trânsito com todas minhas forças, vai...   \n",
       "6825  r2_bo_743  against  A rainha do pop está de volta. Madonna lançou ...   \n",
       "6983  r2_bo_751      for  @toko_tkd Indo # @toko_tkd Demorou pra respond...   \n",
       "7039  r2_bo_756  against  Villas Boas manobra para não fazer de Mourão \"...   \n",
       "\n",
       "      n_comments  \n",
       "0           1370  \n",
       "3           2969  \n",
       "24          2250  \n",
       "30          1574  \n",
       "32           956  \n",
       "...          ...  \n",
       "5984        3207  \n",
       "6820        1862  \n",
       "6825        2667  \n",
       "6983        2139  \n",
       "7039        2907  \n",
       "\n",
       "[471 rows x 4 columns]"
      ]
     },
     "execution_count": 35,
     "metadata": {},
     "output_type": "execute_result"
    }
   ],
   "source": [
    "data['n_comments'] = data.Texts.apply(lambda x: len(x.split(' # ')))\n",
    "data"
   ]
  },
  {
   "cell_type": "code",
   "execution_count": 36,
   "metadata": {},
   "outputs": [],
   "source": [
    "#X = data[['Texts', 'n_comments']]\n",
    "X = data['Texts']\n",
    "y = data.Polarity"
   ]
  },
  {
   "cell_type": "code",
   "execution_count": 37,
   "metadata": {},
   "outputs": [
    {
     "data": {
      "text/plain": [
       "0     Saudadinhaa dl :/ # Gente que beija com mordid...\n",
       "3     @Gremio E que domínio, hein campeão? # @Analis...\n",
       "24    @This_IsK Hahahaha olha, salada caesar é fácil...\n",
       "30    @Chiico_Sant vai passar aqui ou quer que eu vá...\n",
       "32    @gabycunha86 Amanhã vou aí, deixa pra terça # ...\n",
       "Name: Texts, dtype: object"
      ]
     },
     "execution_count": 37,
     "metadata": {},
     "output_type": "execute_result"
    }
   ],
   "source": [
    "X.head()"
   ]
  },
  {
   "cell_type": "code",
   "execution_count": 38,
   "metadata": {},
   "outputs": [
    {
     "data": {
      "text/plain": [
       "0       1\n",
       "3       1\n",
       "24      1\n",
       "30      0\n",
       "32      0\n",
       "       ..\n",
       "5984    0\n",
       "6820    1\n",
       "6825    0\n",
       "6983    1\n",
       "7039    0\n",
       "Name: Polarity, Length: 471, dtype: int64"
      ]
     },
     "execution_count": 38,
     "metadata": {},
     "output_type": "execute_result"
    }
   ],
   "source": [
    "y_encoded = y.map({'against': 0, 'for': 1})\n",
    "y_encoded"
   ]
  },
  {
   "cell_type": "code",
   "execution_count": 39,
   "metadata": {},
   "outputs": [],
   "source": [
    "X_train, X_test, y_train, y_test = train_test_split(X, y_encoded, test_size=0.2, random_state=42, stratify=y_encoded)"
   ]
  },
  {
   "cell_type": "code",
   "execution_count": 40,
   "metadata": {},
   "outputs": [],
   "source": [
    "text_vect = TfidfVectorizer(\n",
    "            stop_words = stopwords.words('portuguese'),\n",
    "            lowercase = True,\n",
    "            ngram_range = (1,3)\n",
    "            \n",
    "            )"
   ]
  },
  {
   "cell_type": "code",
   "execution_count": 41,
   "metadata": {},
   "outputs": [],
   "source": [
    "preprocessor = ColumnTransformer(\n",
    "    transformers=[\n",
    "        ('Texts', text_vect , 'Texts'),\n",
    "        ('n_comments', 'passthrough',['n_comments'])\n",
    "    ]\n",
    ")"
   ]
  },
  {
   "cell_type": "code",
   "execution_count": 42,
   "metadata": {},
   "outputs": [
    {
     "name": "stdout",
     "output_type": "stream",
     "text": [
      "Training ...\n",
      "[Pipeline] ........ (step 1 of 4) Processing vectorizer, total=  60.0s\n",
      "[Pipeline] .......... (step 2 of 4) Processing sampling, total=   0.1s\n",
      "[Pipeline] ........... (step 3 of 4) Processing scaling, total=   2.8s\n",
      "[00:18:29] ======== Monitor (0): HostSketchContainer ========\n",
      "[00:18:29] AllReduce: 0.400936s, 1 calls @ 400936us\n",
      "\n",
      "[00:18:29] MakeCuts: 1.02167s, 1 calls @ 1021674us\n",
      "\n",
      "[00:18:30] DEBUG: /workspace/src/gbm/gbtree.cc:130: Using tree method: 0\n",
      "[00:20:46] ======== Monitor (0): Learner ========\n",
      "[00:20:46] Configure: 0.015379s, 1 calls @ 15379us\n",
      "\n",
      "[00:20:46] EvalOneIter: 0.001043s, 100 calls @ 1043us\n",
      "\n",
      "[00:20:46] GetGradient: 0.443093s, 100 calls @ 443093us\n",
      "\n",
      "[00:20:46] PredictRaw: 0.000142s, 100 calls @ 142us\n",
      "\n",
      "[00:20:46] UpdateOneIter: 135.871s, 100 calls @ 135871048us\n",
      "\n",
      "[00:20:46] ======== Monitor (0): GBTree ========\n",
      "[00:20:46] BoostNewTrees: 135.378s, 100 calls @ 135378469us\n",
      "\n",
      "[00:20:46] CommitModel: 0.000122s, 100 calls @ 122us\n",
      "\n",
      "[00:20:46] ======== Monitor (0): HistUpdater ========\n",
      "[00:20:46] BuildHistogram: 44.9213s, 190 calls @ 44921259us\n",
      "\n",
      "[00:20:46] EvaluateSplits: 52.8257s, 290 calls @ 52825748us\n",
      "\n",
      "[00:20:46] InitData: 2.70716s, 100 calls @ 2707155us\n",
      "\n",
      "[00:20:46] InitRoot: 43.2369s, 100 calls @ 43236901us\n",
      "\n",
      "[00:20:46] LeafPartition: 5.1e-05s, 100 calls @ 51us\n",
      "\n",
      "[00:20:46] UpdatePosition: 2.30934s, 200 calls @ 2309345us\n",
      "\n",
      "[00:20:46] UpdatePredictionCache: 0.595129s, 100 calls @ 595129us\n",
      "\n",
      "[00:20:46] UpdateTree: 134.749s, 100 calls @ 134749339us\n",
      "\n",
      "[Pipeline] ......... (step 4 of 4) Processing estimator, total= 2.5min\n",
      "[00:20:54] DEBUG: /workspace/src/gbm/gbtree.cc:130: Using tree method: 0\n"
     ]
    }
   ],
   "source": [
    "pipe = IMBPipeline(\n",
    "    steps = [\n",
    "        ('vectorizer', text_vect),\n",
    "        ('sampling', RandomOverSampler(random_state=42,sampling_strategy='minority')),\n",
    "        ('scaling', MaxAbsScaler()),\n",
    "        ('estimator', XGBClassifier(\n",
    "            random_state = 42,\n",
    "            eval_metric = 'aucpr',\n",
    "            verbosity = 3,\n",
    "            # device = 'cuda',\n",
    "            # tree_method = 'hist'\n",
    "            ))\n",
    "    ],\n",
    "    verbose = True\n",
    "    )\n",
    "\n",
    "print('Training ...')\n",
    "pipe_trained = pipe.fit(X_train, y_train)\n",
    "\n",
    "y_pred = pipe_trained.predict(X_test)\n",
    "y_pred_proba = pipe_trained.predict_proba(X_test)"
   ]
  },
  {
   "cell_type": "code",
   "execution_count": 43,
   "metadata": {},
   "outputs": [],
   "source": [
    "df_classification_report = get_classification_report(y_test, y_pred)"
   ]
  },
  {
   "cell_type": "code",
   "execution_count": 44,
   "metadata": {},
   "outputs": [
    {
     "data": {
      "text/plain": [
       "4160    0\n",
       "2883    0\n",
       "2933    0\n",
       "4210    0\n",
       "24      1\n",
       "       ..\n",
       "3227    0\n",
       "1283    0\n",
       "629     0\n",
       "2996    0\n",
       "1923    1\n",
       "Name: Polarity, Length: 95, dtype: int64"
      ]
     },
     "execution_count": 44,
     "metadata": {},
     "output_type": "execute_result"
    }
   ],
   "source": [
    "y_test"
   ]
  },
  {
   "cell_type": "code",
   "execution_count": 45,
   "metadata": {},
   "outputs": [
    {
     "data": {
      "text/plain": [
       "array([0, 0, 0, 0, 1, 0, 0, 0, 0, 0, 0, 1, 0, 0, 0, 0, 0, 0, 0, 0, 0, 0,\n",
       "       0, 0, 0, 0, 1, 0, 0, 0, 0, 0, 1, 0, 0, 0, 0, 0, 0, 1, 0, 0, 0, 0,\n",
       "       0, 0, 0, 0, 0, 0, 0, 0, 0, 0, 0, 0, 0, 1, 0, 1, 0, 0, 0, 0, 0, 0,\n",
       "       0, 0, 0, 0, 0, 0, 0, 0, 0, 0, 0, 0, 0, 0, 0, 0, 0, 0, 0, 0, 0, 0,\n",
       "       0, 0, 0, 0, 0, 0, 1])"
      ]
     },
     "execution_count": 45,
     "metadata": {},
     "output_type": "execute_result"
    }
   ],
   "source": [
    "y_test.to_numpy()"
   ]
  },
  {
   "cell_type": "code",
   "execution_count": 46,
   "metadata": {},
   "outputs": [
    {
     "data": {
      "text/plain": [
       "array([0, 0, 0, 0, 0, 0, 0, 0, 0, 0, 0, 0, 0, 0, 0, 0, 0, 0, 0, 0, 0, 0,\n",
       "       0, 0, 0, 0, 0, 0, 0, 0, 0, 0, 0, 0, 0, 0, 0, 0, 0, 0, 0, 0, 0, 0,\n",
       "       1, 0, 0, 0, 0, 0, 0, 0, 0, 0, 0, 0, 0, 0, 0, 0, 1, 0, 0, 0, 0, 0,\n",
       "       0, 0, 0, 0, 0, 0, 0, 0, 0, 0, 0, 0, 0, 0, 0, 0, 0, 0, 0, 0, 0, 0,\n",
       "       0, 0, 0, 0, 0, 0, 0])"
      ]
     },
     "execution_count": 46,
     "metadata": {},
     "output_type": "execute_result"
    }
   ],
   "source": [
    "y_pred"
   ]
  },
  {
   "cell_type": "code",
   "execution_count": 47,
   "metadata": {},
   "outputs": [
    {
     "data": {
      "text/html": [
       "<div>\n",
       "<style scoped>\n",
       "    .dataframe tbody tr th:only-of-type {\n",
       "        vertical-align: middle;\n",
       "    }\n",
       "\n",
       "    .dataframe tbody tr th {\n",
       "        vertical-align: top;\n",
       "    }\n",
       "\n",
       "    .dataframe thead th {\n",
       "        text-align: right;\n",
       "    }\n",
       "</style>\n",
       "<table border=\"1\" class=\"dataframe\">\n",
       "  <thead>\n",
       "    <tr style=\"text-align: right;\">\n",
       "      <th></th>\n",
       "      <th>precision</th>\n",
       "      <th>recall</th>\n",
       "      <th>f1-score</th>\n",
       "      <th>support</th>\n",
       "    </tr>\n",
       "  </thead>\n",
       "  <tbody>\n",
       "    <tr>\n",
       "      <th>0</th>\n",
       "      <td>0.913978</td>\n",
       "      <td>0.977011</td>\n",
       "      <td>0.944444</td>\n",
       "      <td>87.000000</td>\n",
       "    </tr>\n",
       "    <tr>\n",
       "      <th>accuracy</th>\n",
       "      <td>0.894737</td>\n",
       "      <td>0.894737</td>\n",
       "      <td>0.894737</td>\n",
       "      <td>0.894737</td>\n",
       "    </tr>\n",
       "    <tr>\n",
       "      <th>weighted avg</th>\n",
       "      <td>0.837012</td>\n",
       "      <td>0.894737</td>\n",
       "      <td>0.864912</td>\n",
       "      <td>95.000000</td>\n",
       "    </tr>\n",
       "    <tr>\n",
       "      <th>macro avg</th>\n",
       "      <td>0.456989</td>\n",
       "      <td>0.488506</td>\n",
       "      <td>0.472222</td>\n",
       "      <td>95.000000</td>\n",
       "    </tr>\n",
       "    <tr>\n",
       "      <th>1</th>\n",
       "      <td>0.000000</td>\n",
       "      <td>0.000000</td>\n",
       "      <td>0.000000</td>\n",
       "      <td>8.000000</td>\n",
       "    </tr>\n",
       "  </tbody>\n",
       "</table>\n",
       "</div>"
      ],
      "text/plain": [
       "              precision    recall  f1-score    support\n",
       "0              0.913978  0.977011  0.944444  87.000000\n",
       "accuracy       0.894737  0.894737  0.894737   0.894737\n",
       "weighted avg   0.837012  0.894737  0.864912  95.000000\n",
       "macro avg      0.456989  0.488506  0.472222  95.000000\n",
       "1              0.000000  0.000000  0.000000   8.000000"
      ]
     },
     "execution_count": 47,
     "metadata": {},
     "output_type": "execute_result"
    }
   ],
   "source": [
    "df_classification_report"
   ]
  },
  {
   "cell_type": "code",
   "execution_count": null,
   "metadata": {},
   "outputs": [],
   "source": []
  },
  {
   "cell_type": "code",
   "execution_count": null,
   "metadata": {},
   "outputs": [],
   "source": []
  }
 ],
 "metadata": {
  "kernelspec": {
   "display_name": "env-stance-pred",
   "language": "python",
   "name": "python3"
  },
  "language_info": {
   "codemirror_mode": {
    "name": "ipython",
    "version": 3
   },
   "file_extension": ".py",
   "mimetype": "text/x-python",
   "name": "python",
   "nbconvert_exporter": "python",
   "pygments_lexer": "ipython3",
   "version": "3.12.2"
  }
 },
 "nbformat": 4,
 "nbformat_minor": 2
}
