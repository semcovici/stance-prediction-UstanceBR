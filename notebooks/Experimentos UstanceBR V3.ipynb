{
 "cells": [
  {
   "cell_type": "code",
   "execution_count": 1,
   "metadata": {},
   "outputs": [],
   "source": [
    "# -*- coding: utf-8 -*-\n",
    "\n",
    "# Bibliotecas padrão\n",
    "import os\n",
    "import sys\n",
    "import warnings\n",
    "from collections import Counter\n",
    "\n",
    "# Bibliotecas de terceiros\n",
    "import pandas as pd\n",
    "from joblib import dump, load\n",
    "from sklearn.feature_extraction.text import TfidfVectorizer\n",
    "from sklearn.feature_selection import SelectKBest\n",
    "from sklearn.linear_model import LogisticRegression\n",
    "from sklearn.metrics import classification_report\n",
    "from sklearn.model_selection import (\n",
    "    GridSearchCV,\n",
    "    StratifiedKFold,\n",
    "    cross_val_predict,\n",
    "    cross_validate,\n",
    "    train_test_split\n",
    ")\n",
    "from sklearn.pipeline import Pipeline\n",
    "\n",
    "\n",
    "# Imports locais\n",
    "sys.path.append('../src/')\n",
    "from utils import list_to_sent\n",
    "from models.classification_methods import create_test_results_df\n",
    "from data.lambdas import int_to_label, label_to_int\n",
    "\n",
    "# Configurações globais\n",
    "warnings.filterwarnings('ignore')\n"
   ]
  },
  {
   "cell_type": "code",
   "execution_count": 2,
   "metadata": {},
   "outputs": [],
   "source": [
    "reports_path = '../reports/'\n",
    "\n",
    "\n",
    "# test_results_path = f\"{reports_path}test_results/{estimator_name}_{target}_{exp_name}_test_results.csv\"\n",
    "# train_results_path = f\"{reports_path}train_results/{estimator_name}_{target}_{exp_name}_train_results.csv\"\n",
    "# val_results_path = f\"{reports_path}val_results/{estimator_name}_{target}_{exp_name}_val_results.csv\""
   ]
  },
  {
   "cell_type": "markdown",
   "metadata": {
    "id": "AZcUeFUSgKMY"
   },
   "source": [
    "# Conjuntos de dados\n",
    "\n",
    "Primeiro, faremos a leitura dos conjuntos de dados."
   ]
  },
  {
   "cell_type": "code",
   "execution_count": 3,
   "metadata": {
    "colab": {
     "base_uri": "https://localhost:8080/"
    },
    "executionInfo": {
     "elapsed": 590,
     "status": "ok",
     "timestamp": 1722867409579,
     "user": {
      "displayName": "Laís Carraro Leme Cavalheiro",
      "userId": "06529928189687970892"
     },
     "user_tz": 180
    },
    "id": "iemUkTBUQ7Tx",
    "outputId": "d7567ab5-fb66-4260-c29a-c892ccfdadd8"
   },
   "outputs": [
    {
     "data": {
      "text/plain": [
       "['Experimentos UstanceBR V3.ipynb',\n",
       " '0.1-analysis_users.ipynb',\n",
       " 'old',\n",
       " '0.2-comparison_top_mentioned_timelines.ipynb',\n",
       " '0.1-analysis_top_mentioned_timelines.ipynb',\n",
       " '3.results_analysis.ipynb',\n",
       " '0.analysis_relat.ipynb',\n",
       " 'pablocosta',\n",
       " '0.2-analysis_coments_about_target.ipynb',\n",
       " 'relevant_terms.ipynb']"
      ]
     },
     "execution_count": 3,
     "metadata": {},
     "output_type": "execute_result"
    }
   ],
   "source": [
    "os.listdir()"
   ]
  },
  {
   "cell_type": "markdown",
   "metadata": {
    "id": "rC5lfNCpYFiP"
   },
   "source": [
    "\n",
    "\n",
    "Primeiro, leremos todos os dados textuais, na aba \"Texto\"."
   ]
  },
  {
   "cell_type": "code",
   "execution_count": 4,
   "metadata": {},
   "outputs": [],
   "source": [
    "data_dir = '../data/raw'"
   ]
  },
  {
   "cell_type": "code",
   "execution_count": 5,
   "metadata": {
    "executionInfo": {
     "elapsed": 7944,
     "status": "ok",
     "timestamp": 1722867430348,
     "user": {
      "displayName": "Laís Carraro Leme Cavalheiro",
      "userId": "06529928189687970892"
     },
     "user_tz": 180
    },
    "id": "VWjA_9JLU-7S"
   },
   "outputs": [],
   "source": [
    "dir = f'{data_dir}/Texto_v3/'\n",
    "arquivos = os.listdir(dir)\n",
    "topicos = list(set(['_'.join(i.split('_')[1:3]) for i in arquivos]))\n",
    "texto = {\n",
    "    topico: pd.read_csv(dir+arquivo, sep=';')\n",
    "    for topico, arquivo in zip(sorted(topicos), sorted(arquivos))\n",
    "}"
   ]
  },
  {
   "cell_type": "code",
   "execution_count": 6,
   "metadata": {},
   "outputs": [
    {
     "data": {
      "text/plain": [
       "['r3_lu_train_statements.csv',\n",
       " 'r3_gl_train_statements.csv',\n",
       " 'r3_gl_test_statements.csv',\n",
       " 'r3_bo_test_statements.csv',\n",
       " 'r3_cl_train_statements.csv',\n",
       " 'r3_co_test_statements.csv',\n",
       " 'r3_ig_train_statements.csv',\n",
       " 'r3_bo_train_statements.csv',\n",
       " 'r3_lu_test_statements.csv',\n",
       " 'r3_ig_test_statements.csv',\n",
       " 'r3_cl_test_statements.csv',\n",
       " 'r3_co_train_statements.csv']"
      ]
     },
     "execution_count": 6,
     "metadata": {},
     "output_type": "execute_result"
    }
   ],
   "source": [
    "arquivos"
   ]
  },
  {
   "cell_type": "markdown",
   "metadata": {
    "id": "_ugowOodj9MB"
   },
   "source": [
    "Temos o texto do tweet, a polaridade (contra ou a favor), *o que é factual?*, o id do usuário, o id do tweet, *o que é tweet seq?*, as POS tags, lista de menções e substantivos."
   ]
  },
  {
   "cell_type": "code",
   "execution_count": 7,
   "metadata": {
    "executionInfo": {
     "elapsed": 313,
     "status": "ok",
     "timestamp": 1722867433341,
     "user": {
      "displayName": "Laís Carraro Leme Cavalheiro",
      "userId": "06529928189687970892"
     },
     "user_tz": 180
    },
    "id": "wpq1ztRdcz5r"
   },
   "outputs": [],
   "source": [
    "for t in texto:\n",
    "  texto[t]['texto_id'] = texto[t].index"
   ]
  },
  {
   "cell_type": "code",
   "execution_count": 8,
   "metadata": {
    "colab": {
     "base_uri": "https://localhost:8080/"
    },
    "executionInfo": {
     "elapsed": 297,
     "status": "ok",
     "timestamp": 1722869531233,
     "user": {
      "displayName": "Laís Carraro Leme Cavalheiro",
      "userId": "06529928189687970892"
     },
     "user_tz": 180
    },
    "id": "iBAVLj3iECED",
    "outputId": "f25c4fe9-dcf5-4591-d0d0-36a79ed760c2"
   },
   "outputs": [
    {
     "name": "stdout",
     "output_type": "stream",
     "text": [
      "ig_train\n",
      "Polarity\n",
      "against    1015\n",
      "for         781\n",
      "Name: count, dtype: int64\n",
      "\n",
      "bo_train\n",
      "Polarity\n",
      "against    487\n",
      "for         76\n",
      "Name: count, dtype: int64\n",
      "\n",
      "cl_train\n",
      "Polarity\n",
      "against    865\n",
      "for        856\n",
      "Name: count, dtype: int64\n",
      "\n",
      "gl_train\n",
      "Polarity\n",
      "for        730\n",
      "against    501\n",
      "Name: count, dtype: int64\n",
      "\n",
      "lu_train\n",
      "Polarity\n",
      "against    427\n",
      "for        389\n",
      "Name: count, dtype: int64\n",
      "\n",
      "co_train\n",
      "Polarity\n",
      "for        1257\n",
      "against    1062\n",
      "Name: count, dtype: int64\n",
      "\n"
     ]
    }
   ],
   "source": [
    "for t in [topico for topico in topicos if 'test' not in topico]:\n",
    "  print(t)\n",
    "  print(texto[t].Polarity.value_counts())\n",
    "  print()"
   ]
  },
  {
   "cell_type": "markdown",
   "metadata": {
    "id": "Wp1Eb_95YVGJ"
   },
   "source": [
    "Agora, leremos os conjuntos de dados de menções."
   ]
  },
  {
   "cell_type": "code",
   "execution_count": 9,
   "metadata": {
    "executionInfo": {
     "elapsed": 21697,
     "status": "ok",
     "timestamp": 1722867462919,
     "user": {
      "displayName": "Laís Carraro Leme Cavalheiro",
      "userId": "06529928189687970892"
     },
     "user_tz": 180
    },
    "id": "cVnJuvt7XS1k"
   },
   "outputs": [],
   "source": [
    "dir = f'{data_dir}/Mencoes/'\n",
    "arquivos = os.listdir(dir)\n",
    "mencoes = {\n",
    "    topico: pd.merge(\n",
    "        pd.read_excel(dir+arquivo),\n",
    "        texto[topico][['User_ID', 'Polarity', 'texto_id']],\n",
    "        on='User_ID', how='inner'\n",
    "    )\n",
    "    for topico, arquivo in zip(sorted(topicos), sorted(arquivos*2))\n",
    "}"
   ]
  },
  {
   "cell_type": "code",
   "execution_count": 10,
   "metadata": {
    "colab": {
     "base_uri": "https://localhost:8080/",
     "height": 423
    },
    "executionInfo": {
     "elapsed": 24,
     "status": "ok",
     "timestamp": 1722867462920,
     "user": {
      "displayName": "Laís Carraro Leme Cavalheiro",
      "userId": "06529928189687970892"
     },
     "user_tz": 180
    },
    "id": "-VNHJD4EHYDy",
    "outputId": "de66a3c7-ea8f-44b1-b8a3-8270a1f80891"
   },
   "outputs": [
    {
     "data": {
      "text/html": [
       "<div>\n",
       "<style scoped>\n",
       "    .dataframe tbody tr th:only-of-type {\n",
       "        vertical-align: middle;\n",
       "    }\n",
       "\n",
       "    .dataframe tbody tr th {\n",
       "        vertical-align: top;\n",
       "    }\n",
       "\n",
       "    .dataframe thead th {\n",
       "        text-align: right;\n",
       "    }\n",
       "</style>\n",
       "<table border=\"1\" class=\"dataframe\">\n",
       "  <thead>\n",
       "    <tr style=\"text-align: right;\">\n",
       "      <th></th>\n",
       "      <th>User_ID</th>\n",
       "      <th>N_Contacts</th>\n",
       "      <th>Timeline</th>\n",
       "      <th>Anon_Contacts</th>\n",
       "      <th>Polarity</th>\n",
       "      <th>texto_id</th>\n",
       "    </tr>\n",
       "  </thead>\n",
       "  <tbody>\n",
       "    <tr>\n",
       "      <th>4</th>\n",
       "      <td>r2_bo_18</td>\n",
       "      <td>123</td>\n",
       "      <td>['02-Jun-2019 17:27', '03-Jun-2019 00:57', '03...</td>\n",
       "      <td>[5795.1, 2929.0, 4890.4, 1400.6, 4373.4, 4527....</td>\n",
       "      <td>against</td>\n",
       "      <td>0</td>\n",
       "    </tr>\n",
       "    <tr>\n",
       "      <th>15</th>\n",
       "      <td>r2_bo_69</td>\n",
       "      <td>196</td>\n",
       "      <td>['24-Mar-2020 16:12', '24-Mar-2020 16:30', '24...</td>\n",
       "      <td>[5157.9, 4230.3, 4952.6, 2275.5, 5676.6, 454.0...</td>\n",
       "      <td>against</td>\n",
       "      <td>1</td>\n",
       "    </tr>\n",
       "    <tr>\n",
       "      <th>20</th>\n",
       "      <td>r2_bo_80</td>\n",
       "      <td>2</td>\n",
       "      <td>['29-Jun-2016 19:42', '29-Jun-2016 19:47', '30...</td>\n",
       "      <td>[123.9, 2003.2]</td>\n",
       "      <td>against</td>\n",
       "      <td>2</td>\n",
       "    </tr>\n",
       "    <tr>\n",
       "      <th>11</th>\n",
       "      <td>r2_bo_57</td>\n",
       "      <td>40</td>\n",
       "      <td>['24-May-2019 16:57', '24-May-2019 17:01', '24...</td>\n",
       "      <td>[5691.2, 3192.0, 2004.6, 1270.3, 5522.3, 1257....</td>\n",
       "      <td>against</td>\n",
       "      <td>3</td>\n",
       "    </tr>\n",
       "    <tr>\n",
       "      <th>16</th>\n",
       "      <td>r2_bo_71</td>\n",
       "      <td>18</td>\n",
       "      <td>['23-Feb-2019 01:53', '23-Feb-2019 01:54', '23...</td>\n",
       "      <td>[2644.6, 2402.9, 4504.2, 3876.9, 5949.7, 306.0...</td>\n",
       "      <td>against</td>\n",
       "      <td>4</td>\n",
       "    </tr>\n",
       "    <tr>\n",
       "      <th>...</th>\n",
       "      <td>...</td>\n",
       "      <td>...</td>\n",
       "      <td>...</td>\n",
       "      <td>...</td>\n",
       "      <td>...</td>\n",
       "      <td>...</td>\n",
       "    </tr>\n",
       "    <tr>\n",
       "      <th>39</th>\n",
       "      <td>r2_bo_154</td>\n",
       "      <td>76</td>\n",
       "      <td>['25-Apr-2017 15:07', '02-May-2017 22:29', '03...</td>\n",
       "      <td>[4470.4, 665.5, 1946.3, 1840.5, 2774.5, 5362.3...</td>\n",
       "      <td>against</td>\n",
       "      <td>183</td>\n",
       "    </tr>\n",
       "    <tr>\n",
       "      <th>60</th>\n",
       "      <td>r2_bo_248</td>\n",
       "      <td>43</td>\n",
       "      <td>['11-Jun-2018 00:54', '11-Jun-2018 00:57', '11...</td>\n",
       "      <td>[5381.7, 1698.7, 156.8, 2102.5, 2509.7, 2203.8...</td>\n",
       "      <td>against</td>\n",
       "      <td>184</td>\n",
       "    </tr>\n",
       "    <tr>\n",
       "      <th>141</th>\n",
       "      <td>r2_bo_573</td>\n",
       "      <td>38</td>\n",
       "      <td>['29-Nov-2016 21:41', '29-Nov-2016 21:43', '29...</td>\n",
       "      <td>[754.7, 2265.1, 1318.8, 4647.6, 4464.0, 2276.8...</td>\n",
       "      <td>for</td>\n",
       "      <td>185</td>\n",
       "    </tr>\n",
       "    <tr>\n",
       "      <th>145</th>\n",
       "      <td>r2_bo_591</td>\n",
       "      <td>43</td>\n",
       "      <td>['14-Sep-2017 04:05', '14-Sep-2017 04:07', '14...</td>\n",
       "      <td>[754.7, 1311.5, 2777.4, 953.7, 2155.9, 1904.1,...</td>\n",
       "      <td>against</td>\n",
       "      <td>186</td>\n",
       "    </tr>\n",
       "    <tr>\n",
       "      <th>128</th>\n",
       "      <td>r2_bo_532</td>\n",
       "      <td>24</td>\n",
       "      <td>['23-Aug-2019 04:12', '23-Aug-2019 12:01', '23...</td>\n",
       "      <td>[5315.8, 1719.2, 665.5, 1019.1, 4694.5, 466.2,...</td>\n",
       "      <td>against</td>\n",
       "      <td>187</td>\n",
       "    </tr>\n",
       "  </tbody>\n",
       "</table>\n",
       "<p>188 rows × 6 columns</p>\n",
       "</div>"
      ],
      "text/plain": [
       "       User_ID  N_Contacts                                           Timeline  \\\n",
       "4     r2_bo_18         123  ['02-Jun-2019 17:27', '03-Jun-2019 00:57', '03...   \n",
       "15    r2_bo_69         196  ['24-Mar-2020 16:12', '24-Mar-2020 16:30', '24...   \n",
       "20    r2_bo_80           2  ['29-Jun-2016 19:42', '29-Jun-2016 19:47', '30...   \n",
       "11    r2_bo_57          40  ['24-May-2019 16:57', '24-May-2019 17:01', '24...   \n",
       "16    r2_bo_71          18  ['23-Feb-2019 01:53', '23-Feb-2019 01:54', '23...   \n",
       "..         ...         ...                                                ...   \n",
       "39   r2_bo_154          76  ['25-Apr-2017 15:07', '02-May-2017 22:29', '03...   \n",
       "60   r2_bo_248          43  ['11-Jun-2018 00:54', '11-Jun-2018 00:57', '11...   \n",
       "141  r2_bo_573          38  ['29-Nov-2016 21:41', '29-Nov-2016 21:43', '29...   \n",
       "145  r2_bo_591          43  ['14-Sep-2017 04:05', '14-Sep-2017 04:07', '14...   \n",
       "128  r2_bo_532          24  ['23-Aug-2019 04:12', '23-Aug-2019 12:01', '23...   \n",
       "\n",
       "                                         Anon_Contacts Polarity  texto_id  \n",
       "4    [5795.1, 2929.0, 4890.4, 1400.6, 4373.4, 4527....  against         0  \n",
       "15   [5157.9, 4230.3, 4952.6, 2275.5, 5676.6, 454.0...  against         1  \n",
       "20                                     [123.9, 2003.2]  against         2  \n",
       "11   [5691.2, 3192.0, 2004.6, 1270.3, 5522.3, 1257....  against         3  \n",
       "16   [2644.6, 2402.9, 4504.2, 3876.9, 5949.7, 306.0...  against         4  \n",
       "..                                                 ...      ...       ...  \n",
       "39   [4470.4, 665.5, 1946.3, 1840.5, 2774.5, 5362.3...  against       183  \n",
       "60   [5381.7, 1698.7, 156.8, 2102.5, 2509.7, 2203.8...  against       184  \n",
       "141  [754.7, 2265.1, 1318.8, 4647.6, 4464.0, 2276.8...      for       185  \n",
       "145  [754.7, 1311.5, 2777.4, 953.7, 2155.9, 1904.1,...  against       186  \n",
       "128  [5315.8, 1719.2, 665.5, 1019.1, 4694.5, 466.2,...  against       187  \n",
       "\n",
       "[188 rows x 6 columns]"
      ]
     },
     "execution_count": 10,
     "metadata": {},
     "output_type": "execute_result"
    }
   ],
   "source": [
    "mencoes['bo_test'].sort_values(by='texto_id')"
   ]
  },
  {
   "cell_type": "markdown",
   "metadata": {
    "id": "aaa069OVkSn5"
   },
   "source": [
    "Temos o id do usuário, o número de contatos, sua timeline e os contatos."
   ]
  },
  {
   "cell_type": "markdown",
   "metadata": {
    "id": "vbwXgDeKYY__"
   },
   "source": [
    "Por fim, os dados de rede."
   ]
  },
  {
   "cell_type": "code",
   "execution_count": 11,
   "metadata": {
    "executionInfo": {
     "elapsed": 16324,
     "status": "ok",
     "timestamp": 1722869832658,
     "user": {
      "displayName": "Laís Carraro Leme Cavalheiro",
      "userId": "06529928189687970892"
     },
     "user_tz": 180
    },
    "id": "UU1GEhceXy5M"
   },
   "outputs": [],
   "source": [
    "dir = f'{data_dir}/Rede/'\n",
    "arquivos = os.listdir(dir)\n",
    "rede = {\n",
    "    topico: pd.merge(\n",
    "        pd.read_excel(dir+arquivo),\n",
    "        texto[topico][['User_ID', 'Polarity', 'texto_id']],\n",
    "        on='User_ID', how='inner'\n",
    "    )\n",
    "    for topico, arquivo in zip(sorted(topicos), sorted(arquivos*2))\n",
    "}"
   ]
  },
  {
   "cell_type": "markdown",
   "metadata": {
    "id": "JznpRHsnkYz3"
   },
   "source": [
    "Temos o id do usuário, o número de status, amigos, seguidores, e a lista de amigos e de seguidores."
   ]
  },
  {
   "cell_type": "code",
   "execution_count": 12,
   "metadata": {
    "colab": {
     "base_uri": "https://localhost:8080/"
    },
    "executionInfo": {
     "elapsed": 24,
     "status": "ok",
     "timestamp": 1711045706172,
     "user": {
      "displayName": "Laís Carraro Leme Cavalheiro",
      "userId": "06529928189687970892"
     },
     "user_tz": 180
    },
    "id": "eMe7RjxdX-Ob",
    "outputId": "7de4797f-231a-4fb8-aa15-1c948c0db58e"
   },
   "outputs": [
    {
     "data": {
      "text/html": [
       "<div>\n",
       "<style scoped>\n",
       "    .dataframe tbody tr th:only-of-type {\n",
       "        vertical-align: middle;\n",
       "    }\n",
       "\n",
       "    .dataframe tbody tr th {\n",
       "        vertical-align: top;\n",
       "    }\n",
       "\n",
       "    .dataframe thead th {\n",
       "        text-align: right;\n",
       "    }\n",
       "</style>\n",
       "<table border=\"1\" class=\"dataframe\">\n",
       "  <thead>\n",
       "    <tr style=\"text-align: right;\">\n",
       "      <th></th>\n",
       "      <th>User_ID</th>\n",
       "      <th>Statuses</th>\n",
       "      <th>N_Friends</th>\n",
       "      <th>N_Followers</th>\n",
       "      <th>Friends_Anon</th>\n",
       "      <th>Followers_Anon</th>\n",
       "      <th>Polarity</th>\n",
       "      <th>texto_id</th>\n",
       "    </tr>\n",
       "  </thead>\n",
       "  <tbody>\n",
       "    <tr>\n",
       "      <th>0</th>\n",
       "      <td>r2_bo_1</td>\n",
       "      <td>1387</td>\n",
       "      <td>1986</td>\n",
       "      <td>438</td>\n",
       "      <td>[3930382, 2702214, 2136127, 3959950, 1724473, ...</td>\n",
       "      <td>[3917523, 3008888, 2702214, 4059653, 2834105, ...</td>\n",
       "      <td>against</td>\n",
       "      <td>15</td>\n",
       "    </tr>\n",
       "    <tr>\n",
       "      <th>1</th>\n",
       "      <td>r2_bo_2</td>\n",
       "      <td>6042</td>\n",
       "      <td>494</td>\n",
       "      <td>202</td>\n",
       "      <td>[3789053, 2319304, 2861841, 834345, 3569043, 5...</td>\n",
       "      <td>[507072, 4124188, 967649, 2584069, 1675733, 43...</td>\n",
       "      <td>against</td>\n",
       "      <td>191</td>\n",
       "    </tr>\n",
       "    <tr>\n",
       "      <th>2</th>\n",
       "      <td>r2_bo_5</td>\n",
       "      <td>8187</td>\n",
       "      <td>1447</td>\n",
       "      <td>261</td>\n",
       "      <td>[3503961, 2556472, 2386283, 1625881, 4413129, ...</td>\n",
       "      <td>[2612737, 2684337, 1750113, 3197553, 2098010, ...</td>\n",
       "      <td>for</td>\n",
       "      <td>110</td>\n",
       "    </tr>\n",
       "    <tr>\n",
       "      <th>3</th>\n",
       "      <td>r2_bo_6</td>\n",
       "      <td>8134</td>\n",
       "      <td>505</td>\n",
       "      <td>387</td>\n",
       "      <td>[3995969, 4126043, 3336755, 719969, 1010094, 2...</td>\n",
       "      <td>[4126043, 719969, 3216265, 2646055, 3411718, 3...</td>\n",
       "      <td>against</td>\n",
       "      <td>525</td>\n",
       "    </tr>\n",
       "    <tr>\n",
       "      <th>4</th>\n",
       "      <td>r2_bo_7</td>\n",
       "      <td>140060</td>\n",
       "      <td>1559</td>\n",
       "      <td>4123</td>\n",
       "      <td>[3582639, 3817031, 2094229, 2907984, 2713010, ...</td>\n",
       "      <td>[724711, 3582639, 4378687, 2907984, 2713010, 4...</td>\n",
       "      <td>against</td>\n",
       "      <td>198</td>\n",
       "    </tr>\n",
       "  </tbody>\n",
       "</table>\n",
       "</div>"
      ],
      "text/plain": [
       "   User_ID  Statuses  N_Friends  N_Followers  \\\n",
       "0  r2_bo_1      1387       1986          438   \n",
       "1  r2_bo_2      6042        494          202   \n",
       "2  r2_bo_5      8187       1447          261   \n",
       "3  r2_bo_6      8134        505          387   \n",
       "4  r2_bo_7    140060       1559         4123   \n",
       "\n",
       "                                        Friends_Anon  \\\n",
       "0  [3930382, 2702214, 2136127, 3959950, 1724473, ...   \n",
       "1  [3789053, 2319304, 2861841, 834345, 3569043, 5...   \n",
       "2  [3503961, 2556472, 2386283, 1625881, 4413129, ...   \n",
       "3  [3995969, 4126043, 3336755, 719969, 1010094, 2...   \n",
       "4  [3582639, 3817031, 2094229, 2907984, 2713010, ...   \n",
       "\n",
       "                                      Followers_Anon Polarity  texto_id  \n",
       "0  [3917523, 3008888, 2702214, 4059653, 2834105, ...  against        15  \n",
       "1  [507072, 4124188, 967649, 2584069, 1675733, 43...  against       191  \n",
       "2  [2612737, 2684337, 1750113, 3197553, 2098010, ...      for       110  \n",
       "3  [4126043, 719969, 3216265, 2646055, 3411718, 3...  against       525  \n",
       "4  [724711, 3582639, 4378687, 2907984, 2713010, 4...  against       198  "
      ]
     },
     "execution_count": 12,
     "metadata": {},
     "output_type": "execute_result"
    }
   ],
   "source": [
    "rede['bo_train'].head()"
   ]
  },
  {
   "cell_type": "markdown",
   "metadata": {
    "id": "bLfc8Wn4ldg5"
   },
   "source": [
    "# Dados de rede\n",
    "\n",
    "Primeiro, vamos trabalhar com o conjunto de dados de rede."
   ]
  },
  {
   "cell_type": "markdown",
   "metadata": {
    "id": "eUBOOtIAOAzA"
   },
   "source": [
    "## Preparação do conjunto de dados\n",
    "\n",
    "Vamos precisar juntar as listas numa \"frase\" para podermos criar o \"Bag-of-friends\" e \"Bag-of-followers\"."
   ]
  },
  {
   "cell_type": "code",
   "execution_count": 13,
   "metadata": {
    "executionInfo": {
     "elapsed": 3152,
     "status": "ok",
     "timestamp": 1722869914605,
     "user": {
      "displayName": "Laís Carraro Leme Cavalheiro",
      "userId": "06529928189687970892"
     },
     "user_tz": 180
    },
    "id": "mFeamE3Rli5W"
   },
   "outputs": [],
   "source": [
    "for k in rede.keys():\n",
    "  rede[k].Friends_Anon = rede[k].Friends_Anon.apply(list_to_sent)\n",
    "  rede[k].Followers_Anon = rede[k].Followers_Anon.apply(list_to_sent)"
   ]
  },
  {
   "cell_type": "code",
   "execution_count": 14,
   "metadata": {
    "colab": {
     "base_uri": "https://localhost:8080/",
     "height": 206
    },
    "executionInfo": {
     "elapsed": 13,
     "status": "ok",
     "timestamp": 1722869881498,
     "user": {
      "displayName": "Laís Carraro Leme Cavalheiro",
      "userId": "06529928189687970892"
     },
     "user_tz": 180
    },
    "id": "VVMSb6tsmxnG",
    "outputId": "fa100c50-8a6d-4537-ad97-331df5a0da7e"
   },
   "outputs": [
    {
     "data": {
      "text/html": [
       "<div>\n",
       "<style scoped>\n",
       "    .dataframe tbody tr th:only-of-type {\n",
       "        vertical-align: middle;\n",
       "    }\n",
       "\n",
       "    .dataframe tbody tr th {\n",
       "        vertical-align: top;\n",
       "    }\n",
       "\n",
       "    .dataframe thead th {\n",
       "        text-align: right;\n",
       "    }\n",
       "</style>\n",
       "<table border=\"1\" class=\"dataframe\">\n",
       "  <thead>\n",
       "    <tr style=\"text-align: right;\">\n",
       "      <th></th>\n",
       "      <th>User_ID</th>\n",
       "      <th>Statuses</th>\n",
       "      <th>N_Friends</th>\n",
       "      <th>N_Followers</th>\n",
       "      <th>Friends_Anon</th>\n",
       "      <th>Followers_Anon</th>\n",
       "      <th>Polarity</th>\n",
       "      <th>texto_id</th>\n",
       "    </tr>\n",
       "  </thead>\n",
       "  <tbody>\n",
       "    <tr>\n",
       "      <th>0</th>\n",
       "      <td>r2_bo_3</td>\n",
       "      <td>12019</td>\n",
       "      <td>881</td>\n",
       "      <td>187</td>\n",
       "      <td>4047120 916068 3586417 2096367 1584057 2002837...</td>\n",
       "      <td>920686 19557 1060163 520948 4020305 2572839 22...</td>\n",
       "      <td>against</td>\n",
       "      <td>124</td>\n",
       "    </tr>\n",
       "    <tr>\n",
       "      <th>1</th>\n",
       "      <td>r2_bo_4</td>\n",
       "      <td>38342</td>\n",
       "      <td>6645</td>\n",
       "      <td>7735</td>\n",
       "      <td>230097 918724 1430184 1672828 3835582 4122868 ...</td>\n",
       "      <td>2085767 283735 230097 1173216 918724 1197457 4...</td>\n",
       "      <td>against</td>\n",
       "      <td>148</td>\n",
       "    </tr>\n",
       "    <tr>\n",
       "      <th>2</th>\n",
       "      <td>r2_bo_10</td>\n",
       "      <td>54066</td>\n",
       "      <td>690</td>\n",
       "      <td>1379</td>\n",
       "      <td>2040675 3300177 3668805 3257783 3593536 160273...</td>\n",
       "      <td>2334462 3967745 2040675 3528948 3903925 330017...</td>\n",
       "      <td>against</td>\n",
       "      <td>97</td>\n",
       "    </tr>\n",
       "    <tr>\n",
       "      <th>3</th>\n",
       "      <td>r2_bo_12</td>\n",
       "      <td>7369</td>\n",
       "      <td>499</td>\n",
       "      <td>500</td>\n",
       "      <td>1386614 843924 1676100 1837160 3739472 1986840...</td>\n",
       "      <td>2843532 1386614 157197 81339 843924 1555505 16...</td>\n",
       "      <td>for</td>\n",
       "      <td>108</td>\n",
       "    </tr>\n",
       "    <tr>\n",
       "      <th>4</th>\n",
       "      <td>r2_bo_18</td>\n",
       "      <td>71910</td>\n",
       "      <td>776</td>\n",
       "      <td>499</td>\n",
       "      <td>3139803 978571 831940 1576431 377871 310723 41...</td>\n",
       "      <td>3139803 1202535 4154262 2144382 4396019 117356...</td>\n",
       "      <td>against</td>\n",
       "      <td>0</td>\n",
       "    </tr>\n",
       "  </tbody>\n",
       "</table>\n",
       "</div>"
      ],
      "text/plain": [
       "    User_ID  Statuses  N_Friends  N_Followers  \\\n",
       "0   r2_bo_3     12019        881          187   \n",
       "1   r2_bo_4     38342       6645         7735   \n",
       "2  r2_bo_10     54066        690         1379   \n",
       "3  r2_bo_12      7369        499          500   \n",
       "4  r2_bo_18     71910        776          499   \n",
       "\n",
       "                                        Friends_Anon  \\\n",
       "0  4047120 916068 3586417 2096367 1584057 2002837...   \n",
       "1  230097 918724 1430184 1672828 3835582 4122868 ...   \n",
       "2  2040675 3300177 3668805 3257783 3593536 160273...   \n",
       "3  1386614 843924 1676100 1837160 3739472 1986840...   \n",
       "4  3139803 978571 831940 1576431 377871 310723 41...   \n",
       "\n",
       "                                      Followers_Anon Polarity  texto_id  \n",
       "0  920686 19557 1060163 520948 4020305 2572839 22...  against       124  \n",
       "1  2085767 283735 230097 1173216 918724 1197457 4...  against       148  \n",
       "2  2334462 3967745 2040675 3528948 3903925 330017...  against        97  \n",
       "3  2843532 1386614 157197 81339 843924 1555505 16...      for       108  \n",
       "4  3139803 1202535 4154262 2144382 4396019 117356...  against         0  "
      ]
     },
     "execution_count": 14,
     "metadata": {},
     "output_type": "execute_result"
    }
   ],
   "source": [
    "rede['bo_test'].head()"
   ]
  },
  {
   "cell_type": "markdown",
   "metadata": {
    "id": "Ql9A7bOROvEg"
   },
   "source": [
    "Agora, vamos ver se os conjuntos de dados estão balanceados."
   ]
  },
  {
   "cell_type": "code",
   "execution_count": 15,
   "metadata": {
    "executionInfo": {
     "elapsed": 299,
     "status": "ok",
     "timestamp": 1722869918285,
     "user": {
      "displayName": "Laís Carraro Leme Cavalheiro",
      "userId": "06529928189687970892"
     },
     "user_tz": 180
    },
    "id": "2QkxLDxHQuO9"
   },
   "outputs": [],
   "source": [
    "train_keys = [r for r in rede.keys() if 'test' not in r]\n",
    "test_keys = [r for r in rede.keys() if 'test' in r]"
   ]
  },
  {
   "cell_type": "code",
   "execution_count": 16,
   "metadata": {
    "colab": {
     "base_uri": "https://localhost:8080/"
    },
    "executionInfo": {
     "elapsed": 3,
     "status": "ok",
     "timestamp": 1722869919813,
     "user": {
      "displayName": "Laís Carraro Leme Cavalheiro",
      "userId": "06529928189687970892"
     },
     "user_tz": 180
    },
    "id": "fTeyzD-DrCFM",
    "outputId": "52fccd87-bc6b-449a-bd39-5b0faeb0922b"
   },
   "outputs": [
    {
     "name": "stdout",
     "output_type": "stream",
     "text": [
      "bo_train\n",
      "Polarity\n",
      "against    0.865009\n",
      "for        0.134991\n",
      "Name: proportion, dtype: float64\n",
      "\n",
      "cl_train\n",
      "Polarity\n",
      "against    0.502615\n",
      "for        0.497385\n",
      "Name: proportion, dtype: float64\n",
      "\n",
      "co_train\n",
      "Polarity\n",
      "for        0.542044\n",
      "against    0.457956\n",
      "Name: proportion, dtype: float64\n",
      "\n",
      "gl_train\n",
      "Polarity\n",
      "for        0.593014\n",
      "against    0.406986\n",
      "Name: proportion, dtype: float64\n",
      "\n",
      "ig_train\n",
      "Polarity\n",
      "against    0.565145\n",
      "for        0.434855\n",
      "Name: proportion, dtype: float64\n",
      "\n",
      "lu_train\n",
      "Polarity\n",
      "against    0.523284\n",
      "for        0.476716\n",
      "Name: proportion, dtype: float64\n",
      "\n"
     ]
    }
   ],
   "source": [
    "X = dict()\n",
    "y = dict()\n",
    "\n",
    "X_teste = dict()\n",
    "y_teste = dict()\n",
    "\n",
    "for r in train_keys:\n",
    "  X[r] = rede[r][['Friends_Anon', 'Followers_Anon', 'texto_id']]\n",
    "  y[r] = rede[r]['Polarity']\n",
    "\n",
    "  print(r)\n",
    "  print(y[r].value_counts(normalize='True'))\n",
    "  print()\n",
    "\n",
    "for r in test_keys:\n",
    "  X_teste[r] = rede[r][['Friends_Anon', 'Followers_Anon', 'texto_id']]\n",
    "  y_teste[r] = rede[r]['Polarity']"
   ]
  },
  {
   "cell_type": "markdown",
   "metadata": {
    "id": "RWfQOh5MPaVL"
   },
   "source": [
    "Os conjuntos de dados são aproximadamente balanceados."
   ]
  },
  {
   "cell_type": "markdown",
   "metadata": {
    "id": "Ae5ozq3TONne"
   },
   "source": [
    "## Bag-of-Friends\n",
    "\n",
    "O primeiro teste que faremos é com o campo \"Friends_Anon\"."
   ]
  },
  {
   "cell_type": "code",
   "execution_count": 17,
   "metadata": {
    "executionInfo": {
     "elapsed": 425,
     "status": "ok",
     "timestamp": 1722869928218,
     "user": {
      "displayName": "Laís Carraro Leme Cavalheiro",
      "userId": "06529928189687970892"
     },
     "user_tz": 180
    },
    "id": "yMtID9UZrFUl"
   },
   "outputs": [],
   "source": [
    "x_train = dict()\n",
    "x_test = dict()\n",
    "y_train = dict()\n",
    "y_test = dict()\n",
    "\n",
    "for r in train_keys:\n",
    "  x_train[r], x_test[r], y_train[r], y_test[r] = train_test_split(\n",
    "      X[r], y[r], test_size=0.2, random_state=123, stratify=y[r]\n",
    "  )"
   ]
  },
  {
   "cell_type": "code",
   "execution_count": 18,
   "metadata": {
    "colab": {
     "base_uri": "https://localhost:8080/"
    },
    "executionInfo": {
     "elapsed": 18220,
     "status": "ok",
     "timestamp": 1722869988478,
     "user": {
      "displayName": "Laís Carraro Leme Cavalheiro",
      "userId": "06529928189687970892"
     },
     "user_tz": 180
    },
    "id": "Cy8abpINrYeZ",
    "outputId": "0dab55b9-d135-464f-8600-6d5bfadd93bb"
   },
   "outputs": [
    {
     "name": "stdout",
     "output_type": "stream",
     "text": [
      "bo_train Dimensionalidade do conjunto de dados antes do SelectKBest: 229536\n",
      "cl_train Dimensionalidade do conjunto de dados antes do SelectKBest: 405090\n",
      "co_train Dimensionalidade do conjunto de dados antes do SelectKBest: 562272\n",
      "gl_train Dimensionalidade do conjunto de dados antes do SelectKBest: 476345\n",
      "ig_train Dimensionalidade do conjunto de dados antes do SelectKBest: 612846\n",
      "lu_train Dimensionalidade do conjunto de dados antes do SelectKBest: 302731\n"
     ]
    }
   ],
   "source": [
    "Cs = [i/10 for i in range(1, 21, 2)]\n",
    "tols = [1/(10**i) for i in range(2, 6)]\n",
    "parameters = {\n",
    "    'model__penalty': ['l2', 'l1'],\n",
    "    'model__C': Cs, 'model__tol': tols\n",
    "}\n",
    "\n",
    "reglog = LogisticRegression(class_weight='balanced', solver='liblinear', max_iter=500, random_state=123)\n",
    "\n",
    "pipe_grid = Pipeline(steps=[\n",
    "    ('tf-idf',  TfidfVectorizer(token_pattern='\\d+')),\n",
    "    ('20.000 best', SelectKBest(k=20000)),\n",
    "    ('model', reglog)\n",
    "])\n",
    "\n",
    "clf = GridSearchCV(pipe_grid, parameters)\n",
    "\n",
    "for r in train_keys:\n",
    "  tfidf = TfidfVectorizer(token_pattern=r'\\d+')\n",
    "  X_tfidf = tfidf.fit_transform(x_train[r]['Friends_Anon'])\n",
    "\n",
    "  # Imprimindo a dimensionalidade\n",
    "  print(r, \"Dimensionalidade do conjunto de dados antes do SelectKBest:\", X_tfidf.shape[1])\n",
    "\n",
    "  # clf.fit(x_train[r]['Friends_Anon'], y_train[r])\n",
    "\n",
    "  # print(r)\n",
    "  # print(clf.best_params_)\n",
    "  # print(clf.best_score_)\n",
    "  # print()"
   ]
  },
  {
   "cell_type": "code",
   "execution_count": 19,
   "metadata": {
    "id": "l62krtgwMqOq"
   },
   "outputs": [
    {
     "name": "stdout",
     "output_type": "stream",
     "text": [
      "bo_test\n",
      "              precision    recall  f1-score   support\n",
      "\n",
      "     against       0.93      0.93      0.93       162\n",
      "         for       0.58      0.58      0.58        26\n",
      "\n",
      "    accuracy                           0.88       188\n",
      "   macro avg       0.75      0.75      0.75       188\n",
      "weighted avg       0.88      0.88      0.88       188\n",
      "\n",
      "\n",
      "cl_test\n",
      "              precision    recall  f1-score   support\n",
      "\n",
      "     against       0.80      0.92      0.86       289\n",
      "         for       0.91      0.76      0.83       285\n",
      "\n",
      "    accuracy                           0.84       574\n",
      "   macro avg       0.85      0.84      0.84       574\n",
      "weighted avg       0.85      0.84      0.84       574\n",
      "\n",
      "\n",
      "co_test\n",
      "              precision    recall  f1-score   support\n",
      "\n",
      "     against       0.95      0.68      0.79       354\n",
      "         for       0.78      0.97      0.86       420\n",
      "\n",
      "    accuracy                           0.84       774\n",
      "   macro avg       0.86      0.82      0.83       774\n",
      "weighted avg       0.86      0.84      0.83       774\n",
      "\n",
      "\n",
      "gl_test\n",
      "              precision    recall  f1-score   support\n",
      "\n",
      "     against       0.58      0.37      0.45       167\n",
      "         for       0.65      0.82      0.73       244\n",
      "\n",
      "    accuracy                           0.64       411\n",
      "   macro avg       0.62      0.59      0.59       411\n",
      "weighted avg       0.62      0.64      0.61       411\n",
      "\n",
      "\n",
      "ig_test\n",
      "              precision    recall  f1-score   support\n",
      "\n",
      "     against       0.72      0.58      0.64       339\n",
      "         for       0.56      0.70      0.63       260\n",
      "\n",
      "    accuracy                           0.64       599\n",
      "   macro avg       0.64      0.64      0.64       599\n",
      "weighted avg       0.65      0.64      0.64       599\n",
      "\n",
      "\n",
      "lu_test\n",
      "              precision    recall  f1-score   support\n",
      "\n",
      "     against       0.73      0.78      0.75       143\n",
      "         for       0.73      0.68      0.71       129\n",
      "\n",
      "    accuracy                           0.73       272\n",
      "   macro avg       0.73      0.73      0.73       272\n",
      "weighted avg       0.73      0.73      0.73       272\n",
      "\n",
      "\n"
     ]
    }
   ],
   "source": [
    "penaltys = ['l2', 'l2', 'l2', 'l2', 'l2', 'l2']\n",
    "Cs = [0.3, 1.3, 1.7, 1.9, 1.9, 1.9]\n",
    "tols = [0.01, 0.01, 0.01, 0.01, 0.01, 0.01]\n",
    "\n",
    "\n",
    "for r,i in zip(test_keys, range(len(test_keys))):\n",
    "    \n",
    "    X_test_aux = X_teste[r]['Friends_Anon']\n",
    "    y_test_aux = y_teste[r]\n",
    "    X_train_aux = X[r.split('_')[0] + '_train']['Friends_Anon']\n",
    "    y_train_aux = y[r.split('_')[0] + '_train']\n",
    "    \n",
    "    \n",
    "    model = LogisticRegression(\n",
    "            class_weight='balanced', max_iter=500, solver='liblinear',\n",
    "            C=Cs[i], penalty=penaltys[i], tol=tols[i]\n",
    "        )\n",
    "    pipe_grid = Pipeline(steps=[\n",
    "        ('tf-idf',  TfidfVectorizer(token_pattern='\\d+')),\n",
    "        ('20.000 best', SelectKBest(k=20000)),\n",
    "        ('model', model)\n",
    "    ])\n",
    "\n",
    "    fit = pipe_grid.fit(X_train_aux, y_train_aux)\n",
    "    # dump(pipe_grid, r+'_friends.joblib')\n",
    "\n",
    "    print(r)\n",
    "    \n",
    "    \n",
    "    \n",
    "    \n",
    "    \n",
    "    \n",
    "    ###########################################\n",
    "    # SAVE RESULTS\n",
    "    ###########################################\n",
    "    \n",
    "    exp_name = 'BagOfFriends'\n",
    "    target = r.split('_')[0]\n",
    "    estimator_name = 'TfidfVectorizer_SelectKBest_LogisticRegression'\n",
    "    \n",
    "    test_results_path = f\"{reports_path}test_results/{estimator_name}_{target}_{exp_name}_test_results.csv\"\n",
    "    train_results_path = f\"{reports_path}train_results/{estimator_name}_{target}_{exp_name}_train_results.csv\"\n",
    "    \n",
    "    \n",
    "    # cria df de resultados no teste\n",
    "    test_pred = pipe_grid.predict(X_test_aux)\n",
    "    test_pred_probs = pipe_grid.predict_proba(X_test_aux)\n",
    "    test_pred_proba_0 = [float(probas[0]) for probas in test_pred_probs]\n",
    "    test_pred_proba_1 = [float(probas[1]) for probas in test_pred_probs]\n",
    "    y_test_formated = y_test_aux.tolist()\n",
    "    y_test_pred_formated = test_pred.tolist()\n",
    "    df_test_results = create_test_results_df(y_test_formated, y_test_pred_formated, test_pred_proba_0, test_pred_proba_1)\n",
    "    df_test_results.to_csv(test_results_path, index=False)\n",
    "    \n",
    "    \n",
    "    print(classification_report(y_test_aux, test_pred))\n",
    "    \n",
    "    \n",
    "    # cria df de resultados no treino\n",
    "    train_pred = pipe_grid.predict(X_train_aux)\n",
    "    train_pred_probs = pipe_grid.predict_proba(X_train_aux)\n",
    "    train_pred_proba_0 = [float(probas[0]) for probas in train_pred_probs]\n",
    "    train_pred_proba_1 = [float(probas[1]) for probas in train_pred_probs]\n",
    "    y_train_formated = y_train_aux.tolist()\n",
    "    y_train_pred_formated = train_pred.tolist()\n",
    "    df_train_results = create_test_results_df(y_train_formated, y_train_pred_formated, train_pred_proba_0, train_pred_proba_1)\n",
    "    df_train_results.to_csv(train_results_path, index=False)\n",
    "    \n",
    "\n",
    "    print()"
   ]
  },
  {
   "cell_type": "markdown",
   "metadata": {
    "id": "WLh6Bew45KSs"
   },
   "source": [
    "## Bag-of-Followers\n",
    "\n",
    "Agora usaremos o campo \"Followers_Anon\"."
   ]
  },
  {
   "cell_type": "code",
   "execution_count": 20,
   "metadata": {
    "executionInfo": {
     "elapsed": 292,
     "status": "ok",
     "timestamp": 1722870019221,
     "user": {
      "displayName": "Laís Carraro Leme Cavalheiro",
      "userId": "06529928189687970892"
     },
     "user_tz": 180
    },
    "id": "VtSIPFS05KSv"
   },
   "outputs": [],
   "source": [
    "x_train = dict()\n",
    "x_test = dict()\n",
    "y_train = dict()\n",
    "y_test = dict()\n",
    "\n",
    "for r in train_keys:\n",
    "  x_train[r], x_test[r], y_train[r], y_test[r] = train_test_split(\n",
    "      X[r], y[r], test_size=0.2, random_state=123, stratify=y[r]\n",
    "  )"
   ]
  },
  {
   "cell_type": "code",
   "execution_count": 21,
   "metadata": {
    "executionInfo": {
     "elapsed": 315,
     "status": "ok",
     "timestamp": 1722870024100,
     "user": {
      "displayName": "Laís Carraro Leme Cavalheiro",
      "userId": "06529928189687970892"
     },
     "user_tz": 180
    },
    "id": "HnkHacD9K8Oz"
   },
   "outputs": [],
   "source": [
    "Cs = [i/10 for i in range(1, 21, 2)]\n",
    "tols = [1/(10**i) for i in range(2, 6)]\n",
    "parameters = {\n",
    "    'model__penalty': ['l2', 'l1'],\n",
    "    'model__C': Cs, 'model__tol': tols\n",
    "}\n",
    "\n",
    "reglog = LogisticRegression(class_weight='balanced', solver='liblinear', max_iter=500)\n",
    "\n",
    "pipe_grid = Pipeline(steps=[\n",
    "    ('tf-idf',  TfidfVectorizer(token_pattern='\\d+')),\n",
    "    ('20.000 best', SelectKBest(k=20000)),\n",
    "    ('model', reglog)\n",
    "])\n",
    "\n",
    "clf = GridSearchCV(pipe_grid, parameters)"
   ]
  },
  {
   "cell_type": "code",
   "execution_count": 22,
   "metadata": {
    "colab": {
     "base_uri": "https://localhost:8080/"
    },
    "executionInfo": {
     "elapsed": 25417,
     "status": "ok",
     "timestamp": 1722870051792,
     "user": {
      "displayName": "Laís Carraro Leme Cavalheiro",
      "userId": "06529928189687970892"
     },
     "user_tz": 180
    },
    "id": "2OtRXOSW5KSw",
    "outputId": "daa1eb01-fac2-4db2-f2e0-676209976cc3"
   },
   "outputs": [
    {
     "name": "stdout",
     "output_type": "stream",
     "text": [
      "bo_train Dimensionalidade do conjunto de dados antes do SelectKBest: 347157\n",
      "cl_train Dimensionalidade do conjunto de dados antes do SelectKBest: 500866\n",
      "co_train Dimensionalidade do conjunto de dados antes do SelectKBest: 761433\n",
      "gl_train Dimensionalidade do conjunto de dados antes do SelectKBest: 738364\n",
      "ig_train Dimensionalidade do conjunto de dados antes do SelectKBest: 976610\n",
      "lu_train Dimensionalidade do conjunto de dados antes do SelectKBest: 435977\n"
     ]
    }
   ],
   "source": [
    "for r in train_keys:\n",
    "  tfidf = TfidfVectorizer(token_pattern=r'\\d+')\n",
    "  X_tfidf = tfidf.fit_transform(x_train[r]['Followers_Anon'])\n",
    "\n",
    "  # Imprimindo a dimensionalidade\n",
    "  print(r, \"Dimensionalidade do conjunto de dados antes do SelectKBest:\", X_tfidf.shape[1])\n",
    "\n",
    "  # clf.fit(x_train[r]['Followers_Anon'], y_train[r])\n",
    "\n",
    "  # print(r)\n",
    "  # print(clf.best_params_)\n",
    "  # print(clf.best_score_)\n",
    "  # print()\n",
    "\n",
    "# bo_train\n",
    "# {'model__C': 0.1, 'model__penalty': 'l2', 'model__tol': 0.01}\n",
    "# 0.9\n",
    "\n",
    "# cl_train\n",
    "# {'model__C': 1.9, 'model__penalty': 'l2', 'model__tol': 0.01}\n",
    "# 0.7935915678524375\n",
    "\n",
    "# co_train\n",
    "# {'model__C': 1.5, 'model__penalty': 'l2', 'model__tol': 0.01}\n",
    "# 0.7886792452830189\n",
    "\n",
    "# gl_train\n",
    "# {'model__C': 1.7, 'model__penalty': 'l2', 'model__tol': 0.01}\n",
    "# 0.6331658551745571\n",
    "\n",
    "# ig_train\n",
    "# {'model__C': 0.1, 'model__penalty': 'l2', 'model__tol': 0.01}\n",
    "# 0.6525091947348045\n",
    "\n",
    "# lu_train\n",
    "# {'model__C': 0.3, 'model__penalty': 'l2', 'model__tol': 0.01}\n",
    "# 0.7009982384028185"
   ]
  },
  {
   "cell_type": "code",
   "execution_count": 23,
   "metadata": {
    "colab": {
     "base_uri": "https://localhost:8080/"
    },
    "executionInfo": {
     "elapsed": 81317,
     "status": "ok",
     "timestamp": 1711053096730,
     "user": {
      "displayName": "Laís Carraro Leme Cavalheiro",
      "userId": "06529928189687970892"
     },
     "user_tz": 180
    },
    "id": "BFdEgndb5KSz",
    "outputId": "8224e9b7-ce89-49c4-b649-5785c2123d82"
   },
   "outputs": [
    {
     "name": "stdout",
     "output_type": "stream",
     "text": [
      "bo_test\n",
      "              precision    recall  f1-score   support\n",
      "\n",
      "     against       0.90      0.99      0.94       162\n",
      "         for       0.89      0.31      0.46        26\n",
      "\n",
      "    accuracy                           0.90       188\n",
      "   macro avg       0.89      0.65      0.70       188\n",
      "weighted avg       0.90      0.90      0.88       188\n",
      "\n",
      "\n",
      "cl_test\n",
      "              precision    recall  f1-score   support\n",
      "\n",
      "     against       0.76      0.94      0.84       289\n",
      "         for       0.93      0.69      0.79       285\n",
      "\n",
      "    accuracy                           0.82       574\n",
      "   macro avg       0.84      0.82      0.82       574\n",
      "weighted avg       0.84      0.82      0.82       574\n",
      "\n",
      "\n",
      "co_test\n",
      "              precision    recall  f1-score   support\n",
      "\n",
      "     against       0.93      0.56      0.70       354\n",
      "         for       0.72      0.96      0.82       420\n",
      "\n",
      "    accuracy                           0.78       774\n",
      "   macro avg       0.82      0.76      0.76       774\n",
      "weighted avg       0.82      0.78      0.77       774\n",
      "\n",
      "\n",
      "gl_test\n",
      "              precision    recall  f1-score   support\n",
      "\n",
      "     against       0.60      0.30      0.40       167\n",
      "         for       0.64      0.86      0.74       244\n",
      "\n",
      "    accuracy                           0.63       411\n",
      "   macro avg       0.62      0.58      0.57       411\n",
      "weighted avg       0.62      0.63      0.60       411\n",
      "\n",
      "\n",
      "ig_test\n",
      "              precision    recall  f1-score   support\n",
      "\n",
      "     against       0.65      0.71      0.68       339\n",
      "         for       0.57      0.51      0.54       260\n",
      "\n",
      "    accuracy                           0.62       599\n",
      "   macro avg       0.61      0.61      0.61       599\n",
      "weighted avg       0.62      0.62      0.62       599\n",
      "\n",
      "\n",
      "lu_test\n",
      "              precision    recall  f1-score   support\n",
      "\n",
      "     against       0.68      0.84      0.75       143\n",
      "         for       0.76      0.56      0.64       129\n",
      "\n",
      "    accuracy                           0.71       272\n",
      "   macro avg       0.72      0.70      0.70       272\n",
      "weighted avg       0.72      0.71      0.70       272\n",
      "\n",
      "\n"
     ]
    }
   ],
   "source": [
    "penaltys = ['l2', 'l2', 'l2', 'l2', 'l2', 'l2']\n",
    "Cs = [0.1, 1.9, 1.5, 1.7, 0.1, 0.3]\n",
    "tols = [0.01, 0.01, 0.01, 0.01, 0.01, 0.01]\n",
    "\n",
    "for r,i in zip(test_keys, range(len(test_keys))):\n",
    "    \n",
    "    X_test_aux = X_teste[r]['Followers_Anon']\n",
    "    y_test_aux = y_teste[r]\n",
    "    X_train_aux = X[r.split('_')[0] + '_train']['Followers_Anon']\n",
    "    y_train_aux = y[r.split('_')[0] + '_train']\n",
    "    \n",
    "    model = LogisticRegression(\n",
    "            class_weight='balanced', max_iter=500, solver='liblinear',\n",
    "            C=Cs[i], penalty=penaltys[i], tol=tols[i]\n",
    "        )\n",
    "    pipe_grid = Pipeline(steps=[\n",
    "        ('tf-idf',  TfidfVectorizer(token_pattern='\\d+')),\n",
    "        ('20.000 best', SelectKBest(k=20000)),\n",
    "        ('model', model)\n",
    "    ])\n",
    "\n",
    "    fit = pipe_grid.fit(X_train_aux, y_train_aux)\n",
    "    # dump(pipe_grid, r+'_followers.joblib')\n",
    "\n",
    "    print(r)\n",
    "    ###########################################\n",
    "    # SAVE RESULTS\n",
    "    ###########################################\n",
    "    \n",
    "    exp_name = 'BagOfFollowers'\n",
    "    target = r.split('_')[0]\n",
    "    estimator_name = 'TfidfVectorizer_SelectKBest_LogisticRegression'\n",
    "    \n",
    "    test_results_path = f\"{reports_path}test_results/{estimator_name}_{target}_{exp_name}_test_results.csv\"\n",
    "    train_results_path = f\"{reports_path}train_results/{estimator_name}_{target}_{exp_name}_train_results.csv\"\n",
    "    \n",
    "    \n",
    "    # cria df de resultados no teste\n",
    "    test_pred = pipe_grid.predict(X_test_aux)\n",
    "    test_pred_probs = pipe_grid.predict_proba(X_test_aux)\n",
    "    test_pred_proba_0 = [float(probas[0]) for probas in test_pred_probs]\n",
    "    test_pred_proba_1 = [float(probas[1]) for probas in test_pred_probs]\n",
    "    y_test_formated = y_test_aux.tolist()\n",
    "    y_test_pred_formated = test_pred.tolist()\n",
    "    df_test_results = create_test_results_df(y_test_formated, y_test_pred_formated, test_pred_proba_0, test_pred_proba_1)\n",
    "    df_test_results.to_csv(test_results_path, index=False)\n",
    "    \n",
    "    \n",
    "    print(classification_report(y_test_aux, test_pred))\n",
    "    \n",
    "    \n",
    "    # cria df de resultados no treino\n",
    "    train_pred = pipe_grid.predict(X_train_aux)\n",
    "    train_pred_probs = pipe_grid.predict_proba(X_train_aux)\n",
    "    train_pred_proba_0 = [float(probas[0]) for probas in train_pred_probs]\n",
    "    train_pred_proba_1 = [float(probas[1]) for probas in train_pred_probs]\n",
    "    y_train_formated = y_train_aux.tolist()\n",
    "    y_train_pred_formated = train_pred.tolist()\n",
    "    df_train_results = create_test_results_df(y_train_formated, y_train_pred_formated, train_pred_proba_0, train_pred_proba_1)\n",
    "    df_train_results.to_csv(train_results_path, index=False)\n",
    "\n",
    "    print()"
   ]
  },
  {
   "cell_type": "markdown",
   "metadata": {
    "id": "qf9ouKKieE6H"
   },
   "source": [
    "# Dados de menções"
   ]
  },
  {
   "cell_type": "markdown",
   "metadata": {
    "id": "or6E-K4ceLxj"
   },
   "source": [
    "## Preparação do conjunto de dados\n",
    "\n",
    "Vamos precisar juntar as listas numa \"frase\" para podermos criar o \"Bag-of-mentions\"."
   ]
  },
  {
   "cell_type": "code",
   "execution_count": 24,
   "metadata": {
    "executionInfo": {
     "elapsed": 1135,
     "status": "ok",
     "timestamp": 1722867532285,
     "user": {
      "displayName": "Laís Carraro Leme Cavalheiro",
      "userId": "06529928189687970892"
     },
     "user_tz": 180
    },
    "id": "FpJbbMwTeLx_"
   },
   "outputs": [],
   "source": [
    "for k in mencoes.keys():\n",
    "  mencoes[k].Anon_Contacts = mencoes[k].Anon_Contacts.apply(list_to_sent)"
   ]
  },
  {
   "cell_type": "code",
   "execution_count": 25,
   "metadata": {
    "colab": {
     "base_uri": "https://localhost:8080/",
     "height": 206
    },
    "executionInfo": {
     "elapsed": 372,
     "status": "ok",
     "timestamp": 1722867535682,
     "user": {
      "displayName": "Laís Carraro Leme Cavalheiro",
      "userId": "06529928189687970892"
     },
     "user_tz": 180
    },
    "id": "NuUEiM8deLx_",
    "outputId": "eec70198-d46e-4f84-82c1-1658ec4f75ee"
   },
   "outputs": [
    {
     "data": {
      "text/html": [
       "<div>\n",
       "<style scoped>\n",
       "    .dataframe tbody tr th:only-of-type {\n",
       "        vertical-align: middle;\n",
       "    }\n",
       "\n",
       "    .dataframe tbody tr th {\n",
       "        vertical-align: top;\n",
       "    }\n",
       "\n",
       "    .dataframe thead th {\n",
       "        text-align: right;\n",
       "    }\n",
       "</style>\n",
       "<table border=\"1\" class=\"dataframe\">\n",
       "  <thead>\n",
       "    <tr style=\"text-align: right;\">\n",
       "      <th></th>\n",
       "      <th>User_ID</th>\n",
       "      <th>N_Contacts</th>\n",
       "      <th>Timeline</th>\n",
       "      <th>Anon_Contacts</th>\n",
       "      <th>Polarity</th>\n",
       "      <th>texto_id</th>\n",
       "    </tr>\n",
       "  </thead>\n",
       "  <tbody>\n",
       "    <tr>\n",
       "      <th>0</th>\n",
       "      <td>r2_bo_1</td>\n",
       "      <td>53</td>\n",
       "      <td>['17-Jul-2015 04:11', '17-Jul-2015 04:21', '17...</td>\n",
       "      <td>4415x7 4094x0 3595x8 3701x2 3711x4 2307x1 2842...</td>\n",
       "      <td>against</td>\n",
       "      <td>15</td>\n",
       "    </tr>\n",
       "    <tr>\n",
       "      <th>1</th>\n",
       "      <td>r2_bo_2</td>\n",
       "      <td>87</td>\n",
       "      <td>['27-Jan-2015 14:49', '28-Jan-2015 01:14', '29...</td>\n",
       "      <td>5631x4 2775x3 192x0 863x8 2867x2 5882x1 5203x4...</td>\n",
       "      <td>against</td>\n",
       "      <td>191</td>\n",
       "    </tr>\n",
       "    <tr>\n",
       "      <th>2</th>\n",
       "      <td>r2_bo_5</td>\n",
       "      <td>389</td>\n",
       "      <td>['06-Jun-2010 02:47', '06-Jun-2010 03:34', '06...</td>\n",
       "      <td>3575x7 358x6 988x5 4673x0 1405x6 4761x9 5835x6...</td>\n",
       "      <td>for</td>\n",
       "      <td>110</td>\n",
       "    </tr>\n",
       "    <tr>\n",
       "      <th>3</th>\n",
       "      <td>r2_bo_6</td>\n",
       "      <td>124</td>\n",
       "      <td>['04-Jun-2020 01:13', '04-Jun-2020 01:43', '04...</td>\n",
       "      <td>4303x1 3949x1 4839x6 1871x3 634x4 2611x1 5481x...</td>\n",
       "      <td>against</td>\n",
       "      <td>525</td>\n",
       "    </tr>\n",
       "    <tr>\n",
       "      <th>4</th>\n",
       "      <td>r2_bo_7</td>\n",
       "      <td>4</td>\n",
       "      <td>['02-Apr-2020 16:16', '02-Apr-2020 16:19', '02...</td>\n",
       "      <td>3705x7 3239x1 5888x7 284x1</td>\n",
       "      <td>against</td>\n",
       "      <td>198</td>\n",
       "    </tr>\n",
       "  </tbody>\n",
       "</table>\n",
       "</div>"
      ],
      "text/plain": [
       "   User_ID  N_Contacts                                           Timeline  \\\n",
       "0  r2_bo_1          53  ['17-Jul-2015 04:11', '17-Jul-2015 04:21', '17...   \n",
       "1  r2_bo_2          87  ['27-Jan-2015 14:49', '28-Jan-2015 01:14', '29...   \n",
       "2  r2_bo_5         389  ['06-Jun-2010 02:47', '06-Jun-2010 03:34', '06...   \n",
       "3  r2_bo_6         124  ['04-Jun-2020 01:13', '04-Jun-2020 01:43', '04...   \n",
       "4  r2_bo_7           4  ['02-Apr-2020 16:16', '02-Apr-2020 16:19', '02...   \n",
       "\n",
       "                                       Anon_Contacts Polarity  texto_id  \n",
       "0  4415x7 4094x0 3595x8 3701x2 3711x4 2307x1 2842...  against        15  \n",
       "1  5631x4 2775x3 192x0 863x8 2867x2 5882x1 5203x4...  against       191  \n",
       "2  3575x7 358x6 988x5 4673x0 1405x6 4761x9 5835x6...      for       110  \n",
       "3  4303x1 3949x1 4839x6 1871x3 634x4 2611x1 5481x...  against       525  \n",
       "4                         3705x7 3239x1 5888x7 284x1  against       198  "
      ]
     },
     "execution_count": 25,
     "metadata": {},
     "output_type": "execute_result"
    }
   ],
   "source": [
    "mencoes['bo_train'].head()"
   ]
  },
  {
   "cell_type": "markdown",
   "metadata": {
    "id": "bBqD3AySeLyA"
   },
   "source": [
    "Agora, vamos ver se os conjuntos de dados estão balanceados."
   ]
  },
  {
   "cell_type": "code",
   "execution_count": 26,
   "metadata": {
    "executionInfo": {
     "elapsed": 298,
     "status": "ok",
     "timestamp": 1722869585234,
     "user": {
      "displayName": "Laís Carraro Leme Cavalheiro",
      "userId": "06529928189687970892"
     },
     "user_tz": 180
    },
    "id": "-BaulAioeLyA"
   },
   "outputs": [],
   "source": [
    "train_keys = [r for r in mencoes.keys() if 'test' not in r]\n",
    "test_keys = [r for r in mencoes.keys() if 'test' in r]"
   ]
  },
  {
   "cell_type": "code",
   "execution_count": 27,
   "metadata": {
    "colab": {
     "base_uri": "https://localhost:8080/"
    },
    "executionInfo": {
     "elapsed": 293,
     "status": "ok",
     "timestamp": 1722869588309,
     "user": {
      "displayName": "Laís Carraro Leme Cavalheiro",
      "userId": "06529928189687970892"
     },
     "user_tz": 180
    },
    "id": "eqXgYzAeeLyB",
    "outputId": "700fb411-ddc3-4858-85ef-b2b7a3ea7158"
   },
   "outputs": [
    {
     "name": "stdout",
     "output_type": "stream",
     "text": [
      "bo_train\n",
      "Polarity\n",
      "against    0.865009\n",
      "for        0.134991\n",
      "Name: proportion, dtype: float64\n",
      "\n",
      "cl_train\n",
      "Polarity\n",
      "against    0.502615\n",
      "for        0.497385\n",
      "Name: proportion, dtype: float64\n",
      "\n",
      "co_train\n",
      "Polarity\n",
      "for        0.542044\n",
      "against    0.457956\n",
      "Name: proportion, dtype: float64\n",
      "\n",
      "gl_train\n",
      "Polarity\n",
      "for        0.593014\n",
      "against    0.406986\n",
      "Name: proportion, dtype: float64\n",
      "\n",
      "ig_train\n",
      "Polarity\n",
      "against    0.565145\n",
      "for        0.434855\n",
      "Name: proportion, dtype: float64\n",
      "\n",
      "lu_train\n",
      "Polarity\n",
      "against    0.523284\n",
      "for        0.476716\n",
      "Name: proportion, dtype: float64\n",
      "\n"
     ]
    }
   ],
   "source": [
    "X = dict()\n",
    "y = dict()\n",
    "\n",
    "X_teste = dict()\n",
    "y_teste = dict()\n",
    "\n",
    "for r in train_keys:\n",
    "  X[r] = mencoes[r][['Anon_Contacts', 'texto_id']]\n",
    "  y[r] = mencoes[r]['Polarity']\n",
    "\n",
    "  print(r)\n",
    "  print(y[r].value_counts(normalize='True'))\n",
    "  print()\n",
    "\n",
    "for r in test_keys:\n",
    "  X_teste[r] = mencoes[r][['Anon_Contacts', 'texto_id']]\n",
    "  y_teste[r] = mencoes[r]['Polarity']"
   ]
  },
  {
   "cell_type": "markdown",
   "metadata": {
    "id": "pJHH11zJeLyB"
   },
   "source": [
    "Os conjuntos de dados são aproximadamente balanceados."
   ]
  },
  {
   "cell_type": "markdown",
   "metadata": {
    "id": "QCvhZHpveLyB"
   },
   "source": [
    "## Bag-of-Mentions\n",
    "\n",
    "Usaremos o campo \"Anon_Contacts\"."
   ]
  },
  {
   "cell_type": "code",
   "execution_count": 28,
   "metadata": {
    "executionInfo": {
     "elapsed": 299,
     "status": "ok",
     "timestamp": 1722869591905,
     "user": {
      "displayName": "Laís Carraro Leme Cavalheiro",
      "userId": "06529928189687970892"
     },
     "user_tz": 180
    },
    "id": "ICjoJIOreLyC"
   },
   "outputs": [],
   "source": [
    "x_train = dict()\n",
    "x_test = dict()\n",
    "y_train = dict()\n",
    "y_test = dict()\n",
    "\n",
    "for r in train_keys:\n",
    "  x_train[r], x_test[r], y_train[r], y_test[r] = train_test_split(\n",
    "      X[r], y[r], test_size=0.2, random_state=123, stratify=y[r]\n",
    "  )"
   ]
  },
  {
   "cell_type": "code",
   "execution_count": 29,
   "metadata": {
    "colab": {
     "base_uri": "https://localhost:8080/"
    },
    "executionInfo": {
     "elapsed": 12000,
     "status": "ok",
     "timestamp": 1722869669858,
     "user": {
      "displayName": "Laís Carraro Leme Cavalheiro",
      "userId": "06529928189687970892"
     },
     "user_tz": 180
    },
    "id": "KMen3Cz8eLyC",
    "outputId": "12c3b065-048f-464f-b247-54c40b955d06"
   },
   "outputs": [
    {
     "name": "stdout",
     "output_type": "stream",
     "text": [
      "bo_train Dimensionalidade do conjunto de dados antes do SelectKBest: 36980\n",
      "cl_train Dimensionalidade do conjunto de dados antes do SelectKBest: 282532\n",
      "co_train Dimensionalidade do conjunto de dados antes do SelectKBest: 344974\n",
      "gl_train Dimensionalidade do conjunto de dados antes do SelectKBest: 75316\n",
      "ig_train Dimensionalidade do conjunto de dados antes do SelectKBest: 108839\n",
      "lu_train Dimensionalidade do conjunto de dados antes do SelectKBest: 66804\n"
     ]
    }
   ],
   "source": [
    "Cs = [i/10 for i in range(1, 21, 2)]\n",
    "tols = [1/(10**i) for i in range(2, 6)]\n",
    "parameters = {\n",
    "    'model__penalty': ['l2', 'l1'],\n",
    "    'model__solver': ['liblinear', 'saga'],\n",
    "    'model__C': Cs, 'model__tol': tols\n",
    "}\n",
    "reglog = LogisticRegression(class_weight='balanced', max_iter=900)\n",
    "\n",
    "pipe_grid = Pipeline(steps=[\n",
    "    ('tf-idf',  TfidfVectorizer(token_pattern='\\d+x\\d+')),\n",
    "    ('20.000 best', SelectKBest(k=20000)),\n",
    "    ('model', reglog)\n",
    "])\n",
    "\n",
    "clf = GridSearchCV(pipe_grid, parameters)\n",
    "\n",
    "for r in train_keys:\n",
    "  tfidf = TfidfVectorizer(token_pattern=r'\\d+x\\d+')\n",
    "  X_tfidf = tfidf.fit_transform(x_train[r]['Anon_Contacts'])\n",
    "\n",
    "  # Imprimindo a dimensionalidade\n",
    "  print(r, \"Dimensionalidade do conjunto de dados antes do SelectKBest:\", X_tfidf.shape[1])\n",
    "\n",
    "\n",
    "  # clf.fit(x_train[r]['Anon_Contacts'], y_train[r])\n",
    "\n",
    "  # print(r)\n",
    "  # print(clf.best_params_)\n",
    "  # print(clf.best_score_)\n",
    "  # print()\n",
    "\n",
    "# bo_train\n",
    "# {'model__C': 0.1, 'model__penalty': 'l2', 'model__solver': 'saga', 'model__tol': 0.01}\n",
    "# 0.8911111111111112\n",
    "\n",
    "# cl_train\n",
    "# {'model__C': 1.9, 'model__penalty': 'l2', 'model__solver': 'saga', 'model__tol': 0.001}\n",
    "# 0.8524822134387351\n",
    "\n",
    "# co_train\n",
    "# {'model__C': 1.9, 'model__penalty': 'l2', 'model__solver': 'liblinear', 'model__tol': 0.01}\n",
    "# 0.8485175202156334\n",
    "\n",
    "# gl_train\n",
    "# {'model__C': 0.1, 'model__penalty': 'l2', 'model__solver': 'saga', 'model__tol': 0.01}\n",
    "# 0.6636693255982596\n",
    "\n",
    "# ig_train\n",
    "# {'model__C': 1.9, 'model__penalty': 'l2', 'model__solver': 'liblinear', 'model__tol': 0.01}\n",
    "# 0.6754839334107626\n",
    "\n",
    "# lu_train\n",
    "# {'model__C': 0.5, 'model__penalty': 'l2', 'model__solver': 'liblinear', 'model__tol': 0.01}\n",
    "# 0.6887022900763358"
   ]
  },
  {
   "cell_type": "code",
   "execution_count": 30,
   "metadata": {
    "colab": {
     "base_uri": "https://localhost:8080/"
    },
    "executionInfo": {
     "elapsed": 23717,
     "status": "ok",
     "timestamp": 1711064244153,
     "user": {
      "displayName": "Laís Carraro Leme Cavalheiro",
      "userId": "06529928189687970892"
     },
     "user_tz": 180
    },
    "id": "vzpLnczleLyD",
    "outputId": "1b50e611-9769-43ce-a57b-9b67d50a7e7f"
   },
   "outputs": [
    {
     "name": "stdout",
     "output_type": "stream",
     "text": [
      "bo_test\n",
      "              precision    recall  f1-score   support\n",
      "\n",
      "     against       0.93      0.92      0.92       162\n",
      "         for       0.52      0.54      0.53        26\n",
      "\n",
      "    accuracy                           0.87       188\n",
      "   macro avg       0.72      0.73      0.73       188\n",
      "weighted avg       0.87      0.87      0.87       188\n",
      "\n",
      "cl_test\n",
      "              precision    recall  f1-score   support\n",
      "\n",
      "     against       0.86      0.88      0.87       289\n",
      "         for       0.87      0.85      0.86       285\n",
      "\n",
      "    accuracy                           0.86       574\n",
      "   macro avg       0.86      0.86      0.86       574\n",
      "weighted avg       0.86      0.86      0.86       574\n",
      "\n",
      "co_test\n",
      "              precision    recall  f1-score   support\n",
      "\n",
      "     against       0.88      0.76      0.82       354\n",
      "         for       0.82      0.91      0.86       420\n",
      "\n",
      "    accuracy                           0.84       774\n",
      "   macro avg       0.85      0.84      0.84       774\n",
      "weighted avg       0.85      0.84      0.84       774\n",
      "\n",
      "gl_test\n",
      "              precision    recall  f1-score   support\n",
      "\n",
      "     against       0.59      0.37      0.46       167\n",
      "         for       0.66      0.82      0.73       244\n",
      "\n",
      "    accuracy                           0.64       411\n",
      "   macro avg       0.62      0.60      0.59       411\n",
      "weighted avg       0.63      0.64      0.62       411\n",
      "\n",
      "ig_test\n",
      "              precision    recall  f1-score   support\n",
      "\n",
      "     against       0.68      0.73      0.70       339\n",
      "         for       0.61      0.56      0.58       260\n",
      "\n",
      "    accuracy                           0.65       599\n",
      "   macro avg       0.65      0.64      0.64       599\n",
      "weighted avg       0.65      0.65      0.65       599\n",
      "\n",
      "lu_test\n",
      "              precision    recall  f1-score   support\n",
      "\n",
      "     against       0.72      0.72      0.72       143\n",
      "         for       0.69      0.69      0.69       129\n",
      "\n",
      "    accuracy                           0.71       272\n",
      "   macro avg       0.71      0.71      0.71       272\n",
      "weighted avg       0.71      0.71      0.71       272\n",
      "\n"
     ]
    }
   ],
   "source": [
    "Cs = [0.1, 1.9, 1.9, 0.1, 1.9, 0.5]\n",
    "tols = [0.01, 0.001, 0.01, 0.01, 0.01, 0.01]\n",
    "solvers = ['saga', 'saga', 'liblinear', 'saga', 'liblinear', 'liblinear']\n",
    "\n",
    "for r,i in zip(test_keys, range(len(test_keys))):\n",
    "    \n",
    "    X_test_aux = X_teste[r]['Anon_Contacts']\n",
    "    y_test_aux = y_teste[r]\n",
    "    X_train_aux = X[r.split('_')[0] + '_train']['Anon_Contacts']\n",
    "    y_train_aux = y[r.split('_')[0] + '_train']\n",
    "    \n",
    "    \n",
    "    model = LogisticRegression(\n",
    "            class_weight='balanced', max_iter=500, solver=solvers[i],\n",
    "            C=Cs[i], penalty='l2', tol=tols[i]\n",
    "        )\n",
    "    pipe_grid = Pipeline(steps=[\n",
    "        ('tf-idf',  TfidfVectorizer(token_pattern='\\d+x\\d+')),\n",
    "        ('20.000 best', SelectKBest(k=20000)),\n",
    "        ('model', model)\n",
    "    ])\n",
    "\n",
    "    fit = pipe_grid.fit(X_train_aux, y_train_aux)\n",
    "    \n",
    "    print(r)\n",
    "    ###########################################\n",
    "    # SAVE RESULTS\n",
    "    ###########################################\n",
    "    \n",
    "    exp_name = 'BagOfMentions'\n",
    "    target = r.split('_')[0]\n",
    "    estimator_name = 'TfidfVectorizer_SelectKBest_LogisticRegression'\n",
    "    \n",
    "    test_results_path = f\"{reports_path}test_results/{estimator_name}_{target}_{exp_name}_test_results.csv\"\n",
    "    train_results_path = f\"{reports_path}train_results/{estimator_name}_{target}_{exp_name}_train_results.csv\"\n",
    "    \n",
    "    \n",
    "    # cria df de resultados no teste\n",
    "    test_pred = pipe_grid.predict(X_test_aux)\n",
    "    test_pred_probs = pipe_grid.predict_proba(X_test_aux)\n",
    "    test_pred_proba_0 = [float(probas[0]) for probas in test_pred_probs]\n",
    "    test_pred_proba_1 = [float(probas[1]) for probas in test_pred_probs]\n",
    "    y_test_formated = y_test_aux.tolist()\n",
    "    y_test_pred_formated = test_pred.tolist()\n",
    "    df_test_results = create_test_results_df(y_test_formated, y_test_pred_formated, test_pred_proba_0, test_pred_proba_1)\n",
    "    df_test_results.to_csv(test_results_path, index=False)\n",
    "    \n",
    "    \n",
    "    print(classification_report(y_test_aux, test_pred))\n",
    "    \n",
    "    \n",
    "    # cria df de resultados no treino\n",
    "    train_pred = pipe_grid.predict(X_train_aux)\n",
    "    train_pred_probs = pipe_grid.predict_proba(X_train_aux)\n",
    "    train_pred_proba_0 = [float(probas[0]) for probas in train_pred_probs]\n",
    "    train_pred_proba_1 = [float(probas[1]) for probas in train_pred_probs]\n",
    "    y_train_formated = y_train_aux.tolist()\n",
    "    y_train_pred_formated = train_pred.tolist()\n",
    "    df_train_results = create_test_results_df(y_train_formated, y_train_pred_formated, train_pred_proba_0, train_pred_proba_1)\n",
    "    df_train_results.to_csv(train_results_path, index=False)"
   ]
  }
 ],
 "metadata": {
  "colab": {
   "authorship_tag": "ABX9TyOFjVE/jLcLEEpEC6h+o7ia",
   "collapsed_sections": [
    "or6E-K4ceLxj",
    "QCvhZHpveLyB"
   ],
   "mount_file_id": "1SXweGWKjYyW89nT0OIX6ji6UGXKcIkdZ",
   "provenance": []
  },
  "kernelspec": {
   "display_name": "env-stance-pred",
   "language": "python",
   "name": "python3"
  },
  "language_info": {
   "codemirror_mode": {
    "name": "ipython",
    "version": 3
   },
   "file_extension": ".py",
   "mimetype": "text/x-python",
   "name": "python",
   "nbconvert_exporter": "python",
   "pygments_lexer": "ipython3",
   "version": "3.12.2"
  }
 },
 "nbformat": 4,
 "nbformat_minor": 0
}
