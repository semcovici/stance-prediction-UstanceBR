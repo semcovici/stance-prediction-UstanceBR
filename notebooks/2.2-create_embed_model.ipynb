{
 "cells": [
  {
   "cell_type": "code",
   "execution_count": 1,
   "metadata": {},
   "outputs": [],
   "source": [
    "import pandas as pd\n",
    "from sklearn.metrics import classification_report\n",
    "from sklearn.model_selection import train_test_split\n",
    "import xgboost as xgb\n",
    "from xgboost import XGBClassifier\n",
    "from sklearn.pipeline import Pipeline\n",
    "from sklearn.preprocessing import LabelEncoder, MaxAbsScaler\n",
    "import numpy as np\n",
    "from imblearn.over_sampling import RandomOverSampler, SMOTE\n",
    "from imblearn.pipeline import Pipeline as IMBPipeline\n",
    "from sklearn.feature_selection import RFE\n",
    "from sklearn.feature_extraction.text import TfidfVectorizer\n",
    "from sklearn.ensemble import RandomForestClassifier\n",
    "from nltk.corpus import stopwords\n",
    "from tqdm import tqdm\n",
    "tqdm.pandas()\n",
    "from sklearn.compose import ColumnTransformer\n",
    "\n",
    "from tsfresh.feature_extraction import MinimalFCParameters\n",
    "from tsfresh.feature_extraction import extract_features"
   ]
  },
  {
   "cell_type": "code",
   "execution_count": 2,
   "metadata": {},
   "outputs": [],
   "source": [
    "def get_classification_report(y_test, y_pred):\n",
    "    '''Source: https://stackoverflow.com/questions/39662398/scikit-learn-output-metrics-classification-report-into-csv-tab-delimited-format'''\n",
    "    report = classification_report(y_test, y_pred, output_dict=True)\n",
    "    df_classification_report = pd.DataFrame(report).transpose()\n",
    "    df_classification_report = df_classification_report.sort_values(by=['f1-score'], ascending=False)\n",
    "    return df_classification_report"
   ]
  },
  {
   "cell_type": "code",
   "execution_count": 3,
   "metadata": {},
   "outputs": [
    {
     "name": "stderr",
     "output_type": "stream",
     "text": [
      "[nltk_data] Downloading package stopwords to\n",
      "[nltk_data]     /home/semcovici/nltk_data...\n",
      "[nltk_data]   Package stopwords is already up-to-date!\n"
     ]
    },
    {
     "data": {
      "text/plain": [
       "True"
      ]
     },
     "execution_count": 3,
     "metadata": {},
     "output_type": "execute_result"
    }
   ],
   "source": [
    "import nltk\n",
    "nltk.download('stopwords')"
   ]
  },
  {
   "cell_type": "code",
   "execution_count": 4,
   "metadata": {},
   "outputs": [],
   "source": [
    "path_raw_data = '../data/raw/'\n",
    "path_processed_data = '../data/processed/'"
   ]
  },
  {
   "cell_type": "code",
   "execution_count": 5,
   "metadata": {},
   "outputs": [],
   "source": [
    "corpus = 'ig'\n",
    "model_name = 'facebook/fasttext-pt-vectors'\n",
    "model_name = 'neuralmind/bert-base-portuguese-cased'"
   ]
  },
  {
   "cell_type": "code",
   "execution_count": 6,
   "metadata": {},
   "outputs": [],
   "source": [
    "path_data = path_processed_data + f'train_r3_{corpus}_separated_comments_{model_name.replace(\"/\", \"_\")}_tsfresh.parquet'"
   ]
  },
  {
   "cell_type": "code",
   "execution_count": 7,
   "metadata": {},
   "outputs": [],
   "source": [
    "data = pd.read_parquet(path_data)"
   ]
  },
  {
   "cell_type": "code",
   "execution_count": 8,
   "metadata": {},
   "outputs": [
    {
     "data": {
      "text/plain": [
       "(1805, 7682)"
      ]
     },
     "execution_count": 8,
     "metadata": {},
     "output_type": "execute_result"
    }
   ],
   "source": [
    "data.shape"
   ]
  },
  {
   "cell_type": "code",
   "execution_count": 9,
   "metadata": {},
   "outputs": [
    {
     "data": {
      "text/html": [
       "<div>\n",
       "<style scoped>\n",
       "    .dataframe tbody tr th:only-of-type {\n",
       "        vertical-align: middle;\n",
       "    }\n",
       "\n",
       "    .dataframe tbody tr th {\n",
       "        vertical-align: top;\n",
       "    }\n",
       "\n",
       "    .dataframe thead th {\n",
       "        text-align: right;\n",
       "    }\n",
       "</style>\n",
       "<table border=\"1\" class=\"dataframe\">\n",
       "  <thead>\n",
       "    <tr style=\"text-align: right;\">\n",
       "      <th></th>\n",
       "      <th>User_ID</th>\n",
       "      <th>emb_1__sum_values</th>\n",
       "      <th>emb_1__median</th>\n",
       "      <th>emb_1__mean</th>\n",
       "      <th>emb_1__length</th>\n",
       "      <th>emb_1__standard_deviation</th>\n",
       "      <th>emb_1__variance</th>\n",
       "      <th>emb_1__root_mean_square</th>\n",
       "      <th>emb_1__maximum</th>\n",
       "      <th>emb_1__absolute_maximum</th>\n",
       "      <th>...</th>\n",
       "      <th>emb_768__median</th>\n",
       "      <th>emb_768__mean</th>\n",
       "      <th>emb_768__length</th>\n",
       "      <th>emb_768__standard_deviation</th>\n",
       "      <th>emb_768__variance</th>\n",
       "      <th>emb_768__root_mean_square</th>\n",
       "      <th>emb_768__maximum</th>\n",
       "      <th>emb_768__absolute_maximum</th>\n",
       "      <th>emb_768__minimum</th>\n",
       "      <th>Polarity</th>\n",
       "    </tr>\n",
       "  </thead>\n",
       "  <tbody>\n",
       "    <tr>\n",
       "      <th>0</th>\n",
       "      <td>r2_ig_1</td>\n",
       "      <td>-21.394181</td>\n",
       "      <td>-0.029887</td>\n",
       "      <td>-0.024367</td>\n",
       "      <td>878.0</td>\n",
       "      <td>0.134303</td>\n",
       "      <td>0.018037</td>\n",
       "      <td>0.136496</td>\n",
       "      <td>0.671440</td>\n",
       "      <td>0.671440</td>\n",
       "      <td>...</td>\n",
       "      <td>-0.224691</td>\n",
       "      <td>-0.222255</td>\n",
       "      <td>878.0</td>\n",
       "      <td>0.129926</td>\n",
       "      <td>0.016881</td>\n",
       "      <td>0.257446</td>\n",
       "      <td>0.250205</td>\n",
       "      <td>0.686336</td>\n",
       "      <td>-0.686336</td>\n",
       "      <td>against</td>\n",
       "    </tr>\n",
       "    <tr>\n",
       "      <th>1</th>\n",
       "      <td>r2_ig_10</td>\n",
       "      <td>1.394637</td>\n",
       "      <td>0.016590</td>\n",
       "      <td>0.015326</td>\n",
       "      <td>91.0</td>\n",
       "      <td>0.132188</td>\n",
       "      <td>0.017474</td>\n",
       "      <td>0.133074</td>\n",
       "      <td>0.345923</td>\n",
       "      <td>0.345923</td>\n",
       "      <td>...</td>\n",
       "      <td>-0.178725</td>\n",
       "      <td>-0.195514</td>\n",
       "      <td>91.0</td>\n",
       "      <td>0.137983</td>\n",
       "      <td>0.019039</td>\n",
       "      <td>0.239301</td>\n",
       "      <td>0.044307</td>\n",
       "      <td>0.725221</td>\n",
       "      <td>-0.725221</td>\n",
       "      <td>for</td>\n",
       "    </tr>\n",
       "    <tr>\n",
       "      <th>2</th>\n",
       "      <td>r2_ig_100</td>\n",
       "      <td>129.244744</td>\n",
       "      <td>0.026289</td>\n",
       "      <td>0.025766</td>\n",
       "      <td>5016.0</td>\n",
       "      <td>0.126746</td>\n",
       "      <td>0.016065</td>\n",
       "      <td>0.129339</td>\n",
       "      <td>0.523251</td>\n",
       "      <td>0.523251</td>\n",
       "      <td>...</td>\n",
       "      <td>-0.228821</td>\n",
       "      <td>-0.232339</td>\n",
       "      <td>5016.0</td>\n",
       "      <td>0.143872</td>\n",
       "      <td>0.020699</td>\n",
       "      <td>0.273277</td>\n",
       "      <td>0.264378</td>\n",
       "      <td>0.745202</td>\n",
       "      <td>-0.745202</td>\n",
       "      <td>against</td>\n",
       "    </tr>\n",
       "    <tr>\n",
       "      <th>3</th>\n",
       "      <td>r2_ig_101</td>\n",
       "      <td>13.903916</td>\n",
       "      <td>-0.000133</td>\n",
       "      <td>0.010753</td>\n",
       "      <td>1293.0</td>\n",
       "      <td>0.144235</td>\n",
       "      <td>0.020804</td>\n",
       "      <td>0.144636</td>\n",
       "      <td>0.520573</td>\n",
       "      <td>0.592314</td>\n",
       "      <td>...</td>\n",
       "      <td>-0.260851</td>\n",
       "      <td>-0.260714</td>\n",
       "      <td>1293.0</td>\n",
       "      <td>0.140515</td>\n",
       "      <td>0.019744</td>\n",
       "      <td>0.296170</td>\n",
       "      <td>0.243582</td>\n",
       "      <td>0.732912</td>\n",
       "      <td>-0.732912</td>\n",
       "      <td>for</td>\n",
       "    </tr>\n",
       "    <tr>\n",
       "      <th>4</th>\n",
       "      <td>r2_ig_102</td>\n",
       "      <td>-0.538206</td>\n",
       "      <td>-0.012598</td>\n",
       "      <td>-0.000312</td>\n",
       "      <td>1723.0</td>\n",
       "      <td>0.139171</td>\n",
       "      <td>0.019369</td>\n",
       "      <td>0.139172</td>\n",
       "      <td>0.576313</td>\n",
       "      <td>0.576313</td>\n",
       "      <td>...</td>\n",
       "      <td>-0.244546</td>\n",
       "      <td>-0.241903</td>\n",
       "      <td>1723.0</td>\n",
       "      <td>0.134479</td>\n",
       "      <td>0.018085</td>\n",
       "      <td>0.276770</td>\n",
       "      <td>0.267556</td>\n",
       "      <td>0.804279</td>\n",
       "      <td>-0.804279</td>\n",
       "      <td>for</td>\n",
       "    </tr>\n",
       "  </tbody>\n",
       "</table>\n",
       "<p>5 rows × 7682 columns</p>\n",
       "</div>"
      ],
      "text/plain": [
       "     User_ID  emb_1__sum_values  emb_1__median  emb_1__mean  emb_1__length  \\\n",
       "0    r2_ig_1         -21.394181      -0.029887    -0.024367          878.0   \n",
       "1   r2_ig_10           1.394637       0.016590     0.015326           91.0   \n",
       "2  r2_ig_100         129.244744       0.026289     0.025766         5016.0   \n",
       "3  r2_ig_101          13.903916      -0.000133     0.010753         1293.0   \n",
       "4  r2_ig_102          -0.538206      -0.012598    -0.000312         1723.0   \n",
       "\n",
       "   emb_1__standard_deviation  emb_1__variance  emb_1__root_mean_square  \\\n",
       "0                   0.134303         0.018037                 0.136496   \n",
       "1                   0.132188         0.017474                 0.133074   \n",
       "2                   0.126746         0.016065                 0.129339   \n",
       "3                   0.144235         0.020804                 0.144636   \n",
       "4                   0.139171         0.019369                 0.139172   \n",
       "\n",
       "   emb_1__maximum  emb_1__absolute_maximum  ...  emb_768__median  \\\n",
       "0        0.671440                 0.671440  ...        -0.224691   \n",
       "1        0.345923                 0.345923  ...        -0.178725   \n",
       "2        0.523251                 0.523251  ...        -0.228821   \n",
       "3        0.520573                 0.592314  ...        -0.260851   \n",
       "4        0.576313                 0.576313  ...        -0.244546   \n",
       "\n",
       "   emb_768__mean  emb_768__length  emb_768__standard_deviation  \\\n",
       "0      -0.222255            878.0                     0.129926   \n",
       "1      -0.195514             91.0                     0.137983   \n",
       "2      -0.232339           5016.0                     0.143872   \n",
       "3      -0.260714           1293.0                     0.140515   \n",
       "4      -0.241903           1723.0                     0.134479   \n",
       "\n",
       "   emb_768__variance  emb_768__root_mean_square  emb_768__maximum  \\\n",
       "0           0.016881                   0.257446          0.250205   \n",
       "1           0.019039                   0.239301          0.044307   \n",
       "2           0.020699                   0.273277          0.264378   \n",
       "3           0.019744                   0.296170          0.243582   \n",
       "4           0.018085                   0.276770          0.267556   \n",
       "\n",
       "   emb_768__absolute_maximum  emb_768__minimum  Polarity  \n",
       "0                   0.686336         -0.686336   against  \n",
       "1                   0.725221         -0.725221       for  \n",
       "2                   0.745202         -0.745202   against  \n",
       "3                   0.732912         -0.732912       for  \n",
       "4                   0.804279         -0.804279       for  \n",
       "\n",
       "[5 rows x 7682 columns]"
      ]
     },
     "execution_count": 9,
     "metadata": {},
     "output_type": "execute_result"
    }
   ],
   "source": [
    "data.head()"
   ]
  },
  {
   "cell_type": "code",
   "execution_count": 10,
   "metadata": {},
   "outputs": [],
   "source": [
    "X = data[[col for col in data.columns if 'emb' in col]]\n",
    "y = data.Polarity"
   ]
  },
  {
   "cell_type": "code",
   "execution_count": 11,
   "metadata": {},
   "outputs": [
    {
     "data": {
      "text/plain": [
       "0      0\n",
       "1      1\n",
       "2      0\n",
       "3      1\n",
       "4      1\n",
       "      ..\n",
       "175    0\n",
       "176    0\n",
       "177    0\n",
       "178    0\n",
       "179    0\n",
       "Name: Polarity, Length: 1805, dtype: int64"
      ]
     },
     "execution_count": 11,
     "metadata": {},
     "output_type": "execute_result"
    }
   ],
   "source": [
    "y_encoded = y.map({'against': 0, 'for': 1})\n",
    "y_encoded"
   ]
  },
  {
   "cell_type": "code",
   "execution_count": 12,
   "metadata": {},
   "outputs": [],
   "source": [
    "X_train, X_test, y_train, y_test = train_test_split(X, y_encoded, test_size=0.2, random_state=42, stratify=y_encoded)"
   ]
  },
  {
   "cell_type": "code",
   "execution_count": 13,
   "metadata": {},
   "outputs": [
    {
     "name": "stdout",
     "output_type": "stream",
     "text": [
      "Training ...\n",
      "[Pipeline] ........... (step 1 of 2) Processing scaling, total=   0.1s\n"
     ]
    },
    {
     "name": "stdout",
     "output_type": "stream",
     "text": [
      "[10:46:36] ======== Monitor (0): HostSketchContainer ========\n",
      "[10:46:36] AllReduce: 0.110429s, 1 calls @ 110429us\n",
      "\n",
      "[10:46:36] MakeCuts: 0.152383s, 1 calls @ 152383us\n",
      "\n",
      "[10:46:36] DEBUG: /workspace/src/gbm/gbtree.cc:130: Using tree method: 0\n",
      "[10:47:17] ======== Monitor (0): Learner ========\n",
      "[10:47:17] Configure: 0.000468s, 1 calls @ 468us\n",
      "\n",
      "[10:47:17] EvalOneIter: 0.001006s, 100 calls @ 1006us\n",
      "\n",
      "[10:47:17] GetGradient: 0.012097s, 100 calls @ 12097us\n",
      "\n",
      "[10:47:17] PredictRaw: 0.000133s, 100 calls @ 133us\n",
      "\n",
      "[10:47:17] UpdateOneIter: 40.8048s, 100 calls @ 40804806us\n",
      "\n",
      "[10:47:17] ======== Monitor (0): GBTree ========\n",
      "[10:47:17] BoostNewTrees: 40.7914s, 100 calls @ 40791411us\n",
      "\n",
      "[10:47:17] CommitModel: 7e-05s, 100 calls @ 70us\n",
      "\n",
      "[10:47:17] ======== Monitor (0): HistUpdater ========\n",
      "[10:47:17] BuildHistogram: 18.537s, 500 calls @ 18536997us\n",
      "\n",
      "[10:47:17] EvaluateSplits: 16.6941s, 600 calls @ 16694140us\n",
      "\n",
      "[10:47:17] InitData: 0.017769s, 100 calls @ 17769us\n",
      "\n",
      "[10:47:17] InitRoot: 5.39801s, 100 calls @ 5398014us\n",
      "\n",
      "[10:47:17] LeafPartition: 3.5e-05s, 100 calls @ 35us\n",
      "\n",
      "[10:47:17] UpdatePosition: 1.09217s, 600 calls @ 1092172us\n",
      "\n",
      "[10:47:17] UpdatePredictionCache: 0.037312s, 100 calls @ 37312us\n",
      "\n",
      "[10:47:17] UpdateTree: 40.7529s, 100 calls @ 40752904us\n",
      "\n",
      "[Pipeline] ......... (step 2 of 2) Processing estimator, total=  41.7s\n",
      "[10:47:17] DEBUG: /workspace/src/gbm/gbtree.cc:130: Using tree method: 0\n"
     ]
    }
   ],
   "source": [
    "pipe = IMBPipeline(\n",
    "    steps = [\n",
    "        #('sampling', RandomOverSampler(random_state=42)),\n",
    "        ('scaling', MaxAbsScaler()),\n",
    "        ('estimator', XGBClassifier(\n",
    "            random_state = 42,\n",
    "            verbosity = 3,\n",
    "            # device = 'cuda',\n",
    "            # tree_method = 'hist'\n",
    "            ))\n",
    "    ],\n",
    "    verbose = True\n",
    "    )\n",
    "\n",
    "print('Training ...')\n",
    "pipe_trained = pipe.fit(X_train, y_train)\n",
    "\n",
    "y_pred = pipe_trained.predict(X_test)\n",
    "y_pred_proba = pipe_trained.predict_proba(X_test)"
   ]
  },
  {
   "cell_type": "code",
   "execution_count": 14,
   "metadata": {},
   "outputs": [],
   "source": [
    "df_classification_report = get_classification_report(y_test, y_pred)"
   ]
  },
  {
   "cell_type": "code",
   "execution_count": 15,
   "metadata": {},
   "outputs": [
    {
     "data": {
      "text/plain": [
       "167    1\n",
       "33     0\n",
       "121    0\n",
       "58     0\n",
       "45     1\n",
       "      ..\n",
       "162    0\n",
       "55     0\n",
       "111    1\n",
       "22     1\n",
       "22     1\n",
       "Name: Polarity, Length: 361, dtype: int64"
      ]
     },
     "execution_count": 15,
     "metadata": {},
     "output_type": "execute_result"
    }
   ],
   "source": [
    "y_test"
   ]
  },
  {
   "cell_type": "code",
   "execution_count": 16,
   "metadata": {},
   "outputs": [
    {
     "data": {
      "text/plain": [
       "array([1, 0, 0, 0, 1, 1, 0, 1, 1, 1, 0, 0, 1, 1, 1, 1, 0, 0, 0, 0, 0, 1,\n",
       "       0, 0, 1, 0, 0, 1, 1, 1, 1, 0, 1, 0, 1, 0, 0, 0, 0, 0, 1, 1, 1, 1,\n",
       "       0, 1, 1, 1, 1, 0, 1, 1, 0, 0, 1, 0, 0, 1, 1, 0, 0, 1, 0, 1, 0, 0,\n",
       "       1, 1, 1, 1, 0, 1, 1, 0, 0, 0, 0, 0, 1, 0, 1, 0, 0, 1, 0, 1, 0, 0,\n",
       "       0, 1, 0, 0, 0, 0, 0, 0, 1, 0, 1, 1, 1, 1, 0, 0, 1, 1, 0, 0, 0, 0,\n",
       "       0, 0, 0, 0, 0, 1, 1, 1, 0, 1, 0, 0, 1, 0, 1, 1, 1, 0, 0, 0, 1, 0,\n",
       "       0, 0, 0, 1, 1, 0, 1, 0, 1, 1, 1, 1, 0, 1, 1, 1, 1, 1, 1, 0, 1, 0,\n",
       "       1, 0, 0, 1, 0, 1, 1, 0, 1, 1, 0, 0, 1, 1, 1, 1, 0, 1, 1, 0, 1, 0,\n",
       "       0, 0, 1, 1, 1, 1, 0, 0, 0, 1, 0, 0, 0, 0, 0, 0, 1, 1, 1, 0, 1, 0,\n",
       "       0, 0, 0, 0, 0, 1, 1, 0, 0, 1, 0, 0, 0, 1, 1, 0, 1, 0, 1, 0, 0, 0,\n",
       "       0, 1, 0, 1, 1, 0, 0, 1, 0, 0, 1, 0, 0, 1, 1, 0, 0, 0, 1, 1, 0, 0,\n",
       "       0, 0, 1, 1, 0, 0, 0, 0, 1, 1, 0, 0, 1, 1, 1, 1, 0, 0, 0, 0, 0, 1,\n",
       "       0, 1, 0, 0, 1, 1, 0, 0, 0, 0, 0, 0, 1, 1, 1, 1, 0, 1, 1, 1, 1, 0,\n",
       "       1, 0, 1, 0, 0, 0, 0, 0, 0, 0, 1, 0, 0, 0, 1, 0, 0, 0, 0, 0, 0, 1,\n",
       "       1, 0, 0, 1, 0, 0, 0, 0, 0, 0, 0, 0, 0, 1, 0, 0, 0, 0, 0, 0, 0, 1,\n",
       "       1, 1, 1, 1, 0, 0, 0, 1, 1, 1, 1, 1, 1, 0, 1, 1, 0, 0, 0, 0, 0, 0,\n",
       "       1, 0, 0, 0, 0, 0, 1, 1, 1])"
      ]
     },
     "execution_count": 16,
     "metadata": {},
     "output_type": "execute_result"
    }
   ],
   "source": [
    "y_test.to_numpy()"
   ]
  },
  {
   "cell_type": "code",
   "execution_count": 17,
   "metadata": {},
   "outputs": [
    {
     "data": {
      "text/plain": [
       "array([0, 1, 0, 0, 1, 1, 0, 0, 1, 0, 0, 1, 0, 1, 1, 1, 0, 1, 0, 0, 1, 0,\n",
       "       0, 0, 1, 0, 1, 0, 0, 0, 0, 1, 0, 1, 0, 0, 0, 1, 0, 1, 1, 1, 0, 0,\n",
       "       0, 0, 0, 1, 0, 0, 0, 0, 1, 0, 1, 0, 0, 0, 0, 1, 0, 0, 0, 0, 1, 0,\n",
       "       1, 0, 0, 1, 0, 1, 0, 0, 0, 0, 0, 0, 0, 1, 1, 0, 0, 1, 0, 1, 0, 0,\n",
       "       0, 1, 0, 0, 0, 1, 0, 0, 0, 0, 0, 1, 1, 1, 0, 0, 1, 0, 1, 0, 0, 0,\n",
       "       0, 0, 0, 0, 0, 1, 1, 1, 0, 1, 1, 0, 0, 0, 0, 0, 0, 0, 0, 0, 0, 0,\n",
       "       0, 0, 0, 1, 1, 0, 1, 0, 1, 1, 1, 1, 0, 1, 1, 1, 1, 0, 1, 0, 0, 0,\n",
       "       0, 1, 0, 0, 0, 0, 1, 0, 0, 1, 1, 1, 0, 0, 1, 1, 1, 0, 1, 0, 0, 1,\n",
       "       0, 0, 1, 1, 1, 0, 0, 0, 0, 1, 0, 1, 0, 0, 0, 1, 0, 0, 1, 0, 0, 0,\n",
       "       1, 0, 0, 0, 0, 1, 1, 0, 0, 1, 0, 1, 0, 0, 0, 0, 0, 0, 0, 1, 0, 1,\n",
       "       1, 0, 0, 1, 0, 1, 1, 1, 1, 1, 1, 0, 1, 0, 0, 0, 0, 0, 1, 1, 1, 0,\n",
       "       0, 0, 1, 0, 0, 0, 0, 0, 0, 1, 0, 1, 1, 0, 1, 0, 1, 1, 1, 1, 0, 1,\n",
       "       0, 1, 0, 0, 1, 0, 0, 1, 0, 0, 0, 0, 1, 1, 1, 1, 0, 1, 1, 0, 0, 1,\n",
       "       0, 1, 0, 0, 0, 0, 0, 1, 1, 0, 0, 0, 0, 0, 1, 1, 0, 0, 0, 0, 1, 0,\n",
       "       0, 0, 0, 1, 1, 0, 1, 0, 0, 0, 0, 1, 0, 0, 1, 1, 1, 0, 0, 1, 1, 0,\n",
       "       1, 1, 0, 0, 0, 0, 1, 0, 1, 1, 0, 1, 0, 0, 1, 1, 0, 0, 0, 0, 0, 1,\n",
       "       1, 0, 1, 0, 0, 1, 1, 0, 0])"
      ]
     },
     "execution_count": 17,
     "metadata": {},
     "output_type": "execute_result"
    }
   ],
   "source": [
    "y_pred"
   ]
  },
  {
   "cell_type": "code",
   "execution_count": 18,
   "metadata": {},
   "outputs": [
    {
     "data": {
      "text/html": [
       "<div>\n",
       "<style scoped>\n",
       "    .dataframe tbody tr th:only-of-type {\n",
       "        vertical-align: middle;\n",
       "    }\n",
       "\n",
       "    .dataframe tbody tr th {\n",
       "        vertical-align: top;\n",
       "    }\n",
       "\n",
       "    .dataframe thead th {\n",
       "        text-align: right;\n",
       "    }\n",
       "</style>\n",
       "<table border=\"1\" class=\"dataframe\">\n",
       "  <thead>\n",
       "    <tr style=\"text-align: right;\">\n",
       "      <th></th>\n",
       "      <th>precision</th>\n",
       "      <th>recall</th>\n",
       "      <th>f1-score</th>\n",
       "      <th>support</th>\n",
       "    </tr>\n",
       "  </thead>\n",
       "  <tbody>\n",
       "    <tr>\n",
       "      <th>0</th>\n",
       "      <td>0.654709</td>\n",
       "      <td>0.715686</td>\n",
       "      <td>0.683841</td>\n",
       "      <td>204.000000</td>\n",
       "    </tr>\n",
       "    <tr>\n",
       "      <th>accuracy</th>\n",
       "      <td>0.626039</td>\n",
       "      <td>0.626039</td>\n",
       "      <td>0.626039</td>\n",
       "      <td>0.626039</td>\n",
       "    </tr>\n",
       "    <tr>\n",
       "      <th>weighted avg</th>\n",
       "      <td>0.622091</td>\n",
       "      <td>0.626039</td>\n",
       "      <td>0.622316</td>\n",
       "      <td>361.000000</td>\n",
       "    </tr>\n",
       "    <tr>\n",
       "      <th>macro avg</th>\n",
       "      <td>0.617209</td>\n",
       "      <td>0.612620</td>\n",
       "      <td>0.613107</td>\n",
       "      <td>361.000000</td>\n",
       "    </tr>\n",
       "    <tr>\n",
       "      <th>1</th>\n",
       "      <td>0.579710</td>\n",
       "      <td>0.509554</td>\n",
       "      <td>0.542373</td>\n",
       "      <td>157.000000</td>\n",
       "    </tr>\n",
       "  </tbody>\n",
       "</table>\n",
       "</div>"
      ],
      "text/plain": [
       "              precision    recall  f1-score     support\n",
       "0              0.654709  0.715686  0.683841  204.000000\n",
       "accuracy       0.626039  0.626039  0.626039    0.626039\n",
       "weighted avg   0.622091  0.626039  0.622316  361.000000\n",
       "macro avg      0.617209  0.612620  0.613107  361.000000\n",
       "1              0.579710  0.509554  0.542373  157.000000"
      ]
     },
     "execution_count": 18,
     "metadata": {},
     "output_type": "execute_result"
    }
   ],
   "source": [
    "df_classification_report"
   ]
  },
  {
   "cell_type": "code",
   "execution_count": 19,
   "metadata": {},
   "outputs": [
    {
     "data": {
      "text/plain": [
       "Polarity\n",
       "0    0.565651\n",
       "1    0.434349\n",
       "Name: count, dtype: float64"
      ]
     },
     "execution_count": 19,
     "metadata": {},
     "output_type": "execute_result"
    }
   ],
   "source": [
    "y_encoded.value_counts()/len(y_encoded)"
   ]
  },
  {
   "cell_type": "code",
   "execution_count": null,
   "metadata": {},
   "outputs": [],
   "source": []
  }
 ],
 "metadata": {
  "kernelspec": {
   "display_name": "env-stance-pred",
   "language": "python",
   "name": "python3"
  },
  "language_info": {
   "codemirror_mode": {
    "name": "ipython",
    "version": 3
   },
   "file_extension": ".py",
   "mimetype": "text/x-python",
   "name": "python",
   "nbconvert_exporter": "python",
   "pygments_lexer": "ipython3",
   "version": "3.12.2"
  }
 },
 "nbformat": 4,
 "nbformat_minor": 2
}
