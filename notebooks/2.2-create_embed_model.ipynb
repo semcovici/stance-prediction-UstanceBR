{
 "cells": [
  {
   "cell_type": "code",
   "execution_count": 2,
   "metadata": {},
   "outputs": [],
   "source": [
    "import pandas as pd\n",
    "from sklearn.metrics import classification_report\n",
    "from sklearn.model_selection import train_test_split\n",
    "import xgboost as xgb\n",
    "from xgboost import XGBClassifier\n",
    "from sklearn.pipeline import Pipeline\n",
    "from sklearn.preprocessing import LabelEncoder, MaxAbsScaler\n",
    "import numpy as np\n",
    "from imblearn.over_sampling import RandomOverSampler, SMOTE\n",
    "from imblearn.pipeline import Pipeline as IMBPipeline\n",
    "from sklearn.feature_selection import RFE\n",
    "from sklearn.feature_extraction.text import TfidfVectorizer\n",
    "from sklearn.ensemble import RandomForestClassifier\n",
    "from nltk.corpus import stopwords\n",
    "from tqdm import tqdm\n",
    "tqdm.pandas()\n",
    "from sklearn.compose import ColumnTransformer\n",
    "\n",
    "from tsfresh.feature_extraction import MinimalFCParameters\n",
    "from tsfresh.feature_extraction import extract_features"
   ]
  },
  {
   "cell_type": "code",
   "execution_count": 3,
   "metadata": {},
   "outputs": [],
   "source": [
    "def get_classification_report(y_test, y_pred):\n",
    "    '''Source: https://stackoverflow.com/questions/39662398/scikit-learn-output-metrics-classification-report-into-csv-tab-delimited-format'''\n",
    "    report = classification_report(y_test, y_pred, output_dict=True)\n",
    "    df_classification_report = pd.DataFrame(report).transpose()\n",
    "    df_classification_report = df_classification_report.sort_values(by=['f1-score'], ascending=False)\n",
    "    return df_classification_report"
   ]
  },
  {
   "cell_type": "code",
   "execution_count": 4,
   "metadata": {},
   "outputs": [
    {
     "name": "stderr",
     "output_type": "stream",
     "text": [
      "[nltk_data] Downloading package stopwords to\n",
      "[nltk_data]     /home/semcovici/nltk_data...\n",
      "[nltk_data]   Package stopwords is already up-to-date!\n"
     ]
    },
    {
     "data": {
      "text/plain": [
       "True"
      ]
     },
     "execution_count": 4,
     "metadata": {},
     "output_type": "execute_result"
    }
   ],
   "source": [
    "import nltk\n",
    "nltk.download('stopwords')"
   ]
  },
  {
   "cell_type": "code",
   "execution_count": 5,
   "metadata": {},
   "outputs": [],
   "source": [
    "path_raw_data = '../data/raw/'\n",
    "path_processed_data = '../data/processed/'"
   ]
  },
  {
   "cell_type": "code",
   "execution_count": 6,
   "metadata": {},
   "outputs": [],
   "source": [
    "corpus = 'ig'\n",
    "model_name = 'facebook/fasttext-pt-vectors'"
   ]
  },
  {
   "cell_type": "code",
   "execution_count": 7,
   "metadata": {},
   "outputs": [],
   "source": [
    "path_data = path_processed_data + f'train_r3_{corpus}_separated_comments_{model_name.replace(\"/\", \"_\")}_tsfresh.parquet'"
   ]
  },
  {
   "cell_type": "code",
   "execution_count": 8,
   "metadata": {},
   "outputs": [],
   "source": [
    "data = pd.read_parquet(path_data)"
   ]
  },
  {
   "cell_type": "code",
   "execution_count": 9,
   "metadata": {},
   "outputs": [
    {
     "data": {
      "text/html": [
       "<div>\n",
       "<style scoped>\n",
       "    .dataframe tbody tr th:only-of-type {\n",
       "        vertical-align: middle;\n",
       "    }\n",
       "\n",
       "    .dataframe tbody tr th {\n",
       "        vertical-align: top;\n",
       "    }\n",
       "\n",
       "    .dataframe thead th {\n",
       "        text-align: right;\n",
       "    }\n",
       "</style>\n",
       "<table border=\"1\" class=\"dataframe\">\n",
       "  <thead>\n",
       "    <tr style=\"text-align: right;\">\n",
       "      <th></th>\n",
       "      <th>User_ID</th>\n",
       "      <th>emb_0__sum_values</th>\n",
       "      <th>emb_0__median</th>\n",
       "      <th>emb_0__mean</th>\n",
       "      <th>emb_0__length</th>\n",
       "      <th>emb_0__standard_deviation</th>\n",
       "      <th>emb_0__variance</th>\n",
       "      <th>emb_0__root_mean_square</th>\n",
       "      <th>emb_0__maximum</th>\n",
       "      <th>emb_0__absolute_maximum</th>\n",
       "      <th>...</th>\n",
       "      <th>emb_299__median</th>\n",
       "      <th>emb_299__mean</th>\n",
       "      <th>emb_299__length</th>\n",
       "      <th>emb_299__standard_deviation</th>\n",
       "      <th>emb_299__variance</th>\n",
       "      <th>emb_299__root_mean_square</th>\n",
       "      <th>emb_299__maximum</th>\n",
       "      <th>emb_299__absolute_maximum</th>\n",
       "      <th>emb_299__minimum</th>\n",
       "      <th>Polarity</th>\n",
       "    </tr>\n",
       "  </thead>\n",
       "  <tbody>\n",
       "    <tr>\n",
       "      <th>0</th>\n",
       "      <td>r2_ig_1</td>\n",
       "      <td>18.705984</td>\n",
       "      <td>0.016341</td>\n",
       "      <td>0.021305</td>\n",
       "      <td>878.0</td>\n",
       "      <td>0.034774</td>\n",
       "      <td>0.001209</td>\n",
       "      <td>0.040782</td>\n",
       "      <td>0.161842</td>\n",
       "      <td>0.161842</td>\n",
       "      <td>...</td>\n",
       "      <td>0.023159</td>\n",
       "      <td>0.018238</td>\n",
       "      <td>878.0</td>\n",
       "      <td>0.061676</td>\n",
       "      <td>0.003804</td>\n",
       "      <td>0.064316</td>\n",
       "      <td>0.221551</td>\n",
       "      <td>0.222580</td>\n",
       "      <td>-0.222580</td>\n",
       "      <td>against</td>\n",
       "    </tr>\n",
       "    <tr>\n",
       "      <th>1</th>\n",
       "      <td>r2_ig_10</td>\n",
       "      <td>-0.694554</td>\n",
       "      <td>-0.007306</td>\n",
       "      <td>-0.007632</td>\n",
       "      <td>91.0</td>\n",
       "      <td>0.025381</td>\n",
       "      <td>0.000644</td>\n",
       "      <td>0.026504</td>\n",
       "      <td>0.077938</td>\n",
       "      <td>0.094406</td>\n",
       "      <td>...</td>\n",
       "      <td>-0.000196</td>\n",
       "      <td>0.002800</td>\n",
       "      <td>91.0</td>\n",
       "      <td>0.063650</td>\n",
       "      <td>0.004051</td>\n",
       "      <td>0.063712</td>\n",
       "      <td>0.140630</td>\n",
       "      <td>0.245795</td>\n",
       "      <td>-0.245795</td>\n",
       "      <td>for</td>\n",
       "    </tr>\n",
       "    <tr>\n",
       "      <th>2</th>\n",
       "      <td>r2_ig_100</td>\n",
       "      <td>134.651776</td>\n",
       "      <td>0.021312</td>\n",
       "      <td>0.026844</td>\n",
       "      <td>5016.0</td>\n",
       "      <td>0.034851</td>\n",
       "      <td>0.001215</td>\n",
       "      <td>0.043991</td>\n",
       "      <td>0.277412</td>\n",
       "      <td>0.277412</td>\n",
       "      <td>...</td>\n",
       "      <td>0.046704</td>\n",
       "      <td>0.042799</td>\n",
       "      <td>5016.0</td>\n",
       "      <td>0.063111</td>\n",
       "      <td>0.003983</td>\n",
       "      <td>0.076254</td>\n",
       "      <td>0.236323</td>\n",
       "      <td>0.331171</td>\n",
       "      <td>-0.331171</td>\n",
       "      <td>against</td>\n",
       "    </tr>\n",
       "    <tr>\n",
       "      <th>3</th>\n",
       "      <td>r2_ig_1003</td>\n",
       "      <td>8.989551</td>\n",
       "      <td>0.004784</td>\n",
       "      <td>0.007261</td>\n",
       "      <td>1238.0</td>\n",
       "      <td>0.029329</td>\n",
       "      <td>0.000860</td>\n",
       "      <td>0.030214</td>\n",
       "      <td>0.167369</td>\n",
       "      <td>0.167369</td>\n",
       "      <td>...</td>\n",
       "      <td>0.009481</td>\n",
       "      <td>0.004476</td>\n",
       "      <td>1238.0</td>\n",
       "      <td>0.060376</td>\n",
       "      <td>0.003645</td>\n",
       "      <td>0.060541</td>\n",
       "      <td>0.163734</td>\n",
       "      <td>0.239796</td>\n",
       "      <td>-0.239796</td>\n",
       "      <td>for</td>\n",
       "    </tr>\n",
       "    <tr>\n",
       "      <th>4</th>\n",
       "      <td>r2_ig_1005</td>\n",
       "      <td>-0.023906</td>\n",
       "      <td>-0.023906</td>\n",
       "      <td>-0.023906</td>\n",
       "      <td>1.0</td>\n",
       "      <td>0.000000</td>\n",
       "      <td>0.000000</td>\n",
       "      <td>0.023906</td>\n",
       "      <td>-0.023906</td>\n",
       "      <td>0.023906</td>\n",
       "      <td>...</td>\n",
       "      <td>0.385951</td>\n",
       "      <td>0.385951</td>\n",
       "      <td>1.0</td>\n",
       "      <td>0.000000</td>\n",
       "      <td>0.000000</td>\n",
       "      <td>0.385951</td>\n",
       "      <td>0.385951</td>\n",
       "      <td>0.385951</td>\n",
       "      <td>0.385951</td>\n",
       "      <td>for</td>\n",
       "    </tr>\n",
       "  </tbody>\n",
       "</table>\n",
       "<p>5 rows × 3002 columns</p>\n",
       "</div>"
      ],
      "text/plain": [
       "      User_ID  emb_0__sum_values  emb_0__median  emb_0__mean  emb_0__length  \\\n",
       "0     r2_ig_1          18.705984       0.016341     0.021305          878.0   \n",
       "1    r2_ig_10          -0.694554      -0.007306    -0.007632           91.0   \n",
       "2   r2_ig_100         134.651776       0.021312     0.026844         5016.0   \n",
       "3  r2_ig_1003           8.989551       0.004784     0.007261         1238.0   \n",
       "4  r2_ig_1005          -0.023906      -0.023906    -0.023906            1.0   \n",
       "\n",
       "   emb_0__standard_deviation  emb_0__variance  emb_0__root_mean_square  \\\n",
       "0                   0.034774         0.001209                 0.040782   \n",
       "1                   0.025381         0.000644                 0.026504   \n",
       "2                   0.034851         0.001215                 0.043991   \n",
       "3                   0.029329         0.000860                 0.030214   \n",
       "4                   0.000000         0.000000                 0.023906   \n",
       "\n",
       "   emb_0__maximum  emb_0__absolute_maximum  ...  emb_299__median  \\\n",
       "0        0.161842                 0.161842  ...         0.023159   \n",
       "1        0.077938                 0.094406  ...        -0.000196   \n",
       "2        0.277412                 0.277412  ...         0.046704   \n",
       "3        0.167369                 0.167369  ...         0.009481   \n",
       "4       -0.023906                 0.023906  ...         0.385951   \n",
       "\n",
       "   emb_299__mean  emb_299__length  emb_299__standard_deviation  \\\n",
       "0       0.018238            878.0                     0.061676   \n",
       "1       0.002800             91.0                     0.063650   \n",
       "2       0.042799           5016.0                     0.063111   \n",
       "3       0.004476           1238.0                     0.060376   \n",
       "4       0.385951              1.0                     0.000000   \n",
       "\n",
       "   emb_299__variance  emb_299__root_mean_square  emb_299__maximum  \\\n",
       "0           0.003804                   0.064316          0.221551   \n",
       "1           0.004051                   0.063712          0.140630   \n",
       "2           0.003983                   0.076254          0.236323   \n",
       "3           0.003645                   0.060541          0.163734   \n",
       "4           0.000000                   0.385951          0.385951   \n",
       "\n",
       "   emb_299__absolute_maximum  emb_299__minimum  Polarity  \n",
       "0                   0.222580         -0.222580   against  \n",
       "1                   0.245795         -0.245795       for  \n",
       "2                   0.331171         -0.331171   against  \n",
       "3                   0.239796         -0.239796       for  \n",
       "4                   0.385951          0.385951       for  \n",
       "\n",
       "[5 rows x 3002 columns]"
      ]
     },
     "execution_count": 9,
     "metadata": {},
     "output_type": "execute_result"
    }
   ],
   "source": [
    "data.head()"
   ]
  },
  {
   "cell_type": "code",
   "execution_count": 11,
   "metadata": {},
   "outputs": [],
   "source": [
    "X = data[[col for col in data.columns if 'emb' in col]]\n",
    "y = data.Polarity"
   ]
  },
  {
   "cell_type": "code",
   "execution_count": 12,
   "metadata": {},
   "outputs": [
    {
     "data": {
      "text/plain": [
       "0       0\n",
       "1       1\n",
       "2       0\n",
       "3       1\n",
       "4       1\n",
       "       ..\n",
       "1791    1\n",
       "1792    1\n",
       "1793    0\n",
       "1794    0\n",
       "1795    0\n",
       "Name: Polarity, Length: 1796, dtype: int64"
      ]
     },
     "execution_count": 12,
     "metadata": {},
     "output_type": "execute_result"
    }
   ],
   "source": [
    "y_encoded = y.map({'against': 0, 'for': 1})\n",
    "y_encoded"
   ]
  },
  {
   "cell_type": "code",
   "execution_count": 13,
   "metadata": {},
   "outputs": [],
   "source": [
    "X_train, X_test, y_train, y_test = train_test_split(X, y_encoded, test_size=0.2, random_state=42, stratify=y_encoded)"
   ]
  },
  {
   "cell_type": "code",
   "execution_count": 14,
   "metadata": {},
   "outputs": [
    {
     "name": "stdout",
     "output_type": "stream",
     "text": [
      "Training ...\n",
      "[Pipeline] ........... (step 1 of 2) Processing scaling, total=   0.1s\n",
      "[13:31:50] ======== Monitor (0): HostSketchContainer ========\n",
      "[13:31:50] AllReduce: 0.033447s, 1 calls @ 33447us\n",
      "\n",
      "[13:31:50] MakeCuts: 0.040282s, 1 calls @ 40282us\n",
      "\n",
      "[13:31:50] DEBUG: /workspace/src/gbm/gbtree.cc:130: Using tree method: 0\n",
      "[13:32:06] ======== Monitor (0): Learner ========\n",
      "[13:32:06] Configure: 0.000795s, 1 calls @ 795us\n",
      "\n",
      "[13:32:06] EvalOneIter: 0.001045s, 100 calls @ 1045us\n",
      "\n",
      "[13:32:06] GetGradient: 0.003723s, 100 calls @ 3723us\n",
      "\n",
      "[13:32:06] PredictRaw: 0.000288s, 100 calls @ 288us\n",
      "\n",
      "[13:32:06] UpdateOneIter: 16.2232s, 100 calls @ 16223198us\n",
      "\n",
      "[13:32:06] ======== Monitor (0): GBTree ========\n",
      "[13:32:06] BoostNewTrees: 16.217s, 100 calls @ 16217033us\n",
      "\n",
      "[13:32:06] CommitModel: 8.8e-05s, 100 calls @ 88us\n",
      "\n",
      "[13:32:06] ======== Monitor (0): HistUpdater ========\n",
      "[13:32:06] BuildHistogram: 7.40995s, 500 calls @ 7409948us\n",
      "\n",
      "[13:32:06] EvaluateSplits: 6.71078s, 600 calls @ 6710782us\n",
      "\n",
      "[13:32:06] InitData: 0.003426s, 100 calls @ 3426us\n",
      "\n",
      "[13:32:06] InitRoot: 2.09015s, 100 calls @ 2090145us\n",
      "\n",
      "[13:32:06] LeafPartition: 3.8e-05s, 100 calls @ 38us\n",
      "\n",
      "[13:32:06] UpdatePosition: 0.300496s, 600 calls @ 300496us\n",
      "\n",
      "[13:32:06] UpdatePredictionCache: 0.00114s, 100 calls @ 1140us\n",
      "\n",
      "[13:32:06] UpdateTree: 16.2144s, 100 calls @ 16214434us\n",
      "\n",
      "[Pipeline] ......... (step 2 of 2) Processing estimator, total=  16.6s\n",
      "[13:32:06] DEBUG: /workspace/src/gbm/gbtree.cc:130: Using tree method: 0\n"
     ]
    }
   ],
   "source": [
    "pipe = IMBPipeline(\n",
    "    steps = [\n",
    "        #('sampling', RandomOverSampler(random_state=42)),\n",
    "        ('scaling', MaxAbsScaler()),\n",
    "        ('estimator', XGBClassifier(\n",
    "            random_state = 42,\n",
    "            verbosity = 3,\n",
    "            # device = 'cuda',\n",
    "            # tree_method = 'hist'\n",
    "            ))\n",
    "    ],\n",
    "    verbose = True\n",
    "    )\n",
    "\n",
    "print('Training ...')\n",
    "pipe_trained = pipe.fit(X_train, y_train)\n",
    "\n",
    "y_pred = pipe_trained.predict(X_test)\n",
    "y_pred_proba = pipe_trained.predict_proba(X_test)"
   ]
  },
  {
   "cell_type": "code",
   "execution_count": 15,
   "metadata": {},
   "outputs": [],
   "source": [
    "df_classification_report = get_classification_report(y_test, y_pred)"
   ]
  },
  {
   "cell_type": "code",
   "execution_count": 16,
   "metadata": {},
   "outputs": [
    {
     "data": {
      "text/plain": [
       "729     1\n",
       "282     0\n",
       "222     0\n",
       "111     0\n",
       "104     1\n",
       "       ..\n",
       "1659    1\n",
       "998     0\n",
       "1779    0\n",
       "1719    1\n",
       "1373    1\n",
       "Name: Polarity, Length: 360, dtype: int64"
      ]
     },
     "execution_count": 16,
     "metadata": {},
     "output_type": "execute_result"
    }
   ],
   "source": [
    "y_test"
   ]
  },
  {
   "cell_type": "code",
   "execution_count": 17,
   "metadata": {},
   "outputs": [
    {
     "data": {
      "text/plain": [
       "array([1, 0, 0, 0, 1, 0, 0, 1, 1, 0, 1, 1, 1, 0, 0, 1, 0, 0, 1, 0, 1, 1,\n",
       "       1, 0, 0, 1, 1, 1, 0, 0, 0, 1, 1, 0, 1, 0, 1, 0, 1, 1, 1, 0, 0, 1,\n",
       "       1, 0, 0, 0, 1, 1, 1, 0, 1, 1, 1, 1, 1, 0, 0, 0, 1, 0, 0, 0, 1, 0,\n",
       "       0, 0, 0, 1, 0, 0, 1, 0, 0, 0, 0, 1, 1, 1, 0, 1, 0, 0, 0, 0, 1, 1,\n",
       "       1, 1, 0, 0, 1, 0, 1, 1, 0, 0, 0, 0, 1, 1, 0, 0, 0, 0, 0, 0, 0, 1,\n",
       "       1, 1, 1, 0, 0, 1, 0, 0, 0, 0, 1, 0, 0, 1, 0, 0, 1, 1, 1, 0, 0, 1,\n",
       "       1, 1, 1, 0, 1, 0, 0, 0, 1, 1, 0, 1, 0, 1, 1, 0, 1, 0, 1, 1, 1, 1,\n",
       "       1, 1, 0, 1, 0, 1, 0, 0, 1, 1, 1, 1, 0, 0, 1, 0, 0, 0, 0, 0, 1, 1,\n",
       "       0, 0, 1, 0, 0, 0, 0, 0, 0, 0, 1, 0, 0, 1, 0, 0, 0, 1, 1, 0, 1, 0,\n",
       "       1, 0, 0, 1, 0, 1, 0, 1, 1, 0, 0, 0, 0, 1, 0, 1, 1, 1, 0, 1, 1, 0,\n",
       "       0, 0, 0, 1, 0, 0, 0, 0, 1, 0, 0, 1, 1, 1, 0, 0, 0, 0, 1, 0, 0, 0,\n",
       "       1, 0, 0, 1, 1, 0, 0, 0, 0, 1, 1, 0, 0, 1, 1, 0, 0, 1, 1, 0, 0, 0,\n",
       "       0, 0, 0, 1, 1, 1, 1, 0, 1, 1, 1, 1, 0, 1, 0, 1, 0, 0, 0, 1, 0, 0,\n",
       "       0, 0, 1, 0, 1, 0, 0, 0, 0, 0, 0, 1, 1, 0, 0, 1, 0, 0, 0, 0, 0, 1,\n",
       "       0, 0, 0, 1, 0, 0, 0, 0, 0, 0, 0, 1, 1, 1, 1, 1, 0, 0, 0, 1, 1, 1,\n",
       "       1, 1, 1, 0, 1, 1, 0, 0, 0, 0, 0, 0, 1, 0, 0, 0, 0, 0, 1, 1, 1, 1,\n",
       "       0, 0, 1, 1, 0, 0, 1, 1])"
      ]
     },
     "execution_count": 17,
     "metadata": {},
     "output_type": "execute_result"
    }
   ],
   "source": [
    "y_test.to_numpy()"
   ]
  },
  {
   "cell_type": "code",
   "execution_count": 18,
   "metadata": {},
   "outputs": [
    {
     "data": {
      "text/plain": [
       "array([1, 0, 1, 0, 0, 1, 0, 0, 0, 1, 1, 1, 0, 0, 1, 0, 0, 0, 1, 0, 0, 1,\n",
       "       0, 1, 0, 1, 1, 1, 0, 1, 0, 1, 1, 0, 0, 0, 0, 0, 1, 1, 1, 1, 0, 0,\n",
       "       0, 1, 1, 0, 1, 0, 0, 1, 0, 1, 1, 0, 0, 0, 0, 0, 1, 0, 1, 1, 0, 0,\n",
       "       1, 0, 0, 0, 0, 0, 1, 0, 0, 0, 0, 0, 1, 1, 0, 0, 1, 1, 0, 0, 0, 0,\n",
       "       0, 0, 1, 0, 1, 0, 1, 0, 0, 0, 1, 1, 0, 1, 0, 0, 0, 0, 1, 1, 0, 1,\n",
       "       1, 1, 0, 0, 0, 0, 0, 0, 0, 1, 1, 0, 0, 1, 0, 0, 0, 1, 1, 0, 0, 1,\n",
       "       1, 0, 1, 0, 1, 1, 0, 0, 0, 0, 1, 1, 0, 1, 1, 0, 1, 0, 1, 1, 1, 0,\n",
       "       0, 1, 1, 1, 1, 0, 1, 0, 1, 0, 0, 1, 0, 1, 1, 0, 0, 0, 0, 0, 1, 1,\n",
       "       1, 0, 1, 1, 0, 0, 0, 0, 0, 0, 0, 0, 0, 0, 0, 0, 0, 1, 1, 0, 0, 0,\n",
       "       0, 0, 0, 1, 0, 1, 1, 1, 0, 0, 0, 0, 0, 1, 1, 0, 1, 0, 0, 1, 0, 0,\n",
       "       0, 0, 0, 0, 0, 0, 0, 0, 1, 0, 1, 0, 1, 1, 0, 0, 0, 0, 0, 1, 0, 0,\n",
       "       1, 1, 1, 1, 0, 0, 0, 0, 0, 1, 0, 1, 1, 0, 1, 1, 0, 0, 0, 1, 0, 0,\n",
       "       0, 1, 0, 0, 1, 0, 1, 0, 1, 0, 0, 0, 0, 1, 0, 1, 1, 1, 0, 1, 1, 0,\n",
       "       0, 1, 0, 0, 1, 0, 0, 0, 1, 0, 0, 0, 1, 0, 0, 0, 0, 1, 0, 0, 0, 1,\n",
       "       0, 0, 1, 1, 0, 0, 0, 0, 1, 1, 0, 0, 1, 0, 1, 0, 0, 1, 0, 0, 1, 0,\n",
       "       1, 0, 1, 1, 1, 1, 0, 1, 1, 0, 0, 0, 0, 0, 1, 0, 0, 1, 0, 0, 1, 0,\n",
       "       0, 0, 0, 0, 0, 0, 1, 0])"
      ]
     },
     "execution_count": 18,
     "metadata": {},
     "output_type": "execute_result"
    }
   ],
   "source": [
    "y_pred"
   ]
  },
  {
   "cell_type": "code",
   "execution_count": 19,
   "metadata": {},
   "outputs": [
    {
     "data": {
      "text/html": [
       "<div>\n",
       "<style scoped>\n",
       "    .dataframe tbody tr th:only-of-type {\n",
       "        vertical-align: middle;\n",
       "    }\n",
       "\n",
       "    .dataframe tbody tr th {\n",
       "        vertical-align: top;\n",
       "    }\n",
       "\n",
       "    .dataframe thead th {\n",
       "        text-align: right;\n",
       "    }\n",
       "</style>\n",
       "<table border=\"1\" class=\"dataframe\">\n",
       "  <thead>\n",
       "    <tr style=\"text-align: right;\">\n",
       "      <th></th>\n",
       "      <th>precision</th>\n",
       "      <th>recall</th>\n",
       "      <th>f1-score</th>\n",
       "      <th>support</th>\n",
       "    </tr>\n",
       "  </thead>\n",
       "  <tbody>\n",
       "    <tr>\n",
       "      <th>0</th>\n",
       "      <td>0.666667</td>\n",
       "      <td>0.729064</td>\n",
       "      <td>0.696471</td>\n",
       "      <td>203.000000</td>\n",
       "    </tr>\n",
       "    <tr>\n",
       "      <th>accuracy</th>\n",
       "      <td>0.641667</td>\n",
       "      <td>0.641667</td>\n",
       "      <td>0.641667</td>\n",
       "      <td>0.641667</td>\n",
       "    </tr>\n",
       "    <tr>\n",
       "      <th>weighted avg</th>\n",
       "      <td>0.638225</td>\n",
       "      <td>0.641667</td>\n",
       "      <td>0.638137</td>\n",
       "      <td>360.000000</td>\n",
       "    </tr>\n",
       "    <tr>\n",
       "      <th>macro avg</th>\n",
       "      <td>0.634058</td>\n",
       "      <td>0.628863</td>\n",
       "      <td>0.629591</td>\n",
       "      <td>360.000000</td>\n",
       "    </tr>\n",
       "    <tr>\n",
       "      <th>1</th>\n",
       "      <td>0.601449</td>\n",
       "      <td>0.528662</td>\n",
       "      <td>0.562712</td>\n",
       "      <td>157.000000</td>\n",
       "    </tr>\n",
       "  </tbody>\n",
       "</table>\n",
       "</div>"
      ],
      "text/plain": [
       "              precision    recall  f1-score     support\n",
       "0              0.666667  0.729064  0.696471  203.000000\n",
       "accuracy       0.641667  0.641667  0.641667    0.641667\n",
       "weighted avg   0.638225  0.641667  0.638137  360.000000\n",
       "macro avg      0.634058  0.628863  0.629591  360.000000\n",
       "1              0.601449  0.528662  0.562712  157.000000"
      ]
     },
     "execution_count": 19,
     "metadata": {},
     "output_type": "execute_result"
    }
   ],
   "source": [
    "df_classification_report"
   ]
  },
  {
   "cell_type": "code",
   "execution_count": 20,
   "metadata": {},
   "outputs": [
    {
     "data": {
      "text/plain": [
       "Polarity\n",
       "0    0.565145\n",
       "1    0.434855\n",
       "Name: count, dtype: float64"
      ]
     },
     "execution_count": 20,
     "metadata": {},
     "output_type": "execute_result"
    }
   ],
   "source": [
    "y_encoded.value_counts()/len(y_encoded)"
   ]
  },
  {
   "cell_type": "code",
   "execution_count": null,
   "metadata": {},
   "outputs": [],
   "source": []
  }
 ],
 "metadata": {
  "kernelspec": {
   "display_name": "env-stance-pred",
   "language": "python",
   "name": "python3"
  },
  "language_info": {
   "codemirror_mode": {
    "name": "ipython",
    "version": 3
   },
   "file_extension": ".py",
   "mimetype": "text/x-python",
   "name": "python",
   "nbconvert_exporter": "python",
   "pygments_lexer": "ipython3",
   "version": "3.12.2"
  }
 },
 "nbformat": 4,
 "nbformat_minor": 2
}
