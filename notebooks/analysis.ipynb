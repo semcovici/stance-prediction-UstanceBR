{
 "cells": [
  {
   "cell_type": "markdown",
   "metadata": {},
   "source": [
    "## Imports"
   ]
  },
  {
   "cell_type": "code",
   "execution_count": 1,
   "metadata": {},
   "outputs": [],
   "source": [
    "import pandas as pd\n",
    "from tqdm import tqdm\n",
    "tqdm.pandas()\n",
    "import seaborn as sns\n",
    "from nltk.tokenize import word_tokenize\n",
    "import nltk"
   ]
  },
  {
   "cell_type": "code",
   "execution_count": 2,
   "metadata": {},
   "outputs": [
    {
     "name": "stderr",
     "output_type": "stream",
     "text": [
      "[nltk_data] Downloading package punkt to /home/semcovici/nltk_data...\n",
      "[nltk_data]   Package punkt is already up-to-date!\n"
     ]
    },
    {
     "data": {
      "text/plain": [
       "True"
      ]
     },
     "execution_count": 2,
     "metadata": {},
     "output_type": "execute_result"
    }
   ],
   "source": [
    "nltk.download('punkt')"
   ]
  },
  {
   "cell_type": "markdown",
   "metadata": {},
   "source": [
    "## Read Data"
   ]
  },
  {
   "cell_type": "code",
   "execution_count": 3,
   "metadata": {},
   "outputs": [],
   "source": [
    "path_raw_data = '../data/raw/'"
   ]
  },
  {
   "cell_type": "code",
   "execution_count": 4,
   "metadata": {},
   "outputs": [],
   "source": [
    "data = pd.read_csv(\n",
    "    path_raw_data + 'train_r2_bo_top_mentioned_timelines.csv', \n",
    "    sep = ';', \n",
    "    encoding='utf-8-sig'\n",
    "    )"
   ]
  },
  {
   "cell_type": "code",
   "execution_count": 5,
   "metadata": {},
   "outputs": [
    {
     "data": {
      "text/html": [
       "<div>\n",
       "<style scoped>\n",
       "    .dataframe tbody tr th:only-of-type {\n",
       "        vertical-align: middle;\n",
       "    }\n",
       "\n",
       "    .dataframe tbody tr th {\n",
       "        vertical-align: top;\n",
       "    }\n",
       "\n",
       "    .dataframe thead th {\n",
       "        text-align: right;\n",
       "    }\n",
       "</style>\n",
       "<table border=\"1\" class=\"dataframe\">\n",
       "  <thead>\n",
       "    <tr style=\"text-align: right;\">\n",
       "      <th></th>\n",
       "      <th>User_ID</th>\n",
       "      <th>Polarity</th>\n",
       "      <th>Texts</th>\n",
       "    </tr>\n",
       "  </thead>\n",
       "  <tbody>\n",
       "    <tr>\n",
       "      <th>0</th>\n",
       "      <td>r2_bo_1</td>\n",
       "      <td>for</td>\n",
       "      <td>Saudadinhaa dl :/ # Gente que beija com mordid...</td>\n",
       "    </tr>\n",
       "    <tr>\n",
       "      <th>1</th>\n",
       "      <td>r2_bo_1</td>\n",
       "      <td>against</td>\n",
       "      <td>Saudadinhaa dl :/ # Gente que beija com mordid...</td>\n",
       "    </tr>\n",
       "    <tr>\n",
       "      <th>2</th>\n",
       "      <td>r2_bo_1</td>\n",
       "      <td>against</td>\n",
       "      <td>Saudadinhaa dl :/ # Gente que beija com mordid...</td>\n",
       "    </tr>\n",
       "    <tr>\n",
       "      <th>3</th>\n",
       "      <td>r2_bo_3</td>\n",
       "      <td>for</td>\n",
       "      <td>@Gremio E que domínio, hein campeão? # @Analis...</td>\n",
       "    </tr>\n",
       "    <tr>\n",
       "      <th>4</th>\n",
       "      <td>r2_bo_3</td>\n",
       "      <td>for</td>\n",
       "      <td>@Gremio E que domínio, hein campeão? # @Analis...</td>\n",
       "    </tr>\n",
       "    <tr>\n",
       "      <th>...</th>\n",
       "      <td>...</td>\n",
       "      <td>...</td>\n",
       "      <td>...</td>\n",
       "    </tr>\n",
       "    <tr>\n",
       "      <th>7055</th>\n",
       "      <td>r2_bo_756</td>\n",
       "      <td>against</td>\n",
       "      <td>Villas Boas manobra para não fazer de Mourão \"...</td>\n",
       "    </tr>\n",
       "    <tr>\n",
       "      <th>7056</th>\n",
       "      <td>r2_bo_756</td>\n",
       "      <td>against</td>\n",
       "      <td>Villas Boas manobra para não fazer de Mourão \"...</td>\n",
       "    </tr>\n",
       "    <tr>\n",
       "      <th>7057</th>\n",
       "      <td>r2_bo_756</td>\n",
       "      <td>against</td>\n",
       "      <td>Villas Boas manobra para não fazer de Mourão \"...</td>\n",
       "    </tr>\n",
       "    <tr>\n",
       "      <th>7058</th>\n",
       "      <td>r2_bo_756</td>\n",
       "      <td>against</td>\n",
       "      <td>Villas Boas manobra para não fazer de Mourão \"...</td>\n",
       "    </tr>\n",
       "    <tr>\n",
       "      <th>7059</th>\n",
       "      <td>r2_bo_756</td>\n",
       "      <td>against</td>\n",
       "      <td>Villas Boas manobra para não fazer de Mourão \"...</td>\n",
       "    </tr>\n",
       "  </tbody>\n",
       "</table>\n",
       "<p>7060 rows × 3 columns</p>\n",
       "</div>"
      ],
      "text/plain": [
       "        User_ID Polarity                                              Texts\n",
       "0       r2_bo_1      for  Saudadinhaa dl :/ # Gente que beija com mordid...\n",
       "1       r2_bo_1  against  Saudadinhaa dl :/ # Gente que beija com mordid...\n",
       "2       r2_bo_1  against  Saudadinhaa dl :/ # Gente que beija com mordid...\n",
       "3       r2_bo_3      for  @Gremio E que domínio, hein campeão? # @Analis...\n",
       "4       r2_bo_3      for  @Gremio E que domínio, hein campeão? # @Analis...\n",
       "...         ...      ...                                                ...\n",
       "7055  r2_bo_756  against  Villas Boas manobra para não fazer de Mourão \"...\n",
       "7056  r2_bo_756  against  Villas Boas manobra para não fazer de Mourão \"...\n",
       "7057  r2_bo_756  against  Villas Boas manobra para não fazer de Mourão \"...\n",
       "7058  r2_bo_756  against  Villas Boas manobra para não fazer de Mourão \"...\n",
       "7059  r2_bo_756  against  Villas Boas manobra para não fazer de Mourão \"...\n",
       "\n",
       "[7060 rows x 3 columns]"
      ]
     },
     "execution_count": 5,
     "metadata": {},
     "output_type": "execute_result"
    }
   ],
   "source": [
    "data"
   ]
  },
  {
   "cell_type": "markdown",
   "metadata": {},
   "source": [
    "## analysis"
   ]
  },
  {
   "cell_type": "markdown",
   "metadata": {},
   "source": [
    "### Basic describe"
   ]
  },
  {
   "cell_type": "code",
   "execution_count": 6,
   "metadata": {},
   "outputs": [
    {
     "data": {
      "text/plain": [
       "Polarity\n",
       "against    4173\n",
       "for        2887\n",
       "Name: count, dtype: int64"
      ]
     },
     "execution_count": 6,
     "metadata": {},
     "output_type": "execute_result"
    }
   ],
   "source": [
    "#number of observations per label\n",
    "data.Polarity.value_counts()"
   ]
  },
  {
   "cell_type": "code",
   "execution_count": 7,
   "metadata": {},
   "outputs": [
    {
     "name": "stdout",
     "output_type": "stream",
     "text": [
      "len data with nan:  (7060, 3)\n",
      "len data without nan:  (7060, 3)\n"
     ]
    }
   ],
   "source": [
    "print('len data with nan: ', data.shape)\n",
    "print('len data without nan: ', data.dropna().shape)"
   ]
  },
  {
   "cell_type": "code",
   "execution_count": 8,
   "metadata": {},
   "outputs": [
    {
     "name": "stdout",
     "output_type": "stream",
     "text": [
      "len data with duplicates:  (7060, 3)\n",
      "len data without duplicates:  (782, 3)\n"
     ]
    }
   ],
   "source": [
    "print('len data with duplicates: ', data.shape)\n",
    "print('len data without duplicates: ', data.drop_duplicates().shape)"
   ]
  },
  {
   "cell_type": "code",
   "execution_count": 9,
   "metadata": {},
   "outputs": [
    {
     "name": "stdout",
     "output_type": "stream",
     "text": [
      "len data with duplicates:  (7060,)\n",
      "len data without duplicates:  (471,)\n"
     ]
    }
   ],
   "source": [
    "print('len data with duplicates: ', data['Texts'].shape)\n",
    "print('len data without duplicates: ', data['Texts'].drop_duplicates().shape)"
   ]
  },
  {
   "cell_type": "code",
   "execution_count": 10,
   "metadata": {},
   "outputs": [
    {
     "data": {
      "text/html": [
       "<div>\n",
       "<style scoped>\n",
       "    .dataframe tbody tr th:only-of-type {\n",
       "        vertical-align: middle;\n",
       "    }\n",
       "\n",
       "    .dataframe tbody tr th {\n",
       "        vertical-align: top;\n",
       "    }\n",
       "\n",
       "    .dataframe thead th {\n",
       "        text-align: right;\n",
       "    }\n",
       "</style>\n",
       "<table border=\"1\" class=\"dataframe\">\n",
       "  <thead>\n",
       "    <tr style=\"text-align: right;\">\n",
       "      <th></th>\n",
       "      <th>User_ID</th>\n",
       "      <th>Polarity</th>\n",
       "      <th>Texts</th>\n",
       "    </tr>\n",
       "  </thead>\n",
       "  <tbody>\n",
       "    <tr>\n",
       "      <th>0</th>\n",
       "      <td>r2_bo_1</td>\n",
       "      <td>for</td>\n",
       "      <td>Saudadinhaa dl :/ # Gente que beija com mordid...</td>\n",
       "    </tr>\n",
       "    <tr>\n",
       "      <th>3</th>\n",
       "      <td>r2_bo_3</td>\n",
       "      <td>for</td>\n",
       "      <td>@Gremio E que domínio, hein campeão? # @Analis...</td>\n",
       "    </tr>\n",
       "    <tr>\n",
       "      <th>24</th>\n",
       "      <td>r2_bo_5</td>\n",
       "      <td>for</td>\n",
       "      <td>@This_IsK Hahahaha olha, salada caesar é fácil...</td>\n",
       "    </tr>\n",
       "    <tr>\n",
       "      <th>30</th>\n",
       "      <td>r2_bo_7</td>\n",
       "      <td>against</td>\n",
       "      <td>@Chiico_Sant vai passar aqui ou quer que eu vá...</td>\n",
       "    </tr>\n",
       "    <tr>\n",
       "      <th>32</th>\n",
       "      <td>r2_bo_8</td>\n",
       "      <td>against</td>\n",
       "      <td>@gabycunha86 Amanhã vou aí, deixa pra terça # ...</td>\n",
       "    </tr>\n",
       "    <tr>\n",
       "      <th>...</th>\n",
       "      <td>...</td>\n",
       "      <td>...</td>\n",
       "      <td>...</td>\n",
       "    </tr>\n",
       "    <tr>\n",
       "      <th>5984</th>\n",
       "      <td>r2_bo_720</td>\n",
       "      <td>against</td>\n",
       "      <td>Pesquisa mostra que, além do Brasil, apenas Rú...</td>\n",
       "    </tr>\n",
       "    <tr>\n",
       "      <th>6820</th>\n",
       "      <td>r2_bo_740</td>\n",
       "      <td>for</td>\n",
       "      <td>eu odeio trânsito com todas minhas forças, vai...</td>\n",
       "    </tr>\n",
       "    <tr>\n",
       "      <th>6825</th>\n",
       "      <td>r2_bo_743</td>\n",
       "      <td>against</td>\n",
       "      <td>A rainha do pop está de volta. Madonna lançou ...</td>\n",
       "    </tr>\n",
       "    <tr>\n",
       "      <th>6983</th>\n",
       "      <td>r2_bo_751</td>\n",
       "      <td>for</td>\n",
       "      <td>@toko_tkd Indo # @toko_tkd Demorou pra respond...</td>\n",
       "    </tr>\n",
       "    <tr>\n",
       "      <th>7039</th>\n",
       "      <td>r2_bo_756</td>\n",
       "      <td>against</td>\n",
       "      <td>Villas Boas manobra para não fazer de Mourão \"...</td>\n",
       "    </tr>\n",
       "  </tbody>\n",
       "</table>\n",
       "<p>471 rows × 3 columns</p>\n",
       "</div>"
      ],
      "text/plain": [
       "        User_ID Polarity                                              Texts\n",
       "0       r2_bo_1      for  Saudadinhaa dl :/ # Gente que beija com mordid...\n",
       "3       r2_bo_3      for  @Gremio E que domínio, hein campeão? # @Analis...\n",
       "24      r2_bo_5      for  @This_IsK Hahahaha olha, salada caesar é fácil...\n",
       "30      r2_bo_7  against  @Chiico_Sant vai passar aqui ou quer que eu vá...\n",
       "32      r2_bo_8  against  @gabycunha86 Amanhã vou aí, deixa pra terça # ...\n",
       "...         ...      ...                                                ...\n",
       "5984  r2_bo_720  against  Pesquisa mostra que, além do Brasil, apenas Rú...\n",
       "6820  r2_bo_740      for  eu odeio trânsito com todas minhas forças, vai...\n",
       "6825  r2_bo_743  against  A rainha do pop está de volta. Madonna lançou ...\n",
       "6983  r2_bo_751      for  @toko_tkd Indo # @toko_tkd Demorou pra respond...\n",
       "7039  r2_bo_756  against  Villas Boas manobra para não fazer de Mourão \"...\n",
       "\n",
       "[471 rows x 3 columns]"
      ]
     },
     "execution_count": 10,
     "metadata": {},
     "output_type": "execute_result"
    }
   ],
   "source": [
    "data_2_anl = data.drop_duplicates(subset=['Texts'])\n",
    "data_2_anl"
   ]
  },
  {
   "cell_type": "code",
   "execution_count": 11,
   "metadata": {},
   "outputs": [
    {
     "data": {
      "text/plain": [
       "Polarity\n",
       "against    429\n",
       "for         42\n",
       "Name: count, dtype: int64"
      ]
     },
     "execution_count": 11,
     "metadata": {},
     "output_type": "execute_result"
    }
   ],
   "source": [
    "#number of observations per label\n",
    "data_2_anl.Polarity.value_counts()"
   ]
  },
  {
   "cell_type": "markdown",
   "metadata": {},
   "source": [
    "### numerical analysis of length of texts"
   ]
  },
  {
   "cell_type": "code",
   "execution_count": 12,
   "metadata": {},
   "outputs": [
    {
     "name": "stderr",
     "output_type": "stream",
     "text": [
      "100%|██████████| 471/471 [00:00<00:00, 1921.66it/s]\n",
      "/tmp/ipykernel_160056/2679191039.py:1: SettingWithCopyWarning: \n",
      "A value is trying to be set on a copy of a slice from a DataFrame.\n",
      "Try using .loc[row_indexer,col_indexer] = value instead\n",
      "\n",
      "See the caveats in the documentation: https://pandas.pydata.org/pandas-docs/stable/user_guide/indexing.html#returning-a-view-versus-a-copy\n",
      "  data_2_anl['list_texts'] = data_2_anl.Texts.progress_apply(lambda x: x.split(' # '))\n"
     ]
    },
    {
     "data": {
      "text/html": [
       "<div>\n",
       "<style scoped>\n",
       "    .dataframe tbody tr th:only-of-type {\n",
       "        vertical-align: middle;\n",
       "    }\n",
       "\n",
       "    .dataframe tbody tr th {\n",
       "        vertical-align: top;\n",
       "    }\n",
       "\n",
       "    .dataframe thead th {\n",
       "        text-align: right;\n",
       "    }\n",
       "</style>\n",
       "<table border=\"1\" class=\"dataframe\">\n",
       "  <thead>\n",
       "    <tr style=\"text-align: right;\">\n",
       "      <th></th>\n",
       "      <th>User_ID</th>\n",
       "      <th>Polarity</th>\n",
       "      <th>Texts</th>\n",
       "      <th>list_texts</th>\n",
       "    </tr>\n",
       "  </thead>\n",
       "  <tbody>\n",
       "    <tr>\n",
       "      <th>0</th>\n",
       "      <td>r2_bo_1</td>\n",
       "      <td>for</td>\n",
       "      <td>Saudadinhaa dl :/ # Gente que beija com mordid...</td>\n",
       "      <td>[Saudadinhaa dl :/, Gente que beija com mordid...</td>\n",
       "    </tr>\n",
       "    <tr>\n",
       "      <th>3</th>\n",
       "      <td>r2_bo_3</td>\n",
       "      <td>for</td>\n",
       "      <td>@Gremio E que domínio, hein campeão? # @Analis...</td>\n",
       "      <td>[@Gremio E que domínio, hein campeão?, @Analis...</td>\n",
       "    </tr>\n",
       "    <tr>\n",
       "      <th>24</th>\n",
       "      <td>r2_bo_5</td>\n",
       "      <td>for</td>\n",
       "      <td>@This_IsK Hahahaha olha, salada caesar é fácil...</td>\n",
       "      <td>[@This_IsK Hahahaha olha, salada caesar é fáci...</td>\n",
       "    </tr>\n",
       "    <tr>\n",
       "      <th>30</th>\n",
       "      <td>r2_bo_7</td>\n",
       "      <td>against</td>\n",
       "      <td>@Chiico_Sant vai passar aqui ou quer que eu vá...</td>\n",
       "      <td>[@Chiico_Sant vai passar aqui ou quer que eu v...</td>\n",
       "    </tr>\n",
       "    <tr>\n",
       "      <th>32</th>\n",
       "      <td>r2_bo_8</td>\n",
       "      <td>against</td>\n",
       "      <td>@gabycunha86 Amanhã vou aí, deixa pra terça # ...</td>\n",
       "      <td>[@gabycunha86 Amanhã vou aí, deixa pra terça, ...</td>\n",
       "    </tr>\n",
       "  </tbody>\n",
       "</table>\n",
       "</div>"
      ],
      "text/plain": [
       "    User_ID Polarity                                              Texts  \\\n",
       "0   r2_bo_1      for  Saudadinhaa dl :/ # Gente que beija com mordid...   \n",
       "3   r2_bo_3      for  @Gremio E que domínio, hein campeão? # @Analis...   \n",
       "24  r2_bo_5      for  @This_IsK Hahahaha olha, salada caesar é fácil...   \n",
       "30  r2_bo_7  against  @Chiico_Sant vai passar aqui ou quer que eu vá...   \n",
       "32  r2_bo_8  against  @gabycunha86 Amanhã vou aí, deixa pra terça # ...   \n",
       "\n",
       "                                           list_texts  \n",
       "0   [Saudadinhaa dl :/, Gente que beija com mordid...  \n",
       "3   [@Gremio E que domínio, hein campeão?, @Analis...  \n",
       "24  [@This_IsK Hahahaha olha, salada caesar é fáci...  \n",
       "30  [@Chiico_Sant vai passar aqui ou quer que eu v...  \n",
       "32  [@gabycunha86 Amanhã vou aí, deixa pra terça, ...  "
      ]
     },
     "execution_count": 12,
     "metadata": {},
     "output_type": "execute_result"
    }
   ],
   "source": [
    "data_2_anl['list_texts'] = data_2_anl.Texts.progress_apply(lambda x: x.split(' # '))\n",
    "data_2_anl.head()"
   ]
  },
  {
   "cell_type": "code",
   "execution_count": 13,
   "metadata": {},
   "outputs": [
    {
     "name": "stderr",
     "output_type": "stream",
     "text": [
      "100%|██████████| 471/471 [00:00<00:00, 690981.88it/s]\n",
      "/tmp/ipykernel_160056/3192377978.py:1: SettingWithCopyWarning: \n",
      "A value is trying to be set on a copy of a slice from a DataFrame.\n",
      "Try using .loc[row_indexer,col_indexer] = value instead\n",
      "\n",
      "See the caveats in the documentation: https://pandas.pydata.org/pandas-docs/stable/user_guide/indexing.html#returning-a-view-versus-a-copy\n",
      "  data_2_anl['n_texts'] = data_2_anl.list_texts.progress_apply(lambda x: len(x))\n"
     ]
    },
    {
     "data": {
      "text/html": [
       "<div>\n",
       "<style scoped>\n",
       "    .dataframe tbody tr th:only-of-type {\n",
       "        vertical-align: middle;\n",
       "    }\n",
       "\n",
       "    .dataframe tbody tr th {\n",
       "        vertical-align: top;\n",
       "    }\n",
       "\n",
       "    .dataframe thead th {\n",
       "        text-align: right;\n",
       "    }\n",
       "</style>\n",
       "<table border=\"1\" class=\"dataframe\">\n",
       "  <thead>\n",
       "    <tr style=\"text-align: right;\">\n",
       "      <th></th>\n",
       "      <th>User_ID</th>\n",
       "      <th>Polarity</th>\n",
       "      <th>Texts</th>\n",
       "      <th>list_texts</th>\n",
       "      <th>n_texts</th>\n",
       "    </tr>\n",
       "  </thead>\n",
       "  <tbody>\n",
       "    <tr>\n",
       "      <th>0</th>\n",
       "      <td>r2_bo_1</td>\n",
       "      <td>for</td>\n",
       "      <td>Saudadinhaa dl :/ # Gente que beija com mordid...</td>\n",
       "      <td>[Saudadinhaa dl :/, Gente que beija com mordid...</td>\n",
       "      <td>1370</td>\n",
       "    </tr>\n",
       "    <tr>\n",
       "      <th>3</th>\n",
       "      <td>r2_bo_3</td>\n",
       "      <td>for</td>\n",
       "      <td>@Gremio E que domínio, hein campeão? # @Analis...</td>\n",
       "      <td>[@Gremio E que domínio, hein campeão?, @Analis...</td>\n",
       "      <td>2969</td>\n",
       "    </tr>\n",
       "    <tr>\n",
       "      <th>24</th>\n",
       "      <td>r2_bo_5</td>\n",
       "      <td>for</td>\n",
       "      <td>@This_IsK Hahahaha olha, salada caesar é fácil...</td>\n",
       "      <td>[@This_IsK Hahahaha olha, salada caesar é fáci...</td>\n",
       "      <td>2250</td>\n",
       "    </tr>\n",
       "    <tr>\n",
       "      <th>30</th>\n",
       "      <td>r2_bo_7</td>\n",
       "      <td>against</td>\n",
       "      <td>@Chiico_Sant vai passar aqui ou quer que eu vá...</td>\n",
       "      <td>[@Chiico_Sant vai passar aqui ou quer que eu v...</td>\n",
       "      <td>1574</td>\n",
       "    </tr>\n",
       "    <tr>\n",
       "      <th>32</th>\n",
       "      <td>r2_bo_8</td>\n",
       "      <td>against</td>\n",
       "      <td>@gabycunha86 Amanhã vou aí, deixa pra terça # ...</td>\n",
       "      <td>[@gabycunha86 Amanhã vou aí, deixa pra terça, ...</td>\n",
       "      <td>956</td>\n",
       "    </tr>\n",
       "  </tbody>\n",
       "</table>\n",
       "</div>"
      ],
      "text/plain": [
       "    User_ID Polarity                                              Texts  \\\n",
       "0   r2_bo_1      for  Saudadinhaa dl :/ # Gente que beija com mordid...   \n",
       "3   r2_bo_3      for  @Gremio E que domínio, hein campeão? # @Analis...   \n",
       "24  r2_bo_5      for  @This_IsK Hahahaha olha, salada caesar é fácil...   \n",
       "30  r2_bo_7  against  @Chiico_Sant vai passar aqui ou quer que eu vá...   \n",
       "32  r2_bo_8  against  @gabycunha86 Amanhã vou aí, deixa pra terça # ...   \n",
       "\n",
       "                                           list_texts  n_texts  \n",
       "0   [Saudadinhaa dl :/, Gente que beija com mordid...     1370  \n",
       "3   [@Gremio E que domínio, hein campeão?, @Analis...     2969  \n",
       "24  [@This_IsK Hahahaha olha, salada caesar é fáci...     2250  \n",
       "30  [@Chiico_Sant vai passar aqui ou quer que eu v...     1574  \n",
       "32  [@gabycunha86 Amanhã vou aí, deixa pra terça, ...      956  "
      ]
     },
     "execution_count": 13,
     "metadata": {},
     "output_type": "execute_result"
    }
   ],
   "source": [
    "data_2_anl['n_texts'] = data_2_anl.list_texts.progress_apply(lambda x: len(x))\n",
    "data_2_anl.head()"
   ]
  },
  {
   "cell_type": "code",
   "execution_count": 14,
   "metadata": {},
   "outputs": [
    {
     "name": "stderr",
     "output_type": "stream",
     "text": [
      "100%|██████████| 471/471 [01:02<00:00,  7.51it/s]\n",
      "/tmp/ipykernel_160056/2111050499.py:1: SettingWithCopyWarning: \n",
      "A value is trying to be set on a copy of a slice from a DataFrame.\n",
      "Try using .loc[row_indexer,col_indexer] = value instead\n",
      "\n",
      "See the caveats in the documentation: https://pandas.pydata.org/pandas-docs/stable/user_guide/indexing.html#returning-a-view-versus-a-copy\n",
      "  data_2_anl['list_texts_tokens'] = data_2_anl.list_texts.progress_apply(lambda x: [word_tokenize(text, language='portuguese') for text in x])\n"
     ]
    },
    {
     "data": {
      "text/html": [
       "<div>\n",
       "<style scoped>\n",
       "    .dataframe tbody tr th:only-of-type {\n",
       "        vertical-align: middle;\n",
       "    }\n",
       "\n",
       "    .dataframe tbody tr th {\n",
       "        vertical-align: top;\n",
       "    }\n",
       "\n",
       "    .dataframe thead th {\n",
       "        text-align: right;\n",
       "    }\n",
       "</style>\n",
       "<table border=\"1\" class=\"dataframe\">\n",
       "  <thead>\n",
       "    <tr style=\"text-align: right;\">\n",
       "      <th></th>\n",
       "      <th>User_ID</th>\n",
       "      <th>Polarity</th>\n",
       "      <th>Texts</th>\n",
       "      <th>list_texts</th>\n",
       "      <th>n_texts</th>\n",
       "      <th>list_texts_tokens</th>\n",
       "    </tr>\n",
       "  </thead>\n",
       "  <tbody>\n",
       "    <tr>\n",
       "      <th>0</th>\n",
       "      <td>r2_bo_1</td>\n",
       "      <td>for</td>\n",
       "      <td>Saudadinhaa dl :/ # Gente que beija com mordid...</td>\n",
       "      <td>[Saudadinhaa dl :/, Gente que beija com mordid...</td>\n",
       "      <td>1370</td>\n",
       "      <td>[[Saudadinhaa, dl, :, /], [Gente, que, beija, ...</td>\n",
       "    </tr>\n",
       "    <tr>\n",
       "      <th>3</th>\n",
       "      <td>r2_bo_3</td>\n",
       "      <td>for</td>\n",
       "      <td>@Gremio E que domínio, hein campeão? # @Analis...</td>\n",
       "      <td>[@Gremio E que domínio, hein campeão?, @Analis...</td>\n",
       "      <td>2969</td>\n",
       "      <td>[[@, Gremio, E, que, domínio, ,, hein, campeão...</td>\n",
       "    </tr>\n",
       "    <tr>\n",
       "      <th>24</th>\n",
       "      <td>r2_bo_5</td>\n",
       "      <td>for</td>\n",
       "      <td>@This_IsK Hahahaha olha, salada caesar é fácil...</td>\n",
       "      <td>[@This_IsK Hahahaha olha, salada caesar é fáci...</td>\n",
       "      <td>2250</td>\n",
       "      <td>[[@, This_IsK, Hahahaha, olha, ,, salada, caes...</td>\n",
       "    </tr>\n",
       "    <tr>\n",
       "      <th>30</th>\n",
       "      <td>r2_bo_7</td>\n",
       "      <td>against</td>\n",
       "      <td>@Chiico_Sant vai passar aqui ou quer que eu vá...</td>\n",
       "      <td>[@Chiico_Sant vai passar aqui ou quer que eu v...</td>\n",
       "      <td>1574</td>\n",
       "      <td>[[@, Chiico_Sant, vai, passar, aqui, ou, quer,...</td>\n",
       "    </tr>\n",
       "    <tr>\n",
       "      <th>32</th>\n",
       "      <td>r2_bo_8</td>\n",
       "      <td>against</td>\n",
       "      <td>@gabycunha86 Amanhã vou aí, deixa pra terça # ...</td>\n",
       "      <td>[@gabycunha86 Amanhã vou aí, deixa pra terça, ...</td>\n",
       "      <td>956</td>\n",
       "      <td>[[@, gabycunha86, Amanhã, vou, aí, ,, deixa, p...</td>\n",
       "    </tr>\n",
       "  </tbody>\n",
       "</table>\n",
       "</div>"
      ],
      "text/plain": [
       "    User_ID Polarity                                              Texts  \\\n",
       "0   r2_bo_1      for  Saudadinhaa dl :/ # Gente que beija com mordid...   \n",
       "3   r2_bo_3      for  @Gremio E que domínio, hein campeão? # @Analis...   \n",
       "24  r2_bo_5      for  @This_IsK Hahahaha olha, salada caesar é fácil...   \n",
       "30  r2_bo_7  against  @Chiico_Sant vai passar aqui ou quer que eu vá...   \n",
       "32  r2_bo_8  against  @gabycunha86 Amanhã vou aí, deixa pra terça # ...   \n",
       "\n",
       "                                           list_texts  n_texts  \\\n",
       "0   [Saudadinhaa dl :/, Gente que beija com mordid...     1370   \n",
       "3   [@Gremio E que domínio, hein campeão?, @Analis...     2969   \n",
       "24  [@This_IsK Hahahaha olha, salada caesar é fáci...     2250   \n",
       "30  [@Chiico_Sant vai passar aqui ou quer que eu v...     1574   \n",
       "32  [@gabycunha86 Amanhã vou aí, deixa pra terça, ...      956   \n",
       "\n",
       "                                    list_texts_tokens  \n",
       "0   [[Saudadinhaa, dl, :, /], [Gente, que, beija, ...  \n",
       "3   [[@, Gremio, E, que, domínio, ,, hein, campeão...  \n",
       "24  [[@, This_IsK, Hahahaha, olha, ,, salada, caes...  \n",
       "30  [[@, Chiico_Sant, vai, passar, aqui, ou, quer,...  \n",
       "32  [[@, gabycunha86, Amanhã, vou, aí, ,, deixa, p...  "
      ]
     },
     "execution_count": 14,
     "metadata": {},
     "output_type": "execute_result"
    }
   ],
   "source": [
    "data_2_anl['list_texts_tokens'] = data_2_anl.list_texts.progress_apply(lambda x: [word_tokenize(text, language='portuguese') for text in x])\n",
    "data_2_anl.head()"
   ]
  },
  {
   "cell_type": "code",
   "execution_count": 15,
   "metadata": {},
   "outputs": [
    {
     "name": "stderr",
     "output_type": "stream",
     "text": [
      "100%|██████████| 471/471 [00:00<00:00, 8669.42it/s]\n",
      "/tmp/ipykernel_160056/3480478351.py:1: SettingWithCopyWarning: \n",
      "A value is trying to be set on a copy of a slice from a DataFrame.\n",
      "Try using .loc[row_indexer,col_indexer] = value instead\n",
      "\n",
      "See the caveats in the documentation: https://pandas.pydata.org/pandas-docs/stable/user_guide/indexing.html#returning-a-view-versus-a-copy\n",
      "  data_2_anl['list_texts_len'] = data_2_anl.list_texts_tokens.progress_apply(lambda x: [len(text) for text in x])\n"
     ]
    },
    {
     "data": {
      "text/html": [
       "<div>\n",
       "<style scoped>\n",
       "    .dataframe tbody tr th:only-of-type {\n",
       "        vertical-align: middle;\n",
       "    }\n",
       "\n",
       "    .dataframe tbody tr th {\n",
       "        vertical-align: top;\n",
       "    }\n",
       "\n",
       "    .dataframe thead th {\n",
       "        text-align: right;\n",
       "    }\n",
       "</style>\n",
       "<table border=\"1\" class=\"dataframe\">\n",
       "  <thead>\n",
       "    <tr style=\"text-align: right;\">\n",
       "      <th></th>\n",
       "      <th>User_ID</th>\n",
       "      <th>Polarity</th>\n",
       "      <th>Texts</th>\n",
       "      <th>list_texts</th>\n",
       "      <th>n_texts</th>\n",
       "      <th>list_texts_tokens</th>\n",
       "      <th>list_texts_len</th>\n",
       "    </tr>\n",
       "  </thead>\n",
       "  <tbody>\n",
       "    <tr>\n",
       "      <th>0</th>\n",
       "      <td>r2_bo_1</td>\n",
       "      <td>for</td>\n",
       "      <td>Saudadinhaa dl :/ # Gente que beija com mordid...</td>\n",
       "      <td>[Saudadinhaa dl :/, Gente que beija com mordid...</td>\n",
       "      <td>1370</td>\n",
       "      <td>[[Saudadinhaa, dl, :, /], [Gente, que, beija, ...</td>\n",
       "      <td>[4, 7, 10, 6, 5, 8, 12, 1, 6, 2, 10, 4, 2, 4, ...</td>\n",
       "    </tr>\n",
       "    <tr>\n",
       "      <th>3</th>\n",
       "      <td>r2_bo_3</td>\n",
       "      <td>for</td>\n",
       "      <td>@Gremio E que domínio, hein campeão? # @Analis...</td>\n",
       "      <td>[@Gremio E que domínio, hein campeão?, @Analis...</td>\n",
       "      <td>2969</td>\n",
       "      <td>[[@, Gremio, E, que, domínio, ,, hein, campeão...</td>\n",
       "      <td>[9, 14, 10, 6, 27, 11, 10, 8, 21, 11, 8, 23, 1...</td>\n",
       "    </tr>\n",
       "    <tr>\n",
       "      <th>24</th>\n",
       "      <td>r2_bo_5</td>\n",
       "      <td>for</td>\n",
       "      <td>@This_IsK Hahahaha olha, salada caesar é fácil...</td>\n",
       "      <td>[@This_IsK Hahahaha olha, salada caesar é fáci...</td>\n",
       "      <td>2250</td>\n",
       "      <td>[[@, This_IsK, Hahahaha, olha, ,, salada, caes...</td>\n",
       "      <td>[50, 22, 55, 44, 23, 33, 17, 41, 3, 17, 16, 43...</td>\n",
       "    </tr>\n",
       "    <tr>\n",
       "      <th>30</th>\n",
       "      <td>r2_bo_7</td>\n",
       "      <td>against</td>\n",
       "      <td>@Chiico_Sant vai passar aqui ou quer que eu vá...</td>\n",
       "      <td>[@Chiico_Sant vai passar aqui ou quer que eu v...</td>\n",
       "      <td>1574</td>\n",
       "      <td>[[@, Chiico_Sant, vai, passar, aqui, ou, quer,...</td>\n",
       "      <td>[17, 17, 8, 5, 7, 7, 14, 13, 6, 7, 10, 5, 16, ...</td>\n",
       "    </tr>\n",
       "    <tr>\n",
       "      <th>32</th>\n",
       "      <td>r2_bo_8</td>\n",
       "      <td>against</td>\n",
       "      <td>@gabycunha86 Amanhã vou aí, deixa pra terça # ...</td>\n",
       "      <td>[@gabycunha86 Amanhã vou aí, deixa pra terça, ...</td>\n",
       "      <td>956</td>\n",
       "      <td>[[@, gabycunha86, Amanhã, vou, aí, ,, deixa, p...</td>\n",
       "      <td>[9, 5, 11, 4, 12, 13, 2, 25, 10, 7, 12, 5, 7, ...</td>\n",
       "    </tr>\n",
       "  </tbody>\n",
       "</table>\n",
       "</div>"
      ],
      "text/plain": [
       "    User_ID Polarity                                              Texts  \\\n",
       "0   r2_bo_1      for  Saudadinhaa dl :/ # Gente que beija com mordid...   \n",
       "3   r2_bo_3      for  @Gremio E que domínio, hein campeão? # @Analis...   \n",
       "24  r2_bo_5      for  @This_IsK Hahahaha olha, salada caesar é fácil...   \n",
       "30  r2_bo_7  against  @Chiico_Sant vai passar aqui ou quer que eu vá...   \n",
       "32  r2_bo_8  against  @gabycunha86 Amanhã vou aí, deixa pra terça # ...   \n",
       "\n",
       "                                           list_texts  n_texts  \\\n",
       "0   [Saudadinhaa dl :/, Gente que beija com mordid...     1370   \n",
       "3   [@Gremio E que domínio, hein campeão?, @Analis...     2969   \n",
       "24  [@This_IsK Hahahaha olha, salada caesar é fáci...     2250   \n",
       "30  [@Chiico_Sant vai passar aqui ou quer que eu v...     1574   \n",
       "32  [@gabycunha86 Amanhã vou aí, deixa pra terça, ...      956   \n",
       "\n",
       "                                    list_texts_tokens  \\\n",
       "0   [[Saudadinhaa, dl, :, /], [Gente, que, beija, ...   \n",
       "3   [[@, Gremio, E, que, domínio, ,, hein, campeão...   \n",
       "24  [[@, This_IsK, Hahahaha, olha, ,, salada, caes...   \n",
       "30  [[@, Chiico_Sant, vai, passar, aqui, ou, quer,...   \n",
       "32  [[@, gabycunha86, Amanhã, vou, aí, ,, deixa, p...   \n",
       "\n",
       "                                       list_texts_len  \n",
       "0   [4, 7, 10, 6, 5, 8, 12, 1, 6, 2, 10, 4, 2, 4, ...  \n",
       "3   [9, 14, 10, 6, 27, 11, 10, 8, 21, 11, 8, 23, 1...  \n",
       "24  [50, 22, 55, 44, 23, 33, 17, 41, 3, 17, 16, 43...  \n",
       "30  [17, 17, 8, 5, 7, 7, 14, 13, 6, 7, 10, 5, 16, ...  \n",
       "32  [9, 5, 11, 4, 12, 13, 2, 25, 10, 7, 12, 5, 7, ...  "
      ]
     },
     "execution_count": 15,
     "metadata": {},
     "output_type": "execute_result"
    }
   ],
   "source": [
    "data_2_anl['list_texts_len'] = data_2_anl.list_texts_tokens.progress_apply(lambda x: [len(text) for text in x])\n",
    "data_2_anl.head()"
   ]
  },
  {
   "cell_type": "code",
   "execution_count": 16,
   "metadata": {},
   "outputs": [
    {
     "data": {
      "text/plain": [
       "[Text(0.5, 1.0, 'number of comments of friends per user'),\n",
       " Text(0.5, 0, 'number of comments')]"
      ]
     },
     "execution_count": 16,
     "metadata": {},
     "output_type": "execute_result"
    },
    {
     "data": {
      "image/png": "[encoded data removed]",
      "text/plain": [
       "<Figure size 640x480 with 1 Axes>"
      ]
     },
     "metadata": {},
     "output_type": "display_data"
    }
   ],
   "source": [
    "sns.boxplot(\n",
    "    data=data_2_anl,\n",
    "    x=\"n_texts\"\n",
    "    ).set(\n",
    "        title='number of comments of friends per user',\n",
    "        xlabel='number of comments'\n",
    "    )"
   ]
  },
  {
   "cell_type": "code",
   "execution_count": 17,
   "metadata": {},
   "outputs": [
    {
     "data": {
      "text/plain": [
       "[Text(0.5, 1.0, 'number of comments of friends per user'),\n",
       " Text(0.5, 0, 'number of comments')]"
      ]
     },
     "execution_count": 17,
     "metadata": {},
     "output_type": "execute_result"
    },
    {
     "data": {
      "image/png": "[encoded data removed]",
      "text/plain": [
       "<Figure size 640x480 with 1 Axes>"
      ]
     },
     "metadata": {},
     "output_type": "display_data"
    }
   ],
   "source": [
    "sns.boxplot(\n",
    "    data=data_2_anl,\n",
    "    x=\"n_texts\",\n",
    "    y='Polarity',\n",
    "    hue='Polarity'\n",
    "    ).set(\n",
    "        title='number of comments of friends per user',\n",
    "        xlabel='number of comments'\n",
    "    )"
   ]
  },
  {
   "cell_type": "code",
   "execution_count": 18,
   "metadata": {},
   "outputs": [
    {
     "name": "stderr",
     "output_type": "stream",
     "text": [
      "100%|██████████| 471/471 [00:00<00:00, 17007.16it/s]\n"
     ]
    }
   ],
   "source": [
    "list_for_n_tks = []\n",
    "list_against_n_tks = []\n",
    "for idx, row in tqdm(data_2_anl.iterrows(), total = len(data_2_anl)):\n",
    "    \n",
    "    label = row['Polarity']\n",
    "    list_texts_len = row['list_texts_len']\n",
    "    \n",
    "    if label == 'for':\n",
    "        list_for_n_tks += list_texts_len\n",
    "    elif label == 'against':\n",
    "        list_against_n_tks += list_texts_len"
   ]
  },
  {
   "cell_type": "code",
   "execution_count": 19,
   "metadata": {},
   "outputs": [
    {
     "data": {
      "text/plain": [
       "[Text(0.5, 1.0, 'number of token in comments by polarity'),\n",
       " Text(0.5, 0, 'number of tokens')]"
      ]
     },
     "execution_count": 19,
     "metadata": {},
     "output_type": "execute_result"
    },
    {
     "data": {
      "image/png": "[encoded data removed]",
      "text/plain": [
       "<Figure size 640x480 with 1 Axes>"
      ]
     },
     "metadata": {},
     "output_type": "display_data"
    }
   ],
   "source": [
    "sns.boxplot(\n",
    "    data={'against': list_against_n_tks, 'for': list_for_n_tks},\n",
    "    orient = 'h',\n",
    "    ).set(\n",
    "        title='number of token in comments by polarity',\n",
    "        xlabel='number of tokens'\n",
    "    )"
   ]
  }
 ],
 "metadata": {
  "kernelspec": {
   "display_name": "env-stance-pred",
   "language": "python",
   "name": "python3"
  },
  "language_info": {
   "codemirror_mode": {
    "name": "ipython",
    "version": 3
   },
   "file_extension": ".py",
   "mimetype": "text/x-python",
   "name": "python",
   "nbconvert_exporter": "python",
   "pygments_lexer": "ipython3",
   "version": "3.12.2"
  }
 },
 "nbformat": 4,
 "nbformat_minor": 2
}
