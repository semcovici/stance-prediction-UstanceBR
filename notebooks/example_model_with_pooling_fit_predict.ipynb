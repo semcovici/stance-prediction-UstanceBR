{
 "cells": [
  {
   "cell_type": "code",
   "execution_count": 1,
   "id": "8f020349-c880-426d-a878-3089c79c9203",
   "metadata": {},
   "outputs": [],
   "source": [
    "import pandas as pd\n",
    "import numpy as np\n",
    "from sklearn.model_selection import train_test_split\n",
    "import torch\n",
    "from ast import literal_eval\n",
    "from tqdm import tqdm\n",
    "from sklearn.metrics import classification_report\n",
    "tqdm.pandas()\n",
    "import random\n",
    "random.seed(0)\n",
    "from belt_nlp.bert_with_pooling import BertClassifierWithPooling"
   ]
  },
  {
   "cell_type": "markdown",
   "id": "082da124-c5d5-4ed1-8828-fc7f92efbba2",
   "metadata": {},
   "source": [
    "# Example - Model BERT with pooling"
   ]
  },
  {
   "cell_type": "markdown",
   "id": "bebcd04f-9a46-4562-8afd-25e0f41263ca",
   "metadata": {},
   "source": [
    "In this notebook we will show how to use basic methods `fit` and `predict` for the BERT model with pooling."
   ]
  },
  {
   "cell_type": "code",
   "execution_count": 2,
   "id": "214176d3",
   "metadata": {},
   "outputs": [],
   "source": [
    "!export PYTORCH_CUDA_ALLOC_CONF=max_split_size_mb:128\n",
    "!export PYTORCH_CUDA_ALLOC_CONF=expandable_segments:True"
   ]
  },
  {
   "cell_type": "code",
   "execution_count": 3,
   "id": "b7094cd2",
   "metadata": {},
   "outputs": [],
   "source": [
    "raw_data_path = '../data/raw/'\n",
    "processed_data_path = '../data/processed/'\n",
    "\n",
    "file_format_users_filtered = processed_data_path + 'r3_{target}_{split}_users_scored_Timeline.csv' \n",
    "file_format_tmt_filtered = processed_data_path + '{split}_r3_{target}_top_mentioned_timelines_scored_Texts.csv'"
   ]
  },
  {
   "cell_type": "code",
   "execution_count": null,
   "id": "e4e5213c",
   "metadata": {},
   "outputs": [],
   "source": [
    "for target in target_list:\n",
    "    \n",
    "    for n_comment in [10,15,20, 5]:\n",
    "        \n",
    "        \n",
    "        \n",
    "        "
   ]
  },
  {
   "cell_type": "code",
   "execution_count": 4,
   "id": "f703dc66",
   "metadata": {},
   "outputs": [
    {
     "name": "stderr",
     "output_type": "stream",
     "text": [
      "100%|██████████| 1796/1796 [01:08<00:00, 26.29it/s]\n",
      "100%|██████████| 1796/1796 [00:00<00:00, 330002.63it/s]\n",
      "100%|██████████| 599/599 [00:23<00:00, 25.18it/s]\n",
      "100%|██████████| 599/599 [00:00<00:00, 317782.46it/s]\n"
     ]
    }
   ],
   "source": [
    "target = 'ig'\n",
    "n_comments = 10\n",
    "text_col = 'Timeline'\n",
    "\n",
    "# read data\n",
    "train = pd.read_csv(\n",
    "    file_format_users_filtered.format(target = target, split = \"train\"), \n",
    "    sep = ';', \n",
    "    encoding='utf-8-sig'\n",
    "    )\n",
    "\n",
    "train[f'comments_and_scores_{text_col}'] = train[f'comments_and_scores_{text_col}'].progress_apply(lambda x: literal_eval(x))\n",
    "\n",
    "train[text_col] = train[f'comments_and_scores_{text_col}'].progress_apply(\n",
    "    lambda x: \" # \".join([comment for score, comment in x[-n_comments:]])\n",
    "    ) \n",
    "train.Polarity = train.Polarity.map({\n",
    "    \"against\": 0,\n",
    "    \"for\": 1\n",
    "})\n",
    "test = pd.read_csv(\n",
    "    file_format_users_filtered.format(target = target, split = \"test\"), \n",
    "    sep = ';', \n",
    "    encoding='utf-8-sig'\n",
    "    )\n",
    "\n",
    "test[f'comments_and_scores_{text_col}'] = test[f'comments_and_scores_{text_col}'].progress_apply(lambda x: literal_eval(x))\n",
    "\n",
    "test[text_col] = test[f'comments_and_scores_{text_col}'].progress_apply(\n",
    "    lambda x: \" # \".join([comment for score, comment in x[-n_comments:]])\n",
    "    ) \n",
    "\n",
    "test.Polarity = test.Polarity.map({\n",
    "    \"against\": 0,\n",
    "    \"for\": 1\n",
    "})"
   ]
  },
  {
   "cell_type": "markdown",
   "id": "fad5dcfa-bf7f-4202-a6b6-5ed256fbfd4d",
   "metadata": {},
   "source": [
    "## Divide to train and test sets"
   ]
  },
  {
   "cell_type": "code",
   "execution_count": 5,
   "id": "1505f595-5990-4b90-8e75-eed4e4c4e277",
   "metadata": {},
   "outputs": [],
   "source": [
    "X_train = train[text_col].tolist()\n",
    "X_test = test[text_col].tolist()\n",
    "\n",
    "y_train = train[\"Polarity\"].tolist()\n",
    "y_test = test[\"Polarity\"].tolist()"
   ]
  },
  {
   "cell_type": "markdown",
   "id": "8b6d07f5-dad0-4612-9cf0-793716e79197",
   "metadata": {},
   "source": [
    "## Fit the model"
   ]
  },
  {
   "cell_type": "code",
   "execution_count": 6,
   "id": "f12ea5d7",
   "metadata": {},
   "outputs": [],
   "source": [
    "bert_model_name = 'pablocosta/bertabaporu-base-uncased'\n",
    "epochs = 3\n",
    "batch_size = 1"
   ]
  },
  {
   "cell_type": "code",
   "execution_count": 7,
   "id": "484eeab5-a89e-4846-b416-b7fae5ef9080",
   "metadata": {},
   "outputs": [],
   "source": [
    "MODEL_PARAMS = {\n",
    "    \"batch_size\": batch_size,\n",
    "    \"learning_rate\": 5e-5,\n",
    "    \"epochs\": epochs,\n",
    "    \"chunk_size\": 510,\n",
    "    \"stride\": 510,\n",
    "    \"minimal_chunk_length\": 510,\n",
    "    \"pooling_strategy\": \"mean\",\n",
    "    \"pretrained_model_name_or_path\": 'pablocosta/bertabaporu-base-uncased'\n",
    "}\n",
    "model = BertClassifierWithPooling(**MODEL_PARAMS, device=\"cuda:0\")"
   ]
  },
  {
   "cell_type": "code",
   "execution_count": 8,
   "id": "39fde966-d26c-40e6-9c17-a1a108f7b05e",
   "metadata": {},
   "outputs": [],
   "source": [
    "torch.cuda.empty_cache()\n",
    "\n",
    "\n",
    "model.fit(X_train, y_train, epochs=epochs)  #  Warning about tokeninizing too long text is expected"
   ]
  },
  {
   "cell_type": "code",
   "execution_count": 9,
   "id": "b707a272-422d-4c7d-b5d0-fefcaec5b5dd",
   "metadata": {},
   "outputs": [],
   "source": [
    "y_pred = model.predict_classes(X_test)"
   ]
  },
  {
   "cell_type": "code",
   "execution_count": 10,
   "id": "16a28f60",
   "metadata": {},
   "outputs": [
    {
     "name": "stdout",
     "output_type": "stream",
     "text": [
      "              precision    recall  f1-score   support\n",
      "\n",
      "           0       0.69      0.72      0.70       339\n",
      "           1       0.61      0.57      0.59       260\n",
      "\n",
      "    accuracy                           0.66       599\n",
      "   macro avg       0.65      0.65      0.65       599\n",
      "weighted avg       0.65      0.66      0.65       599\n",
      "\n"
     ]
    }
   ],
   "source": [
    "print(classification_report(y_test, y_pred))"
   ]
  }
 ],
 "metadata": {
  "kernelspec": {
   "display_name": "Python 3 (ipykernel)",
   "language": "python",
   "name": "python3"
  },
  "language_info": {
   "codemirror_mode": {
    "name": "ipython",
    "version": 3
   },
   "file_extension": ".py",
   "mimetype": "text/x-python",
   "name": "python",
   "nbconvert_exporter": "python",
   "pygments_lexer": "ipython3",
   "version": "3.12.2"
  }
 },
 "nbformat": 4,
 "nbformat_minor": 5
}
