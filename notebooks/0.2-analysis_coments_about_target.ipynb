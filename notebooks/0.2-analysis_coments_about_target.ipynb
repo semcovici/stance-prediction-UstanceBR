{
 "cells": [
  {
   "cell_type": "code",
   "execution_count": 1,
   "metadata": {},
   "outputs": [],
   "source": [
    "import pandas as pd\n",
    "from tqdm import tqdm\n",
    "import seaborn as sns\n",
    "from nltk.tokenize import word_tokenize\n",
    "import nltk\n",
    "from unidecode import unidecode\n",
    "import numpy as np"
   ]
  },
  {
   "cell_type": "code",
   "execution_count": 2,
   "metadata": {},
   "outputs": [],
   "source": [
    "tqdm.pandas()"
   ]
  },
  {
   "cell_type": "code",
   "execution_count": 3,
   "metadata": {},
   "outputs": [],
   "source": [
    "path_raw_data = '../data/raw/'\n"
   ]
  },
  {
   "cell_type": "code",
   "execution_count": 4,
   "metadata": {},
   "outputs": [],
   "source": [
    "# given comments separated by \" # \" and a list of terms, \n",
    "# return all coments that have at least one of terms in the list_terms\n",
    "\n",
    "def find_relevant_comments(comments, list_terms, L = None):    \n",
    "    \n",
    "    list_comments = comments.split(' # ')\n",
    "    \n",
    "    terms_set = set(t.casefold() for t in list_terms)\n",
    "    \n",
    "    list_rel_comments = [\n",
    "        com for com in list_comments if any(term in com.casefold() for term in terms_set)\n",
    "    ]\n",
    "    \n",
    "    if L is not None:\n",
    "        \n",
    "        list_rel_comments = create_comment_list(list_comments, list_rel_comments, L)\n",
    "        \n",
    "    str_rel_comments = ' # '.join(list_rel_comments) if len(list_rel_comments) > 0 else ''\n",
    "    \n",
    "    return str_rel_comments\n",
    "\n",
    "def create_comment_list(A, B, L):\n",
    "    \"\"\"\n",
    "    Creates a new comment list C of size L. If B contains more than L comments,\n",
    "    randomly selects L comments from B. If B contains fewer than L comments, it\n",
    "    randomly selects the remaining comments from A to fill up C.\n",
    "\n",
    "    Parameters:\n",
    "        A (list): List of comments from the social network.\n",
    "        B (list): List of comments from a user on the social network.\n",
    "        L (int): Size of the new comment list C.\n",
    "\n",
    "    Returns:\n",
    "        list: New comment list C of size L.\n",
    "    \"\"\"\n",
    "    C = []\n",
    "\n",
    "    if len(B) >= L:\n",
    "        # If B has at least L comments, select L comments randomly without replacement\n",
    "        C = np.random.choice(B, L, replace=False)\n",
    "    else:\n",
    "        # If B has fewer than L comments, add all comments from B\n",
    "        C.extend(B)\n",
    "        remaining_comments = L - len(B)\n",
    "        if remaining_comments <= len(A):\n",
    "            # If there are enough comments in A to fill up C, randomly select the remaining comments from A\n",
    "            A_comments = np.random.choice(A, remaining_comments, replace=False)\n",
    "            C.extend(A_comments)\n",
    "        else:\n",
    "            pass\n",
    "\n",
    "    return C\n"
   ]
  },
  {
   "cell_type": "code",
   "execution_count": 5,
   "metadata": {},
   "outputs": [],
   "source": [
    "terms_list_ig = [\n",
    "    \"igreja\",\n",
    "    \"catedral\",\n",
    "    \"capela\",\n",
    "    \"templo\",\n",
    "    \"paróquia\",\n",
    "    \"basílica\",\n",
    "    \"padre\",\n",
    "    \"pastor\",\n",
    "    \"bispo\",\n",
    "    \"cardeal\",\n",
    "    \"papa\",\n",
    "    \"sacerdote\",\n",
    "    \"arcebispo\",\n",
    "    \"deão\",\n",
    "    \"vigário\",\n",
    "    \"altar\",\n",
    "    \"crucifixo\",\n",
    "    \"cálice\",\n",
    "    \"hóstia\",\n",
    "    \"círio\",\n",
    "    \"batistério\",\n",
    "    \"sacristia\",\n",
    "    \"tabernáculo\",\n",
    "    \"missa\",\n",
    "    \"culto\",\n",
    "    \"batismo\",\n",
    "    \"comunhão\",\n",
    "    \"confissão\",\n",
    "    \"crisma\",\n",
    "    \"cerimônia\",\n",
    "    \"vaticano\",\n",
    "    \"concílio\",\n",
    "    \"encíclica\",\n",
    "    \"dioceses\"\n",
    "]\n",
    "\n",
    "terms_list_cl= [\n",
    "    \"hidroxicloroquina\",\n",
    "    \"remédio\",\n",
    "    \"medicamento\",\n",
    "    \"tratamento\",\n",
    "    \"antimalárico\",\n",
    "    \"antimalárico sintético\",\n",
    "    \"droga\"\n",
    "]\n",
    "\n",
    "terms_list_lu = [\n",
    "    \"lula\",\n",
    "    \"presidente\",\n",
    "    \"luiz inácio lula da silva\",\n",
    "    \"pt\",\n",
    "    \"partido dos trabalhadores\",\n",
    "    \"ex-presidente\",\n",
    "    \"liderança política\",\n",
    "    \"governo lula\",\n",
    "    \"política\"\n",
    "]\n",
    "\n",
    "terms_list_co = [\n",
    "    \"sinovac\",\n",
    "    \"coronavac\",\n",
    "    \"vacina\",\n",
    "    \"vacina chinesa\",\n",
    "    \"imunização\",\n",
    "    \"vacinação\",\n",
    "    \"biontech\",\n",
    "    \"covid-19\",\n",
    "    \"pandemia\"\n",
    "]\n",
    "terms_list_gl = [\n",
    "    \"globo\",\n",
    "    \"tv globo\",\n",
    "    \"rede globo\",\n",
    "    \"televisão\",\n",
    "    \"emissora\",\n",
    "    \"rede de televisão\",\n",
    "    \"mídia\",\n",
    "    \"jornalismo\",\n",
    "    \"programação de tv\",\n",
    "    \"entretenimento\"\n",
    "]\n",
    "\n",
    "\n",
    "terms_list_bo = [\n",
    "    \"bolsonaro\",\n",
    "    \"jair bolsonaro\",\n",
    "    \"presidente\",\n",
    "    \"presidente do brasil\",\n",
    "    \"governo bolsonaro\",\n",
    "    \"partido liberal\",\n",
    "    \"política\",\n",
    "    \"conservador\",\n",
    "    \"ex-presidente\"\n",
    "]"
   ]
  },
  {
   "cell_type": "code",
   "execution_count": 6,
   "metadata": {},
   "outputs": [],
   "source": [
    "target_terms_dict = {\n",
    "    'ig': terms_list_ig,\n",
    "    'bo': terms_list_bo, \n",
    "    'cl': terms_list_cl, \n",
    "    'co':terms_list_co, \n",
    "    'gl': terms_list_gl, \n",
    "    'lu': terms_list_lu\n",
    "}"
   ]
  },
  {
   "cell_type": "code",
   "execution_count": 7,
   "metadata": {},
   "outputs": [
    {
     "name": "stdout",
     "output_type": "stream",
     "text": [
      "\n",
      "#############################\n",
      "# ig\n",
      "#############################          \n",
      "          \n",
      "#### users timeline ####\n"
     ]
    },
    {
     "name": "stderr",
     "output_type": "stream",
     "text": [
      "100%|██████████| 599/599 [00:47<00:00, 12.49it/s]\n"
     ]
    },
    {
     "name": "stdout",
     "output_type": "stream",
     "text": [
      "Removing 0:  (571, 6)\n",
      "total (599, 6)\n",
      "#### top mentioned timelines ####\n"
     ]
    },
    {
     "name": "stderr",
     "output_type": "stream",
     "text": [
      "100%|██████████| 1796/1796 [01:26<00:00, 20.86it/s]\n"
     ]
    },
    {
     "name": "stdout",
     "output_type": "stream",
     "text": [
      "Removing 0:  (1522, 4)\n",
      "total (1796, 4)\n",
      "\n",
      "#############################\n",
      "# bo\n",
      "#############################          \n",
      "          \n",
      "#### users timeline ####\n"
     ]
    },
    {
     "name": "stderr",
     "output_type": "stream",
     "text": [
      "100%|██████████| 188/188 [00:04<00:00, 45.64it/s]\n"
     ]
    },
    {
     "name": "stdout",
     "output_type": "stream",
     "text": [
      "Removing 0:  (158, 6)\n",
      "total (188, 6)\n",
      "#### top mentioned timelines ####\n"
     ]
    },
    {
     "name": "stderr",
     "output_type": "stream",
     "text": [
      "100%|██████████| 563/563 [00:07<00:00, 70.49it/s]\n"
     ]
    },
    {
     "name": "stdout",
     "output_type": "stream",
     "text": [
      "Removing 0:  (397, 4)\n",
      "total (563, 4)\n",
      "\n",
      "#############################\n",
      "# cl\n",
      "#############################          \n",
      "          \n",
      "#### users timeline ####\n"
     ]
    },
    {
     "name": "stderr",
     "output_type": "stream",
     "text": [
      "100%|██████████| 574/574 [00:08<00:00, 65.36it/s]\n"
     ]
    },
    {
     "name": "stdout",
     "output_type": "stream",
     "text": [
      "Removing 0:  (564, 6)\n",
      "total (574, 6)\n",
      "#### top mentioned timelines ####\n"
     ]
    },
    {
     "name": "stderr",
     "output_type": "stream",
     "text": [
      "100%|██████████| 1721/1721 [00:31<00:00, 54.99it/s]\n"
     ]
    },
    {
     "name": "stdout",
     "output_type": "stream",
     "text": [
      "Removing 0:  (1604, 4)\n",
      "total (1721, 4)\n",
      "\n",
      "#############################\n",
      "# co\n",
      "#############################          \n",
      "          \n",
      "#### users timeline ####\n"
     ]
    },
    {
     "name": "stderr",
     "output_type": "stream",
     "text": [
      "100%|██████████| 774/774 [00:13<00:00, 55.62it/s]\n"
     ]
    },
    {
     "name": "stdout",
     "output_type": "stream",
     "text": [
      "Removing 0:  (762, 6)\n",
      "total (774, 6)\n",
      "#### top mentioned timelines ####\n"
     ]
    },
    {
     "name": "stderr",
     "output_type": "stream",
     "text": [
      "100%|██████████| 2319/2319 [00:53<00:00, 43.20it/s]\n"
     ]
    },
    {
     "name": "stdout",
     "output_type": "stream",
     "text": [
      "Removing 0:  (2211, 4)\n",
      "total (2319, 4)\n",
      "\n",
      "#############################\n",
      "# gl\n",
      "#############################          \n",
      "          \n",
      "#### users timeline ####\n"
     ]
    },
    {
     "name": "stderr",
     "output_type": "stream",
     "text": [
      "100%|██████████| 411/411 [00:10<00:00, 40.95it/s]\n"
     ]
    },
    {
     "name": "stdout",
     "output_type": "stream",
     "text": [
      "Removing 0:  (333, 6)\n",
      "total (411, 6)\n",
      "#### top mentioned timelines ####\n"
     ]
    },
    {
     "name": "stderr",
     "output_type": "stream",
     "text": [
      "100%|██████████| 1231/1231 [00:22<00:00, 54.58it/s]\n"
     ]
    },
    {
     "name": "stdout",
     "output_type": "stream",
     "text": [
      "Removing 0:  (877, 4)\n",
      "total (1231, 4)\n",
      "\n",
      "#############################\n",
      "# lu\n",
      "#############################          \n",
      "          \n",
      "#### users timeline ####\n"
     ]
    },
    {
     "name": "stderr",
     "output_type": "stream",
     "text": [
      "100%|██████████| 272/272 [00:06<00:00, 40.51it/s]\n"
     ]
    },
    {
     "name": "stdout",
     "output_type": "stream",
     "text": [
      "Removing 0:  (272, 6)\n",
      "total (272, 6)\n",
      "#### top mentioned timelines ####\n"
     ]
    },
    {
     "name": "stderr",
     "output_type": "stream",
     "text": [
      "100%|██████████| 816/816 [00:14<00:00, 55.10it/s]"
     ]
    },
    {
     "name": "stdout",
     "output_type": "stream",
     "text": [
      "Removing 0:  (780, 4)\n",
      "total (816, 4)\n",
      "\n",
      "##################\n",
      "# ig\n",
      "##################      \n",
      "          \n",
      "case 0 % 0.04674457429048414\n"
     ]
    },
    {
     "name": "stderr",
     "output_type": "stream",
     "text": [
      "\n",
      "/tmp/ipykernel_160503/250711058.py:49: UserWarning: Pandas doesn't allow columns to be created via a new attribute name - see https://pandas.pydata.org/pandas-docs/stable/indexing.html#attribute-access\n",
      "  data.count_filtered_Timeline = data.filtered_Timeline.apply(lambda x: x.count(' # '))\n"
     ]
    },
    {
     "data": {
      "text/plain": [
       "count    599.000000\n",
       "mean      23.025042\n",
       "std       49.223173\n",
       "min        0.000000\n",
       "25%        7.000000\n",
       "50%       14.000000\n",
       "75%       24.000000\n",
       "max      870.000000\n",
       "Name: filtered_Timeline, dtype: float64"
      ]
     },
     "metadata": {},
     "output_type": "display_data"
    },
    {
     "name": "stdout",
     "output_type": "stream",
     "text": [
      "\n",
      "##################\n",
      "# bo\n",
      "##################      \n",
      "          \n",
      "case 0 % 0.1595744680851064\n"
     ]
    },
    {
     "name": "stderr",
     "output_type": "stream",
     "text": [
      "/tmp/ipykernel_160503/250711058.py:49: UserWarning: Pandas doesn't allow columns to be created via a new attribute name - see https://pandas.pydata.org/pandas-docs/stable/indexing.html#attribute-access\n",
      "  data.count_filtered_Timeline = data.filtered_Timeline.apply(lambda x: x.count(' # '))\n"
     ]
    },
    {
     "data": {
      "text/plain": [
       "count    188.000000\n",
       "mean      35.329787\n",
       "std       87.623635\n",
       "min        0.000000\n",
       "25%        2.000000\n",
       "50%        6.000000\n",
       "75%       17.000000\n",
       "max      544.000000\n",
       "Name: filtered_Timeline, dtype: float64"
      ]
     },
     "metadata": {},
     "output_type": "display_data"
    },
    {
     "name": "stdout",
     "output_type": "stream",
     "text": [
      "\n",
      "##################\n",
      "# cl\n",
      "##################      \n",
      "          \n",
      "case 0 % 0.017421602787456445\n"
     ]
    },
    {
     "name": "stderr",
     "output_type": "stream",
     "text": [
      "/tmp/ipykernel_160503/250711058.py:49: UserWarning: Pandas doesn't allow columns to be created via a new attribute name - see https://pandas.pydata.org/pandas-docs/stable/indexing.html#attribute-access\n",
      "  data.count_filtered_Timeline = data.filtered_Timeline.apply(lambda x: x.count(' # '))\n"
     ]
    },
    {
     "data": {
      "text/plain": [
       "count    574.000000\n",
       "mean      18.832753\n",
       "std       23.725964\n",
       "min        0.000000\n",
       "25%        7.000000\n",
       "50%       12.000000\n",
       "75%       23.000000\n",
       "max      295.000000\n",
       "Name: filtered_Timeline, dtype: float64"
      ]
     },
     "metadata": {},
     "output_type": "display_data"
    },
    {
     "name": "stderr",
     "output_type": "stream",
     "text": [
      "/tmp/ipykernel_160503/250711058.py:49: UserWarning: Pandas doesn't allow columns to be created via a new attribute name - see https://pandas.pydata.org/pandas-docs/stable/indexing.html#attribute-access\n",
      "  data.count_filtered_Timeline = data.filtered_Timeline.apply(lambda x: x.count(' # '))\n"
     ]
    },
    {
     "name": "stdout",
     "output_type": "stream",
     "text": [
      "\n",
      "##################\n",
      "# co\n",
      "##################      \n",
      "          \n",
      "case 0 % 0.015503875968992248\n"
     ]
    },
    {
     "data": {
      "text/plain": [
       "count    774.000000\n",
       "mean      62.751938\n",
       "std       96.554540\n",
       "min        0.000000\n",
       "25%       14.000000\n",
       "50%       31.000000\n",
       "75%       68.750000\n",
       "max      985.000000\n",
       "Name: filtered_Timeline, dtype: float64"
      ]
     },
     "metadata": {},
     "output_type": "display_data"
    },
    {
     "name": "stdout",
     "output_type": "stream",
     "text": [
      "\n",
      "##################\n",
      "# gl\n",
      "##################      \n",
      "          \n",
      "case 0 % 0.1897810218978102\n"
     ]
    },
    {
     "name": "stderr",
     "output_type": "stream",
     "text": [
      "/tmp/ipykernel_160503/250711058.py:49: UserWarning: Pandas doesn't allow columns to be created via a new attribute name - see https://pandas.pydata.org/pandas-docs/stable/indexing.html#attribute-access\n",
      "  data.count_filtered_Timeline = data.filtered_Timeline.apply(lambda x: x.count(' # '))\n"
     ]
    },
    {
     "data": {
      "text/plain": [
       "count    411.000000\n",
       "mean      14.883212\n",
       "std       28.316004\n",
       "min        0.000000\n",
       "25%        1.000000\n",
       "50%        5.000000\n",
       "75%       15.500000\n",
       "max      308.000000\n",
       "Name: filtered_Timeline, dtype: float64"
      ]
     },
     "metadata": {},
     "output_type": "display_data"
    },
    {
     "name": "stdout",
     "output_type": "stream",
     "text": [
      "\n",
      "##################\n",
      "# lu\n",
      "##################      \n",
      "          \n",
      "case 0 % 0.0\n"
     ]
    },
    {
     "name": "stderr",
     "output_type": "stream",
     "text": [
      "/tmp/ipykernel_160503/250711058.py:49: UserWarning: Pandas doesn't allow columns to be created via a new attribute name - see https://pandas.pydata.org/pandas-docs/stable/indexing.html#attribute-access\n",
      "  data.count_filtered_Timeline = data.filtered_Timeline.apply(lambda x: x.count(' # '))\n"
     ]
    },
    {
     "data": {
      "text/plain": [
       "count     272.00000\n",
       "mean      121.62500\n",
       "std       202.60559\n",
       "min         1.00000\n",
       "25%        28.00000\n",
       "50%        53.00000\n",
       "75%       127.00000\n",
       "max      2353.00000\n",
       "Name: filtered_Timeline, dtype: float64"
      ]
     },
     "metadata": {},
     "output_type": "display_data"
    },
    {
     "name": "stdout",
     "output_type": "stream",
     "text": [
      "\n",
      "##################\n",
      "# ig\n",
      "##################      \n",
      "          \n",
      "case 0 % 0.15256124721603564\n"
     ]
    },
    {
     "name": "stderr",
     "output_type": "stream",
     "text": [
      "/tmp/ipykernel_160503/250711058.py:62: UserWarning: Pandas doesn't allow columns to be created via a new attribute name - see https://pandas.pydata.org/pandas-docs/stable/indexing.html#attribute-access\n",
      "  data.count_filtered_Texts = data.filtered_Texts.apply(lambda x: x.count(' # '))\n"
     ]
    },
    {
     "data": {
      "text/plain": [
       "count    1796.000000\n",
       "mean       20.599109\n",
       "std        82.057903\n",
       "min         0.000000\n",
       "25%         2.000000\n",
       "50%         5.000000\n",
       "75%        12.000000\n",
       "max      1145.000000\n",
       "Name: filtered_Texts, dtype: float64"
      ]
     },
     "metadata": {},
     "output_type": "display_data"
    },
    {
     "name": "stdout",
     "output_type": "stream",
     "text": [
      "\n",
      "##################\n",
      "# bo\n",
      "##################      \n",
      "          \n",
      "case 0 % 0.29484902309058614\n"
     ]
    },
    {
     "name": "stderr",
     "output_type": "stream",
     "text": [
      "/tmp/ipykernel_160503/250711058.py:62: UserWarning: Pandas doesn't allow columns to be created via a new attribute name - see https://pandas.pydata.org/pandas-docs/stable/indexing.html#attribute-access\n",
      "  data.count_filtered_Texts = data.filtered_Texts.apply(lambda x: x.count(' # '))\n"
     ]
    },
    {
     "data": {
      "text/plain": [
       "count    563.000000\n",
       "mean      56.216696\n",
       "std      111.482676\n",
       "min        0.000000\n",
       "25%        0.000000\n",
       "50%        6.000000\n",
       "75%      121.000000\n",
       "max      786.000000\n",
       "Name: filtered_Texts, dtype: float64"
      ]
     },
     "metadata": {},
     "output_type": "display_data"
    },
    {
     "name": "stdout",
     "output_type": "stream",
     "text": [
      "\n",
      "##################\n",
      "# cl\n",
      "##################      \n",
      "          \n",
      "case 0 % 0.06798373038930854\n"
     ]
    },
    {
     "name": "stderr",
     "output_type": "stream",
     "text": [
      "/tmp/ipykernel_160503/250711058.py:62: UserWarning: Pandas doesn't allow columns to be created via a new attribute name - see https://pandas.pydata.org/pandas-docs/stable/indexing.html#attribute-access\n",
      "  data.count_filtered_Texts = data.filtered_Texts.apply(lambda x: x.count(' # '))\n"
     ]
    },
    {
     "data": {
      "text/plain": [
       "count    1721.000000\n",
       "mean       36.386984\n",
       "std        45.104506\n",
       "min         0.000000\n",
       "25%         7.000000\n",
       "50%        22.000000\n",
       "75%        56.000000\n",
       "max       502.000000\n",
       "Name: filtered_Texts, dtype: float64"
      ]
     },
     "metadata": {},
     "output_type": "display_data"
    },
    {
     "name": "stdout",
     "output_type": "stream",
     "text": [
      "\n",
      "##################\n",
      "# co\n",
      "##################      \n",
      "          \n"
     ]
    },
    {
     "name": "stderr",
     "output_type": "stream",
     "text": [
      "/tmp/ipykernel_160503/250711058.py:62: UserWarning: Pandas doesn't allow columns to be created via a new attribute name - see https://pandas.pydata.org/pandas-docs/stable/indexing.html#attribute-access\n",
      "  data.count_filtered_Texts = data.filtered_Texts.apply(lambda x: x.count(' # '))\n"
     ]
    },
    {
     "name": "stdout",
     "output_type": "stream",
     "text": [
      "case 0 % 0.04657179818887452\n"
     ]
    },
    {
     "data": {
      "text/plain": [
       "count    2319.000000\n",
       "mean      208.030185\n",
       "std       224.687030\n",
       "min         0.000000\n",
       "25%        24.000000\n",
       "50%       130.000000\n",
       "75%       370.500000\n",
       "max      1262.000000\n",
       "Name: filtered_Texts, dtype: float64"
      ]
     },
     "metadata": {},
     "output_type": "display_data"
    },
    {
     "name": "stdout",
     "output_type": "stream",
     "text": [
      "\n",
      "##################\n",
      "# gl\n",
      "##################      \n",
      "          \n",
      "case 0 % 0.2875710804224208\n"
     ]
    },
    {
     "name": "stderr",
     "output_type": "stream",
     "text": [
      "/tmp/ipykernel_160503/250711058.py:62: UserWarning: Pandas doesn't allow columns to be created via a new attribute name - see https://pandas.pydata.org/pandas-docs/stable/indexing.html#attribute-access\n",
      "  data.count_filtered_Texts = data.filtered_Texts.apply(lambda x: x.count(' # '))\n"
     ]
    },
    {
     "data": {
      "text/plain": [
       "count    1231.000000\n",
       "mean       32.923639\n",
       "std        89.068772\n",
       "min         0.000000\n",
       "25%         0.000000\n",
       "50%         4.000000\n",
       "75%        13.000000\n",
       "max       500.000000\n",
       "Name: filtered_Texts, dtype: float64"
      ]
     },
     "metadata": {},
     "output_type": "display_data"
    },
    {
     "name": "stdout",
     "output_type": "stream",
     "text": [
      "\n",
      "##################\n",
      "# lu\n",
      "##################      \n",
      "          \n",
      "case 0 % 0.04411764705882353\n"
     ]
    },
    {
     "name": "stderr",
     "output_type": "stream",
     "text": [
      "/tmp/ipykernel_160503/250711058.py:62: UserWarning: Pandas doesn't allow columns to be created via a new attribute name - see https://pandas.pydata.org/pandas-docs/stable/indexing.html#attribute-access\n",
      "  data.count_filtered_Texts = data.filtered_Texts.apply(lambda x: x.count(' # '))\n"
     ]
    },
    {
     "data": {
      "text/plain": [
       "count    816.000000\n",
       "mean     133.973039\n",
       "std      212.493180\n",
       "min        0.000000\n",
       "25%       12.000000\n",
       "50%       43.000000\n",
       "75%      127.000000\n",
       "max      997.000000\n",
       "Name: filtered_Texts, dtype: float64"
      ]
     },
     "metadata": {},
     "output_type": "display_data"
    }
   ],
   "source": [
    "dict_data_users = {}\n",
    "dict_data_tmt = {}\n",
    "\n",
    "for target, terms_list in target_terms_dict.items():\n",
    "    \n",
    "    print(f\"\"\"\n",
    "#############################\n",
    "# {target}\n",
    "#############################          \n",
    "          \"\"\")\n",
    "    \n",
    "    # read data\n",
    "    data_tmt = pd.read_csv(\n",
    "        path_raw_data + f'train_r3_{target}_top_mentioned_timelines.csv', \n",
    "        sep = ';', \n",
    "        encoding='utf-8-sig'\n",
    "        )\n",
    "    \n",
    "    # read data\n",
    "    data_users = pd.read_csv(\n",
    "        path_raw_data + f'r3_{target}_test_users.csv', \n",
    "        sep = ';', \n",
    "        encoding='utf-8-sig'\n",
    "        )\n",
    "    \n",
    "    \n",
    "    print('#### users timeline ####')\n",
    "    data_users['filtered_Timeline'] = data_users.Timeline.progress_apply(lambda x: find_relevant_comments(x, terms_list))\n",
    "    print('Removing 0: ', data_users[data_users.filtered_Timeline.apply(lambda x : x.count(' # ')) > 0].shape)\n",
    "    print('total', data_users.shape)\n",
    "    \n",
    "    print('#### top mentioned timelines ####')\n",
    "    data_tmt['filtered_Texts'] = data_tmt.Texts.progress_apply(lambda x: find_relevant_comments(x, terms_list))\n",
    "    print('Removing 0: ', data_tmt[data_tmt.filtered_Texts.apply(lambda x : x.count(' # ')) > 0].shape)\n",
    "    print('total', data_tmt.shape)\n",
    "    \n",
    "    \n",
    "    dict_data_users.update({target:data_users})\n",
    "    dict_data_tmt.update({target:data_tmt})\n",
    "    \n",
    "for target, data in dict_data_users.items():\n",
    "    \n",
    "    print(f\"\"\"\n",
    "##################\n",
    "# {target}\n",
    "##################      \n",
    "          \"\"\")\n",
    "    \n",
    "    data.count_filtered_Timeline = data.filtered_Timeline.apply(lambda x: x.count(' # '))\n",
    "    \n",
    "    print('case 0 %', len(data[data.count_filtered_Timeline == 0])/len(data))\n",
    "    display(data.count_filtered_Timeline.describe())\n",
    "    \n",
    "for target, data in dict_data_tmt.items():\n",
    "    \n",
    "    print(f\"\"\"\n",
    "##################\n",
    "# {target}\n",
    "##################      \n",
    "          \"\"\")\n",
    "    \n",
    "    data.count_filtered_Texts = data.filtered_Texts.apply(lambda x: x.count(' # '))\n",
    "    \n",
    "    print('case 0 %', len(data[data.count_filtered_Texts == 0])/len(data))\n",
    "    display(data.count_filtered_Texts.describe())"
   ]
  },
  {
   "cell_type": "markdown",
   "metadata": {},
   "source": [
    "L = 30"
   ]
  },
  {
   "cell_type": "code",
   "execution_count": 8,
   "metadata": {},
   "outputs": [],
   "source": [
    "L = 30"
   ]
  },
  {
   "cell_type": "code",
   "execution_count": 9,
   "metadata": {},
   "outputs": [
    {
     "name": "stdout",
     "output_type": "stream",
     "text": [
      "\n",
      "#############################\n",
      "# ig\n",
      "#############################          \n",
      "          \n",
      "#### users timeline ####\n"
     ]
    },
    {
     "name": "stderr",
     "output_type": "stream",
     "text": [
      "100%|██████████| 599/599 [00:49<00:00, 12.07it/s]\n"
     ]
    },
    {
     "name": "stdout",
     "output_type": "stream",
     "text": [
      "Removing 0:  (599, 6)\n",
      "total (599, 6)\n",
      "#### top mentioned timelines ####\n"
     ]
    },
    {
     "name": "stderr",
     "output_type": "stream",
     "text": [
      "100%|██████████| 1796/1796 [01:26<00:00, 20.80it/s]\n"
     ]
    },
    {
     "name": "stdout",
     "output_type": "stream",
     "text": [
      "Removing 0:  (1758, 4)\n",
      "total (1796, 4)\n",
      "\n",
      "#############################\n",
      "# bo\n",
      "#############################          \n",
      "          \n",
      "#### users timeline ####\n"
     ]
    },
    {
     "name": "stderr",
     "output_type": "stream",
     "text": [
      "100%|██████████| 188/188 [00:04<00:00, 44.06it/s]\n"
     ]
    },
    {
     "name": "stdout",
     "output_type": "stream",
     "text": [
      "Removing 0:  (188, 6)\n",
      "total (188, 6)\n",
      "#### top mentioned timelines ####\n"
     ]
    },
    {
     "name": "stderr",
     "output_type": "stream",
     "text": [
      "100%|██████████| 563/563 [00:07<00:00, 73.70it/s]\n"
     ]
    },
    {
     "name": "stdout",
     "output_type": "stream",
     "text": [
      "Removing 0:  (556, 4)\n",
      "total (563, 4)\n",
      "\n",
      "#############################\n",
      "# cl\n",
      "#############################          \n",
      "          \n",
      "#### users timeline ####\n"
     ]
    },
    {
     "name": "stderr",
     "output_type": "stream",
     "text": [
      "100%|██████████| 574/574 [00:08<00:00, 65.08it/s]\n"
     ]
    },
    {
     "name": "stdout",
     "output_type": "stream",
     "text": [
      "Removing 0:  (574, 6)\n",
      "total (574, 6)\n",
      "#### top mentioned timelines ####\n"
     ]
    },
    {
     "name": "stderr",
     "output_type": "stream",
     "text": [
      "100%|██████████| 1721/1721 [00:30<00:00, 55.80it/s]\n"
     ]
    },
    {
     "name": "stdout",
     "output_type": "stream",
     "text": [
      "Removing 0:  (1710, 4)\n",
      "total (1721, 4)\n",
      "\n",
      "#############################\n",
      "# co\n",
      "#############################          \n",
      "          \n",
      "#### users timeline ####\n"
     ]
    },
    {
     "name": "stderr",
     "output_type": "stream",
     "text": [
      "100%|██████████| 774/774 [00:13<00:00, 56.65it/s]\n"
     ]
    },
    {
     "name": "stdout",
     "output_type": "stream",
     "text": [
      "Removing 0:  (774, 6)\n",
      "total (774, 6)\n",
      "#### top mentioned timelines ####\n"
     ]
    },
    {
     "name": "stderr",
     "output_type": "stream",
     "text": [
      "100%|██████████| 2319/2319 [00:52<00:00, 44.42it/s]\n"
     ]
    },
    {
     "name": "stdout",
     "output_type": "stream",
     "text": [
      "Removing 0:  (2289, 4)\n",
      "total (2319, 4)\n",
      "\n",
      "#############################\n",
      "# gl\n",
      "#############################          \n",
      "          \n",
      "#### users timeline ####\n"
     ]
    },
    {
     "name": "stderr",
     "output_type": "stream",
     "text": [
      "100%|██████████| 411/411 [00:10<00:00, 39.23it/s]\n"
     ]
    },
    {
     "name": "stdout",
     "output_type": "stream",
     "text": [
      "Removing 0:  (411, 6)\n",
      "total (411, 6)\n",
      "#### top mentioned timelines ####\n"
     ]
    },
    {
     "name": "stderr",
     "output_type": "stream",
     "text": [
      "100%|██████████| 1231/1231 [00:22<00:00, 53.91it/s]\n"
     ]
    },
    {
     "name": "stdout",
     "output_type": "stream",
     "text": [
      "Removing 0:  (1210, 4)\n",
      "total (1231, 4)\n",
      "\n",
      "#############################\n",
      "# lu\n",
      "#############################          \n",
      "          \n",
      "#### users timeline ####\n"
     ]
    },
    {
     "name": "stderr",
     "output_type": "stream",
     "text": [
      "100%|██████████| 272/272 [00:06<00:00, 41.13it/s]\n"
     ]
    },
    {
     "name": "stdout",
     "output_type": "stream",
     "text": [
      "Removing 0:  (272, 6)\n",
      "total (272, 6)\n",
      "#### top mentioned timelines ####\n"
     ]
    },
    {
     "name": "stderr",
     "output_type": "stream",
     "text": [
      "100%|██████████| 816/816 [00:14<00:00, 54.68it/s]"
     ]
    },
    {
     "name": "stdout",
     "output_type": "stream",
     "text": [
      "Removing 0:  (804, 4)\n",
      "total (816, 4)\n",
      "\n",
      "##################\n",
      "# ig\n",
      "##################      \n",
      "          \n",
      "case 0 % 0.0\n"
     ]
    },
    {
     "name": "stderr",
     "output_type": "stream",
     "text": [
      "\n",
      "/tmp/ipykernel_160503/1409183500.py:49: UserWarning: Pandas doesn't allow columns to be created via a new attribute name - see https://pandas.pydata.org/pandas-docs/stable/indexing.html#attribute-access\n",
      "  data.count_filtered_Timeline = data.filtered_Timeline.apply(lambda x: x.count(' # '))\n"
     ]
    },
    {
     "data": {
      "text/plain": [
       "count    599.0\n",
       "mean      29.0\n",
       "std        0.0\n",
       "min       29.0\n",
       "25%       29.0\n",
       "50%       29.0\n",
       "75%       29.0\n",
       "max       29.0\n",
       "Name: filtered_Timeline, dtype: float64"
      ]
     },
     "metadata": {},
     "output_type": "display_data"
    },
    {
     "name": "stdout",
     "output_type": "stream",
     "text": [
      "\n",
      "##################\n",
      "# bo\n",
      "##################      \n",
      "          \n",
      "case 0 % 0.0\n"
     ]
    },
    {
     "name": "stderr",
     "output_type": "stream",
     "text": [
      "/tmp/ipykernel_160503/1409183500.py:49: UserWarning: Pandas doesn't allow columns to be created via a new attribute name - see https://pandas.pydata.org/pandas-docs/stable/indexing.html#attribute-access\n",
      "  data.count_filtered_Timeline = data.filtered_Timeline.apply(lambda x: x.count(' # '))\n"
     ]
    },
    {
     "data": {
      "text/plain": [
       "count    188.0\n",
       "mean      29.0\n",
       "std        0.0\n",
       "min       29.0\n",
       "25%       29.0\n",
       "50%       29.0\n",
       "75%       29.0\n",
       "max       29.0\n",
       "Name: filtered_Timeline, dtype: float64"
      ]
     },
     "metadata": {},
     "output_type": "display_data"
    },
    {
     "name": "stdout",
     "output_type": "stream",
     "text": [
      "\n",
      "##################\n",
      "# cl\n",
      "##################      \n",
      "          \n",
      "case 0 % 0.0\n"
     ]
    },
    {
     "name": "stderr",
     "output_type": "stream",
     "text": [
      "/tmp/ipykernel_160503/1409183500.py:49: UserWarning: Pandas doesn't allow columns to be created via a new attribute name - see https://pandas.pydata.org/pandas-docs/stable/indexing.html#attribute-access\n",
      "  data.count_filtered_Timeline = data.filtered_Timeline.apply(lambda x: x.count(' # '))\n"
     ]
    },
    {
     "data": {
      "text/plain": [
       "count    574.0\n",
       "mean      29.0\n",
       "std        0.0\n",
       "min       29.0\n",
       "25%       29.0\n",
       "50%       29.0\n",
       "75%       29.0\n",
       "max       29.0\n",
       "Name: filtered_Timeline, dtype: float64"
      ]
     },
     "metadata": {},
     "output_type": "display_data"
    },
    {
     "name": "stdout",
     "output_type": "stream",
     "text": [
      "\n",
      "##################\n",
      "# co\n",
      "##################      \n",
      "          \n",
      "case 0 % 0.0\n"
     ]
    },
    {
     "name": "stderr",
     "output_type": "stream",
     "text": [
      "/tmp/ipykernel_160503/1409183500.py:49: UserWarning: Pandas doesn't allow columns to be created via a new attribute name - see https://pandas.pydata.org/pandas-docs/stable/indexing.html#attribute-access\n",
      "  data.count_filtered_Timeline = data.filtered_Timeline.apply(lambda x: x.count(' # '))\n"
     ]
    },
    {
     "data": {
      "text/plain": [
       "count    774.0\n",
       "mean      29.0\n",
       "std        0.0\n",
       "min       29.0\n",
       "25%       29.0\n",
       "50%       29.0\n",
       "75%       29.0\n",
       "max       29.0\n",
       "Name: filtered_Timeline, dtype: float64"
      ]
     },
     "metadata": {},
     "output_type": "display_data"
    },
    {
     "name": "stdout",
     "output_type": "stream",
     "text": [
      "\n",
      "##################\n",
      "# gl\n",
      "##################      \n",
      "          \n",
      "case 0 % 0.0\n"
     ]
    },
    {
     "name": "stderr",
     "output_type": "stream",
     "text": [
      "/tmp/ipykernel_160503/1409183500.py:49: UserWarning: Pandas doesn't allow columns to be created via a new attribute name - see https://pandas.pydata.org/pandas-docs/stable/indexing.html#attribute-access\n",
      "  data.count_filtered_Timeline = data.filtered_Timeline.apply(lambda x: x.count(' # '))\n"
     ]
    },
    {
     "data": {
      "text/plain": [
       "count    411.0\n",
       "mean      29.0\n",
       "std        0.0\n",
       "min       29.0\n",
       "25%       29.0\n",
       "50%       29.0\n",
       "75%       29.0\n",
       "max       29.0\n",
       "Name: filtered_Timeline, dtype: float64"
      ]
     },
     "metadata": {},
     "output_type": "display_data"
    },
    {
     "name": "stdout",
     "output_type": "stream",
     "text": [
      "\n",
      "##################\n",
      "# lu\n",
      "##################      \n",
      "          \n",
      "case 0 % 0.0\n"
     ]
    },
    {
     "name": "stderr",
     "output_type": "stream",
     "text": [
      "/tmp/ipykernel_160503/1409183500.py:49: UserWarning: Pandas doesn't allow columns to be created via a new attribute name - see https://pandas.pydata.org/pandas-docs/stable/indexing.html#attribute-access\n",
      "  data.count_filtered_Timeline = data.filtered_Timeline.apply(lambda x: x.count(' # '))\n"
     ]
    },
    {
     "data": {
      "text/plain": [
       "count    272.0\n",
       "mean      29.0\n",
       "std        0.0\n",
       "min       29.0\n",
       "25%       29.0\n",
       "50%       29.0\n",
       "75%       29.0\n",
       "max       29.0\n",
       "Name: filtered_Timeline, dtype: float64"
      ]
     },
     "metadata": {},
     "output_type": "display_data"
    },
    {
     "name": "stdout",
     "output_type": "stream",
     "text": [
      "\n",
      "##################\n",
      "# ig\n",
      "##################      \n",
      "          \n",
      "case 0 % 0.021158129175946547\n"
     ]
    },
    {
     "name": "stderr",
     "output_type": "stream",
     "text": [
      "/tmp/ipykernel_160503/1409183500.py:62: UserWarning: Pandas doesn't allow columns to be created via a new attribute name - see https://pandas.pydata.org/pandas-docs/stable/indexing.html#attribute-access\n",
      "  data.count_filtered_Texts = data.filtered_Texts.apply(lambda x: x.count(' # '))\n"
     ]
    },
    {
     "data": {
      "text/plain": [
       "count    1796.000000\n",
       "mean       28.386414\n",
       "std         4.174590\n",
       "min         0.000000\n",
       "25%        29.000000\n",
       "50%        29.000000\n",
       "75%        29.000000\n",
       "max        29.000000\n",
       "Name: filtered_Texts, dtype: float64"
      ]
     },
     "metadata": {},
     "output_type": "display_data"
    },
    {
     "name": "stdout",
     "output_type": "stream",
     "text": [
      "\n",
      "##################\n",
      "# bo\n",
      "##################      \n",
      "          \n",
      "case 0 % 0.012433392539964476\n"
     ]
    },
    {
     "name": "stderr",
     "output_type": "stream",
     "text": [
      "/tmp/ipykernel_160503/1409183500.py:62: UserWarning: Pandas doesn't allow columns to be created via a new attribute name - see https://pandas.pydata.org/pandas-docs/stable/indexing.html#attribute-access\n",
      "  data.count_filtered_Texts = data.filtered_Texts.apply(lambda x: x.count(' # '))\n"
     ]
    },
    {
     "data": {
      "text/plain": [
       "count    563.000000\n",
       "mean      28.639432\n",
       "std        3.216341\n",
       "min        0.000000\n",
       "25%       29.000000\n",
       "50%       29.000000\n",
       "75%       29.000000\n",
       "max       29.000000\n",
       "Name: filtered_Texts, dtype: float64"
      ]
     },
     "metadata": {},
     "output_type": "display_data"
    },
    {
     "name": "stdout",
     "output_type": "stream",
     "text": [
      "\n",
      "##################\n",
      "# cl\n",
      "##################      \n",
      "          \n",
      "case 0 % 0.006391632771644393\n"
     ]
    },
    {
     "name": "stderr",
     "output_type": "stream",
     "text": [
      "/tmp/ipykernel_160503/1409183500.py:62: UserWarning: Pandas doesn't allow columns to be created via a new attribute name - see https://pandas.pydata.org/pandas-docs/stable/indexing.html#attribute-access\n",
      "  data.count_filtered_Texts = data.filtered_Texts.apply(lambda x: x.count(' # '))\n"
     ]
    },
    {
     "data": {
      "text/plain": [
       "count    1721.000000\n",
       "mean       28.814643\n",
       "std         2.311733\n",
       "min         0.000000\n",
       "25%        29.000000\n",
       "50%        29.000000\n",
       "75%        29.000000\n",
       "max        29.000000\n",
       "Name: filtered_Texts, dtype: float64"
      ]
     },
     "metadata": {},
     "output_type": "display_data"
    },
    {
     "name": "stdout",
     "output_type": "stream",
     "text": [
      "\n",
      "##################\n",
      "# co\n",
      "##################      \n",
      "          \n",
      "case 0 % 0.0129366106080207\n"
     ]
    },
    {
     "name": "stderr",
     "output_type": "stream",
     "text": [
      "/tmp/ipykernel_160503/1409183500.py:62: UserWarning: Pandas doesn't allow columns to be created via a new attribute name - see https://pandas.pydata.org/pandas-docs/stable/indexing.html#attribute-access\n",
      "  data.count_filtered_Texts = data.filtered_Texts.apply(lambda x: x.count(' # '))\n"
     ]
    },
    {
     "data": {
      "text/plain": [
       "count    2319.000000\n",
       "mean       28.624838\n",
       "std         3.277739\n",
       "min         0.000000\n",
       "25%        29.000000\n",
       "50%        29.000000\n",
       "75%        29.000000\n",
       "max        29.000000\n",
       "Name: filtered_Texts, dtype: float64"
      ]
     },
     "metadata": {},
     "output_type": "display_data"
    },
    {
     "name": "stdout",
     "output_type": "stream",
     "text": [
      "\n",
      "##################\n",
      "# gl\n",
      "##################      \n",
      "          \n",
      "case 0 % 0.017059301380991064\n"
     ]
    },
    {
     "name": "stderr",
     "output_type": "stream",
     "text": [
      "/tmp/ipykernel_160503/1409183500.py:62: UserWarning: Pandas doesn't allow columns to be created via a new attribute name - see https://pandas.pydata.org/pandas-docs/stable/indexing.html#attribute-access\n",
      "  data.count_filtered_Texts = data.filtered_Texts.apply(lambda x: x.count(' # '))\n"
     ]
    },
    {
     "data": {
      "text/plain": [
       "count    1231.000000\n",
       "mean       28.505280\n",
       "std         3.756806\n",
       "min         0.000000\n",
       "25%        29.000000\n",
       "50%        29.000000\n",
       "75%        29.000000\n",
       "max        29.000000\n",
       "Name: filtered_Texts, dtype: float64"
      ]
     },
     "metadata": {},
     "output_type": "display_data"
    },
    {
     "name": "stdout",
     "output_type": "stream",
     "text": [
      "\n",
      "##################\n",
      "# lu\n",
      "##################      \n",
      "          \n",
      "case 0 % 0.014705882352941176\n"
     ]
    },
    {
     "name": "stderr",
     "output_type": "stream",
     "text": [
      "/tmp/ipykernel_160503/1409183500.py:62: UserWarning: Pandas doesn't allow columns to be created via a new attribute name - see https://pandas.pydata.org/pandas-docs/stable/indexing.html#attribute-access\n",
      "  data.count_filtered_Texts = data.filtered_Texts.apply(lambda x: x.count(' # '))\n"
     ]
    },
    {
     "data": {
      "text/plain": [
       "count    816.000000\n",
       "mean      28.573529\n",
       "std        3.492953\n",
       "min        0.000000\n",
       "25%       29.000000\n",
       "50%       29.000000\n",
       "75%       29.000000\n",
       "max       29.000000\n",
       "Name: filtered_Texts, dtype: float64"
      ]
     },
     "metadata": {},
     "output_type": "display_data"
    }
   ],
   "source": [
    "dict_data_users = {}\n",
    "dict_data_tmt = {}\n",
    "\n",
    "for target, terms_list in target_terms_dict.items():\n",
    "    \n",
    "    print(f\"\"\"\n",
    "#############################\n",
    "# {target}\n",
    "#############################          \n",
    "          \"\"\")\n",
    "    \n",
    "    # read data\n",
    "    data_tmt = pd.read_csv(\n",
    "        path_raw_data + f'train_r3_{target}_top_mentioned_timelines.csv', \n",
    "        sep = ';', \n",
    "        encoding='utf-8-sig'\n",
    "        )\n",
    "    \n",
    "    # read data\n",
    "    data_users = pd.read_csv(\n",
    "        path_raw_data + f'r3_{target}_test_users.csv', \n",
    "        sep = ';', \n",
    "        encoding='utf-8-sig'\n",
    "        )\n",
    "    \n",
    "    \n",
    "    print('#### users timeline ####')\n",
    "    data_users['filtered_Timeline'] = data_users.Timeline.progress_apply(lambda x: find_relevant_comments(x, terms_list, L))\n",
    "    print('Removing 0: ', data_users[data_users.filtered_Timeline.apply(lambda x : x.count(' # ')) > 0].shape)\n",
    "    print('total', data_users.shape)\n",
    "    \n",
    "    print('#### top mentioned timelines ####')\n",
    "    data_tmt['filtered_Texts'] = data_tmt.Texts.progress_apply(lambda x: find_relevant_comments(x, terms_list, L))\n",
    "    print('Removing 0: ', data_tmt[data_tmt.filtered_Texts.apply(lambda x : x.count(' # ')) > 0].shape)\n",
    "    print('total', data_tmt.shape)\n",
    "    \n",
    "    \n",
    "    dict_data_users.update({target:data_users})\n",
    "    dict_data_tmt.update({target:data_tmt})\n",
    "    \n",
    "for target, data in dict_data_users.items():\n",
    "    \n",
    "    print(f\"\"\"\n",
    "##################\n",
    "# {target}\n",
    "##################      \n",
    "          \"\"\")\n",
    "    \n",
    "    data.count_filtered_Timeline = data.filtered_Timeline.apply(lambda x: x.count(' # '))\n",
    "    \n",
    "    print('case 0 %', len(data[data.count_filtered_Timeline == 0])/len(data))\n",
    "    display(data.count_filtered_Timeline.describe())\n",
    "    \n",
    "for target, data in dict_data_tmt.items():\n",
    "    \n",
    "    print(f\"\"\"\n",
    "##################\n",
    "# {target}\n",
    "##################      \n",
    "          \"\"\")\n",
    "    \n",
    "    data.count_filtered_Texts = data.filtered_Texts.apply(lambda x: x.count(' # '))\n",
    "    \n",
    "    print('case 0 %', len(data[data.count_filtered_Texts == 0])/len(data))\n",
    "    display(data.count_filtered_Texts.describe())"
   ]
  },
  {
   "cell_type": "code",
   "execution_count": 10,
   "metadata": {},
   "outputs": [
    {
     "data": {
      "text/html": [
       "<div>\n",
       "<style scoped>\n",
       "    .dataframe tbody tr th:only-of-type {\n",
       "        vertical-align: middle;\n",
       "    }\n",
       "\n",
       "    .dataframe tbody tr th {\n",
       "        vertical-align: top;\n",
       "    }\n",
       "\n",
       "    .dataframe thead th {\n",
       "        text-align: right;\n",
       "    }\n",
       "</style>\n",
       "<table border=\"1\" class=\"dataframe\">\n",
       "  <thead>\n",
       "    <tr style=\"text-align: right;\">\n",
       "      <th></th>\n",
       "      <th>User_ID</th>\n",
       "      <th>Polarity</th>\n",
       "      <th>Texts</th>\n",
       "      <th>filtered_Texts</th>\n",
       "    </tr>\n",
       "  </thead>\n",
       "  <tbody>\n",
       "    <tr>\n",
       "      <th>59</th>\n",
       "      <td>r2_lu_73</td>\n",
       "      <td>against</td>\n",
       "      <td>na</td>\n",
       "      <td></td>\n",
       "    </tr>\n",
       "    <tr>\n",
       "      <th>248</th>\n",
       "      <td>r2_lu_322</td>\n",
       "      <td>against</td>\n",
       "      <td>na</td>\n",
       "      <td></td>\n",
       "    </tr>\n",
       "    <tr>\n",
       "      <th>306</th>\n",
       "      <td>r2_lu_393</td>\n",
       "      <td>for</td>\n",
       "      <td>na</td>\n",
       "      <td></td>\n",
       "    </tr>\n",
       "    <tr>\n",
       "      <th>314</th>\n",
       "      <td>r2_lu_402</td>\n",
       "      <td>against</td>\n",
       "      <td>na</td>\n",
       "      <td></td>\n",
       "    </tr>\n",
       "    <tr>\n",
       "      <th>350</th>\n",
       "      <td>r2_lu_447</td>\n",
       "      <td>for</td>\n",
       "      <td>na</td>\n",
       "      <td></td>\n",
       "    </tr>\n",
       "    <tr>\n",
       "      <th>419</th>\n",
       "      <td>r2_lu_543</td>\n",
       "      <td>against</td>\n",
       "      <td>na</td>\n",
       "      <td></td>\n",
       "    </tr>\n",
       "    <tr>\n",
       "      <th>457</th>\n",
       "      <td>r2_lu_594</td>\n",
       "      <td>against</td>\n",
       "      <td>na</td>\n",
       "      <td></td>\n",
       "    </tr>\n",
       "    <tr>\n",
       "      <th>613</th>\n",
       "      <td>r2_lu_832</td>\n",
       "      <td>against</td>\n",
       "      <td>na</td>\n",
       "      <td></td>\n",
       "    </tr>\n",
       "    <tr>\n",
       "      <th>695</th>\n",
       "      <td>r2_lu_942</td>\n",
       "      <td>against</td>\n",
       "      <td>na</td>\n",
       "      <td></td>\n",
       "    </tr>\n",
       "    <tr>\n",
       "      <th>699</th>\n",
       "      <td>r2_lu_946</td>\n",
       "      <td>for</td>\n",
       "      <td>na</td>\n",
       "      <td></td>\n",
       "    </tr>\n",
       "    <tr>\n",
       "      <th>709</th>\n",
       "      <td>r2_lu_957</td>\n",
       "      <td>against</td>\n",
       "      <td>na</td>\n",
       "      <td></td>\n",
       "    </tr>\n",
       "    <tr>\n",
       "      <th>787</th>\n",
       "      <td>r2_lu_1061</td>\n",
       "      <td>against</td>\n",
       "      <td>na</td>\n",
       "      <td></td>\n",
       "    </tr>\n",
       "  </tbody>\n",
       "</table>\n",
       "</div>"
      ],
      "text/plain": [
       "        User_ID Polarity Texts filtered_Texts\n",
       "59     r2_lu_73  against    na               \n",
       "248   r2_lu_322  against    na               \n",
       "306   r2_lu_393      for    na               \n",
       "314   r2_lu_402  against    na               \n",
       "350   r2_lu_447      for    na               \n",
       "419   r2_lu_543  against    na               \n",
       "457   r2_lu_594  against    na               \n",
       "613   r2_lu_832  against    na               \n",
       "695   r2_lu_942  against    na               \n",
       "699   r2_lu_946      for    na               \n",
       "709   r2_lu_957  against    na               \n",
       "787  r2_lu_1061  against    na               "
      ]
     },
     "execution_count": 10,
     "metadata": {},
     "output_type": "execute_result"
    }
   ],
   "source": [
    "data[data.count_filtered_Texts == 0]"
   ]
  }
 ],
 "metadata": {
  "kernelspec": {
   "display_name": "env-stance-pred",
   "language": "python",
   "name": "python3"
  },
  "language_info": {
   "codemirror_mode": {
    "name": "ipython",
    "version": 3
   },
   "file_extension": ".py",
   "mimetype": "text/x-python",
   "name": "python",
   "nbconvert_exporter": "python",
   "pygments_lexer": "ipython3",
   "version": "3.12.2"
  }
 },
 "nbformat": 4,
 "nbformat_minor": 2
}
