import fasttext
from huggingface_hub import hf_hub_download

model_path = hf_hub_download(repo_id="facebook/fasttext-pt-vectors", filename="model.bin")
model = fasttext.load_model(model_path)
model.words


len(model.words)


model['bread']
