{
 "cells": [
  {
   "cell_type": "markdown",
   "metadata": {},
   "source": [
    "## Imports"
   ]
  },
  {
   "cell_type": "code",
   "execution_count": 22,
   "metadata": {},
   "outputs": [],
   "source": [
    "import pandas as pd\n",
    "from tqdm import tqdm\n",
    "import seaborn as sns\n",
    "from nltk.tokenize import word_tokenize\n",
    "import nltk\n",
    "import numpy as np"
   ]
  },
  {
   "cell_type": "code",
   "execution_count": 2,
   "metadata": {},
   "outputs": [],
   "source": [
    "tqdm.pandas()"
   ]
  },
  {
   "cell_type": "code",
   "execution_count": 3,
   "metadata": {},
   "outputs": [
    {
     "name": "stderr",
     "output_type": "stream",
     "text": [
      "[nltk_data] Downloading package punkt to /home/semcovici/nltk_data...\n",
      "[nltk_data]   Package punkt is already up-to-date!\n"
     ]
    },
    {
     "data": {
      "text/plain": [
       "True"
      ]
     },
     "execution_count": 3,
     "metadata": {},
     "output_type": "execute_result"
    }
   ],
   "source": [
    "nltk.download('punkt')"
   ]
  },
  {
   "cell_type": "markdown",
   "metadata": {},
   "source": [
    "## Definitions"
   ]
  },
  {
   "cell_type": "code",
   "execution_count": 4,
   "metadata": {},
   "outputs": [],
   "source": [
    "path_raw_data = '../data/raw/'"
   ]
  },
  {
   "cell_type": "code",
   "execution_count": 5,
   "metadata": {},
   "outputs": [],
   "source": [
    "# choose the corpus for the analysis\n",
    "corpus = 'ig'"
   ]
  },
  {
   "cell_type": "markdown",
   "metadata": {},
   "source": [
    "## Read Data"
   ]
  },
  {
   "cell_type": "code",
   "execution_count": 6,
   "metadata": {},
   "outputs": [],
   "source": [
    "# read data\n",
    "data = pd.read_csv(\n",
    "    path_raw_data + f'r3_{corpus}_test_users.csv', \n",
    "    sep = ';', \n",
    "    encoding='utf-8-sig'\n",
    "    )"
   ]
  },
  {
   "cell_type": "code",
   "execution_count": 7,
   "metadata": {},
   "outputs": [
    {
     "data": {
      "text/html": [
       "<div>\n",
       "<style scoped>\n",
       "    .dataframe tbody tr th:only-of-type {\n",
       "        vertical-align: middle;\n",
       "    }\n",
       "\n",
       "    .dataframe tbody tr th {\n",
       "        vertical-align: top;\n",
       "    }\n",
       "\n",
       "    .dataframe thead th {\n",
       "        text-align: right;\n",
       "    }\n",
       "</style>\n",
       "<table border=\"1\" class=\"dataframe\">\n",
       "  <thead>\n",
       "    <tr style=\"text-align: right;\">\n",
       "      <th></th>\n",
       "      <th>User_ID</th>\n",
       "      <th>Timeline</th>\n",
       "      <th>Stance</th>\n",
       "      <th>Polarity</th>\n",
       "      <th>Tweet_Seq</th>\n",
       "    </tr>\n",
       "  </thead>\n",
       "  <tbody>\n",
       "    <tr>\n",
       "      <th>0</th>\n",
       "      <td>r2_ig_2</td>\n",
       "      <td>@ ta fzd oq # uma amiga minha tava na rua quan...</td>\n",
       "      <td>nao me diz que isso é de igreja católica pf</td>\n",
       "      <td>against</td>\n",
       "      <td>1874</td>\n",
       "    </tr>\n",
       "    <tr>\n",
       "      <th>1</th>\n",
       "      <td>r2_ig_3</td>\n",
       "      <td>@ Ola Como ta # Vamo Seguir @ estamos querendo...</td>\n",
       "      <td>Se a igreja faz isso ela devia ser isenta mesm...</td>\n",
       "      <td>against</td>\n",
       "      <td>3988</td>\n",
       "    </tr>\n",
       "    <tr>\n",
       "      <th>2</th>\n",
       "      <td>r2_ig_5</td>\n",
       "      <td>papai me deu um irmão lindo desse # cansada de...</td>\n",
       "      <td>que pena então, por que se cada espírita for r...</td>\n",
       "      <td>against</td>\n",
       "      <td>4532</td>\n",
       "    </tr>\n",
       "    <tr>\n",
       "      <th>3</th>\n",
       "      <td>r2_ig_6</td>\n",
       "      <td>Né primeiro de abril não ta # Pena que um pais...</td>\n",
       "      <td>bglh é entrar p igreja</td>\n",
       "      <td>for</td>\n",
       "      <td>2661</td>\n",
       "    </tr>\n",
       "    <tr>\n",
       "      <th>4</th>\n",
       "      <td>r2_ig_9</td>\n",
       "      <td>já acordei nun desânimo que pqp # vontade de n...</td>\n",
       "      <td>já vou levar pra igreja pra Deus benzer pq o q...</td>\n",
       "      <td>for</td>\n",
       "      <td>1441</td>\n",
       "    </tr>\n",
       "  </tbody>\n",
       "</table>\n",
       "</div>"
      ],
      "text/plain": [
       "   User_ID                                           Timeline  \\\n",
       "0  r2_ig_2  @ ta fzd oq # uma amiga minha tava na rua quan...   \n",
       "1  r2_ig_3  @ Ola Como ta # Vamo Seguir @ estamos querendo...   \n",
       "2  r2_ig_5  papai me deu um irmão lindo desse # cansada de...   \n",
       "3  r2_ig_6  Né primeiro de abril não ta # Pena que um pais...   \n",
       "4  r2_ig_9  já acordei nun desânimo que pqp # vontade de n...   \n",
       "\n",
       "                                              Stance Polarity  Tweet_Seq  \n",
       "0        nao me diz que isso é de igreja católica pf  against       1874  \n",
       "1  Se a igreja faz isso ela devia ser isenta mesm...  against       3988  \n",
       "2  que pena então, por que se cada espírita for r...  against       4532  \n",
       "3                             bglh é entrar p igreja      for       2661  \n",
       "4  já vou levar pra igreja pra Deus benzer pq o q...      for       1441  "
      ]
     },
     "execution_count": 7,
     "metadata": {},
     "output_type": "execute_result"
    }
   ],
   "source": [
    "data.head()"
   ]
  },
  {
   "cell_type": "markdown",
   "metadata": {},
   "source": [
    "## analysis"
   ]
  },
  {
   "cell_type": "markdown",
   "metadata": {},
   "source": [
    "### Basic describe"
   ]
  },
  {
   "cell_type": "code",
   "execution_count": 12,
   "metadata": {},
   "outputs": [
    {
     "data": {
      "text/plain": [
       "Polarity\n",
       "against    0.565943\n",
       "for        0.434057\n",
       "Name: count, dtype: float64"
      ]
     },
     "execution_count": 12,
     "metadata": {},
     "output_type": "execute_result"
    }
   ],
   "source": [
    "# % of observations per label\n",
    "data.Polarity.value_counts() / len(data) "
   ]
  },
  {
   "cell_type": "code",
   "execution_count": 13,
   "metadata": {},
   "outputs": [
    {
     "name": "stdout",
     "output_type": "stream",
     "text": [
      "len data with nan:  (599, 5)\n",
      "len data without nan:  (599, 5)\n"
     ]
    }
   ],
   "source": [
    "# question: there is nan data?\n",
    "print('len data with nan: ', data.shape)\n",
    "print('len data without nan: ', data.dropna().shape)"
   ]
  },
  {
   "cell_type": "code",
   "execution_count": 14,
   "metadata": {},
   "outputs": [
    {
     "name": "stdout",
     "output_type": "stream",
     "text": [
      "len data with duplicates:  (599, 5)\n",
      "len data without duplicates:  (599, 5)\n"
     ]
    }
   ],
   "source": [
    "# question: there is rows completely duplicated?\n",
    "print('len data with duplicates: ', data.shape)\n",
    "print('len data without duplicates: ', data.drop_duplicates().shape)"
   ]
  },
  {
   "cell_type": "code",
   "execution_count": 15,
   "metadata": {},
   "outputs": [
    {
     "ename": "KeyError",
     "evalue": "'Texts'",
     "output_type": "error",
     "traceback": [
      "\u001b[0;31m---------------------------------------------------------------------------\u001b[0m",
      "\u001b[0;31mKeyError\u001b[0m                                  Traceback (most recent call last)",
      "File \u001b[0;32m~/anaconda3/envs/env-stance-pred/lib/python3.12/site-packages/pandas/core/indexes/base.py:3805\u001b[0m, in \u001b[0;36mIndex.get_loc\u001b[0;34m(self, key)\u001b[0m\n\u001b[1;32m   3804\u001b[0m \u001b[38;5;28;01mtry\u001b[39;00m:\n\u001b[0;32m-> 3805\u001b[0m     \u001b[38;5;28;01mreturn\u001b[39;00m \u001b[38;5;28;43mself\u001b[39;49m\u001b[38;5;241;43m.\u001b[39;49m\u001b[43m_engine\u001b[49m\u001b[38;5;241;43m.\u001b[39;49m\u001b[43mget_loc\u001b[49m\u001b[43m(\u001b[49m\u001b[43mcasted_key\u001b[49m\u001b[43m)\u001b[49m\n\u001b[1;32m   3806\u001b[0m \u001b[38;5;28;01mexcept\u001b[39;00m \u001b[38;5;167;01mKeyError\u001b[39;00m \u001b[38;5;28;01mas\u001b[39;00m err:\n",
      "File \u001b[0;32mindex.pyx:167\u001b[0m, in \u001b[0;36mpandas._libs.index.IndexEngine.get_loc\u001b[0;34m()\u001b[0m\n",
      "File \u001b[0;32mindex.pyx:196\u001b[0m, in \u001b[0;36mpandas._libs.index.IndexEngine.get_loc\u001b[0;34m()\u001b[0m\n",
      "File \u001b[0;32mpandas/_libs/hashtable_class_helper.pxi:7081\u001b[0m, in \u001b[0;36mpandas._libs.hashtable.PyObjectHashTable.get_item\u001b[0;34m()\u001b[0m\n",
      "File \u001b[0;32mpandas/_libs/hashtable_class_helper.pxi:7089\u001b[0m, in \u001b[0;36mpandas._libs.hashtable.PyObjectHashTable.get_item\u001b[0;34m()\u001b[0m\n",
      "\u001b[0;31mKeyError\u001b[0m: 'Texts'",
      "\nThe above exception was the direct cause of the following exception:\n",
      "\u001b[0;31mKeyError\u001b[0m                                  Traceback (most recent call last)",
      "Cell \u001b[0;32mIn[15], line 2\u001b[0m\n\u001b[1;32m      1\u001b[0m \u001b[38;5;66;03m# question: there is rows with duplicated texts?\u001b[39;00m\n\u001b[0;32m----> 2\u001b[0m \u001b[38;5;28mprint\u001b[39m(\u001b[38;5;124m'\u001b[39m\u001b[38;5;124mlen data with duplicates: \u001b[39m\u001b[38;5;124m'\u001b[39m, \u001b[43mdata\u001b[49m\u001b[43m[\u001b[49m\u001b[38;5;124;43m'\u001b[39;49m\u001b[38;5;124;43mTexts\u001b[39;49m\u001b[38;5;124;43m'\u001b[39;49m\u001b[43m]\u001b[49m\u001b[38;5;241m.\u001b[39mshape)\n\u001b[1;32m      3\u001b[0m \u001b[38;5;28mprint\u001b[39m(\u001b[38;5;124m'\u001b[39m\u001b[38;5;124mlen data without duplicates: \u001b[39m\u001b[38;5;124m'\u001b[39m, data[\u001b[38;5;124m'\u001b[39m\u001b[38;5;124mTexts\u001b[39m\u001b[38;5;124m'\u001b[39m]\u001b[38;5;241m.\u001b[39mdrop_duplicates()\u001b[38;5;241m.\u001b[39mshape)\n",
      "File \u001b[0;32m~/anaconda3/envs/env-stance-pred/lib/python3.12/site-packages/pandas/core/frame.py:4090\u001b[0m, in \u001b[0;36mDataFrame.__getitem__\u001b[0;34m(self, key)\u001b[0m\n\u001b[1;32m   4088\u001b[0m \u001b[38;5;28;01mif\u001b[39;00m \u001b[38;5;28mself\u001b[39m\u001b[38;5;241m.\u001b[39mcolumns\u001b[38;5;241m.\u001b[39mnlevels \u001b[38;5;241m>\u001b[39m \u001b[38;5;241m1\u001b[39m:\n\u001b[1;32m   4089\u001b[0m     \u001b[38;5;28;01mreturn\u001b[39;00m \u001b[38;5;28mself\u001b[39m\u001b[38;5;241m.\u001b[39m_getitem_multilevel(key)\n\u001b[0;32m-> 4090\u001b[0m indexer \u001b[38;5;241m=\u001b[39m \u001b[38;5;28;43mself\u001b[39;49m\u001b[38;5;241;43m.\u001b[39;49m\u001b[43mcolumns\u001b[49m\u001b[38;5;241;43m.\u001b[39;49m\u001b[43mget_loc\u001b[49m\u001b[43m(\u001b[49m\u001b[43mkey\u001b[49m\u001b[43m)\u001b[49m\n\u001b[1;32m   4091\u001b[0m \u001b[38;5;28;01mif\u001b[39;00m is_integer(indexer):\n\u001b[1;32m   4092\u001b[0m     indexer \u001b[38;5;241m=\u001b[39m [indexer]\n",
      "File \u001b[0;32m~/anaconda3/envs/env-stance-pred/lib/python3.12/site-packages/pandas/core/indexes/base.py:3812\u001b[0m, in \u001b[0;36mIndex.get_loc\u001b[0;34m(self, key)\u001b[0m\n\u001b[1;32m   3807\u001b[0m     \u001b[38;5;28;01mif\u001b[39;00m \u001b[38;5;28misinstance\u001b[39m(casted_key, \u001b[38;5;28mslice\u001b[39m) \u001b[38;5;129;01mor\u001b[39;00m (\n\u001b[1;32m   3808\u001b[0m         \u001b[38;5;28misinstance\u001b[39m(casted_key, abc\u001b[38;5;241m.\u001b[39mIterable)\n\u001b[1;32m   3809\u001b[0m         \u001b[38;5;129;01mand\u001b[39;00m \u001b[38;5;28many\u001b[39m(\u001b[38;5;28misinstance\u001b[39m(x, \u001b[38;5;28mslice\u001b[39m) \u001b[38;5;28;01mfor\u001b[39;00m x \u001b[38;5;129;01min\u001b[39;00m casted_key)\n\u001b[1;32m   3810\u001b[0m     ):\n\u001b[1;32m   3811\u001b[0m         \u001b[38;5;28;01mraise\u001b[39;00m InvalidIndexError(key)\n\u001b[0;32m-> 3812\u001b[0m     \u001b[38;5;28;01mraise\u001b[39;00m \u001b[38;5;167;01mKeyError\u001b[39;00m(key) \u001b[38;5;28;01mfrom\u001b[39;00m \u001b[38;5;21;01merr\u001b[39;00m\n\u001b[1;32m   3813\u001b[0m \u001b[38;5;28;01mexcept\u001b[39;00m \u001b[38;5;167;01mTypeError\u001b[39;00m:\n\u001b[1;32m   3814\u001b[0m     \u001b[38;5;66;03m# If we have a listlike key, _check_indexing_error will raise\u001b[39;00m\n\u001b[1;32m   3815\u001b[0m     \u001b[38;5;66;03m#  InvalidIndexError. Otherwise we fall through and re-raise\u001b[39;00m\n\u001b[1;32m   3816\u001b[0m     \u001b[38;5;66;03m#  the TypeError.\u001b[39;00m\n\u001b[1;32m   3817\u001b[0m     \u001b[38;5;28mself\u001b[39m\u001b[38;5;241m.\u001b[39m_check_indexing_error(key)\n",
      "\u001b[0;31mKeyError\u001b[0m: 'Texts'"
     ]
    }
   ],
   "source": [
    "# question: there is rows with duplicated texts?\n",
    "print('len data with duplicates: ', data['Texts'].shape)\n",
    "print('len data without duplicates: ', data['Texts'].drop_duplicates().shape)"
   ]
  },
  {
   "cell_type": "code",
   "execution_count": 16,
   "metadata": {},
   "outputs": [
    {
     "ename": "KeyError",
     "evalue": "Index(['Texts'], dtype='object')",
     "output_type": "error",
     "traceback": [
      "\u001b[0;31m---------------------------------------------------------------------------\u001b[0m",
      "\u001b[0;31mKeyError\u001b[0m                                  Traceback (most recent call last)",
      "\u001b[0;32m/tmp/ipykernel_575997/1115826439.py\u001b[0m in \u001b[0;36m?\u001b[0;34m()\u001b[0m\n\u001b[1;32m      1\u001b[0m \u001b[0;31m# question: where is the duplicated texts?\u001b[0m\u001b[0;34m\u001b[0m\u001b[0;34m\u001b[0m\u001b[0m\n\u001b[0;32m----> 2\u001b[0;31m \u001b[0mdata\u001b[0m\u001b[0;34m[\u001b[0m\u001b[0mdata\u001b[0m\u001b[0;34m.\u001b[0m\u001b[0mduplicated\u001b[0m\u001b[0;34m(\u001b[0m\u001b[0msubset\u001b[0m\u001b[0;34m=\u001b[0m\u001b[0;34m[\u001b[0m\u001b[0;34m'Texts'\u001b[0m\u001b[0;34m]\u001b[0m\u001b[0;34m)\u001b[0m\u001b[0;34m]\u001b[0m\u001b[0;34m.\u001b[0m\u001b[0msort_values\u001b[0m\u001b[0;34m(\u001b[0m\u001b[0;34m'Texts'\u001b[0m\u001b[0;34m)\u001b[0m\u001b[0;34m\u001b[0m\u001b[0;34m\u001b[0m\u001b[0m\n\u001b[0m",
      "\u001b[0;32m~/anaconda3/envs/env-stance-pred/lib/python3.12/site-packages/pandas/core/frame.py\u001b[0m in \u001b[0;36m?\u001b[0;34m(self, subset, keep)\u001b[0m\n\u001b[1;32m   6933\u001b[0m         \u001b[0;31m# Otherwise, raise a KeyError, same as if you try to __getitem__ with a\u001b[0m\u001b[0;34m\u001b[0m\u001b[0;34m\u001b[0m\u001b[0m\n\u001b[1;32m   6934\u001b[0m         \u001b[0;31m# key that doesn't exist.\u001b[0m\u001b[0;34m\u001b[0m\u001b[0;34m\u001b[0m\u001b[0m\n\u001b[1;32m   6935\u001b[0m         \u001b[0mdiff\u001b[0m \u001b[0;34m=\u001b[0m \u001b[0mset\u001b[0m\u001b[0;34m(\u001b[0m\u001b[0msubset\u001b[0m\u001b[0;34m)\u001b[0m \u001b[0;34m-\u001b[0m \u001b[0mset\u001b[0m\u001b[0;34m(\u001b[0m\u001b[0mself\u001b[0m\u001b[0;34m.\u001b[0m\u001b[0mcolumns\u001b[0m\u001b[0;34m)\u001b[0m\u001b[0;34m\u001b[0m\u001b[0;34m\u001b[0m\u001b[0m\n\u001b[1;32m   6936\u001b[0m         \u001b[0;32mif\u001b[0m \u001b[0mdiff\u001b[0m\u001b[0;34m:\u001b[0m\u001b[0;34m\u001b[0m\u001b[0;34m\u001b[0m\u001b[0m\n\u001b[0;32m-> 6937\u001b[0;31m             \u001b[0;32mraise\u001b[0m \u001b[0mKeyError\u001b[0m\u001b[0;34m(\u001b[0m\u001b[0mIndex\u001b[0m\u001b[0;34m(\u001b[0m\u001b[0mdiff\u001b[0m\u001b[0;34m)\u001b[0m\u001b[0;34m)\u001b[0m\u001b[0;34m\u001b[0m\u001b[0;34m\u001b[0m\u001b[0m\n\u001b[0m\u001b[1;32m   6938\u001b[0m \u001b[0;34m\u001b[0m\u001b[0m\n\u001b[1;32m   6939\u001b[0m         \u001b[0;32mif\u001b[0m \u001b[0mlen\u001b[0m\u001b[0;34m(\u001b[0m\u001b[0msubset\u001b[0m\u001b[0;34m)\u001b[0m \u001b[0;34m==\u001b[0m \u001b[0;36m1\u001b[0m \u001b[0;32mand\u001b[0m \u001b[0mself\u001b[0m\u001b[0;34m.\u001b[0m\u001b[0mcolumns\u001b[0m\u001b[0;34m.\u001b[0m\u001b[0mis_unique\u001b[0m\u001b[0;34m:\u001b[0m\u001b[0;34m\u001b[0m\u001b[0;34m\u001b[0m\u001b[0m\n\u001b[1;32m   6940\u001b[0m             \u001b[0;31m# GH#45236 This is faster than get_group_index below\u001b[0m\u001b[0;34m\u001b[0m\u001b[0;34m\u001b[0m\u001b[0m\n",
      "\u001b[0;31mKeyError\u001b[0m: Index(['Texts'], dtype='object')"
     ]
    }
   ],
   "source": [
    "# question: where is the duplicated texts?\n",
    "data[data.duplicated(subset=['Texts'])].sort_values('Texts')"
   ]
  },
  {
   "cell_type": "code",
   "execution_count": 13,
   "metadata": {},
   "outputs": [
    {
     "name": "stdout",
     "output_type": "stream",
     "text": [
      "len data with duplicates:  (1796,)\n",
      "len data without duplicates:  (1796,)\n"
     ]
    }
   ],
   "source": [
    "# question: there is duplicated users?\n",
    "print('len data with duplicates: ', data['User_ID'].shape)\n",
    "print('len data without duplicates: ', data['User_ID'].drop_duplicates().shape)"
   ]
  },
  {
   "cell_type": "code",
   "execution_count": 14,
   "metadata": {},
   "outputs": [
    {
     "data": {
      "text/html": [
       "<div>\n",
       "<style scoped>\n",
       "    .dataframe tbody tr th:only-of-type {\n",
       "        vertical-align: middle;\n",
       "    }\n",
       "\n",
       "    .dataframe tbody tr th {\n",
       "        vertical-align: top;\n",
       "    }\n",
       "\n",
       "    .dataframe thead th {\n",
       "        text-align: right;\n",
       "    }\n",
       "</style>\n",
       "<table border=\"1\" class=\"dataframe\">\n",
       "  <thead>\n",
       "    <tr style=\"text-align: right;\">\n",
       "      <th></th>\n",
       "      <th>User_ID</th>\n",
       "      <th>Polarity</th>\n",
       "      <th>Texts</th>\n",
       "    </tr>\n",
       "  </thead>\n",
       "  <tbody>\n",
       "    <tr>\n",
       "      <th>0</th>\n",
       "      <td>r2_ig_1</td>\n",
       "      <td>against</td>\n",
       "      <td>PQP ESSE DORAMA É MUITO FOADA(Sassy GoGo(Cheer...</td>\n",
       "    </tr>\n",
       "    <tr>\n",
       "      <th>1</th>\n",
       "      <td>r2_ig_4</td>\n",
       "      <td>for</td>\n",
       "      <td>Golaço!!!!!!!!! # Manda geral do time principa...</td>\n",
       "    </tr>\n",
       "    <tr>\n",
       "      <th>2</th>\n",
       "      <td>r2_ig_7</td>\n",
       "      <td>against</td>\n",
       "      <td>@gabycunha86 Amanhã vou aí, deixa pra terça # ...</td>\n",
       "    </tr>\n",
       "    <tr>\n",
       "      <th>3</th>\n",
       "      <td>r2_ig_8</td>\n",
       "      <td>for</td>\n",
       "      <td>3.4- O Centro de Coordenação da Operação está ...</td>\n",
       "    </tr>\n",
       "    <tr>\n",
       "      <th>4</th>\n",
       "      <td>r2_ig_10</td>\n",
       "      <td>for</td>\n",
       "      <td>Me arrependi de excluir meu outro tt, agora ti...</td>\n",
       "    </tr>\n",
       "    <tr>\n",
       "      <th>...</th>\n",
       "      <td>...</td>\n",
       "      <td>...</td>\n",
       "      <td>...</td>\n",
       "    </tr>\n",
       "    <tr>\n",
       "      <th>1790</th>\n",
       "      <td>r2_ig_2395</td>\n",
       "      <td>against</td>\n",
       "      <td>ontem a rafaela me abandonou e eu fui pro omeg...</td>\n",
       "    </tr>\n",
       "    <tr>\n",
       "      <th>1792</th>\n",
       "      <td>r2_ig_2398</td>\n",
       "      <td>against</td>\n",
       "      <td>Em todos os 0 estados dos EUA a partir de hoje...</td>\n",
       "    </tr>\n",
       "    <tr>\n",
       "      <th>1793</th>\n",
       "      <td>r2_ig_2399</td>\n",
       "      <td>against</td>\n",
       "      <td>isso daqui so eu jogando prime 0 # se rolar ví...</td>\n",
       "    </tr>\n",
       "    <tr>\n",
       "      <th>1794</th>\n",
       "      <td>r2_ig_2400</td>\n",
       "      <td>against</td>\n",
       "      <td>@amndwz_ nao acredito! # @amndwz_ MUDANÇA # @a...</td>\n",
       "    </tr>\n",
       "    <tr>\n",
       "      <th>1795</th>\n",
       "      <td>r2_ig_2402</td>\n",
       "      <td>against</td>\n",
       "      <td>@bmazzeo Vamos mudar isso, Bruno! Estamos espe...</td>\n",
       "    </tr>\n",
       "  </tbody>\n",
       "</table>\n",
       "<p>1522 rows × 3 columns</p>\n",
       "</div>"
      ],
      "text/plain": [
       "         User_ID Polarity                                              Texts\n",
       "0        r2_ig_1  against  PQP ESSE DORAMA É MUITO FOADA(Sassy GoGo(Cheer...\n",
       "1        r2_ig_4      for  Golaço!!!!!!!!! # Manda geral do time principa...\n",
       "2        r2_ig_7  against  @gabycunha86 Amanhã vou aí, deixa pra terça # ...\n",
       "3        r2_ig_8      for  3.4- O Centro de Coordenação da Operação está ...\n",
       "4       r2_ig_10      for  Me arrependi de excluir meu outro tt, agora ti...\n",
       "...          ...      ...                                                ...\n",
       "1790  r2_ig_2395  against  ontem a rafaela me abandonou e eu fui pro omeg...\n",
       "1792  r2_ig_2398  against  Em todos os 0 estados dos EUA a partir de hoje...\n",
       "1793  r2_ig_2399  against  isso daqui so eu jogando prime 0 # se rolar ví...\n",
       "1794  r2_ig_2400  against  @amndwz_ nao acredito! # @amndwz_ MUDANÇA # @a...\n",
       "1795  r2_ig_2402  against  @bmazzeo Vamos mudar isso, Bruno! Estamos espe...\n",
       "\n",
       "[1522 rows x 3 columns]"
      ]
     },
     "execution_count": 14,
     "metadata": {},
     "output_type": "execute_result"
    }
   ],
   "source": [
    "# create the dataset to analysis\n",
    "## remove the rows who have duplicated texts\n",
    "data_2_anl = data.drop_duplicates(subset=['Texts'])\n",
    "data_2_anl"
   ]
  },
  {
   "cell_type": "code",
   "execution_count": 15,
   "metadata": {},
   "outputs": [
    {
     "data": {
      "text/plain": [
       "Polarity\n",
       "against    0.461024\n",
       "for        0.386414\n",
       "Name: count, dtype: float64"
      ]
     },
     "execution_count": 15,
     "metadata": {},
     "output_type": "execute_result"
    }
   ],
   "source": [
    "#number of observations per label\n",
    "data_2_anl.Polarity.value_counts() / len(data)"
   ]
  },
  {
   "cell_type": "markdown",
   "metadata": {},
   "source": [
    "### numerical analysis of length of texts"
   ]
  },
  {
   "cell_type": "code",
   "execution_count": 16,
   "metadata": {},
   "outputs": [
    {
     "name": "stderr",
     "output_type": "stream",
     "text": [
      " 37%|███▋      | 561/1522 [00:00<00:00, 1606.92it/s]"
     ]
    },
    {
     "name": "stderr",
     "output_type": "stream",
     "text": [
      "100%|██████████| 1522/1522 [00:00<00:00, 1592.67it/s]\n",
      "/tmp/ipykernel_176271/1561259299.py:2: SettingWithCopyWarning: \n",
      "A value is trying to be set on a copy of a slice from a DataFrame.\n",
      "Try using .loc[row_indexer,col_indexer] = value instead\n",
      "\n",
      "See the caveats in the documentation: https://pandas.pydata.org/pandas-docs/stable/user_guide/indexing.html#returning-a-view-versus-a-copy\n",
      "  data_2_anl['list_texts'] = data_2_anl.Texts.progress_apply(lambda x: x.split(' # '))\n"
     ]
    },
    {
     "data": {
      "text/html": [
       "<div>\n",
       "<style scoped>\n",
       "    .dataframe tbody tr th:only-of-type {\n",
       "        vertical-align: middle;\n",
       "    }\n",
       "\n",
       "    .dataframe tbody tr th {\n",
       "        vertical-align: top;\n",
       "    }\n",
       "\n",
       "    .dataframe thead th {\n",
       "        text-align: right;\n",
       "    }\n",
       "</style>\n",
       "<table border=\"1\" class=\"dataframe\">\n",
       "  <thead>\n",
       "    <tr style=\"text-align: right;\">\n",
       "      <th></th>\n",
       "      <th>User_ID</th>\n",
       "      <th>Polarity</th>\n",
       "      <th>Texts</th>\n",
       "      <th>list_texts</th>\n",
       "    </tr>\n",
       "  </thead>\n",
       "  <tbody>\n",
       "    <tr>\n",
       "      <th>0</th>\n",
       "      <td>r2_ig_1</td>\n",
       "      <td>against</td>\n",
       "      <td>PQP ESSE DORAMA É MUITO FOADA(Sassy GoGo(Cheer...</td>\n",
       "      <td>[PQP ESSE DORAMA É MUITO FOADA(Sassy GoGo(Chee...</td>\n",
       "    </tr>\n",
       "    <tr>\n",
       "      <th>1</th>\n",
       "      <td>r2_ig_4</td>\n",
       "      <td>for</td>\n",
       "      <td>Golaço!!!!!!!!! # Manda geral do time principa...</td>\n",
       "      <td>[Golaço!!!!!!!!!, Manda geral do time principa...</td>\n",
       "    </tr>\n",
       "    <tr>\n",
       "      <th>2</th>\n",
       "      <td>r2_ig_7</td>\n",
       "      <td>against</td>\n",
       "      <td>@gabycunha86 Amanhã vou aí, deixa pra terça # ...</td>\n",
       "      <td>[@gabycunha86 Amanhã vou aí, deixa pra terça, ...</td>\n",
       "    </tr>\n",
       "    <tr>\n",
       "      <th>3</th>\n",
       "      <td>r2_ig_8</td>\n",
       "      <td>for</td>\n",
       "      <td>3.4- O Centro de Coordenação da Operação está ...</td>\n",
       "      <td>[3.4- O Centro de Coordenação da Operação está...</td>\n",
       "    </tr>\n",
       "    <tr>\n",
       "      <th>4</th>\n",
       "      <td>r2_ig_10</td>\n",
       "      <td>for</td>\n",
       "      <td>Me arrependi de excluir meu outro tt, agora ti...</td>\n",
       "      <td>[Me arrependi de excluir meu outro tt, agora t...</td>\n",
       "    </tr>\n",
       "  </tbody>\n",
       "</table>\n",
       "</div>"
      ],
      "text/plain": [
       "    User_ID Polarity                                              Texts  \\\n",
       "0   r2_ig_1  against  PQP ESSE DORAMA É MUITO FOADA(Sassy GoGo(Cheer...   \n",
       "1   r2_ig_4      for  Golaço!!!!!!!!! # Manda geral do time principa...   \n",
       "2   r2_ig_7  against  @gabycunha86 Amanhã vou aí, deixa pra terça # ...   \n",
       "3   r2_ig_8      for  3.4- O Centro de Coordenação da Operação está ...   \n",
       "4  r2_ig_10      for  Me arrependi de excluir meu outro tt, agora ti...   \n",
       "\n",
       "                                          list_texts  \n",
       "0  [PQP ESSE DORAMA É MUITO FOADA(Sassy GoGo(Chee...  \n",
       "1  [Golaço!!!!!!!!!, Manda geral do time principa...  \n",
       "2  [@gabycunha86 Amanhã vou aí, deixa pra terça, ...  \n",
       "3  [3.4- O Centro de Coordenação da Operação está...  \n",
       "4  [Me arrependi de excluir meu outro tt, agora t...  "
      ]
     },
     "execution_count": 16,
     "metadata": {},
     "output_type": "execute_result"
    }
   ],
   "source": [
    "# create an list of the texts in 'Texts'\n",
    "data_2_anl['list_texts'] = data_2_anl.Texts.progress_apply(lambda x: x.split(' # '))\n",
    "data_2_anl.head()"
   ]
  },
  {
   "cell_type": "code",
   "execution_count": 17,
   "metadata": {},
   "outputs": [
    {
     "name": "stderr",
     "output_type": "stream",
     "text": [
      "100%|██████████| 1522/1522 [00:00<00:00, 844408.82it/s]\n",
      "/tmp/ipykernel_176271/1769049565.py:2: SettingWithCopyWarning: \n",
      "A value is trying to be set on a copy of a slice from a DataFrame.\n",
      "Try using .loc[row_indexer,col_indexer] = value instead\n",
      "\n",
      "See the caveats in the documentation: https://pandas.pydata.org/pandas-docs/stable/user_guide/indexing.html#returning-a-view-versus-a-copy\n",
      "  data_2_anl['n_texts'] = data_2_anl.list_texts.progress_apply(lambda x: len(x))\n"
     ]
    },
    {
     "data": {
      "text/html": [
       "<div>\n",
       "<style scoped>\n",
       "    .dataframe tbody tr th:only-of-type {\n",
       "        vertical-align: middle;\n",
       "    }\n",
       "\n",
       "    .dataframe tbody tr th {\n",
       "        vertical-align: top;\n",
       "    }\n",
       "\n",
       "    .dataframe thead th {\n",
       "        text-align: right;\n",
       "    }\n",
       "</style>\n",
       "<table border=\"1\" class=\"dataframe\">\n",
       "  <thead>\n",
       "    <tr style=\"text-align: right;\">\n",
       "      <th></th>\n",
       "      <th>User_ID</th>\n",
       "      <th>Polarity</th>\n",
       "      <th>Texts</th>\n",
       "      <th>list_texts</th>\n",
       "      <th>n_texts</th>\n",
       "    </tr>\n",
       "  </thead>\n",
       "  <tbody>\n",
       "    <tr>\n",
       "      <th>0</th>\n",
       "      <td>r2_ig_1</td>\n",
       "      <td>against</td>\n",
       "      <td>PQP ESSE DORAMA É MUITO FOADA(Sassy GoGo(Cheer...</td>\n",
       "      <td>[PQP ESSE DORAMA É MUITO FOADA(Sassy GoGo(Chee...</td>\n",
       "      <td>878</td>\n",
       "    </tr>\n",
       "    <tr>\n",
       "      <th>1</th>\n",
       "      <td>r2_ig_4</td>\n",
       "      <td>for</td>\n",
       "      <td>Golaço!!!!!!!!! # Manda geral do time principa...</td>\n",
       "      <td>[Golaço!!!!!!!!!, Manda geral do time principa...</td>\n",
       "      <td>533</td>\n",
       "    </tr>\n",
       "    <tr>\n",
       "      <th>2</th>\n",
       "      <td>r2_ig_7</td>\n",
       "      <td>against</td>\n",
       "      <td>@gabycunha86 Amanhã vou aí, deixa pra terça # ...</td>\n",
       "      <td>[@gabycunha86 Amanhã vou aí, deixa pra terça, ...</td>\n",
       "      <td>956</td>\n",
       "    </tr>\n",
       "    <tr>\n",
       "      <th>3</th>\n",
       "      <td>r2_ig_8</td>\n",
       "      <td>for</td>\n",
       "      <td>3.4- O Centro de Coordenação da Operação está ...</td>\n",
       "      <td>[3.4- O Centro de Coordenação da Operação está...</td>\n",
       "      <td>1153</td>\n",
       "    </tr>\n",
       "    <tr>\n",
       "      <th>4</th>\n",
       "      <td>r2_ig_10</td>\n",
       "      <td>for</td>\n",
       "      <td>Me arrependi de excluir meu outro tt, agora ti...</td>\n",
       "      <td>[Me arrependi de excluir meu outro tt, agora t...</td>\n",
       "      <td>91</td>\n",
       "    </tr>\n",
       "  </tbody>\n",
       "</table>\n",
       "</div>"
      ],
      "text/plain": [
       "    User_ID Polarity                                              Texts  \\\n",
       "0   r2_ig_1  against  PQP ESSE DORAMA É MUITO FOADA(Sassy GoGo(Cheer...   \n",
       "1   r2_ig_4      for  Golaço!!!!!!!!! # Manda geral do time principa...   \n",
       "2   r2_ig_7  against  @gabycunha86 Amanhã vou aí, deixa pra terça # ...   \n",
       "3   r2_ig_8      for  3.4- O Centro de Coordenação da Operação está ...   \n",
       "4  r2_ig_10      for  Me arrependi de excluir meu outro tt, agora ti...   \n",
       "\n",
       "                                          list_texts  n_texts  \n",
       "0  [PQP ESSE DORAMA É MUITO FOADA(Sassy GoGo(Chee...      878  \n",
       "1  [Golaço!!!!!!!!!, Manda geral do time principa...      533  \n",
       "2  [@gabycunha86 Amanhã vou aí, deixa pra terça, ...      956  \n",
       "3  [3.4- O Centro de Coordenação da Operação está...     1153  \n",
       "4  [Me arrependi de excluir meu outro tt, agora t...       91  "
      ]
     },
     "execution_count": 17,
     "metadata": {},
     "output_type": "execute_result"
    }
   ],
   "source": [
    "# count the texts in 'Texts'\n",
    "data_2_anl['n_texts'] = data_2_anl.list_texts.progress_apply(lambda x: len(x))\n",
    "data_2_anl.head()"
   ]
  },
  {
   "cell_type": "code",
   "execution_count": 18,
   "metadata": {},
   "outputs": [
    {
     "name": "stderr",
     "output_type": "stream",
     "text": [
      "100%|██████████| 1522/1522 [03:39<00:00,  6.92it/s]\n",
      "/tmp/ipykernel_176271/279838040.py:2: SettingWithCopyWarning: \n",
      "A value is trying to be set on a copy of a slice from a DataFrame.\n",
      "Try using .loc[row_indexer,col_indexer] = value instead\n",
      "\n",
      "See the caveats in the documentation: https://pandas.pydata.org/pandas-docs/stable/user_guide/indexing.html#returning-a-view-versus-a-copy\n",
      "  data_2_anl['list_texts_tokens'] = data_2_anl.list_texts.progress_apply(lambda x: [word_tokenize(text, language='portuguese') for text in x])\n"
     ]
    },
    {
     "data": {
      "text/html": [
       "<div>\n",
       "<style scoped>\n",
       "    .dataframe tbody tr th:only-of-type {\n",
       "        vertical-align: middle;\n",
       "    }\n",
       "\n",
       "    .dataframe tbody tr th {\n",
       "        vertical-align: top;\n",
       "    }\n",
       "\n",
       "    .dataframe thead th {\n",
       "        text-align: right;\n",
       "    }\n",
       "</style>\n",
       "<table border=\"1\" class=\"dataframe\">\n",
       "  <thead>\n",
       "    <tr style=\"text-align: right;\">\n",
       "      <th></th>\n",
       "      <th>User_ID</th>\n",
       "      <th>Polarity</th>\n",
       "      <th>Texts</th>\n",
       "      <th>list_texts</th>\n",
       "      <th>n_texts</th>\n",
       "      <th>list_texts_tokens</th>\n",
       "    </tr>\n",
       "  </thead>\n",
       "  <tbody>\n",
       "    <tr>\n",
       "      <th>0</th>\n",
       "      <td>r2_ig_1</td>\n",
       "      <td>against</td>\n",
       "      <td>PQP ESSE DORAMA É MUITO FOADA(Sassy GoGo(Cheer...</td>\n",
       "      <td>[PQP ESSE DORAMA É MUITO FOADA(Sassy GoGo(Chee...</td>\n",
       "      <td>878</td>\n",
       "      <td>[[PQP, ESSE, DORAMA, É, MUITO, FOADA, (, Sassy...</td>\n",
       "    </tr>\n",
       "    <tr>\n",
       "      <th>1</th>\n",
       "      <td>r2_ig_4</td>\n",
       "      <td>for</td>\n",
       "      <td>Golaço!!!!!!!!! # Manda geral do time principa...</td>\n",
       "      <td>[Golaço!!!!!!!!!, Manda geral do time principa...</td>\n",
       "      <td>533</td>\n",
       "      <td>[[Golaço, !, !, !, !, !, !, !, !, !], [Manda, ...</td>\n",
       "    </tr>\n",
       "    <tr>\n",
       "      <th>2</th>\n",
       "      <td>r2_ig_7</td>\n",
       "      <td>against</td>\n",
       "      <td>@gabycunha86 Amanhã vou aí, deixa pra terça # ...</td>\n",
       "      <td>[@gabycunha86 Amanhã vou aí, deixa pra terça, ...</td>\n",
       "      <td>956</td>\n",
       "      <td>[[@, gabycunha86, Amanhã, vou, aí, ,, deixa, p...</td>\n",
       "    </tr>\n",
       "    <tr>\n",
       "      <th>3</th>\n",
       "      <td>r2_ig_8</td>\n",
       "      <td>for</td>\n",
       "      <td>3.4- O Centro de Coordenação da Operação está ...</td>\n",
       "      <td>[3.4- O Centro de Coordenação da Operação está...</td>\n",
       "      <td>1153</td>\n",
       "      <td>[[3.4-, O, Centro, de, Coordenação, da, Operaç...</td>\n",
       "    </tr>\n",
       "    <tr>\n",
       "      <th>4</th>\n",
       "      <td>r2_ig_10</td>\n",
       "      <td>for</td>\n",
       "      <td>Me arrependi de excluir meu outro tt, agora ti...</td>\n",
       "      <td>[Me arrependi de excluir meu outro tt, agora t...</td>\n",
       "      <td>91</td>\n",
       "      <td>[[Me, arrependi, de, excluir, meu, outro, tt, ...</td>\n",
       "    </tr>\n",
       "  </tbody>\n",
       "</table>\n",
       "</div>"
      ],
      "text/plain": [
       "    User_ID Polarity                                              Texts  \\\n",
       "0   r2_ig_1  against  PQP ESSE DORAMA É MUITO FOADA(Sassy GoGo(Cheer...   \n",
       "1   r2_ig_4      for  Golaço!!!!!!!!! # Manda geral do time principa...   \n",
       "2   r2_ig_7  against  @gabycunha86 Amanhã vou aí, deixa pra terça # ...   \n",
       "3   r2_ig_8      for  3.4- O Centro de Coordenação da Operação está ...   \n",
       "4  r2_ig_10      for  Me arrependi de excluir meu outro tt, agora ti...   \n",
       "\n",
       "                                          list_texts  n_texts  \\\n",
       "0  [PQP ESSE DORAMA É MUITO FOADA(Sassy GoGo(Chee...      878   \n",
       "1  [Golaço!!!!!!!!!, Manda geral do time principa...      533   \n",
       "2  [@gabycunha86 Amanhã vou aí, deixa pra terça, ...      956   \n",
       "3  [3.4- O Centro de Coordenação da Operação está...     1153   \n",
       "4  [Me arrependi de excluir meu outro tt, agora t...       91   \n",
       "\n",
       "                                   list_texts_tokens  \n",
       "0  [[PQP, ESSE, DORAMA, É, MUITO, FOADA, (, Sassy...  \n",
       "1  [[Golaço, !, !, !, !, !, !, !, !, !], [Manda, ...  \n",
       "2  [[@, gabycunha86, Amanhã, vou, aí, ,, deixa, p...  \n",
       "3  [[3.4-, O, Centro, de, Coordenação, da, Operaç...  \n",
       "4  [[Me, arrependi, de, excluir, meu, outro, tt, ...  "
      ]
     },
     "execution_count": 18,
     "metadata": {},
     "output_type": "execute_result"
    }
   ],
   "source": [
    "# create tokens in each text in 'Texts'\n",
    "data_2_anl['list_texts_tokens'] = data_2_anl.list_texts.progress_apply(lambda x: [word_tokenize(text, language='portuguese') for text in x])\n",
    "data_2_anl.head()"
   ]
  },
  {
   "cell_type": "code",
   "execution_count": 19,
   "metadata": {},
   "outputs": [
    {
     "name": "stderr",
     "output_type": "stream",
     "text": [
      " 52%|█████▏    | 786/1522 [00:00<00:00, 7848.11it/s]"
     ]
    },
    {
     "name": "stderr",
     "output_type": "stream",
     "text": [
      "100%|██████████| 1522/1522 [00:00<00:00, 7407.00it/s]\n",
      "/tmp/ipykernel_176271/4170615992.py:2: SettingWithCopyWarning: \n",
      "A value is trying to be set on a copy of a slice from a DataFrame.\n",
      "Try using .loc[row_indexer,col_indexer] = value instead\n",
      "\n",
      "See the caveats in the documentation: https://pandas.pydata.org/pandas-docs/stable/user_guide/indexing.html#returning-a-view-versus-a-copy\n",
      "  data_2_anl['list_texts_len'] = data_2_anl.list_texts_tokens.progress_apply(lambda x: [len(text) for text in x])\n"
     ]
    },
    {
     "data": {
      "text/html": [
       "<div>\n",
       "<style scoped>\n",
       "    .dataframe tbody tr th:only-of-type {\n",
       "        vertical-align: middle;\n",
       "    }\n",
       "\n",
       "    .dataframe tbody tr th {\n",
       "        vertical-align: top;\n",
       "    }\n",
       "\n",
       "    .dataframe thead th {\n",
       "        text-align: right;\n",
       "    }\n",
       "</style>\n",
       "<table border=\"1\" class=\"dataframe\">\n",
       "  <thead>\n",
       "    <tr style=\"text-align: right;\">\n",
       "      <th></th>\n",
       "      <th>User_ID</th>\n",
       "      <th>Polarity</th>\n",
       "      <th>Texts</th>\n",
       "      <th>list_texts</th>\n",
       "      <th>n_texts</th>\n",
       "      <th>list_texts_tokens</th>\n",
       "      <th>list_texts_len</th>\n",
       "    </tr>\n",
       "  </thead>\n",
       "  <tbody>\n",
       "    <tr>\n",
       "      <th>0</th>\n",
       "      <td>r2_ig_1</td>\n",
       "      <td>against</td>\n",
       "      <td>PQP ESSE DORAMA É MUITO FOADA(Sassy GoGo(Cheer...</td>\n",
       "      <td>[PQP ESSE DORAMA É MUITO FOADA(Sassy GoGo(Chee...</td>\n",
       "      <td>878</td>\n",
       "      <td>[[PQP, ESSE, DORAMA, É, MUITO, FOADA, (, Sassy...</td>\n",
       "      <td>[31, 12, 8, 9, 31, 17, 15, 13, 20, 14, 19, 5, ...</td>\n",
       "    </tr>\n",
       "    <tr>\n",
       "      <th>1</th>\n",
       "      <td>r2_ig_4</td>\n",
       "      <td>for</td>\n",
       "      <td>Golaço!!!!!!!!! # Manda geral do time principa...</td>\n",
       "      <td>[Golaço!!!!!!!!!, Manda geral do time principa...</td>\n",
       "      <td>533</td>\n",
       "      <td>[[Golaço, !, !, !, !, !, !, !, !, !], [Manda, ...</td>\n",
       "      <td>[10, 7, 8, 11, 5, 5, 8, 6, 4, 3, 13, 8, 7, 9, ...</td>\n",
       "    </tr>\n",
       "    <tr>\n",
       "      <th>2</th>\n",
       "      <td>r2_ig_7</td>\n",
       "      <td>against</td>\n",
       "      <td>@gabycunha86 Amanhã vou aí, deixa pra terça # ...</td>\n",
       "      <td>[@gabycunha86 Amanhã vou aí, deixa pra terça, ...</td>\n",
       "      <td>956</td>\n",
       "      <td>[[@, gabycunha86, Amanhã, vou, aí, ,, deixa, p...</td>\n",
       "      <td>[9, 5, 11, 4, 12, 13, 2, 25, 10, 7, 12, 5, 7, ...</td>\n",
       "    </tr>\n",
       "    <tr>\n",
       "      <th>3</th>\n",
       "      <td>r2_ig_8</td>\n",
       "      <td>for</td>\n",
       "      <td>3.4- O Centro de Coordenação da Operação está ...</td>\n",
       "      <td>[3.4- O Centro de Coordenação da Operação está...</td>\n",
       "      <td>1153</td>\n",
       "      <td>[[3.4-, O, Centro, de, Coordenação, da, Operaç...</td>\n",
       "      <td>[50, 23, 39, 16, 13, 9, 43, 53, 19, 48, 41, 27...</td>\n",
       "    </tr>\n",
       "    <tr>\n",
       "      <th>4</th>\n",
       "      <td>r2_ig_10</td>\n",
       "      <td>for</td>\n",
       "      <td>Me arrependi de excluir meu outro tt, agora ti...</td>\n",
       "      <td>[Me arrependi de excluir meu outro tt, agora t...</td>\n",
       "      <td>91</td>\n",
       "      <td>[[Me, arrependi, de, excluir, meu, outro, tt, ...</td>\n",
       "      <td>[14, 9, 4, 11, 9, 23, 19, 13, 9, 19, 10, 24, 2...</td>\n",
       "    </tr>\n",
       "  </tbody>\n",
       "</table>\n",
       "</div>"
      ],
      "text/plain": [
       "    User_ID Polarity                                              Texts  \\\n",
       "0   r2_ig_1  against  PQP ESSE DORAMA É MUITO FOADA(Sassy GoGo(Cheer...   \n",
       "1   r2_ig_4      for  Golaço!!!!!!!!! # Manda geral do time principa...   \n",
       "2   r2_ig_7  against  @gabycunha86 Amanhã vou aí, deixa pra terça # ...   \n",
       "3   r2_ig_8      for  3.4- O Centro de Coordenação da Operação está ...   \n",
       "4  r2_ig_10      for  Me arrependi de excluir meu outro tt, agora ti...   \n",
       "\n",
       "                                          list_texts  n_texts  \\\n",
       "0  [PQP ESSE DORAMA É MUITO FOADA(Sassy GoGo(Chee...      878   \n",
       "1  [Golaço!!!!!!!!!, Manda geral do time principa...      533   \n",
       "2  [@gabycunha86 Amanhã vou aí, deixa pra terça, ...      956   \n",
       "3  [3.4- O Centro de Coordenação da Operação está...     1153   \n",
       "4  [Me arrependi de excluir meu outro tt, agora t...       91   \n",
       "\n",
       "                                   list_texts_tokens  \\\n",
       "0  [[PQP, ESSE, DORAMA, É, MUITO, FOADA, (, Sassy...   \n",
       "1  [[Golaço, !, !, !, !, !, !, !, !, !], [Manda, ...   \n",
       "2  [[@, gabycunha86, Amanhã, vou, aí, ,, deixa, p...   \n",
       "3  [[3.4-, O, Centro, de, Coordenação, da, Operaç...   \n",
       "4  [[Me, arrependi, de, excluir, meu, outro, tt, ...   \n",
       "\n",
       "                                      list_texts_len  \n",
       "0  [31, 12, 8, 9, 31, 17, 15, 13, 20, 14, 19, 5, ...  \n",
       "1  [10, 7, 8, 11, 5, 5, 8, 6, 4, 3, 13, 8, 7, 9, ...  \n",
       "2  [9, 5, 11, 4, 12, 13, 2, 25, 10, 7, 12, 5, 7, ...  \n",
       "3  [50, 23, 39, 16, 13, 9, 43, 53, 19, 48, 41, 27...  \n",
       "4  [14, 9, 4, 11, 9, 23, 19, 13, 9, 19, 10, 24, 2...  "
      ]
     },
     "execution_count": 19,
     "metadata": {},
     "output_type": "execute_result"
    }
   ],
   "source": [
    "# count tokens in each text in 'Texts'\n",
    "data_2_anl['list_texts_len'] = data_2_anl.list_texts_tokens.progress_apply(lambda x: [len(text) for text in x])\n",
    "data_2_anl.head()"
   ]
  },
  {
   "cell_type": "code",
   "execution_count": 20,
   "metadata": {},
   "outputs": [
    {
     "data": {
      "text/plain": [
       "[Text(0.5, 1.0, 'number of comments of friends per user'),\n",
       " Text(0.5, 0, 'number of comments')]"
      ]
     },
     "execution_count": 20,
     "metadata": {},
     "output_type": "execute_result"
    },
    {
     "data": {
      "image/png": "[encoded data removed]",
      "text/plain": [
       "<Figure size 640x480 with 1 Axes>"
      ]
     },
     "metadata": {},
     "output_type": "display_data"
    }
   ],
   "source": [
    "sns.boxplot(\n",
    "    data=data_2_anl,\n",
    "    x=\"n_texts\"\n",
    "    ).set(\n",
    "        title='number of comments of friends per user',\n",
    "        xlabel='number of comments'\n",
    "    )"
   ]
  },
  {
   "cell_type": "code",
   "execution_count": 21,
   "metadata": {},
   "outputs": [
    {
     "data": {
      "text/plain": [
       "[Text(0.5, 1.0, 'number of comments of friends per user'),\n",
       " Text(0.5, 0, 'number of comments')]"
      ]
     },
     "execution_count": 21,
     "metadata": {},
     "output_type": "execute_result"
    },
    {
     "data": {
      "image/png": "[encoded data removed]",
      "text/plain": [
       "<Figure size 640x480 with 1 Axes>"
      ]
     },
     "metadata": {},
     "output_type": "display_data"
    }
   ],
   "source": [
    "sns.boxplot(\n",
    "    data=data_2_anl,\n",
    "    x=\"n_texts\",\n",
    "    y='Polarity',\n",
    "    hue='Polarity'\n",
    "    ).set(\n",
    "        title='number of comments of friends per user',\n",
    "        xlabel='number of comments'\n",
    "    )"
   ]
  },
  {
   "cell_type": "code",
   "execution_count": 22,
   "metadata": {},
   "outputs": [
    {
     "name": "stderr",
     "output_type": "stream",
     "text": [
      "100%|██████████| 1522/1522 [00:00<00:00, 16200.84it/s]\n"
     ]
    }
   ],
   "source": [
    "list_for_n_tks = []\n",
    "list_against_n_tks = []\n",
    "for idx, row in tqdm(data_2_anl.iterrows(), total = len(data_2_anl)):\n",
    "    \n",
    "    label = row['Polarity']\n",
    "    list_texts_len = row['list_texts_len']\n",
    "    \n",
    "    if label == 'for':\n",
    "        list_for_n_tks += list_texts_len\n",
    "    elif label == 'against':\n",
    "        list_against_n_tks += list_texts_len"
   ]
  },
  {
   "cell_type": "code",
   "execution_count": 23,
   "metadata": {},
   "outputs": [
    {
     "data": {
      "text/plain": [
       "[Text(0.5, 1.0, 'number of token in comments by polarity'),\n",
       " Text(0.5, 0, 'number of tokens')]"
      ]
     },
     "execution_count": 23,
     "metadata": {},
     "output_type": "execute_result"
    },
    {
     "data": {
      "image/png": "[encoded data removed]",
      "text/plain": [
       "<Figure size 640x480 with 1 Axes>"
      ]
     },
     "metadata": {},
     "output_type": "display_data"
    }
   ],
   "source": [
    "sns.boxplot(\n",
    "    data={'against': list_against_n_tks, 'for': list_for_n_tks},\n",
    "    orient = 'h',\n",
    "    ).set(\n",
    "        title='number of token in comments by polarity',\n",
    "        xlabel='number of tokens'\n",
    "    )"
   ]
  },
  {
   "cell_type": "code",
   "execution_count": 24,
   "metadata": {},
   "outputs": [
    {
     "data": {
      "text/plain": [
       "[Text(0.5, 1.0, 'number of token in comments by polarity (without outliers)'),\n",
       " Text(0.5, 0, 'number of tokens')]"
      ]
     },
     "execution_count": 24,
     "metadata": {},
     "output_type": "execute_result"
    },
    {
     "data": {
      "image/png": "[encoded data removed]",
      "text/plain": [
       "<Figure size 640x480 with 1 Axes>"
      ]
     },
     "metadata": {},
     "output_type": "display_data"
    }
   ],
   "source": [
    "sns.boxplot(\n",
    "    data={'against': list_against_n_tks, 'for': list_for_n_tks},\n",
    "    orient = 'h',\n",
    "    showfliers = False\n",
    "    ).set(\n",
    "        title='number of token in comments by polarity (without outliers)',\n",
    "        xlabel='number of tokens'\n",
    "    )"
   ]
  }
 ],
 "metadata": {
  "kernelspec": {
   "display_name": "env-stance-pred",
   "language": "python",
   "name": "python3"
  },
  "language_info": {
   "codemirror_mode": {
    "name": "ipython",
    "version": 3
   },
   "file_extension": ".py",
   "mimetype": "text/x-python",
   "name": "python",
   "nbconvert_exporter": "python",
   "pygments_lexer": "ipython3",
   "version": "3.12.2"
  }
 },
 "nbformat": 4,
 "nbformat_minor": 2
}
