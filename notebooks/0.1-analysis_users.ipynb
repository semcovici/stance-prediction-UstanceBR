{
 "cells": [
  {
   "cell_type": "markdown",
   "metadata": {},
   "source": [
    "## Imports"
   ]
  },
  {
   "cell_type": "code",
   "execution_count": 1,
   "metadata": {},
   "outputs": [],
   "source": [
    "import pandas as pd\n",
    "from tqdm import tqdm\n",
    "import seaborn as sns\n",
    "from nltk.tokenize import word_tokenize\n",
    "import nltk\n",
    "import numpy as np"
   ]
  },
  {
   "cell_type": "code",
   "execution_count": 2,
   "metadata": {},
   "outputs": [],
   "source": [
    "tqdm.pandas()"
   ]
  },
  {
   "cell_type": "code",
   "execution_count": 3,
   "metadata": {},
   "outputs": [
    {
     "name": "stderr",
     "output_type": "stream",
     "text": [
      "[nltk_data] Downloading package punkt to /home/semcovici/nltk_data...\n",
      "[nltk_data]   Package punkt is already up-to-date!\n"
     ]
    },
    {
     "data": {
      "text/plain": [
       "True"
      ]
     },
     "execution_count": 3,
     "metadata": {},
     "output_type": "execute_result"
    }
   ],
   "source": [
    "nltk.download('punkt')"
   ]
  },
  {
   "cell_type": "markdown",
   "metadata": {},
   "source": [
    "## Definitions"
   ]
  },
  {
   "cell_type": "code",
   "execution_count": 4,
   "metadata": {},
   "outputs": [],
   "source": [
    "path_raw_data = '../data/raw/'"
   ]
  },
  {
   "cell_type": "code",
   "execution_count": 5,
   "metadata": {},
   "outputs": [],
   "source": [
    "# choose the corpus for the analysis\n",
    "corpus = 'ig'"
   ]
  },
  {
   "cell_type": "markdown",
   "metadata": {},
   "source": [
    "## Read Data"
   ]
  },
  {
   "cell_type": "code",
   "execution_count": 6,
   "metadata": {},
   "outputs": [],
   "source": [
    "# read data\n",
    "data = pd.read_csv(\n",
    "    path_raw_data + f'r3_{corpus}_test_users.csv', \n",
    "    sep = ';', \n",
    "    encoding='utf-8-sig'\n",
    "    )"
   ]
  },
  {
   "cell_type": "code",
   "execution_count": 7,
   "metadata": {},
   "outputs": [
    {
     "data": {
      "text/html": [
       "<div>\n",
       "<style scoped>\n",
       "    .dataframe tbody tr th:only-of-type {\n",
       "        vertical-align: middle;\n",
       "    }\n",
       "\n",
       "    .dataframe tbody tr th {\n",
       "        vertical-align: top;\n",
       "    }\n",
       "\n",
       "    .dataframe thead th {\n",
       "        text-align: right;\n",
       "    }\n",
       "</style>\n",
       "<table border=\"1\" class=\"dataframe\">\n",
       "  <thead>\n",
       "    <tr style=\"text-align: right;\">\n",
       "      <th></th>\n",
       "      <th>User_ID</th>\n",
       "      <th>Timeline</th>\n",
       "      <th>Stance</th>\n",
       "      <th>Polarity</th>\n",
       "      <th>Tweet_Seq</th>\n",
       "    </tr>\n",
       "  </thead>\n",
       "  <tbody>\n",
       "    <tr>\n",
       "      <th>0</th>\n",
       "      <td>r2_ig_2</td>\n",
       "      <td>@ ta fzd oq # uma amiga minha tava na rua quan...</td>\n",
       "      <td>nao me diz que isso é de igreja católica pf</td>\n",
       "      <td>against</td>\n",
       "      <td>1874</td>\n",
       "    </tr>\n",
       "    <tr>\n",
       "      <th>1</th>\n",
       "      <td>r2_ig_3</td>\n",
       "      <td>@ Ola Como ta # Vamo Seguir @ estamos querendo...</td>\n",
       "      <td>Se a igreja faz isso ela devia ser isenta mesm...</td>\n",
       "      <td>against</td>\n",
       "      <td>3988</td>\n",
       "    </tr>\n",
       "    <tr>\n",
       "      <th>2</th>\n",
       "      <td>r2_ig_5</td>\n",
       "      <td>papai me deu um irmão lindo desse # cansada de...</td>\n",
       "      <td>que pena então, por que se cada espírita for r...</td>\n",
       "      <td>against</td>\n",
       "      <td>4532</td>\n",
       "    </tr>\n",
       "    <tr>\n",
       "      <th>3</th>\n",
       "      <td>r2_ig_6</td>\n",
       "      <td>Né primeiro de abril não ta # Pena que um pais...</td>\n",
       "      <td>bglh é entrar p igreja</td>\n",
       "      <td>for</td>\n",
       "      <td>2661</td>\n",
       "    </tr>\n",
       "    <tr>\n",
       "      <th>4</th>\n",
       "      <td>r2_ig_9</td>\n",
       "      <td>já acordei nun desânimo que pqp # vontade de n...</td>\n",
       "      <td>já vou levar pra igreja pra Deus benzer pq o q...</td>\n",
       "      <td>for</td>\n",
       "      <td>1441</td>\n",
       "    </tr>\n",
       "  </tbody>\n",
       "</table>\n",
       "</div>"
      ],
      "text/plain": [
       "   User_ID                                           Timeline  \\\n",
       "0  r2_ig_2  @ ta fzd oq # uma amiga minha tava na rua quan...   \n",
       "1  r2_ig_3  @ Ola Como ta # Vamo Seguir @ estamos querendo...   \n",
       "2  r2_ig_5  papai me deu um irmão lindo desse # cansada de...   \n",
       "3  r2_ig_6  Né primeiro de abril não ta # Pena que um pais...   \n",
       "4  r2_ig_9  já acordei nun desânimo que pqp # vontade de n...   \n",
       "\n",
       "                                              Stance Polarity  Tweet_Seq  \n",
       "0        nao me diz que isso é de igreja católica pf  against       1874  \n",
       "1  Se a igreja faz isso ela devia ser isenta mesm...  against       3988  \n",
       "2  que pena então, por que se cada espírita for r...  against       4532  \n",
       "3                             bglh é entrar p igreja      for       2661  \n",
       "4  já vou levar pra igreja pra Deus benzer pq o q...      for       1441  "
      ]
     },
     "execution_count": 7,
     "metadata": {},
     "output_type": "execute_result"
    }
   ],
   "source": [
    "data.head()"
   ]
  },
  {
   "cell_type": "markdown",
   "metadata": {},
   "source": [
    "## analysis"
   ]
  },
  {
   "cell_type": "markdown",
   "metadata": {},
   "source": [
    "### Basic describe"
   ]
  },
  {
   "cell_type": "code",
   "execution_count": 8,
   "metadata": {},
   "outputs": [
    {
     "data": {
      "text/plain": [
       "Polarity\n",
       "against    0.565943\n",
       "for        0.434057\n",
       "Name: count, dtype: float64"
      ]
     },
     "execution_count": 8,
     "metadata": {},
     "output_type": "execute_result"
    }
   ],
   "source": [
    "# % of observations per label\n",
    "data.Polarity.value_counts() / len(data) "
   ]
  },
  {
   "cell_type": "code",
   "execution_count": 9,
   "metadata": {},
   "outputs": [
    {
     "name": "stdout",
     "output_type": "stream",
     "text": [
      "len data with nan:  (599, 5)\n",
      "len data without nan:  (599, 5)\n"
     ]
    }
   ],
   "source": [
    "# question: there is nan data?\n",
    "print('len data with nan: ', data.shape)\n",
    "print('len data without nan: ', data.dropna().shape)"
   ]
  },
  {
   "cell_type": "code",
   "execution_count": 10,
   "metadata": {},
   "outputs": [
    {
     "name": "stdout",
     "output_type": "stream",
     "text": [
      "len data with duplicates:  (599, 5)\n",
      "len data without duplicates:  (599, 5)\n"
     ]
    }
   ],
   "source": [
    "# question: there is rows completely duplicated?\n",
    "print('len data with duplicates: ', data.shape)\n",
    "print('len data without duplicates: ', data.drop_duplicates().shape)"
   ]
  },
  {
   "cell_type": "code",
   "execution_count": 11,
   "metadata": {},
   "outputs": [
    {
     "name": "stdout",
     "output_type": "stream",
     "text": [
      "len data with duplicates:  (599,)\n",
      "len data without duplicates:  (599,)\n"
     ]
    }
   ],
   "source": [
    "# question: there is rows with duplicated Timeline?\n",
    "print('len data with duplicates: ', data['Timeline'].shape)\n",
    "print('len data without duplicates: ', data['Timeline'].drop_duplicates().shape)"
   ]
  },
  {
   "cell_type": "code",
   "execution_count": 12,
   "metadata": {},
   "outputs": [
    {
     "data": {
      "text/html": [
       "<div>\n",
       "<style scoped>\n",
       "    .dataframe tbody tr th:only-of-type {\n",
       "        vertical-align: middle;\n",
       "    }\n",
       "\n",
       "    .dataframe tbody tr th {\n",
       "        vertical-align: top;\n",
       "    }\n",
       "\n",
       "    .dataframe thead th {\n",
       "        text-align: right;\n",
       "    }\n",
       "</style>\n",
       "<table border=\"1\" class=\"dataframe\">\n",
       "  <thead>\n",
       "    <tr style=\"text-align: right;\">\n",
       "      <th></th>\n",
       "      <th>User_ID</th>\n",
       "      <th>Timeline</th>\n",
       "      <th>Stance</th>\n",
       "      <th>Polarity</th>\n",
       "      <th>Tweet_Seq</th>\n",
       "    </tr>\n",
       "  </thead>\n",
       "  <tbody>\n",
       "  </tbody>\n",
       "</table>\n",
       "</div>"
      ],
      "text/plain": [
       "Empty DataFrame\n",
       "Columns: [User_ID, Timeline, Stance, Polarity, Tweet_Seq]\n",
       "Index: []"
      ]
     },
     "execution_count": 12,
     "metadata": {},
     "output_type": "execute_result"
    }
   ],
   "source": [
    "# question: where is the duplicated texts?\n",
    "data[data.duplicated(subset=['Timeline'])].sort_values('Timeline')"
   ]
  },
  {
   "cell_type": "code",
   "execution_count": 13,
   "metadata": {},
   "outputs": [
    {
     "name": "stdout",
     "output_type": "stream",
     "text": [
      "len data with duplicates:  (599,)\n",
      "len data without duplicates:  (599,)\n"
     ]
    }
   ],
   "source": [
    "# question: there is duplicated users?\n",
    "print('len data with duplicates: ', data['User_ID'].shape)\n",
    "print('len data without duplicates: ', data['User_ID'].drop_duplicates().shape)"
   ]
  },
  {
   "cell_type": "code",
   "execution_count": 14,
   "metadata": {},
   "outputs": [
    {
     "data": {
      "text/html": [
       "<div>\n",
       "<style scoped>\n",
       "    .dataframe tbody tr th:only-of-type {\n",
       "        vertical-align: middle;\n",
       "    }\n",
       "\n",
       "    .dataframe tbody tr th {\n",
       "        vertical-align: top;\n",
       "    }\n",
       "\n",
       "    .dataframe thead th {\n",
       "        text-align: right;\n",
       "    }\n",
       "</style>\n",
       "<table border=\"1\" class=\"dataframe\">\n",
       "  <thead>\n",
       "    <tr style=\"text-align: right;\">\n",
       "      <th></th>\n",
       "      <th>User_ID</th>\n",
       "      <th>Timeline</th>\n",
       "      <th>Stance</th>\n",
       "      <th>Polarity</th>\n",
       "      <th>Tweet_Seq</th>\n",
       "    </tr>\n",
       "  </thead>\n",
       "  <tbody>\n",
       "    <tr>\n",
       "      <th>0</th>\n",
       "      <td>r2_ig_2</td>\n",
       "      <td>@ ta fzd oq # uma amiga minha tava na rua quan...</td>\n",
       "      <td>nao me diz que isso é de igreja católica pf</td>\n",
       "      <td>against</td>\n",
       "      <td>1874</td>\n",
       "    </tr>\n",
       "    <tr>\n",
       "      <th>1</th>\n",
       "      <td>r2_ig_3</td>\n",
       "      <td>@ Ola Como ta # Vamo Seguir @ estamos querendo...</td>\n",
       "      <td>Se a igreja faz isso ela devia ser isenta mesm...</td>\n",
       "      <td>against</td>\n",
       "      <td>3988</td>\n",
       "    </tr>\n",
       "    <tr>\n",
       "      <th>2</th>\n",
       "      <td>r2_ig_5</td>\n",
       "      <td>papai me deu um irmão lindo desse # cansada de...</td>\n",
       "      <td>que pena então, por que se cada espírita for r...</td>\n",
       "      <td>against</td>\n",
       "      <td>4532</td>\n",
       "    </tr>\n",
       "    <tr>\n",
       "      <th>3</th>\n",
       "      <td>r2_ig_6</td>\n",
       "      <td>Né primeiro de abril não ta # Pena que um pais...</td>\n",
       "      <td>bglh é entrar p igreja</td>\n",
       "      <td>for</td>\n",
       "      <td>2661</td>\n",
       "    </tr>\n",
       "    <tr>\n",
       "      <th>4</th>\n",
       "      <td>r2_ig_9</td>\n",
       "      <td>já acordei nun desânimo que pqp # vontade de n...</td>\n",
       "      <td>já vou levar pra igreja pra Deus benzer pq o q...</td>\n",
       "      <td>for</td>\n",
       "      <td>1441</td>\n",
       "    </tr>\n",
       "    <tr>\n",
       "      <th>...</th>\n",
       "      <td>...</td>\n",
       "      <td>...</td>\n",
       "      <td>...</td>\n",
       "      <td>...</td>\n",
       "      <td>...</td>\n",
       "    </tr>\n",
       "    <tr>\n",
       "      <th>594</th>\n",
       "      <td>r2_ig_2394</td>\n",
       "      <td>o escolhido … # as obras da arte gráfica nos c...</td>\n",
       "      <td>conservador assustado q nem rato vai pra igrej...</td>\n",
       "      <td>against</td>\n",
       "      <td>2618</td>\n",
       "    </tr>\n",
       "    <tr>\n",
       "      <th>595</th>\n",
       "      <td>r2_ig_2397</td>\n",
       "      <td>Maldito imperialismo caucasiano que só pensa e...</td>\n",
       "      <td>Daciolo propõe uma ditadura cristã no Brasil, ...</td>\n",
       "      <td>against</td>\n",
       "      <td>579</td>\n",
       "    </tr>\n",
       "    <tr>\n",
       "      <th>596</th>\n",
       "      <td>r2_ig_2401</td>\n",
       "      <td>Só consigo pensar no BUZZ espanhol # Eu já tes...</td>\n",
       "      <td>Sim, a imagem criada pela igreja católica tant...</td>\n",
       "      <td>against</td>\n",
       "      <td>1102</td>\n",
       "    </tr>\n",
       "    <tr>\n",
       "      <th>597</th>\n",
       "      <td>r2_ig_2403</td>\n",
       "      <td>Daqui ha um bilhão de anos talvez o ser humano...</td>\n",
       "      <td>Eu esperando p uber p ir pro colégio rindo da ...</td>\n",
       "      <td>against</td>\n",
       "      <td>1992</td>\n",
       "    </tr>\n",
       "    <tr>\n",
       "      <th>598</th>\n",
       "      <td>r2_ig_2404</td>\n",
       "      <td>É eu mesmo # Fósseis encontrados na China pode...</td>\n",
       "      <td>Todos eles se infiltram na política se candida...</td>\n",
       "      <td>against</td>\n",
       "      <td>3578</td>\n",
       "    </tr>\n",
       "  </tbody>\n",
       "</table>\n",
       "<p>599 rows × 5 columns</p>\n",
       "</div>"
      ],
      "text/plain": [
       "        User_ID                                           Timeline  \\\n",
       "0       r2_ig_2  @ ta fzd oq # uma amiga minha tava na rua quan...   \n",
       "1       r2_ig_3  @ Ola Como ta # Vamo Seguir @ estamos querendo...   \n",
       "2       r2_ig_5  papai me deu um irmão lindo desse # cansada de...   \n",
       "3       r2_ig_6  Né primeiro de abril não ta # Pena que um pais...   \n",
       "4       r2_ig_9  já acordei nun desânimo que pqp # vontade de n...   \n",
       "..          ...                                                ...   \n",
       "594  r2_ig_2394  o escolhido … # as obras da arte gráfica nos c...   \n",
       "595  r2_ig_2397  Maldito imperialismo caucasiano que só pensa e...   \n",
       "596  r2_ig_2401  Só consigo pensar no BUZZ espanhol # Eu já tes...   \n",
       "597  r2_ig_2403  Daqui ha um bilhão de anos talvez o ser humano...   \n",
       "598  r2_ig_2404  É eu mesmo # Fósseis encontrados na China pode...   \n",
       "\n",
       "                                                Stance Polarity  Tweet_Seq  \n",
       "0          nao me diz que isso é de igreja católica pf  against       1874  \n",
       "1    Se a igreja faz isso ela devia ser isenta mesm...  against       3988  \n",
       "2    que pena então, por que se cada espírita for r...  against       4532  \n",
       "3                               bglh é entrar p igreja      for       2661  \n",
       "4    já vou levar pra igreja pra Deus benzer pq o q...      for       1441  \n",
       "..                                                 ...      ...        ...  \n",
       "594  conservador assustado q nem rato vai pra igrej...  against       2618  \n",
       "595  Daciolo propõe uma ditadura cristã no Brasil, ...  against        579  \n",
       "596  Sim, a imagem criada pela igreja católica tant...  against       1102  \n",
       "597  Eu esperando p uber p ir pro colégio rindo da ...  against       1992  \n",
       "598  Todos eles se infiltram na política se candida...  against       3578  \n",
       "\n",
       "[599 rows x 5 columns]"
      ]
     },
     "execution_count": 14,
     "metadata": {},
     "output_type": "execute_result"
    }
   ],
   "source": [
    "# create the dataset to analysis\n",
    "## remove the rows who have duplicated texts\n",
    "data_2_anl = data.drop_duplicates(subset=['Timeline'])\n",
    "data_2_anl"
   ]
  },
  {
   "cell_type": "code",
   "execution_count": 15,
   "metadata": {},
   "outputs": [
    {
     "data": {
      "text/plain": [
       "Polarity\n",
       "against    0.565943\n",
       "for        0.434057\n",
       "Name: count, dtype: float64"
      ]
     },
     "execution_count": 15,
     "metadata": {},
     "output_type": "execute_result"
    }
   ],
   "source": [
    "#number of observations per label\n",
    "data_2_anl.Polarity.value_counts() / len(data)"
   ]
  },
  {
   "cell_type": "markdown",
   "metadata": {},
   "source": [
    "### numerical analysis of length of texts"
   ]
  },
  {
   "cell_type": "code",
   "execution_count": 16,
   "metadata": {},
   "outputs": [
    {
     "name": "stderr",
     "output_type": "stream",
     "text": [
      "  0%|          | 0/599 [00:00<?, ?it/s]"
     ]
    },
    {
     "name": "stderr",
     "output_type": "stream",
     "text": [
      "100%|██████████| 599/599 [00:00<00:00, 986.91it/s] \n"
     ]
    },
    {
     "data": {
      "text/html": [
       "<div>\n",
       "<style scoped>\n",
       "    .dataframe tbody tr th:only-of-type {\n",
       "        vertical-align: middle;\n",
       "    }\n",
       "\n",
       "    .dataframe tbody tr th {\n",
       "        vertical-align: top;\n",
       "    }\n",
       "\n",
       "    .dataframe thead th {\n",
       "        text-align: right;\n",
       "    }\n",
       "</style>\n",
       "<table border=\"1\" class=\"dataframe\">\n",
       "  <thead>\n",
       "    <tr style=\"text-align: right;\">\n",
       "      <th></th>\n",
       "      <th>User_ID</th>\n",
       "      <th>Timeline</th>\n",
       "      <th>Stance</th>\n",
       "      <th>Polarity</th>\n",
       "      <th>Tweet_Seq</th>\n",
       "      <th>list_texts</th>\n",
       "    </tr>\n",
       "  </thead>\n",
       "  <tbody>\n",
       "    <tr>\n",
       "      <th>0</th>\n",
       "      <td>r2_ig_2</td>\n",
       "      <td>@ ta fzd oq # uma amiga minha tava na rua quan...</td>\n",
       "      <td>nao me diz que isso é de igreja católica pf</td>\n",
       "      <td>against</td>\n",
       "      <td>1874</td>\n",
       "      <td>[@ ta fzd oq, uma amiga minha tava na rua quan...</td>\n",
       "    </tr>\n",
       "    <tr>\n",
       "      <th>1</th>\n",
       "      <td>r2_ig_3</td>\n",
       "      <td>@ Ola Como ta # Vamo Seguir @ estamos querendo...</td>\n",
       "      <td>Se a igreja faz isso ela devia ser isenta mesm...</td>\n",
       "      <td>against</td>\n",
       "      <td>3988</td>\n",
       "      <td>[@ Ola Como ta, Vamo Seguir @ estamos querendo...</td>\n",
       "    </tr>\n",
       "    <tr>\n",
       "      <th>2</th>\n",
       "      <td>r2_ig_5</td>\n",
       "      <td>papai me deu um irmão lindo desse # cansada de...</td>\n",
       "      <td>que pena então, por que se cada espírita for r...</td>\n",
       "      <td>against</td>\n",
       "      <td>4532</td>\n",
       "      <td>[papai me deu um irmão lindo desse, cansada de...</td>\n",
       "    </tr>\n",
       "    <tr>\n",
       "      <th>3</th>\n",
       "      <td>r2_ig_6</td>\n",
       "      <td>Né primeiro de abril não ta # Pena que um pais...</td>\n",
       "      <td>bglh é entrar p igreja</td>\n",
       "      <td>for</td>\n",
       "      <td>2661</td>\n",
       "      <td>[Né primeiro de abril não ta, Pena que um pais...</td>\n",
       "    </tr>\n",
       "    <tr>\n",
       "      <th>4</th>\n",
       "      <td>r2_ig_9</td>\n",
       "      <td>já acordei nun desânimo que pqp # vontade de n...</td>\n",
       "      <td>já vou levar pra igreja pra Deus benzer pq o q...</td>\n",
       "      <td>for</td>\n",
       "      <td>1441</td>\n",
       "      <td>[já acordei nun desânimo que pqp, vontade de n...</td>\n",
       "    </tr>\n",
       "  </tbody>\n",
       "</table>\n",
       "</div>"
      ],
      "text/plain": [
       "   User_ID                                           Timeline  \\\n",
       "0  r2_ig_2  @ ta fzd oq # uma amiga minha tava na rua quan...   \n",
       "1  r2_ig_3  @ Ola Como ta # Vamo Seguir @ estamos querendo...   \n",
       "2  r2_ig_5  papai me deu um irmão lindo desse # cansada de...   \n",
       "3  r2_ig_6  Né primeiro de abril não ta # Pena que um pais...   \n",
       "4  r2_ig_9  já acordei nun desânimo que pqp # vontade de n...   \n",
       "\n",
       "                                              Stance Polarity  Tweet_Seq  \\\n",
       "0        nao me diz que isso é de igreja católica pf  against       1874   \n",
       "1  Se a igreja faz isso ela devia ser isenta mesm...  against       3988   \n",
       "2  que pena então, por que se cada espírita for r...  against       4532   \n",
       "3                             bglh é entrar p igreja      for       2661   \n",
       "4  já vou levar pra igreja pra Deus benzer pq o q...      for       1441   \n",
       "\n",
       "                                          list_texts  \n",
       "0  [@ ta fzd oq, uma amiga minha tava na rua quan...  \n",
       "1  [@ Ola Como ta, Vamo Seguir @ estamos querendo...  \n",
       "2  [papai me deu um irmão lindo desse, cansada de...  \n",
       "3  [Né primeiro de abril não ta, Pena que um pais...  \n",
       "4  [já acordei nun desânimo que pqp, vontade de n...  "
      ]
     },
     "execution_count": 16,
     "metadata": {},
     "output_type": "execute_result"
    }
   ],
   "source": [
    "# create an list of the texts in 'Texts'\n",
    "data_2_anl['list_texts'] = data_2_anl.Timeline.progress_apply(lambda x: x.split(' # '))\n",
    "data_2_anl.head()"
   ]
  },
  {
   "cell_type": "code",
   "execution_count": 17,
   "metadata": {},
   "outputs": [
    {
     "name": "stderr",
     "output_type": "stream",
     "text": [
      "100%|██████████| 599/599 [00:00<00:00, 653927.15it/s]\n"
     ]
    },
    {
     "data": {
      "text/html": [
       "<div>\n",
       "<style scoped>\n",
       "    .dataframe tbody tr th:only-of-type {\n",
       "        vertical-align: middle;\n",
       "    }\n",
       "\n",
       "    .dataframe tbody tr th {\n",
       "        vertical-align: top;\n",
       "    }\n",
       "\n",
       "    .dataframe thead th {\n",
       "        text-align: right;\n",
       "    }\n",
       "</style>\n",
       "<table border=\"1\" class=\"dataframe\">\n",
       "  <thead>\n",
       "    <tr style=\"text-align: right;\">\n",
       "      <th></th>\n",
       "      <th>User_ID</th>\n",
       "      <th>Timeline</th>\n",
       "      <th>Stance</th>\n",
       "      <th>Polarity</th>\n",
       "      <th>Tweet_Seq</th>\n",
       "      <th>list_texts</th>\n",
       "      <th>n_texts</th>\n",
       "    </tr>\n",
       "  </thead>\n",
       "  <tbody>\n",
       "    <tr>\n",
       "      <th>0</th>\n",
       "      <td>r2_ig_2</td>\n",
       "      <td>@ ta fzd oq # uma amiga minha tava na rua quan...</td>\n",
       "      <td>nao me diz que isso é de igreja católica pf</td>\n",
       "      <td>against</td>\n",
       "      <td>1874</td>\n",
       "      <td>[@ ta fzd oq, uma amiga minha tava na rua quan...</td>\n",
       "      <td>2308</td>\n",
       "    </tr>\n",
       "    <tr>\n",
       "      <th>1</th>\n",
       "      <td>r2_ig_3</td>\n",
       "      <td>@ Ola Como ta # Vamo Seguir @ estamos querendo...</td>\n",
       "      <td>Se a igreja faz isso ela devia ser isenta mesm...</td>\n",
       "      <td>against</td>\n",
       "      <td>3988</td>\n",
       "      <td>[@ Ola Como ta, Vamo Seguir @ estamos querendo...</td>\n",
       "      <td>4999</td>\n",
       "    </tr>\n",
       "    <tr>\n",
       "      <th>2</th>\n",
       "      <td>r2_ig_5</td>\n",
       "      <td>papai me deu um irmão lindo desse # cansada de...</td>\n",
       "      <td>que pena então, por que se cada espírita for r...</td>\n",
       "      <td>against</td>\n",
       "      <td>4532</td>\n",
       "      <td>[papai me deu um irmão lindo desse, cansada de...</td>\n",
       "      <td>5014</td>\n",
       "    </tr>\n",
       "    <tr>\n",
       "      <th>3</th>\n",
       "      <td>r2_ig_6</td>\n",
       "      <td>Né primeiro de abril não ta # Pena que um pais...</td>\n",
       "      <td>bglh é entrar p igreja</td>\n",
       "      <td>for</td>\n",
       "      <td>2661</td>\n",
       "      <td>[Né primeiro de abril não ta, Pena que um pais...</td>\n",
       "      <td>3775</td>\n",
       "    </tr>\n",
       "    <tr>\n",
       "      <th>4</th>\n",
       "      <td>r2_ig_9</td>\n",
       "      <td>já acordei nun desânimo que pqp # vontade de n...</td>\n",
       "      <td>já vou levar pra igreja pra Deus benzer pq o q...</td>\n",
       "      <td>for</td>\n",
       "      <td>1441</td>\n",
       "      <td>[já acordei nun desânimo que pqp, vontade de n...</td>\n",
       "      <td>1565</td>\n",
       "    </tr>\n",
       "  </tbody>\n",
       "</table>\n",
       "</div>"
      ],
      "text/plain": [
       "   User_ID                                           Timeline  \\\n",
       "0  r2_ig_2  @ ta fzd oq # uma amiga minha tava na rua quan...   \n",
       "1  r2_ig_3  @ Ola Como ta # Vamo Seguir @ estamos querendo...   \n",
       "2  r2_ig_5  papai me deu um irmão lindo desse # cansada de...   \n",
       "3  r2_ig_6  Né primeiro de abril não ta # Pena que um pais...   \n",
       "4  r2_ig_9  já acordei nun desânimo que pqp # vontade de n...   \n",
       "\n",
       "                                              Stance Polarity  Tweet_Seq  \\\n",
       "0        nao me diz que isso é de igreja católica pf  against       1874   \n",
       "1  Se a igreja faz isso ela devia ser isenta mesm...  against       3988   \n",
       "2  que pena então, por que se cada espírita for r...  against       4532   \n",
       "3                             bglh é entrar p igreja      for       2661   \n",
       "4  já vou levar pra igreja pra Deus benzer pq o q...      for       1441   \n",
       "\n",
       "                                          list_texts  n_texts  \n",
       "0  [@ ta fzd oq, uma amiga minha tava na rua quan...     2308  \n",
       "1  [@ Ola Como ta, Vamo Seguir @ estamos querendo...     4999  \n",
       "2  [papai me deu um irmão lindo desse, cansada de...     5014  \n",
       "3  [Né primeiro de abril não ta, Pena que um pais...     3775  \n",
       "4  [já acordei nun desânimo que pqp, vontade de n...     1565  "
      ]
     },
     "execution_count": 17,
     "metadata": {},
     "output_type": "execute_result"
    }
   ],
   "source": [
    "# count the texts in 'Texts'\n",
    "data_2_anl['n_texts'] = data_2_anl.list_texts.progress_apply(lambda x: len(x))\n",
    "data_2_anl.head()"
   ]
  },
  {
   "cell_type": "code",
   "execution_count": 18,
   "metadata": {},
   "outputs": [
    {
     "name": "stderr",
     "output_type": "stream",
     "text": [
      "100%|██████████| 599/599 [02:15<00:00,  4.44it/s]\n"
     ]
    },
    {
     "data": {
      "text/html": [
       "<div>\n",
       "<style scoped>\n",
       "    .dataframe tbody tr th:only-of-type {\n",
       "        vertical-align: middle;\n",
       "    }\n",
       "\n",
       "    .dataframe tbody tr th {\n",
       "        vertical-align: top;\n",
       "    }\n",
       "\n",
       "    .dataframe thead th {\n",
       "        text-align: right;\n",
       "    }\n",
       "</style>\n",
       "<table border=\"1\" class=\"dataframe\">\n",
       "  <thead>\n",
       "    <tr style=\"text-align: right;\">\n",
       "      <th></th>\n",
       "      <th>User_ID</th>\n",
       "      <th>Timeline</th>\n",
       "      <th>Stance</th>\n",
       "      <th>Polarity</th>\n",
       "      <th>Tweet_Seq</th>\n",
       "      <th>list_texts</th>\n",
       "      <th>n_texts</th>\n",
       "      <th>list_texts_tokens</th>\n",
       "    </tr>\n",
       "  </thead>\n",
       "  <tbody>\n",
       "    <tr>\n",
       "      <th>0</th>\n",
       "      <td>r2_ig_2</td>\n",
       "      <td>@ ta fzd oq # uma amiga minha tava na rua quan...</td>\n",
       "      <td>nao me diz que isso é de igreja católica pf</td>\n",
       "      <td>against</td>\n",
       "      <td>1874</td>\n",
       "      <td>[@ ta fzd oq, uma amiga minha tava na rua quan...</td>\n",
       "      <td>2308</td>\n",
       "      <td>[[@, ta, fzd, oq], [uma, amiga, minha, tava, n...</td>\n",
       "    </tr>\n",
       "    <tr>\n",
       "      <th>1</th>\n",
       "      <td>r2_ig_3</td>\n",
       "      <td>@ Ola Como ta # Vamo Seguir @ estamos querendo...</td>\n",
       "      <td>Se a igreja faz isso ela devia ser isenta mesm...</td>\n",
       "      <td>against</td>\n",
       "      <td>3988</td>\n",
       "      <td>[@ Ola Como ta, Vamo Seguir @ estamos querendo...</td>\n",
       "      <td>4999</td>\n",
       "      <td>[[@, Ola, Como, ta], [Vamo, Seguir, @, estamos...</td>\n",
       "    </tr>\n",
       "    <tr>\n",
       "      <th>2</th>\n",
       "      <td>r2_ig_5</td>\n",
       "      <td>papai me deu um irmão lindo desse # cansada de...</td>\n",
       "      <td>que pena então, por que se cada espírita for r...</td>\n",
       "      <td>against</td>\n",
       "      <td>4532</td>\n",
       "      <td>[papai me deu um irmão lindo desse, cansada de...</td>\n",
       "      <td>5014</td>\n",
       "      <td>[[papai, me, deu, um, irmão, lindo, desse], [c...</td>\n",
       "    </tr>\n",
       "    <tr>\n",
       "      <th>3</th>\n",
       "      <td>r2_ig_6</td>\n",
       "      <td>Né primeiro de abril não ta # Pena que um pais...</td>\n",
       "      <td>bglh é entrar p igreja</td>\n",
       "      <td>for</td>\n",
       "      <td>2661</td>\n",
       "      <td>[Né primeiro de abril não ta, Pena que um pais...</td>\n",
       "      <td>3775</td>\n",
       "      <td>[[Né, primeiro, de, abril, não, ta], [Pena, qu...</td>\n",
       "    </tr>\n",
       "    <tr>\n",
       "      <th>4</th>\n",
       "      <td>r2_ig_9</td>\n",
       "      <td>já acordei nun desânimo que pqp # vontade de n...</td>\n",
       "      <td>já vou levar pra igreja pra Deus benzer pq o q...</td>\n",
       "      <td>for</td>\n",
       "      <td>1441</td>\n",
       "      <td>[já acordei nun desânimo que pqp, vontade de n...</td>\n",
       "      <td>1565</td>\n",
       "      <td>[[já, acordei, nun, desânimo, que, pqp], [vont...</td>\n",
       "    </tr>\n",
       "  </tbody>\n",
       "</table>\n",
       "</div>"
      ],
      "text/plain": [
       "   User_ID                                           Timeline  \\\n",
       "0  r2_ig_2  @ ta fzd oq # uma amiga minha tava na rua quan...   \n",
       "1  r2_ig_3  @ Ola Como ta # Vamo Seguir @ estamos querendo...   \n",
       "2  r2_ig_5  papai me deu um irmão lindo desse # cansada de...   \n",
       "3  r2_ig_6  Né primeiro de abril não ta # Pena que um pais...   \n",
       "4  r2_ig_9  já acordei nun desânimo que pqp # vontade de n...   \n",
       "\n",
       "                                              Stance Polarity  Tweet_Seq  \\\n",
       "0        nao me diz que isso é de igreja católica pf  against       1874   \n",
       "1  Se a igreja faz isso ela devia ser isenta mesm...  against       3988   \n",
       "2  que pena então, por que se cada espírita for r...  against       4532   \n",
       "3                             bglh é entrar p igreja      for       2661   \n",
       "4  já vou levar pra igreja pra Deus benzer pq o q...      for       1441   \n",
       "\n",
       "                                          list_texts  n_texts  \\\n",
       "0  [@ ta fzd oq, uma amiga minha tava na rua quan...     2308   \n",
       "1  [@ Ola Como ta, Vamo Seguir @ estamos querendo...     4999   \n",
       "2  [papai me deu um irmão lindo desse, cansada de...     5014   \n",
       "3  [Né primeiro de abril não ta, Pena que um pais...     3775   \n",
       "4  [já acordei nun desânimo que pqp, vontade de n...     1565   \n",
       "\n",
       "                                   list_texts_tokens  \n",
       "0  [[@, ta, fzd, oq], [uma, amiga, minha, tava, n...  \n",
       "1  [[@, Ola, Como, ta], [Vamo, Seguir, @, estamos...  \n",
       "2  [[papai, me, deu, um, irmão, lindo, desse], [c...  \n",
       "3  [[Né, primeiro, de, abril, não, ta], [Pena, qu...  \n",
       "4  [[já, acordei, nun, desânimo, que, pqp], [vont...  "
      ]
     },
     "execution_count": 18,
     "metadata": {},
     "output_type": "execute_result"
    }
   ],
   "source": [
    "# create tokens in each text in 'Texts'\n",
    "data_2_anl['list_texts_tokens'] = data_2_anl.list_texts.progress_apply(lambda x: [word_tokenize(text, language='portuguese') for text in x])\n",
    "data_2_anl.head()"
   ]
  },
  {
   "cell_type": "code",
   "execution_count": 19,
   "metadata": {},
   "outputs": [
    {
     "name": "stderr",
     "output_type": "stream",
     "text": [
      "  0%|          | 0/599 [00:00<?, ?it/s]"
     ]
    },
    {
     "name": "stderr",
     "output_type": "stream",
     "text": [
      "100%|██████████| 599/599 [00:00<00:00, 5303.15it/s]\n"
     ]
    },
    {
     "data": {
      "text/html": [
       "<div>\n",
       "<style scoped>\n",
       "    .dataframe tbody tr th:only-of-type {\n",
       "        vertical-align: middle;\n",
       "    }\n",
       "\n",
       "    .dataframe tbody tr th {\n",
       "        vertical-align: top;\n",
       "    }\n",
       "\n",
       "    .dataframe thead th {\n",
       "        text-align: right;\n",
       "    }\n",
       "</style>\n",
       "<table border=\"1\" class=\"dataframe\">\n",
       "  <thead>\n",
       "    <tr style=\"text-align: right;\">\n",
       "      <th></th>\n",
       "      <th>User_ID</th>\n",
       "      <th>Timeline</th>\n",
       "      <th>Stance</th>\n",
       "      <th>Polarity</th>\n",
       "      <th>Tweet_Seq</th>\n",
       "      <th>list_texts</th>\n",
       "      <th>n_texts</th>\n",
       "      <th>list_texts_tokens</th>\n",
       "      <th>list_texts_len</th>\n",
       "    </tr>\n",
       "  </thead>\n",
       "  <tbody>\n",
       "    <tr>\n",
       "      <th>0</th>\n",
       "      <td>r2_ig_2</td>\n",
       "      <td>@ ta fzd oq # uma amiga minha tava na rua quan...</td>\n",
       "      <td>nao me diz que isso é de igreja católica pf</td>\n",
       "      <td>against</td>\n",
       "      <td>1874</td>\n",
       "      <td>[@ ta fzd oq, uma amiga minha tava na rua quan...</td>\n",
       "      <td>2308</td>\n",
       "      <td>[[@, ta, fzd, oq], [uma, amiga, minha, tava, n...</td>\n",
       "      <td>[4, 18, 6, 7, 5, 9, 2, 6, 2, 14, 12, 25, 15, 4...</td>\n",
       "    </tr>\n",
       "    <tr>\n",
       "      <th>1</th>\n",
       "      <td>r2_ig_3</td>\n",
       "      <td>@ Ola Como ta # Vamo Seguir @ estamos querendo...</td>\n",
       "      <td>Se a igreja faz isso ela devia ser isenta mesm...</td>\n",
       "      <td>against</td>\n",
       "      <td>3988</td>\n",
       "      <td>[@ Ola Como ta, Vamo Seguir @ estamos querendo...</td>\n",
       "      <td>4999</td>\n",
       "      <td>[[@, Ola, Como, ta], [Vamo, Seguir, @, estamos...</td>\n",
       "      <td>[4, 11, 12, 24, 10, 12, 7, 7, 21, 13, 9, 4, 13...</td>\n",
       "    </tr>\n",
       "    <tr>\n",
       "      <th>2</th>\n",
       "      <td>r2_ig_5</td>\n",
       "      <td>papai me deu um irmão lindo desse # cansada de...</td>\n",
       "      <td>que pena então, por que se cada espírita for r...</td>\n",
       "      <td>against</td>\n",
       "      <td>4532</td>\n",
       "      <td>[papai me deu um irmão lindo desse, cansada de...</td>\n",
       "      <td>5014</td>\n",
       "      <td>[[papai, me, deu, um, irmão, lindo, desse], [c...</td>\n",
       "      <td>[7, 16, 4, 42, 52, 25, 12, 22, 9, 15, 5, 12, 1...</td>\n",
       "    </tr>\n",
       "    <tr>\n",
       "      <th>3</th>\n",
       "      <td>r2_ig_6</td>\n",
       "      <td>Né primeiro de abril não ta # Pena que um pais...</td>\n",
       "      <td>bglh é entrar p igreja</td>\n",
       "      <td>for</td>\n",
       "      <td>2661</td>\n",
       "      <td>[Né primeiro de abril não ta, Pena que um pais...</td>\n",
       "      <td>3775</td>\n",
       "      <td>[[Né, primeiro, de, abril, não, ta], [Pena, qu...</td>\n",
       "      <td>[6, 14, 6, 7, 6, 9, 3, 15, 2, 2, 11, 7, 13, 4,...</td>\n",
       "    </tr>\n",
       "    <tr>\n",
       "      <th>4</th>\n",
       "      <td>r2_ig_9</td>\n",
       "      <td>já acordei nun desânimo que pqp # vontade de n...</td>\n",
       "      <td>já vou levar pra igreja pra Deus benzer pq o q...</td>\n",
       "      <td>for</td>\n",
       "      <td>1441</td>\n",
       "      <td>[já acordei nun desânimo que pqp, vontade de n...</td>\n",
       "      <td>1565</td>\n",
       "      <td>[[já, acordei, nun, desânimo, que, pqp], [vont...</td>\n",
       "      <td>[6, 9, 7, 29, 10, 5, 12, 26, 13, 15, 4, 6, 12,...</td>\n",
       "    </tr>\n",
       "  </tbody>\n",
       "</table>\n",
       "</div>"
      ],
      "text/plain": [
       "   User_ID                                           Timeline  \\\n",
       "0  r2_ig_2  @ ta fzd oq # uma amiga minha tava na rua quan...   \n",
       "1  r2_ig_3  @ Ola Como ta # Vamo Seguir @ estamos querendo...   \n",
       "2  r2_ig_5  papai me deu um irmão lindo desse # cansada de...   \n",
       "3  r2_ig_6  Né primeiro de abril não ta # Pena que um pais...   \n",
       "4  r2_ig_9  já acordei nun desânimo que pqp # vontade de n...   \n",
       "\n",
       "                                              Stance Polarity  Tweet_Seq  \\\n",
       "0        nao me diz que isso é de igreja católica pf  against       1874   \n",
       "1  Se a igreja faz isso ela devia ser isenta mesm...  against       3988   \n",
       "2  que pena então, por que se cada espírita for r...  against       4532   \n",
       "3                             bglh é entrar p igreja      for       2661   \n",
       "4  já vou levar pra igreja pra Deus benzer pq o q...      for       1441   \n",
       "\n",
       "                                          list_texts  n_texts  \\\n",
       "0  [@ ta fzd oq, uma amiga minha tava na rua quan...     2308   \n",
       "1  [@ Ola Como ta, Vamo Seguir @ estamos querendo...     4999   \n",
       "2  [papai me deu um irmão lindo desse, cansada de...     5014   \n",
       "3  [Né primeiro de abril não ta, Pena que um pais...     3775   \n",
       "4  [já acordei nun desânimo que pqp, vontade de n...     1565   \n",
       "\n",
       "                                   list_texts_tokens  \\\n",
       "0  [[@, ta, fzd, oq], [uma, amiga, minha, tava, n...   \n",
       "1  [[@, Ola, Como, ta], [Vamo, Seguir, @, estamos...   \n",
       "2  [[papai, me, deu, um, irmão, lindo, desse], [c...   \n",
       "3  [[Né, primeiro, de, abril, não, ta], [Pena, qu...   \n",
       "4  [[já, acordei, nun, desânimo, que, pqp], [vont...   \n",
       "\n",
       "                                      list_texts_len  \n",
       "0  [4, 18, 6, 7, 5, 9, 2, 6, 2, 14, 12, 25, 15, 4...  \n",
       "1  [4, 11, 12, 24, 10, 12, 7, 7, 21, 13, 9, 4, 13...  \n",
       "2  [7, 16, 4, 42, 52, 25, 12, 22, 9, 15, 5, 12, 1...  \n",
       "3  [6, 14, 6, 7, 6, 9, 3, 15, 2, 2, 11, 7, 13, 4,...  \n",
       "4  [6, 9, 7, 29, 10, 5, 12, 26, 13, 15, 4, 6, 12,...  "
      ]
     },
     "execution_count": 19,
     "metadata": {},
     "output_type": "execute_result"
    }
   ],
   "source": [
    "# count tokens in each text in 'Texts'\n",
    "data_2_anl['list_texts_len'] = data_2_anl.list_texts_tokens.progress_apply(lambda x: [len(text) for text in x])\n",
    "data_2_anl.head()"
   ]
  },
  {
   "cell_type": "code",
   "execution_count": 20,
   "metadata": {},
   "outputs": [
    {
     "data": {
      "text/plain": [
       "[Text(0.5, 1.0, 'number of comments of friends per user'),\n",
       " Text(0.5, 0, 'number of comments')]"
      ]
     },
     "execution_count": 20,
     "metadata": {},
     "output_type": "execute_result"
    },
    {
     "data": {
      "image/png": "[encoded data removed]",
      "text/plain": [
       "<Figure size 640x480 with 1 Axes>"
      ]
     },
     "metadata": {},
     "output_type": "display_data"
    }
   ],
   "source": [
    "sns.boxplot(\n",
    "    data=data_2_anl,\n",
    "    x=\"n_texts\"\n",
    "    ).set(\n",
    "        title='number of comments of friends per user',\n",
    "        xlabel='number of comments'\n",
    "    )"
   ]
  },
  {
   "cell_type": "code",
   "execution_count": 21,
   "metadata": {},
   "outputs": [
    {
     "data": {
      "text/plain": [
       "[Text(0.5, 1.0, 'number of comments of friends per user'),\n",
       " Text(0.5, 0, 'number of comments')]"
      ]
     },
     "execution_count": 21,
     "metadata": {},
     "output_type": "execute_result"
    },
    {
     "data": {
      "image/png": "[encoded data removed]",
      "text/plain": [
       "<Figure size 640x480 with 1 Axes>"
      ]
     },
     "metadata": {},
     "output_type": "display_data"
    }
   ],
   "source": [
    "sns.boxplot(\n",
    "    data=data_2_anl,\n",
    "    x=\"n_texts\",\n",
    "    y='Polarity',\n",
    "    hue='Polarity'\n",
    "    ).set(\n",
    "        title='number of comments of friends per user',\n",
    "        xlabel='number of comments'\n",
    "    )"
   ]
  },
  {
   "cell_type": "code",
   "execution_count": 22,
   "metadata": {},
   "outputs": [
    {
     "name": "stderr",
     "output_type": "stream",
     "text": [
      "100%|██████████| 599/599 [00:00<00:00, 15617.41it/s]\n"
     ]
    }
   ],
   "source": [
    "list_for_n_tks = []\n",
    "list_against_n_tks = []\n",
    "for idx, row in tqdm(data_2_anl.iterrows(), total = len(data_2_anl)):\n",
    "    \n",
    "    label = row['Polarity']\n",
    "    list_texts_len = row['list_texts_len']\n",
    "    \n",
    "    if label == 'for':\n",
    "        list_for_n_tks += list_texts_len\n",
    "    elif label == 'against':\n",
    "        list_against_n_tks += list_texts_len"
   ]
  },
  {
   "cell_type": "code",
   "execution_count": 23,
   "metadata": {},
   "outputs": [
    {
     "data": {
      "text/plain": [
       "[Text(0.5, 1.0, 'number of token in comments by polarity'),\n",
       " Text(0.5, 0, 'number of tokens')]"
      ]
     },
     "execution_count": 23,
     "metadata": {},
     "output_type": "execute_result"
    },
    {
     "data": {
      "image/png": "[encoded data removed]",
      "text/plain": [
       "<Figure size 640x480 with 1 Axes>"
      ]
     },
     "metadata": {},
     "output_type": "display_data"
    }
   ],
   "source": [
    "sns.boxplot(\n",
    "    data={'against': list_against_n_tks, 'for': list_for_n_tks},\n",
    "    orient = 'h',\n",
    "    ).set(\n",
    "        title='number of token in comments by polarity',\n",
    "        xlabel='number of tokens'\n",
    "    )"
   ]
  },
  {
   "cell_type": "code",
   "execution_count": 24,
   "metadata": {},
   "outputs": [
    {
     "data": {
      "text/plain": [
       "[Text(0.5, 1.0, 'number of token in comments by polarity (without outliers)'),\n",
       " Text(0.5, 0, 'number of tokens')]"
      ]
     },
     "execution_count": 24,
     "metadata": {},
     "output_type": "execute_result"
    },
    {
     "data": {
      "image/png": "[encoded data removed]",
      "text/plain": [
       "<Figure size 640x480 with 1 Axes>"
      ]
     },
     "metadata": {},
     "output_type": "display_data"
    }
   ],
   "source": [
    "sns.boxplot(\n",
    "    data={'against': list_against_n_tks, 'for': list_for_n_tks},\n",
    "    orient = 'h',\n",
    "    showfliers = False\n",
    "    ).set(\n",
    "        title='number of token in comments by polarity (without outliers)',\n",
    "        xlabel='number of tokens'\n",
    "    )"
   ]
  },
  {
   "cell_type": "code",
   "execution_count": 25,
   "metadata": {},
   "outputs": [
    {
     "data": {
      "text/html": [
       "<div>\n",
       "<style scoped>\n",
       "    .dataframe tbody tr th:only-of-type {\n",
       "        vertical-align: middle;\n",
       "    }\n",
       "\n",
       "    .dataframe tbody tr th {\n",
       "        vertical-align: top;\n",
       "    }\n",
       "\n",
       "    .dataframe thead th {\n",
       "        text-align: right;\n",
       "    }\n",
       "</style>\n",
       "<table border=\"1\" class=\"dataframe\">\n",
       "  <thead>\n",
       "    <tr style=\"text-align: right;\">\n",
       "      <th></th>\n",
       "      <th>User_ID</th>\n",
       "      <th>Timeline</th>\n",
       "      <th>Stance</th>\n",
       "      <th>Polarity</th>\n",
       "      <th>Tweet_Seq</th>\n",
       "      <th>list_texts</th>\n",
       "      <th>n_texts</th>\n",
       "      <th>list_texts_tokens</th>\n",
       "      <th>list_texts_len</th>\n",
       "    </tr>\n",
       "  </thead>\n",
       "  <tbody>\n",
       "    <tr>\n",
       "      <th>0</th>\n",
       "      <td>r2_ig_2</td>\n",
       "      <td>@ ta fzd oq # uma amiga minha tava na rua quan...</td>\n",
       "      <td>nao me diz que isso é de igreja católica pf</td>\n",
       "      <td>against</td>\n",
       "      <td>1874</td>\n",
       "      <td>[@ ta fzd oq, uma amiga minha tava na rua quan...</td>\n",
       "      <td>2308</td>\n",
       "      <td>[[@, ta, fzd, oq], [uma, amiga, minha, tava, n...</td>\n",
       "      <td>[4, 18, 6, 7, 5, 9, 2, 6, 2, 14, 12, 25, 15, 4...</td>\n",
       "    </tr>\n",
       "    <tr>\n",
       "      <th>1</th>\n",
       "      <td>r2_ig_3</td>\n",
       "      <td>@ Ola Como ta # Vamo Seguir @ estamos querendo...</td>\n",
       "      <td>Se a igreja faz isso ela devia ser isenta mesm...</td>\n",
       "      <td>against</td>\n",
       "      <td>3988</td>\n",
       "      <td>[@ Ola Como ta, Vamo Seguir @ estamos querendo...</td>\n",
       "      <td>4999</td>\n",
       "      <td>[[@, Ola, Como, ta], [Vamo, Seguir, @, estamos...</td>\n",
       "      <td>[4, 11, 12, 24, 10, 12, 7, 7, 21, 13, 9, 4, 13...</td>\n",
       "    </tr>\n",
       "    <tr>\n",
       "      <th>2</th>\n",
       "      <td>r2_ig_5</td>\n",
       "      <td>papai me deu um irmão lindo desse # cansada de...</td>\n",
       "      <td>que pena então, por que se cada espírita for r...</td>\n",
       "      <td>against</td>\n",
       "      <td>4532</td>\n",
       "      <td>[papai me deu um irmão lindo desse, cansada de...</td>\n",
       "      <td>5014</td>\n",
       "      <td>[[papai, me, deu, um, irmão, lindo, desse], [c...</td>\n",
       "      <td>[7, 16, 4, 42, 52, 25, 12, 22, 9, 15, 5, 12, 1...</td>\n",
       "    </tr>\n",
       "    <tr>\n",
       "      <th>3</th>\n",
       "      <td>r2_ig_6</td>\n",
       "      <td>Né primeiro de abril não ta # Pena que um pais...</td>\n",
       "      <td>bglh é entrar p igreja</td>\n",
       "      <td>for</td>\n",
       "      <td>2661</td>\n",
       "      <td>[Né primeiro de abril não ta, Pena que um pais...</td>\n",
       "      <td>3775</td>\n",
       "      <td>[[Né, primeiro, de, abril, não, ta], [Pena, qu...</td>\n",
       "      <td>[6, 14, 6, 7, 6, 9, 3, 15, 2, 2, 11, 7, 13, 4,...</td>\n",
       "    </tr>\n",
       "    <tr>\n",
       "      <th>4</th>\n",
       "      <td>r2_ig_9</td>\n",
       "      <td>já acordei nun desânimo que pqp # vontade de n...</td>\n",
       "      <td>já vou levar pra igreja pra Deus benzer pq o q...</td>\n",
       "      <td>for</td>\n",
       "      <td>1441</td>\n",
       "      <td>[já acordei nun desânimo que pqp, vontade de n...</td>\n",
       "      <td>1565</td>\n",
       "      <td>[[já, acordei, nun, desânimo, que, pqp], [vont...</td>\n",
       "      <td>[6, 9, 7, 29, 10, 5, 12, 26, 13, 15, 4, 6, 12,...</td>\n",
       "    </tr>\n",
       "  </tbody>\n",
       "</table>\n",
       "</div>"
      ],
      "text/plain": [
       "   User_ID                                           Timeline  \\\n",
       "0  r2_ig_2  @ ta fzd oq # uma amiga minha tava na rua quan...   \n",
       "1  r2_ig_3  @ Ola Como ta # Vamo Seguir @ estamos querendo...   \n",
       "2  r2_ig_5  papai me deu um irmão lindo desse # cansada de...   \n",
       "3  r2_ig_6  Né primeiro de abril não ta # Pena que um pais...   \n",
       "4  r2_ig_9  já acordei nun desânimo que pqp # vontade de n...   \n",
       "\n",
       "                                              Stance Polarity  Tweet_Seq  \\\n",
       "0        nao me diz que isso é de igreja católica pf  against       1874   \n",
       "1  Se a igreja faz isso ela devia ser isenta mesm...  against       3988   \n",
       "2  que pena então, por que se cada espírita for r...  against       4532   \n",
       "3                             bglh é entrar p igreja      for       2661   \n",
       "4  já vou levar pra igreja pra Deus benzer pq o q...      for       1441   \n",
       "\n",
       "                                          list_texts  n_texts  \\\n",
       "0  [@ ta fzd oq, uma amiga minha tava na rua quan...     2308   \n",
       "1  [@ Ola Como ta, Vamo Seguir @ estamos querendo...     4999   \n",
       "2  [papai me deu um irmão lindo desse, cansada de...     5014   \n",
       "3  [Né primeiro de abril não ta, Pena que um pais...     3775   \n",
       "4  [já acordei nun desânimo que pqp, vontade de n...     1565   \n",
       "\n",
       "                                   list_texts_tokens  \\\n",
       "0  [[@, ta, fzd, oq], [uma, amiga, minha, tava, n...   \n",
       "1  [[@, Ola, Como, ta], [Vamo, Seguir, @, estamos...   \n",
       "2  [[papai, me, deu, um, irmão, lindo, desse], [c...   \n",
       "3  [[Né, primeiro, de, abril, não, ta], [Pena, qu...   \n",
       "4  [[já, acordei, nun, desânimo, que, pqp], [vont...   \n",
       "\n",
       "                                      list_texts_len  \n",
       "0  [4, 18, 6, 7, 5, 9, 2, 6, 2, 14, 12, 25, 15, 4...  \n",
       "1  [4, 11, 12, 24, 10, 12, 7, 7, 21, 13, 9, 4, 13...  \n",
       "2  [7, 16, 4, 42, 52, 25, 12, 22, 9, 15, 5, 12, 1...  \n",
       "3  [6, 14, 6, 7, 6, 9, 3, 15, 2, 2, 11, 7, 13, 4,...  \n",
       "4  [6, 9, 7, 29, 10, 5, 12, 26, 13, 15, 4, 6, 12,...  "
      ]
     },
     "execution_count": 25,
     "metadata": {},
     "output_type": "execute_result"
    }
   ],
   "source": [
    "data_2_anl.head()"
   ]
  },
  {
   "cell_type": "code",
   "execution_count": 26,
   "metadata": {},
   "outputs": [
    {
     "data": {
      "text/html": [
       "<div>\n",
       "<style scoped>\n",
       "    .dataframe tbody tr th:only-of-type {\n",
       "        vertical-align: middle;\n",
       "    }\n",
       "\n",
       "    .dataframe tbody tr th {\n",
       "        vertical-align: top;\n",
       "    }\n",
       "\n",
       "    .dataframe thead th {\n",
       "        text-align: right;\n",
       "    }\n",
       "</style>\n",
       "<table border=\"1\" class=\"dataframe\">\n",
       "  <thead>\n",
       "    <tr style=\"text-align: right;\">\n",
       "      <th></th>\n",
       "      <th>User_ID</th>\n",
       "      <th>Timeline</th>\n",
       "      <th>Stance</th>\n",
       "      <th>Polarity</th>\n",
       "      <th>Tweet_Seq</th>\n",
       "    </tr>\n",
       "  </thead>\n",
       "  <tbody>\n",
       "    <tr>\n",
       "      <th>0</th>\n",
       "      <td>r2_ig_2</td>\n",
       "      <td>@ ta fzd oq # uma amiga minha tava na rua quan...</td>\n",
       "      <td>nao me diz que isso é de igreja católica pf</td>\n",
       "      <td>against</td>\n",
       "      <td>1874</td>\n",
       "    </tr>\n",
       "    <tr>\n",
       "      <th>1</th>\n",
       "      <td>r2_ig_3</td>\n",
       "      <td>@ Ola Como ta # Vamo Seguir @ estamos querendo...</td>\n",
       "      <td>Se a igreja faz isso ela devia ser isenta mesm...</td>\n",
       "      <td>against</td>\n",
       "      <td>3988</td>\n",
       "    </tr>\n",
       "    <tr>\n",
       "      <th>2</th>\n",
       "      <td>r2_ig_5</td>\n",
       "      <td>papai me deu um irmão lindo desse # cansada de...</td>\n",
       "      <td>que pena então, por que se cada espírita for r...</td>\n",
       "      <td>against</td>\n",
       "      <td>4532</td>\n",
       "    </tr>\n",
       "    <tr>\n",
       "      <th>3</th>\n",
       "      <td>r2_ig_6</td>\n",
       "      <td>Né primeiro de abril não ta # Pena que um pais...</td>\n",
       "      <td>bglh é entrar p igreja</td>\n",
       "      <td>for</td>\n",
       "      <td>2661</td>\n",
       "    </tr>\n",
       "    <tr>\n",
       "      <th>4</th>\n",
       "      <td>r2_ig_9</td>\n",
       "      <td>já acordei nun desânimo que pqp # vontade de n...</td>\n",
       "      <td>já vou levar pra igreja pra Deus benzer pq o q...</td>\n",
       "      <td>for</td>\n",
       "      <td>1441</td>\n",
       "    </tr>\n",
       "    <tr>\n",
       "      <th>...</th>\n",
       "      <td>...</td>\n",
       "      <td>...</td>\n",
       "      <td>...</td>\n",
       "      <td>...</td>\n",
       "      <td>...</td>\n",
       "    </tr>\n",
       "    <tr>\n",
       "      <th>594</th>\n",
       "      <td>r2_ig_2394</td>\n",
       "      <td>o escolhido … # as obras da arte gráfica nos c...</td>\n",
       "      <td>conservador assustado q nem rato vai pra igrej...</td>\n",
       "      <td>against</td>\n",
       "      <td>2618</td>\n",
       "    </tr>\n",
       "    <tr>\n",
       "      <th>595</th>\n",
       "      <td>r2_ig_2397</td>\n",
       "      <td>Maldito imperialismo caucasiano que só pensa e...</td>\n",
       "      <td>Daciolo propõe uma ditadura cristã no Brasil, ...</td>\n",
       "      <td>against</td>\n",
       "      <td>579</td>\n",
       "    </tr>\n",
       "    <tr>\n",
       "      <th>596</th>\n",
       "      <td>r2_ig_2401</td>\n",
       "      <td>Só consigo pensar no BUZZ espanhol # Eu já tes...</td>\n",
       "      <td>Sim, a imagem criada pela igreja católica tant...</td>\n",
       "      <td>against</td>\n",
       "      <td>1102</td>\n",
       "    </tr>\n",
       "    <tr>\n",
       "      <th>597</th>\n",
       "      <td>r2_ig_2403</td>\n",
       "      <td>Daqui ha um bilhão de anos talvez o ser humano...</td>\n",
       "      <td>Eu esperando p uber p ir pro colégio rindo da ...</td>\n",
       "      <td>against</td>\n",
       "      <td>1992</td>\n",
       "    </tr>\n",
       "    <tr>\n",
       "      <th>598</th>\n",
       "      <td>r2_ig_2404</td>\n",
       "      <td>É eu mesmo # Fósseis encontrados na China pode...</td>\n",
       "      <td>Todos eles se infiltram na política se candida...</td>\n",
       "      <td>against</td>\n",
       "      <td>3578</td>\n",
       "    </tr>\n",
       "  </tbody>\n",
       "</table>\n",
       "<p>599 rows × 5 columns</p>\n",
       "</div>"
      ],
      "text/plain": [
       "        User_ID                                           Timeline  \\\n",
       "0       r2_ig_2  @ ta fzd oq # uma amiga minha tava na rua quan...   \n",
       "1       r2_ig_3  @ Ola Como ta # Vamo Seguir @ estamos querendo...   \n",
       "2       r2_ig_5  papai me deu um irmão lindo desse # cansada de...   \n",
       "3       r2_ig_6  Né primeiro de abril não ta # Pena que um pais...   \n",
       "4       r2_ig_9  já acordei nun desânimo que pqp # vontade de n...   \n",
       "..          ...                                                ...   \n",
       "594  r2_ig_2394  o escolhido … # as obras da arte gráfica nos c...   \n",
       "595  r2_ig_2397  Maldito imperialismo caucasiano que só pensa e...   \n",
       "596  r2_ig_2401  Só consigo pensar no BUZZ espanhol # Eu já tes...   \n",
       "597  r2_ig_2403  Daqui ha um bilhão de anos talvez o ser humano...   \n",
       "598  r2_ig_2404  É eu mesmo # Fósseis encontrados na China pode...   \n",
       "\n",
       "                                                Stance Polarity  Tweet_Seq  \n",
       "0          nao me diz que isso é de igreja católica pf  against       1874  \n",
       "1    Se a igreja faz isso ela devia ser isenta mesm...  against       3988  \n",
       "2    que pena então, por que se cada espírita for r...  against       4532  \n",
       "3                               bglh é entrar p igreja      for       2661  \n",
       "4    já vou levar pra igreja pra Deus benzer pq o q...      for       1441  \n",
       "..                                                 ...      ...        ...  \n",
       "594  conservador assustado q nem rato vai pra igrej...  against       2618  \n",
       "595  Daciolo propõe uma ditadura cristã no Brasil, ...  against        579  \n",
       "596  Sim, a imagem criada pela igreja católica tant...  against       1102  \n",
       "597  Eu esperando p uber p ir pro colégio rindo da ...  against       1992  \n",
       "598  Todos eles se infiltram na política se candida...  against       3578  \n",
       "\n",
       "[599 rows x 5 columns]"
      ]
     },
     "execution_count": 26,
     "metadata": {},
     "output_type": "execute_result"
    }
   ],
   "source": [
    "data"
   ]
  },
  {
   "cell_type": "code",
   "execution_count": 27,
   "metadata": {},
   "outputs": [],
   "source": [
    "data_2_anl['Text_in_pos_Tweet_Seq'] = data_2_anl.apply(lambda x: x.list_texts[x.Tweet_Seq], axis = 1)"
   ]
  },
  {
   "cell_type": "code",
   "execution_count": 28,
   "metadata": {},
   "outputs": [
    {
     "data": {
      "text/plain": [
       "''"
      ]
     },
     "execution_count": 28,
     "metadata": {},
     "output_type": "execute_result"
    }
   ],
   "source": [
    "data_2_anl.list_texts[0][1874]"
   ]
  },
  {
   "cell_type": "code",
   "execution_count": 29,
   "metadata": {},
   "outputs": [
    {
     "data": {
      "text/plain": [
       "0       \n",
       "395     \n",
       "396     \n",
       "397     \n",
       "398     \n",
       "      ..\n",
       "200     \n",
       "201     \n",
       "202     \n",
       "204     \n",
       "598     \n",
       "Name: Text_in_pos_Tweet_Seq, Length: 599, dtype: object"
      ]
     },
     "execution_count": 29,
     "metadata": {},
     "output_type": "execute_result"
    }
   ],
   "source": [
    "data_2_anl['Text_in_pos_Tweet_Seq'].sort_values()"
   ]
  }
 ],
 "metadata": {
  "kernelspec": {
   "display_name": "env-stance-pred",
   "language": "python",
   "name": "python3"
  },
  "language_info": {
   "codemirror_mode": {
    "name": "ipython",
    "version": 3
   },
   "file_extension": ".py",
   "mimetype": "text/x-python",
   "name": "python",
   "nbconvert_exporter": "python",
   "pygments_lexer": "ipython3",
   "version": "3.12.2"
  }
 },
 "nbformat": 4,
 "nbformat_minor": 2
}
