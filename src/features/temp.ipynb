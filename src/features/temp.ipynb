{
 "cells": [
  {
   "cell_type": "code",
   "execution_count": 12,
   "metadata": {},
   "outputs": [
    {
     "name": "stdout",
     "output_type": "stream",
     "text": [
      "Running neuralmind/bert-base-portuguese-cased. Datetime start: 2024-04-13 19:01:52.458658\n"
     ]
    },
    {
     "name": "stderr",
     "output_type": "stream",
     "text": [
      "100%|██████████| 10/10 [00:05<00:00,  1.74it/s]"
     ]
    },
    {
     "name": "stdout",
     "output_type": "stream",
     "text": [
      "End of Embedding. Datetime: 2024-04-13 19:01:58.209280\n"
     ]
    },
    {
     "name": "stderr",
     "output_type": "stream",
     "text": [
      "\n"
     ]
    }
   ],
   "source": [
    "from transformers import AutoTokenizer, BertModel\n",
    "import torch\n",
    "import pandas as pd\n",
    "import numpy as np\n",
    "import datetime\n",
    "from tqdm import tqdm\n",
    "from transformers import set_seed\n",
    "set_seed(42)\n",
    "\n",
    "from bert_embedding_methods import *\n",
    "\n",
    "################ Data Paths ################################\n",
    "path_raw_data = '../../data/raw/'\n",
    "path_processed_data = '../../data/processed/'\n",
    "MAX_LENGTH_TOKENS = 512\n",
    "############################################################\n",
    "\n",
    "\n",
    "    \n",
    "for model_name in [\n",
    "    #f'neuralmind/bert-large-portuguese-cased',\n",
    "    f'neuralmind/bert-base-portuguese-cased'\n",
    "    ]:\n",
    "\n",
    "    list_corpus = [\n",
    "        'ig',\n",
    "        # 'bo', \n",
    "        # 'cl', \n",
    "        # 'co', \n",
    "        # 'gl', \n",
    "        # 'lu'\n",
    "    ]\n",
    "    \n",
    "    for i, corpus in enumerate(list_corpus):\n",
    "\n",
    "        # Get data\n",
    "        data = pd.read_csv(\n",
    "            path_raw_data + f'train_r3_{corpus}_top_mentioned_timelines.csv', \n",
    "            sep = ';', \n",
    "            encoding='utf-8-sig'\n",
    "            )[:10]\n",
    "        \n",
    "        emb_list = create_bert_embeddings_mean_from_series(\n",
    "            model_name = model_name,\n",
    "            text_series = data['Texts']\n",
    "        )\n",
    "        \n",
    "        columns = [f\"emb_{i + 1}\" for i in range(emb_list.shape[1])]\n",
    "        df_emb = pd.DataFrame(emb_list, columns=columns)\n",
    "        \n",
    "        data_bert = pd.concat([data, df_emb], axis = 1)\n",
    "        \n",
    "        data_bert.to_parquet(path_processed_data + f'train_r3_{corpus}_{model_name.replace(\"/\", \"_\")}.parquet', index=False)\n",
    "\n"
   ]
  }
 ],
 "metadata": {
  "kernelspec": {
   "display_name": "env-stance-pred",
   "language": "python",
   "name": "python3"
  },
  "language_info": {
   "codemirror_mode": {
    "name": "ipython",
    "version": 3
   },
   "file_extension": ".py",
   "mimetype": "text/x-python",
   "name": "python",
   "nbconvert_exporter": "python",
   "pygments_lexer": "ipython3",
   "version": "3.12.2"
  }
 },
 "nbformat": 4,
 "nbformat_minor": 2
}
